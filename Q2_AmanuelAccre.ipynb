{
 "cells": [
  {
   "cell_type": "code",
   "execution_count": 2,
   "metadata": {},
   "outputs": [],
   "source": [
    "import pandas as pd\n",
    "import numpy as np\n",
    "import datetime \n",
    "import math as mat\n",
    "import time \n",
    "from datetime import timedelta\n",
    "import matplotlib.pyplot as plt"
   ]
  },
  {
   "cell_type": "code",
   "execution_count": 3,
   "metadata": {
    "scrolled": true
   },
   "outputs": [],
   "source": [
    "accre_df=pd.read_csv('Data/july-2017-thru-june-2018.txt',sep=\"|\",nrows=1000000)\n"
   ]
  },
  {
   "cell_type": "code",
   "execution_count": 6,
   "metadata": {},
   "outputs": [
    {
     "data": {
      "text/html": [
       "<div>\n",
       "<style scoped>\n",
       "    .dataframe tbody tr th:only-of-type {\n",
       "        vertical-align: middle;\n",
       "    }\n",
       "\n",
       "    .dataframe tbody tr th {\n",
       "        vertical-align: top;\n",
       "    }\n",
       "\n",
       "    .dataframe thead th {\n",
       "        text-align: right;\n",
       "    }\n",
       "</style>\n",
       "<table border=\"1\" class=\"dataframe\">\n",
       "  <thead>\n",
       "    <tr style=\"text-align: right;\">\n",
       "      <th></th>\n",
       "      <th>JobID</th>\n",
       "      <th>JobIDRaw</th>\n",
       "      <th>Cluster</th>\n",
       "      <th>Partition</th>\n",
       "      <th>Account</th>\n",
       "      <th>Group</th>\n",
       "      <th>GID</th>\n",
       "      <th>User</th>\n",
       "      <th>UID</th>\n",
       "      <th>Submit</th>\n",
       "      <th>...</th>\n",
       "      <th>State</th>\n",
       "      <th>NNodes</th>\n",
       "      <th>NCPUS</th>\n",
       "      <th>ReqCPUS</th>\n",
       "      <th>ReqMem</th>\n",
       "      <th>ReqGRES</th>\n",
       "      <th>ReqTRES</th>\n",
       "      <th>Timelimit</th>\n",
       "      <th>NodeList</th>\n",
       "      <th>JobName</th>\n",
       "    </tr>\n",
       "  </thead>\n",
       "  <tbody>\n",
       "    <tr>\n",
       "      <th>0</th>\n",
       "      <td>15806649</td>\n",
       "      <td>15806649</td>\n",
       "      <td>accre</td>\n",
       "      <td>production</td>\n",
       "      <td>h_vuiis</td>\n",
       "      <td>h_vuiis</td>\n",
       "      <td>36052</td>\n",
       "      <td>masispider</td>\n",
       "      <td>NaN</td>\n",
       "      <td>2017-07-02T00:40:58</td>\n",
       "      <td>...</td>\n",
       "      <td>COMPLETED</td>\n",
       "      <td>1</td>\n",
       "      <td>2</td>\n",
       "      <td>2</td>\n",
       "      <td>12Gn</td>\n",
       "      <td>NaN</td>\n",
       "      <td>cpu=2,mem=12G,node=1</td>\n",
       "      <td>9-04:00:00</td>\n",
       "      <td>vmp1085</td>\n",
       "      <td>WOODWARD_TCP-x-228324-x-228324-x-301-x-Multi_A...</td>\n",
       "    </tr>\n",
       "    <tr>\n",
       "      <th>1</th>\n",
       "      <td>15806664</td>\n",
       "      <td>15806664</td>\n",
       "      <td>accre</td>\n",
       "      <td>production</td>\n",
       "      <td>h_vuiis</td>\n",
       "      <td>h_vuiis</td>\n",
       "      <td>36052</td>\n",
       "      <td>masispider</td>\n",
       "      <td>NaN</td>\n",
       "      <td>2017-07-02T00:40:58</td>\n",
       "      <td>...</td>\n",
       "      <td>COMPLETED</td>\n",
       "      <td>1</td>\n",
       "      <td>2</td>\n",
       "      <td>2</td>\n",
       "      <td>12Gn</td>\n",
       "      <td>NaN</td>\n",
       "      <td>cpu=2,mem=12G,node=1</td>\n",
       "      <td>9-04:00:00</td>\n",
       "      <td>vmp1099</td>\n",
       "      <td>WOODWARD_TCP-x-115174-x-115174-x-301-x-Multi_A...</td>\n",
       "    </tr>\n",
       "    <tr>\n",
       "      <th>2</th>\n",
       "      <td>15806670</td>\n",
       "      <td>15806670</td>\n",
       "      <td>accre</td>\n",
       "      <td>production</td>\n",
       "      <td>h_vuiis</td>\n",
       "      <td>h_vuiis</td>\n",
       "      <td>36052</td>\n",
       "      <td>masispider</td>\n",
       "      <td>NaN</td>\n",
       "      <td>2017-07-02T00:40:58</td>\n",
       "      <td>...</td>\n",
       "      <td>COMPLETED</td>\n",
       "      <td>1</td>\n",
       "      <td>2</td>\n",
       "      <td>2</td>\n",
       "      <td>12Gn</td>\n",
       "      <td>NaN</td>\n",
       "      <td>cpu=2,mem=12G,node=1</td>\n",
       "      <td>9-04:00:00</td>\n",
       "      <td>vmp1126</td>\n",
       "      <td>WOODWARD_TCP-x-215607-x-215607-x-301-x-Multi_A...</td>\n",
       "    </tr>\n",
       "    <tr>\n",
       "      <th>3</th>\n",
       "      <td>15806671</td>\n",
       "      <td>15806671</td>\n",
       "      <td>accre</td>\n",
       "      <td>production</td>\n",
       "      <td>h_vuiis</td>\n",
       "      <td>h_vuiis</td>\n",
       "      <td>36052</td>\n",
       "      <td>masispider</td>\n",
       "      <td>NaN</td>\n",
       "      <td>2017-07-02T00:40:58</td>\n",
       "      <td>...</td>\n",
       "      <td>COMPLETED</td>\n",
       "      <td>1</td>\n",
       "      <td>2</td>\n",
       "      <td>2</td>\n",
       "      <td>12Gn</td>\n",
       "      <td>NaN</td>\n",
       "      <td>cpu=2,mem=12G,node=1</td>\n",
       "      <td>9-04:00:00</td>\n",
       "      <td>vmp230</td>\n",
       "      <td>WOODWARD_TCP-x-116214-x-116214-x-1701-x-Multi_...</td>\n",
       "    </tr>\n",
       "    <tr>\n",
       "      <th>4</th>\n",
       "      <td>15811617</td>\n",
       "      <td>15811617</td>\n",
       "      <td>accre</td>\n",
       "      <td>production</td>\n",
       "      <td>cms_samtest</td>\n",
       "      <td>cms_samtest</td>\n",
       "      <td>59297</td>\n",
       "      <td>uscms010</td>\n",
       "      <td>NaN</td>\n",
       "      <td>2017-07-01T05:00:00</td>\n",
       "      <td>...</td>\n",
       "      <td>COMPLETED</td>\n",
       "      <td>1</td>\n",
       "      <td>1</td>\n",
       "      <td>1</td>\n",
       "      <td>4000Mn</td>\n",
       "      <td>NaN</td>\n",
       "      <td>cpu=1,mem=4000M,node=1</td>\n",
       "      <td>2-00:00:00</td>\n",
       "      <td>vmp1242</td>\n",
       "      <td>bl_aa7c22e04f21</td>\n",
       "    </tr>\n",
       "  </tbody>\n",
       "</table>\n",
       "<p>5 rows × 25 columns</p>\n",
       "</div>"
      ],
      "text/plain": [
       "      JobID  JobIDRaw Cluster   Partition      Account        Group    GID  \\\n",
       "0  15806649  15806649   accre  production      h_vuiis      h_vuiis  36052   \n",
       "1  15806664  15806664   accre  production      h_vuiis      h_vuiis  36052   \n",
       "2  15806670  15806670   accre  production      h_vuiis      h_vuiis  36052   \n",
       "3  15806671  15806671   accre  production      h_vuiis      h_vuiis  36052   \n",
       "4  15811617  15811617   accre  production  cms_samtest  cms_samtest  59297   \n",
       "\n",
       "         User  UID               Submit  \\\n",
       "0  masispider  NaN  2017-07-02T00:40:58   \n",
       "1  masispider  NaN  2017-07-02T00:40:58   \n",
       "2  masispider  NaN  2017-07-02T00:40:58   \n",
       "3  masispider  NaN  2017-07-02T00:40:58   \n",
       "4    uscms010  NaN  2017-07-01T05:00:00   \n",
       "\n",
       "                         ...                              State NNodes NCPUS  \\\n",
       "0                        ...                          COMPLETED      1     2   \n",
       "1                        ...                          COMPLETED      1     2   \n",
       "2                        ...                          COMPLETED      1     2   \n",
       "3                        ...                          COMPLETED      1     2   \n",
       "4                        ...                          COMPLETED      1     1   \n",
       "\n",
       "  ReqCPUS  ReqMem ReqGRES                 ReqTRES   Timelimit  NodeList  \\\n",
       "0       2    12Gn     NaN    cpu=2,mem=12G,node=1  9-04:00:00   vmp1085   \n",
       "1       2    12Gn     NaN    cpu=2,mem=12G,node=1  9-04:00:00   vmp1099   \n",
       "2       2    12Gn     NaN    cpu=2,mem=12G,node=1  9-04:00:00   vmp1126   \n",
       "3       2    12Gn     NaN    cpu=2,mem=12G,node=1  9-04:00:00    vmp230   \n",
       "4       1  4000Mn     NaN  cpu=1,mem=4000M,node=1  2-00:00:00   vmp1242   \n",
       "\n",
       "                                             JobName  \n",
       "0  WOODWARD_TCP-x-228324-x-228324-x-301-x-Multi_A...  \n",
       "1  WOODWARD_TCP-x-115174-x-115174-x-301-x-Multi_A...  \n",
       "2  WOODWARD_TCP-x-215607-x-215607-x-301-x-Multi_A...  \n",
       "3  WOODWARD_TCP-x-116214-x-116214-x-1701-x-Multi_...  \n",
       "4                                    bl_aa7c22e04f21  \n",
       "\n",
       "[5 rows x 25 columns]"
      ]
     },
     "execution_count": 6,
     "metadata": {},
     "output_type": "execute_result"
    }
   ],
   "source": [
    "accre_df.head()"
   ]
  },
  {
   "cell_type": "code",
   "execution_count": 7,
   "metadata": {},
   "outputs": [
    {
     "data": {
      "text/plain": [
       "0    1-01:05:21\n",
       "1      23:51:47\n",
       "2    1-01:59:51\n",
       "3    1-08:02:20\n",
       "4      00:00:10\n",
       "Name: Elapsed, dtype: object"
      ]
     },
     "execution_count": 7,
     "metadata": {},
     "output_type": "execute_result"
    }
   ],
   "source": [
    "accre_df['Elapsed'].head()"
   ]
  },
  {
   "cell_type": "markdown",
   "metadata": {},
   "source": [
    "### calculate the duration of a job\n",
    "### job_duration=end_time-start_time"
   ]
  },
  {
   "cell_type": "code",
   "execution_count": 8,
   "metadata": {},
   "outputs": [],
   "source": [
    "start_time=accre_df['Start']\n",
    "end_time=accre_df['End']\n",
    "submit_time=accre_df['Submit']"
   ]
  },
  {
   "cell_type": "code",
   "execution_count": 9,
   "metadata": {},
   "outputs": [
    {
     "name": "stdout",
     "output_type": "stream",
     "text": [
      "0    2017-07-03T02:13:59\n",
      "1    2017-07-03T02:20:08\n",
      "2    2017-07-03T02:41:13\n",
      "3    2017-07-03T02:51:53\n",
      "4    2017-07-01T05:00:01\n",
      "Name: Start, dtype: object\n",
      "0    2017-07-04T03:19:20\n",
      "1    2017-07-04T02:11:55\n",
      "2    2017-07-04T04:41:04\n",
      "3    2017-07-04T10:54:13\n",
      "4    2017-07-01T05:00:11\n",
      "Name: End, dtype: object\n"
     ]
    }
   ],
   "source": [
    "print(start_time.head());print(end_time.head())"
   ]
  },
  {
   "cell_type": "markdown",
   "metadata": {},
   "source": [
    "# convert the start and end time from str to datetime format to calculate job duration"
   ]
  },
  {
   "cell_type": "code",
   "execution_count": 10,
   "metadata": {},
   "outputs": [],
   "source": [
    "submit_time=pd.to_datetime(submit_time)"
   ]
  },
  {
   "cell_type": "code",
   "execution_count": 11,
   "metadata": {},
   "outputs": [],
   "source": [
    "start_time=pd.to_datetime(start_time)"
   ]
  },
  {
   "cell_type": "code",
   "execution_count": 12,
   "metadata": {},
   "outputs": [],
   "source": [
    "end_time=pd.to_datetime(end_time)"
   ]
  },
  {
   "cell_type": "markdown",
   "metadata": {},
   "source": [
    "# calculate duration of a job"
   ]
  },
  {
   "cell_type": "code",
   "execution_count": 13,
   "metadata": {},
   "outputs": [],
   "source": [
    "job_duration=(end_time-start_time)"
   ]
  },
  {
   "cell_type": "code",
   "execution_count": 14,
   "metadata": {},
   "outputs": [],
   "source": [
    "job_duration=pd.DataFrame(job_duration)"
   ]
  },
  {
   "cell_type": "code",
   "execution_count": 15,
   "metadata": {},
   "outputs": [
    {
     "data": {
      "text/html": [
       "<div>\n",
       "<style scoped>\n",
       "    .dataframe tbody tr th:only-of-type {\n",
       "        vertical-align: middle;\n",
       "    }\n",
       "\n",
       "    .dataframe tbody tr th {\n",
       "        vertical-align: top;\n",
       "    }\n",
       "\n",
       "    .dataframe thead th {\n",
       "        text-align: right;\n",
       "    }\n",
       "</style>\n",
       "<table border=\"1\" class=\"dataframe\">\n",
       "  <thead>\n",
       "    <tr style=\"text-align: right;\">\n",
       "      <th></th>\n",
       "      <th>0</th>\n",
       "    </tr>\n",
       "  </thead>\n",
       "  <tbody>\n",
       "    <tr>\n",
       "      <th>0</th>\n",
       "      <td>1 days 01:05:21</td>\n",
       "    </tr>\n",
       "    <tr>\n",
       "      <th>1</th>\n",
       "      <td>0 days 23:51:47</td>\n",
       "    </tr>\n",
       "    <tr>\n",
       "      <th>2</th>\n",
       "      <td>1 days 01:59:51</td>\n",
       "    </tr>\n",
       "    <tr>\n",
       "      <th>3</th>\n",
       "      <td>1 days 08:02:20</td>\n",
       "    </tr>\n",
       "    <tr>\n",
       "      <th>4</th>\n",
       "      <td>0 days 00:00:10</td>\n",
       "    </tr>\n",
       "  </tbody>\n",
       "</table>\n",
       "</div>"
      ],
      "text/plain": [
       "                0\n",
       "0 1 days 01:05:21\n",
       "1 0 days 23:51:47\n",
       "2 1 days 01:59:51\n",
       "3 1 days 08:02:20\n",
       "4 0 days 00:00:10"
      ]
     },
     "execution_count": 15,
     "metadata": {},
     "output_type": "execute_result"
    }
   ],
   "source": [
    "job_duration.head()"
   ]
  },
  {
   "cell_type": "code",
   "execution_count": 16,
   "metadata": {},
   "outputs": [
    {
     "data": {
      "text/plain": [
       "(1000000, 1)"
      ]
     },
     "execution_count": 16,
     "metadata": {},
     "output_type": "execute_result"
    }
   ],
   "source": [
    "job_duration.shape"
   ]
  },
  {
   "cell_type": "code",
   "execution_count": 17,
   "metadata": {},
   "outputs": [
    {
     "data": {
      "text/plain": [
       "(1000000, 25)"
      ]
     },
     "execution_count": 17,
     "metadata": {},
     "output_type": "execute_result"
    }
   ],
   "source": [
    "accre_df.shape"
   ]
  },
  {
   "cell_type": "markdown",
   "metadata": {},
   "source": [
    "#  join the job_duration with accre_df"
   ]
  },
  {
   "cell_type": "code",
   "execution_count": 18,
   "metadata": {},
   "outputs": [],
   "source": [
    "\n",
    "accre_df2=accre_df.join(job_duration)"
   ]
  },
  {
   "cell_type": "code",
   "execution_count": 19,
   "metadata": {},
   "outputs": [
    {
     "data": {
      "text/html": [
       "<div>\n",
       "<style scoped>\n",
       "    .dataframe tbody tr th:only-of-type {\n",
       "        vertical-align: middle;\n",
       "    }\n",
       "\n",
       "    .dataframe tbody tr th {\n",
       "        vertical-align: top;\n",
       "    }\n",
       "\n",
       "    .dataframe thead th {\n",
       "        text-align: right;\n",
       "    }\n",
       "</style>\n",
       "<table border=\"1\" class=\"dataframe\">\n",
       "  <thead>\n",
       "    <tr style=\"text-align: right;\">\n",
       "      <th></th>\n",
       "      <th>JobID</th>\n",
       "      <th>JobIDRaw</th>\n",
       "      <th>Cluster</th>\n",
       "      <th>Partition</th>\n",
       "      <th>Account</th>\n",
       "      <th>Group</th>\n",
       "      <th>GID</th>\n",
       "      <th>User</th>\n",
       "      <th>UID</th>\n",
       "      <th>Submit</th>\n",
       "      <th>...</th>\n",
       "      <th>NNodes</th>\n",
       "      <th>NCPUS</th>\n",
       "      <th>ReqCPUS</th>\n",
       "      <th>ReqMem</th>\n",
       "      <th>ReqGRES</th>\n",
       "      <th>ReqTRES</th>\n",
       "      <th>Timelimit</th>\n",
       "      <th>NodeList</th>\n",
       "      <th>JobName</th>\n",
       "      <th>0</th>\n",
       "    </tr>\n",
       "  </thead>\n",
       "  <tbody>\n",
       "    <tr>\n",
       "      <th>0</th>\n",
       "      <td>15806649</td>\n",
       "      <td>15806649</td>\n",
       "      <td>accre</td>\n",
       "      <td>production</td>\n",
       "      <td>h_vuiis</td>\n",
       "      <td>h_vuiis</td>\n",
       "      <td>36052</td>\n",
       "      <td>masispider</td>\n",
       "      <td>NaN</td>\n",
       "      <td>2017-07-02T00:40:58</td>\n",
       "      <td>...</td>\n",
       "      <td>1</td>\n",
       "      <td>2</td>\n",
       "      <td>2</td>\n",
       "      <td>12Gn</td>\n",
       "      <td>NaN</td>\n",
       "      <td>cpu=2,mem=12G,node=1</td>\n",
       "      <td>9-04:00:00</td>\n",
       "      <td>vmp1085</td>\n",
       "      <td>WOODWARD_TCP-x-228324-x-228324-x-301-x-Multi_A...</td>\n",
       "      <td>1 days 01:05:21</td>\n",
       "    </tr>\n",
       "    <tr>\n",
       "      <th>1</th>\n",
       "      <td>15806664</td>\n",
       "      <td>15806664</td>\n",
       "      <td>accre</td>\n",
       "      <td>production</td>\n",
       "      <td>h_vuiis</td>\n",
       "      <td>h_vuiis</td>\n",
       "      <td>36052</td>\n",
       "      <td>masispider</td>\n",
       "      <td>NaN</td>\n",
       "      <td>2017-07-02T00:40:58</td>\n",
       "      <td>...</td>\n",
       "      <td>1</td>\n",
       "      <td>2</td>\n",
       "      <td>2</td>\n",
       "      <td>12Gn</td>\n",
       "      <td>NaN</td>\n",
       "      <td>cpu=2,mem=12G,node=1</td>\n",
       "      <td>9-04:00:00</td>\n",
       "      <td>vmp1099</td>\n",
       "      <td>WOODWARD_TCP-x-115174-x-115174-x-301-x-Multi_A...</td>\n",
       "      <td>0 days 23:51:47</td>\n",
       "    </tr>\n",
       "    <tr>\n",
       "      <th>2</th>\n",
       "      <td>15806670</td>\n",
       "      <td>15806670</td>\n",
       "      <td>accre</td>\n",
       "      <td>production</td>\n",
       "      <td>h_vuiis</td>\n",
       "      <td>h_vuiis</td>\n",
       "      <td>36052</td>\n",
       "      <td>masispider</td>\n",
       "      <td>NaN</td>\n",
       "      <td>2017-07-02T00:40:58</td>\n",
       "      <td>...</td>\n",
       "      <td>1</td>\n",
       "      <td>2</td>\n",
       "      <td>2</td>\n",
       "      <td>12Gn</td>\n",
       "      <td>NaN</td>\n",
       "      <td>cpu=2,mem=12G,node=1</td>\n",
       "      <td>9-04:00:00</td>\n",
       "      <td>vmp1126</td>\n",
       "      <td>WOODWARD_TCP-x-215607-x-215607-x-301-x-Multi_A...</td>\n",
       "      <td>1 days 01:59:51</td>\n",
       "    </tr>\n",
       "    <tr>\n",
       "      <th>3</th>\n",
       "      <td>15806671</td>\n",
       "      <td>15806671</td>\n",
       "      <td>accre</td>\n",
       "      <td>production</td>\n",
       "      <td>h_vuiis</td>\n",
       "      <td>h_vuiis</td>\n",
       "      <td>36052</td>\n",
       "      <td>masispider</td>\n",
       "      <td>NaN</td>\n",
       "      <td>2017-07-02T00:40:58</td>\n",
       "      <td>...</td>\n",
       "      <td>1</td>\n",
       "      <td>2</td>\n",
       "      <td>2</td>\n",
       "      <td>12Gn</td>\n",
       "      <td>NaN</td>\n",
       "      <td>cpu=2,mem=12G,node=1</td>\n",
       "      <td>9-04:00:00</td>\n",
       "      <td>vmp230</td>\n",
       "      <td>WOODWARD_TCP-x-116214-x-116214-x-1701-x-Multi_...</td>\n",
       "      <td>1 days 08:02:20</td>\n",
       "    </tr>\n",
       "    <tr>\n",
       "      <th>4</th>\n",
       "      <td>15811617</td>\n",
       "      <td>15811617</td>\n",
       "      <td>accre</td>\n",
       "      <td>production</td>\n",
       "      <td>cms_samtest</td>\n",
       "      <td>cms_samtest</td>\n",
       "      <td>59297</td>\n",
       "      <td>uscms010</td>\n",
       "      <td>NaN</td>\n",
       "      <td>2017-07-01T05:00:00</td>\n",
       "      <td>...</td>\n",
       "      <td>1</td>\n",
       "      <td>1</td>\n",
       "      <td>1</td>\n",
       "      <td>4000Mn</td>\n",
       "      <td>NaN</td>\n",
       "      <td>cpu=1,mem=4000M,node=1</td>\n",
       "      <td>2-00:00:00</td>\n",
       "      <td>vmp1242</td>\n",
       "      <td>bl_aa7c22e04f21</td>\n",
       "      <td>0 days 00:00:10</td>\n",
       "    </tr>\n",
       "  </tbody>\n",
       "</table>\n",
       "<p>5 rows × 26 columns</p>\n",
       "</div>"
      ],
      "text/plain": [
       "      JobID  JobIDRaw Cluster   Partition      Account        Group    GID  \\\n",
       "0  15806649  15806649   accre  production      h_vuiis      h_vuiis  36052   \n",
       "1  15806664  15806664   accre  production      h_vuiis      h_vuiis  36052   \n",
       "2  15806670  15806670   accre  production      h_vuiis      h_vuiis  36052   \n",
       "3  15806671  15806671   accre  production      h_vuiis      h_vuiis  36052   \n",
       "4  15811617  15811617   accre  production  cms_samtest  cms_samtest  59297   \n",
       "\n",
       "         User  UID               Submit       ...       NNodes NCPUS ReqCPUS  \\\n",
       "0  masispider  NaN  2017-07-02T00:40:58       ...            1     2       2   \n",
       "1  masispider  NaN  2017-07-02T00:40:58       ...            1     2       2   \n",
       "2  masispider  NaN  2017-07-02T00:40:58       ...            1     2       2   \n",
       "3  masispider  NaN  2017-07-02T00:40:58       ...            1     2       2   \n",
       "4    uscms010  NaN  2017-07-01T05:00:00       ...            1     1       1   \n",
       "\n",
       "   ReqMem ReqGRES                 ReqTRES   Timelimit  NodeList  \\\n",
       "0    12Gn     NaN    cpu=2,mem=12G,node=1  9-04:00:00   vmp1085   \n",
       "1    12Gn     NaN    cpu=2,mem=12G,node=1  9-04:00:00   vmp1099   \n",
       "2    12Gn     NaN    cpu=2,mem=12G,node=1  9-04:00:00   vmp1126   \n",
       "3    12Gn     NaN    cpu=2,mem=12G,node=1  9-04:00:00    vmp230   \n",
       "4  4000Mn     NaN  cpu=1,mem=4000M,node=1  2-00:00:00   vmp1242   \n",
       "\n",
       "                                             JobName               0  \n",
       "0  WOODWARD_TCP-x-228324-x-228324-x-301-x-Multi_A... 1 days 01:05:21  \n",
       "1  WOODWARD_TCP-x-115174-x-115174-x-301-x-Multi_A... 0 days 23:51:47  \n",
       "2  WOODWARD_TCP-x-215607-x-215607-x-301-x-Multi_A... 1 days 01:59:51  \n",
       "3  WOODWARD_TCP-x-116214-x-116214-x-1701-x-Multi_... 1 days 08:02:20  \n",
       "4                                    bl_aa7c22e04f21 0 days 00:00:10  \n",
       "\n",
       "[5 rows x 26 columns]"
      ]
     },
     "execution_count": 19,
     "metadata": {},
     "output_type": "execute_result"
    }
   ],
   "source": [
    "accre_df2.head()"
   ]
  },
  {
   "cell_type": "markdown",
   "metadata": {},
   "source": [
    "\n",
    "# rename the column of job_duration "
   ]
  },
  {
   "cell_type": "code",
   "execution_count": 20,
   "metadata": {},
   "outputs": [],
   "source": [
    "\n",
    "accre_df2.rename(columns={0:'job_duration'},inplace=True)"
   ]
  },
  {
   "cell_type": "code",
   "execution_count": 21,
   "metadata": {},
   "outputs": [],
   "source": [
    "#accre_df2=accre_df2.set_index('Submit')\n",
    "# accre_df2.resample('4h').count()"
   ]
  },
  {
   "cell_type": "code",
   "execution_count": 22,
   "metadata": {},
   "outputs": [
    {
     "data": {
      "text/html": [
       "<div>\n",
       "<style scoped>\n",
       "    .dataframe tbody tr th:only-of-type {\n",
       "        vertical-align: middle;\n",
       "    }\n",
       "\n",
       "    .dataframe tbody tr th {\n",
       "        vertical-align: top;\n",
       "    }\n",
       "\n",
       "    .dataframe thead th {\n",
       "        text-align: right;\n",
       "    }\n",
       "</style>\n",
       "<table border=\"1\" class=\"dataframe\">\n",
       "  <thead>\n",
       "    <tr style=\"text-align: right;\">\n",
       "      <th></th>\n",
       "      <th>JobID</th>\n",
       "      <th>JobIDRaw</th>\n",
       "      <th>Cluster</th>\n",
       "      <th>Partition</th>\n",
       "      <th>Account</th>\n",
       "      <th>Group</th>\n",
       "      <th>GID</th>\n",
       "      <th>User</th>\n",
       "      <th>UID</th>\n",
       "      <th>Submit</th>\n",
       "      <th>...</th>\n",
       "      <th>NNodes</th>\n",
       "      <th>NCPUS</th>\n",
       "      <th>ReqCPUS</th>\n",
       "      <th>ReqMem</th>\n",
       "      <th>ReqGRES</th>\n",
       "      <th>ReqTRES</th>\n",
       "      <th>Timelimit</th>\n",
       "      <th>NodeList</th>\n",
       "      <th>JobName</th>\n",
       "      <th>job_duration</th>\n",
       "    </tr>\n",
       "  </thead>\n",
       "  <tbody>\n",
       "    <tr>\n",
       "      <th>0</th>\n",
       "      <td>15806649</td>\n",
       "      <td>15806649</td>\n",
       "      <td>accre</td>\n",
       "      <td>production</td>\n",
       "      <td>h_vuiis</td>\n",
       "      <td>h_vuiis</td>\n",
       "      <td>36052</td>\n",
       "      <td>masispider</td>\n",
       "      <td>NaN</td>\n",
       "      <td>2017-07-02T00:40:58</td>\n",
       "      <td>...</td>\n",
       "      <td>1</td>\n",
       "      <td>2</td>\n",
       "      <td>2</td>\n",
       "      <td>12Gn</td>\n",
       "      <td>NaN</td>\n",
       "      <td>cpu=2,mem=12G,node=1</td>\n",
       "      <td>9-04:00:00</td>\n",
       "      <td>vmp1085</td>\n",
       "      <td>WOODWARD_TCP-x-228324-x-228324-x-301-x-Multi_A...</td>\n",
       "      <td>1 days 01:05:21</td>\n",
       "    </tr>\n",
       "    <tr>\n",
       "      <th>1</th>\n",
       "      <td>15806664</td>\n",
       "      <td>15806664</td>\n",
       "      <td>accre</td>\n",
       "      <td>production</td>\n",
       "      <td>h_vuiis</td>\n",
       "      <td>h_vuiis</td>\n",
       "      <td>36052</td>\n",
       "      <td>masispider</td>\n",
       "      <td>NaN</td>\n",
       "      <td>2017-07-02T00:40:58</td>\n",
       "      <td>...</td>\n",
       "      <td>1</td>\n",
       "      <td>2</td>\n",
       "      <td>2</td>\n",
       "      <td>12Gn</td>\n",
       "      <td>NaN</td>\n",
       "      <td>cpu=2,mem=12G,node=1</td>\n",
       "      <td>9-04:00:00</td>\n",
       "      <td>vmp1099</td>\n",
       "      <td>WOODWARD_TCP-x-115174-x-115174-x-301-x-Multi_A...</td>\n",
       "      <td>0 days 23:51:47</td>\n",
       "    </tr>\n",
       "    <tr>\n",
       "      <th>2</th>\n",
       "      <td>15806670</td>\n",
       "      <td>15806670</td>\n",
       "      <td>accre</td>\n",
       "      <td>production</td>\n",
       "      <td>h_vuiis</td>\n",
       "      <td>h_vuiis</td>\n",
       "      <td>36052</td>\n",
       "      <td>masispider</td>\n",
       "      <td>NaN</td>\n",
       "      <td>2017-07-02T00:40:58</td>\n",
       "      <td>...</td>\n",
       "      <td>1</td>\n",
       "      <td>2</td>\n",
       "      <td>2</td>\n",
       "      <td>12Gn</td>\n",
       "      <td>NaN</td>\n",
       "      <td>cpu=2,mem=12G,node=1</td>\n",
       "      <td>9-04:00:00</td>\n",
       "      <td>vmp1126</td>\n",
       "      <td>WOODWARD_TCP-x-215607-x-215607-x-301-x-Multi_A...</td>\n",
       "      <td>1 days 01:59:51</td>\n",
       "    </tr>\n",
       "    <tr>\n",
       "      <th>3</th>\n",
       "      <td>15806671</td>\n",
       "      <td>15806671</td>\n",
       "      <td>accre</td>\n",
       "      <td>production</td>\n",
       "      <td>h_vuiis</td>\n",
       "      <td>h_vuiis</td>\n",
       "      <td>36052</td>\n",
       "      <td>masispider</td>\n",
       "      <td>NaN</td>\n",
       "      <td>2017-07-02T00:40:58</td>\n",
       "      <td>...</td>\n",
       "      <td>1</td>\n",
       "      <td>2</td>\n",
       "      <td>2</td>\n",
       "      <td>12Gn</td>\n",
       "      <td>NaN</td>\n",
       "      <td>cpu=2,mem=12G,node=1</td>\n",
       "      <td>9-04:00:00</td>\n",
       "      <td>vmp230</td>\n",
       "      <td>WOODWARD_TCP-x-116214-x-116214-x-1701-x-Multi_...</td>\n",
       "      <td>1 days 08:02:20</td>\n",
       "    </tr>\n",
       "    <tr>\n",
       "      <th>4</th>\n",
       "      <td>15811617</td>\n",
       "      <td>15811617</td>\n",
       "      <td>accre</td>\n",
       "      <td>production</td>\n",
       "      <td>cms_samtest</td>\n",
       "      <td>cms_samtest</td>\n",
       "      <td>59297</td>\n",
       "      <td>uscms010</td>\n",
       "      <td>NaN</td>\n",
       "      <td>2017-07-01T05:00:00</td>\n",
       "      <td>...</td>\n",
       "      <td>1</td>\n",
       "      <td>1</td>\n",
       "      <td>1</td>\n",
       "      <td>4000Mn</td>\n",
       "      <td>NaN</td>\n",
       "      <td>cpu=1,mem=4000M,node=1</td>\n",
       "      <td>2-00:00:00</td>\n",
       "      <td>vmp1242</td>\n",
       "      <td>bl_aa7c22e04f21</td>\n",
       "      <td>0 days 00:00:10</td>\n",
       "    </tr>\n",
       "  </tbody>\n",
       "</table>\n",
       "<p>5 rows × 26 columns</p>\n",
       "</div>"
      ],
      "text/plain": [
       "      JobID  JobIDRaw Cluster   Partition      Account        Group    GID  \\\n",
       "0  15806649  15806649   accre  production      h_vuiis      h_vuiis  36052   \n",
       "1  15806664  15806664   accre  production      h_vuiis      h_vuiis  36052   \n",
       "2  15806670  15806670   accre  production      h_vuiis      h_vuiis  36052   \n",
       "3  15806671  15806671   accre  production      h_vuiis      h_vuiis  36052   \n",
       "4  15811617  15811617   accre  production  cms_samtest  cms_samtest  59297   \n",
       "\n",
       "         User  UID               Submit       ...       NNodes NCPUS ReqCPUS  \\\n",
       "0  masispider  NaN  2017-07-02T00:40:58       ...            1     2       2   \n",
       "1  masispider  NaN  2017-07-02T00:40:58       ...            1     2       2   \n",
       "2  masispider  NaN  2017-07-02T00:40:58       ...            1     2       2   \n",
       "3  masispider  NaN  2017-07-02T00:40:58       ...            1     2       2   \n",
       "4    uscms010  NaN  2017-07-01T05:00:00       ...            1     1       1   \n",
       "\n",
       "   ReqMem ReqGRES                 ReqTRES   Timelimit  NodeList  \\\n",
       "0    12Gn     NaN    cpu=2,mem=12G,node=1  9-04:00:00   vmp1085   \n",
       "1    12Gn     NaN    cpu=2,mem=12G,node=1  9-04:00:00   vmp1099   \n",
       "2    12Gn     NaN    cpu=2,mem=12G,node=1  9-04:00:00   vmp1126   \n",
       "3    12Gn     NaN    cpu=2,mem=12G,node=1  9-04:00:00    vmp230   \n",
       "4  4000Mn     NaN  cpu=1,mem=4000M,node=1  2-00:00:00   vmp1242   \n",
       "\n",
       "                                             JobName    job_duration  \n",
       "0  WOODWARD_TCP-x-228324-x-228324-x-301-x-Multi_A... 1 days 01:05:21  \n",
       "1  WOODWARD_TCP-x-115174-x-115174-x-301-x-Multi_A... 0 days 23:51:47  \n",
       "2  WOODWARD_TCP-x-215607-x-215607-x-301-x-Multi_A... 1 days 01:59:51  \n",
       "3  WOODWARD_TCP-x-116214-x-116214-x-1701-x-Multi_... 1 days 08:02:20  \n",
       "4                                    bl_aa7c22e04f21 0 days 00:00:10  \n",
       "\n",
       "[5 rows x 26 columns]"
      ]
     },
     "execution_count": 22,
     "metadata": {},
     "output_type": "execute_result"
    }
   ],
   "source": [
    "accre_df2.head()"
   ]
  },
  {
   "cell_type": "code",
   "execution_count": 23,
   "metadata": {},
   "outputs": [],
   "source": [
    "# make it dataframe\n",
    "submit_time=pd.DataFrame(submit_time)"
   ]
  },
  {
   "cell_type": "code",
   "execution_count": 76,
   "metadata": {},
   "outputs": [],
   "source": [
    "# replace the string value for sumbit time with datetime formated Submit_time\n",
    "accre_df2['Submit']=submit_time"
   ]
  },
  {
   "cell_type": "code",
   "execution_count": 25,
   "metadata": {},
   "outputs": [
    {
     "data": {
      "text/html": [
       "<div>\n",
       "<style scoped>\n",
       "    .dataframe tbody tr th:only-of-type {\n",
       "        vertical-align: middle;\n",
       "    }\n",
       "\n",
       "    .dataframe tbody tr th {\n",
       "        vertical-align: top;\n",
       "    }\n",
       "\n",
       "    .dataframe thead th {\n",
       "        text-align: right;\n",
       "    }\n",
       "</style>\n",
       "<table border=\"1\" class=\"dataframe\">\n",
       "  <thead>\n",
       "    <tr style=\"text-align: right;\">\n",
       "      <th></th>\n",
       "      <th>JobID</th>\n",
       "      <th>JobIDRaw</th>\n",
       "      <th>Cluster</th>\n",
       "      <th>Partition</th>\n",
       "      <th>Account</th>\n",
       "      <th>Group</th>\n",
       "      <th>GID</th>\n",
       "      <th>User</th>\n",
       "      <th>UID</th>\n",
       "      <th>Submit</th>\n",
       "      <th>...</th>\n",
       "      <th>NNodes</th>\n",
       "      <th>NCPUS</th>\n",
       "      <th>ReqCPUS</th>\n",
       "      <th>ReqMem</th>\n",
       "      <th>ReqGRES</th>\n",
       "      <th>ReqTRES</th>\n",
       "      <th>Timelimit</th>\n",
       "      <th>NodeList</th>\n",
       "      <th>JobName</th>\n",
       "      <th>job_duration</th>\n",
       "    </tr>\n",
       "  </thead>\n",
       "  <tbody>\n",
       "    <tr>\n",
       "      <th>0</th>\n",
       "      <td>15806649</td>\n",
       "      <td>15806649</td>\n",
       "      <td>accre</td>\n",
       "      <td>production</td>\n",
       "      <td>h_vuiis</td>\n",
       "      <td>h_vuiis</td>\n",
       "      <td>36052</td>\n",
       "      <td>masispider</td>\n",
       "      <td>NaN</td>\n",
       "      <td>2017-07-02 00:40:58</td>\n",
       "      <td>...</td>\n",
       "      <td>1</td>\n",
       "      <td>2</td>\n",
       "      <td>2</td>\n",
       "      <td>12Gn</td>\n",
       "      <td>NaN</td>\n",
       "      <td>cpu=2,mem=12G,node=1</td>\n",
       "      <td>9-04:00:00</td>\n",
       "      <td>vmp1085</td>\n",
       "      <td>WOODWARD_TCP-x-228324-x-228324-x-301-x-Multi_A...</td>\n",
       "      <td>1 days 01:05:21</td>\n",
       "    </tr>\n",
       "    <tr>\n",
       "      <th>1</th>\n",
       "      <td>15806664</td>\n",
       "      <td>15806664</td>\n",
       "      <td>accre</td>\n",
       "      <td>production</td>\n",
       "      <td>h_vuiis</td>\n",
       "      <td>h_vuiis</td>\n",
       "      <td>36052</td>\n",
       "      <td>masispider</td>\n",
       "      <td>NaN</td>\n",
       "      <td>2017-07-02 00:40:58</td>\n",
       "      <td>...</td>\n",
       "      <td>1</td>\n",
       "      <td>2</td>\n",
       "      <td>2</td>\n",
       "      <td>12Gn</td>\n",
       "      <td>NaN</td>\n",
       "      <td>cpu=2,mem=12G,node=1</td>\n",
       "      <td>9-04:00:00</td>\n",
       "      <td>vmp1099</td>\n",
       "      <td>WOODWARD_TCP-x-115174-x-115174-x-301-x-Multi_A...</td>\n",
       "      <td>0 days 23:51:47</td>\n",
       "    </tr>\n",
       "    <tr>\n",
       "      <th>2</th>\n",
       "      <td>15806670</td>\n",
       "      <td>15806670</td>\n",
       "      <td>accre</td>\n",
       "      <td>production</td>\n",
       "      <td>h_vuiis</td>\n",
       "      <td>h_vuiis</td>\n",
       "      <td>36052</td>\n",
       "      <td>masispider</td>\n",
       "      <td>NaN</td>\n",
       "      <td>2017-07-02 00:40:58</td>\n",
       "      <td>...</td>\n",
       "      <td>1</td>\n",
       "      <td>2</td>\n",
       "      <td>2</td>\n",
       "      <td>12Gn</td>\n",
       "      <td>NaN</td>\n",
       "      <td>cpu=2,mem=12G,node=1</td>\n",
       "      <td>9-04:00:00</td>\n",
       "      <td>vmp1126</td>\n",
       "      <td>WOODWARD_TCP-x-215607-x-215607-x-301-x-Multi_A...</td>\n",
       "      <td>1 days 01:59:51</td>\n",
       "    </tr>\n",
       "    <tr>\n",
       "      <th>3</th>\n",
       "      <td>15806671</td>\n",
       "      <td>15806671</td>\n",
       "      <td>accre</td>\n",
       "      <td>production</td>\n",
       "      <td>h_vuiis</td>\n",
       "      <td>h_vuiis</td>\n",
       "      <td>36052</td>\n",
       "      <td>masispider</td>\n",
       "      <td>NaN</td>\n",
       "      <td>2017-07-02 00:40:58</td>\n",
       "      <td>...</td>\n",
       "      <td>1</td>\n",
       "      <td>2</td>\n",
       "      <td>2</td>\n",
       "      <td>12Gn</td>\n",
       "      <td>NaN</td>\n",
       "      <td>cpu=2,mem=12G,node=1</td>\n",
       "      <td>9-04:00:00</td>\n",
       "      <td>vmp230</td>\n",
       "      <td>WOODWARD_TCP-x-116214-x-116214-x-1701-x-Multi_...</td>\n",
       "      <td>1 days 08:02:20</td>\n",
       "    </tr>\n",
       "    <tr>\n",
       "      <th>4</th>\n",
       "      <td>15811617</td>\n",
       "      <td>15811617</td>\n",
       "      <td>accre</td>\n",
       "      <td>production</td>\n",
       "      <td>cms_samtest</td>\n",
       "      <td>cms_samtest</td>\n",
       "      <td>59297</td>\n",
       "      <td>uscms010</td>\n",
       "      <td>NaN</td>\n",
       "      <td>2017-07-01 05:00:00</td>\n",
       "      <td>...</td>\n",
       "      <td>1</td>\n",
       "      <td>1</td>\n",
       "      <td>1</td>\n",
       "      <td>4000Mn</td>\n",
       "      <td>NaN</td>\n",
       "      <td>cpu=1,mem=4000M,node=1</td>\n",
       "      <td>2-00:00:00</td>\n",
       "      <td>vmp1242</td>\n",
       "      <td>bl_aa7c22e04f21</td>\n",
       "      <td>0 days 00:00:10</td>\n",
       "    </tr>\n",
       "  </tbody>\n",
       "</table>\n",
       "<p>5 rows × 26 columns</p>\n",
       "</div>"
      ],
      "text/plain": [
       "      JobID  JobIDRaw Cluster   Partition      Account        Group    GID  \\\n",
       "0  15806649  15806649   accre  production      h_vuiis      h_vuiis  36052   \n",
       "1  15806664  15806664   accre  production      h_vuiis      h_vuiis  36052   \n",
       "2  15806670  15806670   accre  production      h_vuiis      h_vuiis  36052   \n",
       "3  15806671  15806671   accre  production      h_vuiis      h_vuiis  36052   \n",
       "4  15811617  15811617   accre  production  cms_samtest  cms_samtest  59297   \n",
       "\n",
       "         User  UID              Submit       ...       NNodes NCPUS ReqCPUS  \\\n",
       "0  masispider  NaN 2017-07-02 00:40:58       ...            1     2       2   \n",
       "1  masispider  NaN 2017-07-02 00:40:58       ...            1     2       2   \n",
       "2  masispider  NaN 2017-07-02 00:40:58       ...            1     2       2   \n",
       "3  masispider  NaN 2017-07-02 00:40:58       ...            1     2       2   \n",
       "4    uscms010  NaN 2017-07-01 05:00:00       ...            1     1       1   \n",
       "\n",
       "   ReqMem ReqGRES                 ReqTRES   Timelimit  NodeList  \\\n",
       "0    12Gn     NaN    cpu=2,mem=12G,node=1  9-04:00:00   vmp1085   \n",
       "1    12Gn     NaN    cpu=2,mem=12G,node=1  9-04:00:00   vmp1099   \n",
       "2    12Gn     NaN    cpu=2,mem=12G,node=1  9-04:00:00   vmp1126   \n",
       "3    12Gn     NaN    cpu=2,mem=12G,node=1  9-04:00:00    vmp230   \n",
       "4  4000Mn     NaN  cpu=1,mem=4000M,node=1  2-00:00:00   vmp1242   \n",
       "\n",
       "                                             JobName    job_duration  \n",
       "0  WOODWARD_TCP-x-228324-x-228324-x-301-x-Multi_A... 1 days 01:05:21  \n",
       "1  WOODWARD_TCP-x-115174-x-115174-x-301-x-Multi_A... 0 days 23:51:47  \n",
       "2  WOODWARD_TCP-x-215607-x-215607-x-301-x-Multi_A... 1 days 01:59:51  \n",
       "3  WOODWARD_TCP-x-116214-x-116214-x-1701-x-Multi_... 1 days 08:02:20  \n",
       "4                                    bl_aa7c22e04f21 0 days 00:00:10  \n",
       "\n",
       "[5 rows x 26 columns]"
      ]
     },
     "execution_count": 25,
     "metadata": {},
     "output_type": "execute_result"
    }
   ],
   "source": [
    "accre_df2.head()"
   ]
  },
  {
   "cell_type": "code",
   "execution_count": 26,
   "metadata": {},
   "outputs": [
    {
     "data": {
      "text/plain": [
       "0   2017-07-02 00:40:58\n",
       "1   2017-07-02 00:40:58\n",
       "2   2017-07-02 00:40:58\n",
       "3   2017-07-02 00:40:58\n",
       "4   2017-07-01 05:00:00\n",
       "Name: Submit, dtype: datetime64[ns]"
      ]
     },
     "execution_count": 26,
     "metadata": {},
     "output_type": "execute_result"
    }
   ],
   "source": [
    "accre_df2['Submit'].head()"
   ]
  },
  {
   "cell_type": "markdown",
   "metadata": {},
   "source": [
    "# check data type of job_duration column"
   ]
  },
  {
   "cell_type": "code",
   "execution_count": 27,
   "metadata": {},
   "outputs": [
    {
     "data": {
      "text/plain": [
       "0   1 days 01:05:21\n",
       "1   0 days 23:51:47\n",
       "2   1 days 01:59:51\n",
       "3   1 days 08:02:20\n",
       "4   0 days 00:00:10\n",
       "Name: job_duration, dtype: timedelta64[ns]"
      ]
     },
     "execution_count": 27,
     "metadata": {},
     "output_type": "execute_result"
    }
   ],
   "source": [
    "accre_df2['job_duration'].head()"
   ]
  },
  {
   "cell_type": "code",
   "execution_count": 205,
   "metadata": {},
   "outputs": [
    {
     "data": {
      "text/html": [
       "<div>\n",
       "<style scoped>\n",
       "    .dataframe tbody tr th:only-of-type {\n",
       "        vertical-align: middle;\n",
       "    }\n",
       "\n",
       "    .dataframe tbody tr th {\n",
       "        vertical-align: top;\n",
       "    }\n",
       "\n",
       "    .dataframe thead th {\n",
       "        text-align: right;\n",
       "    }\n",
       "</style>\n",
       "<table border=\"1\" class=\"dataframe\">\n",
       "  <thead>\n",
       "    <tr style=\"text-align: right;\">\n",
       "      <th></th>\n",
       "      <th>User</th>\n",
       "      <th>JobID</th>\n",
       "      <th>Submit</th>\n",
       "      <th>Start</th>\n",
       "      <th>job_duration</th>\n",
       "    </tr>\n",
       "  </thead>\n",
       "  <tbody>\n",
       "    <tr>\n",
       "      <th>0</th>\n",
       "      <td>masispider</td>\n",
       "      <td>15806649</td>\n",
       "      <td>2017-07-02 00:40:58</td>\n",
       "      <td>2017-07-03T02:13:59</td>\n",
       "      <td>1 days 01:05:21</td>\n",
       "    </tr>\n",
       "    <tr>\n",
       "      <th>1</th>\n",
       "      <td>masispider</td>\n",
       "      <td>15806664</td>\n",
       "      <td>2017-07-02 00:40:58</td>\n",
       "      <td>2017-07-03T02:20:08</td>\n",
       "      <td>0 days 23:51:47</td>\n",
       "    </tr>\n",
       "    <tr>\n",
       "      <th>2</th>\n",
       "      <td>masispider</td>\n",
       "      <td>15806670</td>\n",
       "      <td>2017-07-02 00:40:58</td>\n",
       "      <td>2017-07-03T02:41:13</td>\n",
       "      <td>1 days 01:59:51</td>\n",
       "    </tr>\n",
       "    <tr>\n",
       "      <th>3</th>\n",
       "      <td>masispider</td>\n",
       "      <td>15806671</td>\n",
       "      <td>2017-07-02 00:40:58</td>\n",
       "      <td>2017-07-03T02:51:53</td>\n",
       "      <td>1 days 08:02:20</td>\n",
       "    </tr>\n",
       "    <tr>\n",
       "      <th>4</th>\n",
       "      <td>uscms010</td>\n",
       "      <td>15811617</td>\n",
       "      <td>2017-07-01 05:00:00</td>\n",
       "      <td>2017-07-01T05:00:01</td>\n",
       "      <td>0 days 00:00:10</td>\n",
       "    </tr>\n",
       "  </tbody>\n",
       "</table>\n",
       "</div>"
      ],
      "text/plain": [
       "         User     JobID              Submit                Start  \\\n",
       "0  masispider  15806649 2017-07-02 00:40:58  2017-07-03T02:13:59   \n",
       "1  masispider  15806664 2017-07-02 00:40:58  2017-07-03T02:20:08   \n",
       "2  masispider  15806670 2017-07-02 00:40:58  2017-07-03T02:41:13   \n",
       "3  masispider  15806671 2017-07-02 00:40:58  2017-07-03T02:51:53   \n",
       "4    uscms010  15811617 2017-07-01 05:00:00  2017-07-01T05:00:01   \n",
       "\n",
       "     job_duration  \n",
       "0 1 days 01:05:21  \n",
       "1 0 days 23:51:47  \n",
       "2 1 days 01:59:51  \n",
       "3 1 days 08:02:20  \n",
       "4 0 days 00:00:10  "
      ]
     },
     "execution_count": 205,
     "metadata": {},
     "output_type": "execute_result"
    }
   ],
   "source": [
    "accre_select_df=accre_df2.loc[:,['User','JobID','Submit','Start','job_duration']]\n",
    "accre_select_df.head()\n"
   ]
  },
  {
   "cell_type": "code",
   "execution_count": 206,
   "metadata": {},
   "outputs": [
    {
     "data": {
      "text/html": [
       "<div>\n",
       "<style scoped>\n",
       "    .dataframe tbody tr th:only-of-type {\n",
       "        vertical-align: middle;\n",
       "    }\n",
       "\n",
       "    .dataframe tbody tr th {\n",
       "        vertical-align: top;\n",
       "    }\n",
       "\n",
       "    .dataframe thead th {\n",
       "        text-align: right;\n",
       "    }\n",
       "</style>\n",
       "<table border=\"1\" class=\"dataframe\">\n",
       "  <thead>\n",
       "    <tr style=\"text-align: right;\">\n",
       "      <th></th>\n",
       "      <th>User</th>\n",
       "      <th>JobID</th>\n",
       "      <th>Start</th>\n",
       "      <th>job_duration</th>\n",
       "    </tr>\n",
       "    <tr>\n",
       "      <th>Submit</th>\n",
       "      <th></th>\n",
       "      <th></th>\n",
       "      <th></th>\n",
       "      <th></th>\n",
       "    </tr>\n",
       "  </thead>\n",
       "  <tbody>\n",
       "    <tr>\n",
       "      <th>2017-07-02 00:40:58</th>\n",
       "      <td>masispider</td>\n",
       "      <td>15806649</td>\n",
       "      <td>2017-07-03T02:13:59</td>\n",
       "      <td>1 days 01:05:21</td>\n",
       "    </tr>\n",
       "    <tr>\n",
       "      <th>2017-07-02 00:40:58</th>\n",
       "      <td>masispider</td>\n",
       "      <td>15806664</td>\n",
       "      <td>2017-07-03T02:20:08</td>\n",
       "      <td>0 days 23:51:47</td>\n",
       "    </tr>\n",
       "    <tr>\n",
       "      <th>2017-07-02 00:40:58</th>\n",
       "      <td>masispider</td>\n",
       "      <td>15806670</td>\n",
       "      <td>2017-07-03T02:41:13</td>\n",
       "      <td>1 days 01:59:51</td>\n",
       "    </tr>\n",
       "    <tr>\n",
       "      <th>2017-07-02 00:40:58</th>\n",
       "      <td>masispider</td>\n",
       "      <td>15806671</td>\n",
       "      <td>2017-07-03T02:51:53</td>\n",
       "      <td>1 days 08:02:20</td>\n",
       "    </tr>\n",
       "    <tr>\n",
       "      <th>2017-07-01 05:00:00</th>\n",
       "      <td>uscms010</td>\n",
       "      <td>15811617</td>\n",
       "      <td>2017-07-01T05:00:01</td>\n",
       "      <td>0 days 00:00:10</td>\n",
       "    </tr>\n",
       "  </tbody>\n",
       "</table>\n",
       "</div>"
      ],
      "text/plain": [
       "                           User     JobID                Start    job_duration\n",
       "Submit                                                                        \n",
       "2017-07-02 00:40:58  masispider  15806649  2017-07-03T02:13:59 1 days 01:05:21\n",
       "2017-07-02 00:40:58  masispider  15806664  2017-07-03T02:20:08 0 days 23:51:47\n",
       "2017-07-02 00:40:58  masispider  15806670  2017-07-03T02:41:13 1 days 01:59:51\n",
       "2017-07-02 00:40:58  masispider  15806671  2017-07-03T02:51:53 1 days 08:02:20\n",
       "2017-07-01 05:00:00    uscms010  15811617  2017-07-01T05:00:01 0 days 00:00:10"
      ]
     },
     "execution_count": 206,
     "metadata": {},
     "output_type": "execute_result"
    }
   ],
   "source": [
    "accre_select_df=accre_select_df.set_index('Submit')\n",
    "accre_select_df.head()"
   ]
  },
  {
   "cell_type": "markdown",
   "metadata": {},
   "source": [
    "# sort the the accre_select_df by job_duration and user name in ascending order."
   ]
  },
  {
   "cell_type": "code",
   "execution_count": 209,
   "metadata": {},
   "outputs": [],
   "source": [
    "accre_select_df=accre_select_df.sort_values(by=['Submit','User','Start','job_duration'],ascending=True)"
   ]
  },
  {
   "cell_type": "code",
   "execution_count": 211,
   "metadata": {},
   "outputs": [
    {
     "data": {
      "text/html": [
       "<div>\n",
       "<style scoped>\n",
       "    .dataframe tbody tr th:only-of-type {\n",
       "        vertical-align: middle;\n",
       "    }\n",
       "\n",
       "    .dataframe tbody tr th {\n",
       "        vertical-align: top;\n",
       "    }\n",
       "\n",
       "    .dataframe thead th {\n",
       "        text-align: right;\n",
       "    }\n",
       "</style>\n",
       "<table border=\"1\" class=\"dataframe\">\n",
       "  <thead>\n",
       "    <tr style=\"text-align: right;\">\n",
       "      <th></th>\n",
       "      <th>User</th>\n",
       "      <th>JobID</th>\n",
       "      <th>Start</th>\n",
       "      <th>job_duration</th>\n",
       "    </tr>\n",
       "    <tr>\n",
       "      <th>Submit</th>\n",
       "      <th></th>\n",
       "      <th></th>\n",
       "      <th></th>\n",
       "      <th></th>\n",
       "    </tr>\n",
       "  </thead>\n",
       "  <tbody>\n",
       "    <tr>\n",
       "      <th>2017-07-01 05:00:00</th>\n",
       "      <td>uscms010</td>\n",
       "      <td>15811617</td>\n",
       "      <td>2017-07-01T05:00:01</td>\n",
       "      <td>00:00:10</td>\n",
       "    </tr>\n",
       "    <tr>\n",
       "      <th>2017-07-01 05:00:01</th>\n",
       "      <td>autocms</td>\n",
       "      <td>15811618</td>\n",
       "      <td>2017-07-01T05:00:04</td>\n",
       "      <td>00:03:18</td>\n",
       "    </tr>\n",
       "    <tr>\n",
       "      <th>2017-07-01 05:00:02</th>\n",
       "      <td>tuos</td>\n",
       "      <td>15811619</td>\n",
       "      <td>2017-07-01T05:00:04</td>\n",
       "      <td>00:02:03</td>\n",
       "    </tr>\n",
       "    <tr>\n",
       "      <th>2017-07-01 05:00:22</th>\n",
       "      <td>uscms010</td>\n",
       "      <td>15811621</td>\n",
       "      <td>2017-07-01T05:00:23</td>\n",
       "      <td>00:00:10</td>\n",
       "    </tr>\n",
       "    <tr>\n",
       "      <th>2017-07-01 05:01:01</th>\n",
       "      <td>autocms</td>\n",
       "      <td>15811624</td>\n",
       "      <td>2017-07-01T05:01:02</td>\n",
       "      <td>00:04:47</td>\n",
       "    </tr>\n",
       "  </tbody>\n",
       "</table>\n",
       "</div>"
      ],
      "text/plain": [
       "                         User     JobID                Start job_duration\n",
       "Submit                                                                   \n",
       "2017-07-01 05:00:00  uscms010  15811617  2017-07-01T05:00:01     00:00:10\n",
       "2017-07-01 05:00:01   autocms  15811618  2017-07-01T05:00:04     00:03:18\n",
       "2017-07-01 05:00:02      tuos  15811619  2017-07-01T05:00:04     00:02:03\n",
       "2017-07-01 05:00:22  uscms010  15811621  2017-07-01T05:00:23     00:00:10\n",
       "2017-07-01 05:01:01   autocms  15811624  2017-07-01T05:01:02     00:04:47"
      ]
     },
     "execution_count": 211,
     "metadata": {},
     "output_type": "execute_result"
    }
   ],
   "source": [
    "accre_select_df.head()"
   ]
  },
  {
   "cell_type": "code",
   "execution_count": 186,
   "metadata": {},
   "outputs": [],
   "source": [
    "# accre_select_df=accre_select_df.set_index(['User','Submit'])"
   ]
  },
  {
   "cell_type": "code",
   "execution_count": 237,
   "metadata": {},
   "outputs": [],
   "source": [
    "#accre_select_df=accre_select_df.set_index(['Submit','User'])"
   ]
  },
  {
   "cell_type": "code",
   "execution_count": 212,
   "metadata": {},
   "outputs": [
    {
     "data": {
      "text/html": [
       "<div>\n",
       "<style scoped>\n",
       "    .dataframe tbody tr th:only-of-type {\n",
       "        vertical-align: middle;\n",
       "    }\n",
       "\n",
       "    .dataframe tbody tr th {\n",
       "        vertical-align: top;\n",
       "    }\n",
       "\n",
       "    .dataframe thead th {\n",
       "        text-align: right;\n",
       "    }\n",
       "</style>\n",
       "<table border=\"1\" class=\"dataframe\">\n",
       "  <thead>\n",
       "    <tr style=\"text-align: right;\">\n",
       "      <th></th>\n",
       "      <th>User</th>\n",
       "      <th>JobID</th>\n",
       "      <th>Start</th>\n",
       "      <th>job_duration</th>\n",
       "    </tr>\n",
       "    <tr>\n",
       "      <th>Submit</th>\n",
       "      <th></th>\n",
       "      <th></th>\n",
       "      <th></th>\n",
       "      <th></th>\n",
       "    </tr>\n",
       "  </thead>\n",
       "  <tbody>\n",
       "    <tr>\n",
       "      <th>2017-07-01 05:00:00</th>\n",
       "      <td>uscms010</td>\n",
       "      <td>15811617</td>\n",
       "      <td>2017-07-01T05:00:01</td>\n",
       "      <td>00:00:10</td>\n",
       "    </tr>\n",
       "    <tr>\n",
       "      <th>2017-07-01 05:00:01</th>\n",
       "      <td>autocms</td>\n",
       "      <td>15811618</td>\n",
       "      <td>2017-07-01T05:00:04</td>\n",
       "      <td>00:03:18</td>\n",
       "    </tr>\n",
       "    <tr>\n",
       "      <th>2017-07-01 05:00:02</th>\n",
       "      <td>tuos</td>\n",
       "      <td>15811619</td>\n",
       "      <td>2017-07-01T05:00:04</td>\n",
       "      <td>00:02:03</td>\n",
       "    </tr>\n",
       "    <tr>\n",
       "      <th>2017-07-01 05:00:22</th>\n",
       "      <td>uscms010</td>\n",
       "      <td>15811621</td>\n",
       "      <td>2017-07-01T05:00:23</td>\n",
       "      <td>00:00:10</td>\n",
       "    </tr>\n",
       "    <tr>\n",
       "      <th>2017-07-01 05:01:01</th>\n",
       "      <td>autocms</td>\n",
       "      <td>15811624</td>\n",
       "      <td>2017-07-01T05:01:02</td>\n",
       "      <td>00:04:47</td>\n",
       "    </tr>\n",
       "  </tbody>\n",
       "</table>\n",
       "</div>"
      ],
      "text/plain": [
       "                         User     JobID                Start job_duration\n",
       "Submit                                                                   \n",
       "2017-07-01 05:00:00  uscms010  15811617  2017-07-01T05:00:01     00:00:10\n",
       "2017-07-01 05:00:01   autocms  15811618  2017-07-01T05:00:04     00:03:18\n",
       "2017-07-01 05:00:02      tuos  15811619  2017-07-01T05:00:04     00:02:03\n",
       "2017-07-01 05:00:22  uscms010  15811621  2017-07-01T05:00:23     00:00:10\n",
       "2017-07-01 05:01:01   autocms  15811624  2017-07-01T05:01:02     00:04:47"
      ]
     },
     "execution_count": 212,
     "metadata": {},
     "output_type": "execute_result"
    }
   ],
   "source": [
    "accre_select_df.head()"
   ]
  },
  {
   "cell_type": "code",
   "execution_count": 213,
   "metadata": {},
   "outputs": [],
   "source": [
    "accre_5_minutes= accre_select_df[accre_select_df.job_duration<'0 days 00:05:00']"
   ]
  },
  {
   "cell_type": "code",
   "execution_count": 214,
   "metadata": {},
   "outputs": [
    {
     "data": {
      "text/html": [
       "<div>\n",
       "<style scoped>\n",
       "    .dataframe tbody tr th:only-of-type {\n",
       "        vertical-align: middle;\n",
       "    }\n",
       "\n",
       "    .dataframe tbody tr th {\n",
       "        vertical-align: top;\n",
       "    }\n",
       "\n",
       "    .dataframe thead th {\n",
       "        text-align: right;\n",
       "    }\n",
       "</style>\n",
       "<table border=\"1\" class=\"dataframe\">\n",
       "  <thead>\n",
       "    <tr style=\"text-align: right;\">\n",
       "      <th></th>\n",
       "      <th>User</th>\n",
       "      <th>JobID</th>\n",
       "      <th>Start</th>\n",
       "      <th>job_duration</th>\n",
       "    </tr>\n",
       "    <tr>\n",
       "      <th>Submit</th>\n",
       "      <th></th>\n",
       "      <th></th>\n",
       "      <th></th>\n",
       "      <th></th>\n",
       "    </tr>\n",
       "  </thead>\n",
       "  <tbody>\n",
       "    <tr>\n",
       "      <th>2017-07-01 05:00:00</th>\n",
       "      <td>uscms010</td>\n",
       "      <td>15811617</td>\n",
       "      <td>2017-07-01T05:00:01</td>\n",
       "      <td>00:00:10</td>\n",
       "    </tr>\n",
       "    <tr>\n",
       "      <th>2017-07-01 05:00:01</th>\n",
       "      <td>autocms</td>\n",
       "      <td>15811618</td>\n",
       "      <td>2017-07-01T05:00:04</td>\n",
       "      <td>00:03:18</td>\n",
       "    </tr>\n",
       "    <tr>\n",
       "      <th>2017-07-01 05:00:02</th>\n",
       "      <td>tuos</td>\n",
       "      <td>15811619</td>\n",
       "      <td>2017-07-01T05:00:04</td>\n",
       "      <td>00:02:03</td>\n",
       "    </tr>\n",
       "    <tr>\n",
       "      <th>2017-07-01 05:00:22</th>\n",
       "      <td>uscms010</td>\n",
       "      <td>15811621</td>\n",
       "      <td>2017-07-01T05:00:23</td>\n",
       "      <td>00:00:10</td>\n",
       "    </tr>\n",
       "    <tr>\n",
       "      <th>2017-07-01 05:01:01</th>\n",
       "      <td>autocms</td>\n",
       "      <td>15811624</td>\n",
       "      <td>2017-07-01T05:01:02</td>\n",
       "      <td>00:04:47</td>\n",
       "    </tr>\n",
       "  </tbody>\n",
       "</table>\n",
       "</div>"
      ],
      "text/plain": [
       "                         User     JobID                Start job_duration\n",
       "Submit                                                                   \n",
       "2017-07-01 05:00:00  uscms010  15811617  2017-07-01T05:00:01     00:00:10\n",
       "2017-07-01 05:00:01   autocms  15811618  2017-07-01T05:00:04     00:03:18\n",
       "2017-07-01 05:00:02      tuos  15811619  2017-07-01T05:00:04     00:02:03\n",
       "2017-07-01 05:00:22  uscms010  15811621  2017-07-01T05:00:23     00:00:10\n",
       "2017-07-01 05:01:01   autocms  15811624  2017-07-01T05:01:02     00:04:47"
      ]
     },
     "execution_count": 214,
     "metadata": {},
     "output_type": "execute_result"
    }
   ],
   "source": [
    "accre_5_minutes.head()"
   ]
  },
  {
   "cell_type": "markdown",
   "metadata": {},
   "source": [
    "level_values = accre_5_minutes.index.get_level_values\n",
    "result = (accre_5_minutes.groupby([level_values(i) for i in [0,1]]\n",
    "                      +[pd.Grouper(freq='4h', level=-1)]).count())"
   ]
  },
  {
   "cell_type": "markdown",
   "metadata": {},
   "source": [
    "result.head(50)"
   ]
  },
  {
   "cell_type": "code",
   "execution_count": 215,
   "metadata": {},
   "outputs": [],
   "source": [
    "#accre_5_minutes.sort_index(inplace=True)\n",
    "#accre_5_minutes.head(20)"
   ]
  },
  {
   "cell_type": "code",
   "execution_count": 219,
   "metadata": {},
   "outputs": [],
   "source": [
    "accre_5_mnts_grouped=accre_5_minutes.groupby(['Submit','User']).count()"
   ]
  },
  {
   "cell_type": "code",
   "execution_count": 220,
   "metadata": {},
   "outputs": [
    {
     "data": {
      "text/html": [
       "<div>\n",
       "<style scoped>\n",
       "    .dataframe tbody tr th:only-of-type {\n",
       "        vertical-align: middle;\n",
       "    }\n",
       "\n",
       "    .dataframe tbody tr th {\n",
       "        vertical-align: top;\n",
       "    }\n",
       "\n",
       "    .dataframe thead th {\n",
       "        text-align: right;\n",
       "    }\n",
       "</style>\n",
       "<table border=\"1\" class=\"dataframe\">\n",
       "  <thead>\n",
       "    <tr style=\"text-align: right;\">\n",
       "      <th></th>\n",
       "      <th></th>\n",
       "      <th>JobID</th>\n",
       "      <th>Start</th>\n",
       "      <th>job_duration</th>\n",
       "    </tr>\n",
       "    <tr>\n",
       "      <th>Submit</th>\n",
       "      <th>User</th>\n",
       "      <th></th>\n",
       "      <th></th>\n",
       "      <th></th>\n",
       "    </tr>\n",
       "  </thead>\n",
       "  <tbody>\n",
       "    <tr>\n",
       "      <th>2017-07-01 05:00:00</th>\n",
       "      <th>uscms010</th>\n",
       "      <td>1</td>\n",
       "      <td>1</td>\n",
       "      <td>1</td>\n",
       "    </tr>\n",
       "    <tr>\n",
       "      <th>2017-07-01 05:00:01</th>\n",
       "      <th>autocms</th>\n",
       "      <td>1</td>\n",
       "      <td>1</td>\n",
       "      <td>1</td>\n",
       "    </tr>\n",
       "    <tr>\n",
       "      <th>2017-07-01 05:00:02</th>\n",
       "      <th>tuos</th>\n",
       "      <td>1</td>\n",
       "      <td>1</td>\n",
       "      <td>1</td>\n",
       "    </tr>\n",
       "    <tr>\n",
       "      <th>2017-07-01 05:00:22</th>\n",
       "      <th>uscms010</th>\n",
       "      <td>1</td>\n",
       "      <td>1</td>\n",
       "      <td>1</td>\n",
       "    </tr>\n",
       "    <tr>\n",
       "      <th>2017-07-01 05:01:01</th>\n",
       "      <th>autocms</th>\n",
       "      <td>1</td>\n",
       "      <td>1</td>\n",
       "      <td>1</td>\n",
       "    </tr>\n",
       "  </tbody>\n",
       "</table>\n",
       "</div>"
      ],
      "text/plain": [
       "                              JobID  Start  job_duration\n",
       "Submit              User                                \n",
       "2017-07-01 05:00:00 uscms010      1      1             1\n",
       "2017-07-01 05:00:01 autocms       1      1             1\n",
       "2017-07-01 05:00:02 tuos          1      1             1\n",
       "2017-07-01 05:00:22 uscms010      1      1             1\n",
       "2017-07-01 05:01:01 autocms       1      1             1"
      ]
     },
     "execution_count": 220,
     "metadata": {},
     "output_type": "execute_result"
    }
   ],
   "source": [
    "accre_5_mnts_grouped.head()"
   ]
  },
  {
   "cell_type": "code",
   "execution_count": 221,
   "metadata": {},
   "outputs": [],
   "source": [
    "accre_5_mnts_reindexed=accre_5_mnts_grouped.reset_index('User')"
   ]
  },
  {
   "cell_type": "code",
   "execution_count": 223,
   "metadata": {},
   "outputs": [
    {
     "data": {
      "text/html": [
       "<div>\n",
       "<style scoped>\n",
       "    .dataframe tbody tr th:only-of-type {\n",
       "        vertical-align: middle;\n",
       "    }\n",
       "\n",
       "    .dataframe tbody tr th {\n",
       "        vertical-align: top;\n",
       "    }\n",
       "\n",
       "    .dataframe thead th {\n",
       "        text-align: right;\n",
       "    }\n",
       "</style>\n",
       "<table border=\"1\" class=\"dataframe\">\n",
       "  <thead>\n",
       "    <tr style=\"text-align: right;\">\n",
       "      <th></th>\n",
       "      <th>User</th>\n",
       "      <th>JobID</th>\n",
       "      <th>Start</th>\n",
       "      <th>job_duration</th>\n",
       "    </tr>\n",
       "    <tr>\n",
       "      <th>Submit</th>\n",
       "      <th></th>\n",
       "      <th></th>\n",
       "      <th></th>\n",
       "      <th></th>\n",
       "    </tr>\n",
       "  </thead>\n",
       "  <tbody>\n",
       "    <tr>\n",
       "      <th>2017-07-01 05:00:00</th>\n",
       "      <td>uscms010</td>\n",
       "      <td>1</td>\n",
       "      <td>1</td>\n",
       "      <td>1</td>\n",
       "    </tr>\n",
       "    <tr>\n",
       "      <th>2017-07-01 05:00:01</th>\n",
       "      <td>autocms</td>\n",
       "      <td>1</td>\n",
       "      <td>1</td>\n",
       "      <td>1</td>\n",
       "    </tr>\n",
       "    <tr>\n",
       "      <th>2017-07-01 05:00:02</th>\n",
       "      <td>tuos</td>\n",
       "      <td>1</td>\n",
       "      <td>1</td>\n",
       "      <td>1</td>\n",
       "    </tr>\n",
       "    <tr>\n",
       "      <th>2017-07-01 05:00:22</th>\n",
       "      <td>uscms010</td>\n",
       "      <td>1</td>\n",
       "      <td>1</td>\n",
       "      <td>1</td>\n",
       "    </tr>\n",
       "    <tr>\n",
       "      <th>2017-07-01 05:01:01</th>\n",
       "      <td>autocms</td>\n",
       "      <td>1</td>\n",
       "      <td>1</td>\n",
       "      <td>1</td>\n",
       "    </tr>\n",
       "  </tbody>\n",
       "</table>\n",
       "</div>"
      ],
      "text/plain": [
       "                         User  JobID  Start  job_duration\n",
       "Submit                                                   \n",
       "2017-07-01 05:00:00  uscms010      1      1             1\n",
       "2017-07-01 05:00:01   autocms      1      1             1\n",
       "2017-07-01 05:00:02      tuos      1      1             1\n",
       "2017-07-01 05:00:22  uscms010      1      1             1\n",
       "2017-07-01 05:01:01   autocms      1      1             1"
      ]
     },
     "execution_count": 223,
     "metadata": {},
     "output_type": "execute_result"
    }
   ],
   "source": [
    "accre_5_mnts_reindexed.head()"
   ]
  },
  {
   "cell_type": "code",
   "execution_count": 224,
   "metadata": {},
   "outputs": [],
   "source": [
    "del(accre_5_mnts_reindexed['Start'])"
   ]
  },
  {
   "cell_type": "code",
   "execution_count": 225,
   "metadata": {},
   "outputs": [],
   "source": [
    "del(accre_5_mnts_reindexed['job_duration'])"
   ]
  },
  {
   "cell_type": "markdown",
   "metadata": {},
   "source": [
    "# users running more than 500 jobs shorter than 5 minutes."
   ]
  },
  {
   "cell_type": "code",
   "execution_count": 226,
   "metadata": {},
   "outputs": [
    {
     "data": {
      "text/html": [
       "<div>\n",
       "<style scoped>\n",
       "    .dataframe tbody tr th:only-of-type {\n",
       "        vertical-align: middle;\n",
       "    }\n",
       "\n",
       "    .dataframe tbody tr th {\n",
       "        vertical-align: top;\n",
       "    }\n",
       "\n",
       "    .dataframe thead th {\n",
       "        text-align: right;\n",
       "    }\n",
       "</style>\n",
       "<table border=\"1\" class=\"dataframe\">\n",
       "  <thead>\n",
       "    <tr style=\"text-align: right;\">\n",
       "      <th></th>\n",
       "      <th>User</th>\n",
       "      <th>JobID</th>\n",
       "    </tr>\n",
       "    <tr>\n",
       "      <th>Submit</th>\n",
       "      <th></th>\n",
       "      <th></th>\n",
       "    </tr>\n",
       "  </thead>\n",
       "  <tbody>\n",
       "    <tr>\n",
       "      <th>2017-07-01 05:00:00</th>\n",
       "      <td>uscms010</td>\n",
       "      <td>1</td>\n",
       "    </tr>\n",
       "    <tr>\n",
       "      <th>2017-07-01 05:00:01</th>\n",
       "      <td>autocms</td>\n",
       "      <td>1</td>\n",
       "    </tr>\n",
       "    <tr>\n",
       "      <th>2017-07-01 05:00:02</th>\n",
       "      <td>tuos</td>\n",
       "      <td>1</td>\n",
       "    </tr>\n",
       "    <tr>\n",
       "      <th>2017-07-01 05:00:22</th>\n",
       "      <td>uscms010</td>\n",
       "      <td>1</td>\n",
       "    </tr>\n",
       "    <tr>\n",
       "      <th>2017-07-01 05:01:01</th>\n",
       "      <td>autocms</td>\n",
       "      <td>1</td>\n",
       "    </tr>\n",
       "    <tr>\n",
       "      <th>2017-07-01 05:01:02</th>\n",
       "      <td>tuos</td>\n",
       "      <td>1</td>\n",
       "    </tr>\n",
       "    <tr>\n",
       "      <th>2017-07-01 05:01:26</th>\n",
       "      <td>vuiiscci</td>\n",
       "      <td>2</td>\n",
       "    </tr>\n",
       "    <tr>\n",
       "      <th>2017-07-01 05:01:56</th>\n",
       "      <td>uscms010</td>\n",
       "      <td>1</td>\n",
       "    </tr>\n",
       "    <tr>\n",
       "      <th>2017-07-01 05:02:02</th>\n",
       "      <td>autocms</td>\n",
       "      <td>1</td>\n",
       "    </tr>\n",
       "    <tr>\n",
       "      <th>2017-07-01 05:02:02</th>\n",
       "      <td>tuos</td>\n",
       "      <td>1</td>\n",
       "    </tr>\n",
       "  </tbody>\n",
       "</table>\n",
       "</div>"
      ],
      "text/plain": [
       "                         User  JobID\n",
       "Submit                              \n",
       "2017-07-01 05:00:00  uscms010      1\n",
       "2017-07-01 05:00:01   autocms      1\n",
       "2017-07-01 05:00:02      tuos      1\n",
       "2017-07-01 05:00:22  uscms010      1\n",
       "2017-07-01 05:01:01   autocms      1\n",
       "2017-07-01 05:01:02      tuos      1\n",
       "2017-07-01 05:01:26  vuiiscci      2\n",
       "2017-07-01 05:01:56  uscms010      1\n",
       "2017-07-01 05:02:02   autocms      1\n",
       "2017-07-01 05:02:02      tuos      1"
      ]
     },
     "execution_count": 226,
     "metadata": {},
     "output_type": "execute_result"
    }
   ],
   "source": [
    "\n",
    "accre_5_mnts_reindexed[accre_5_mnts_reindexed.JobID>500]\n",
    "\n",
    "accre_5_mnts_reindexed.head(10)"
   ]
  },
  {
   "cell_type": "code",
   "execution_count": 239,
   "metadata": {},
   "outputs": [],
   "source": [
    "# accre_5_mnts_reindexed.rolling('4H').sum()"
   ]
  },
  {
   "cell_type": "code",
   "execution_count": 229,
   "metadata": {},
   "outputs": [],
   "source": [
    "#accre_5_mnts_reindexed.reset_index(level=0, inplace =True)\n",
    "#accre_5_mnts_reindexed.head(10)"
   ]
  },
  {
   "cell_type": "code",
   "execution_count": 139,
   "metadata": {},
   "outputs": [],
   "source": [
    "#accre_5_mnts_reindexed.rolling('4H',on='Submit').sum()\n",
    "\n",
    "#accre_5_mnts_reindexed.shift(4,axis=0)"
   ]
  },
  {
   "cell_type": "code",
   "execution_count": 230,
   "metadata": {},
   "outputs": [],
   "source": [
    "#accre_5_mnts_reindexed.resample('4h').sum()\n",
    "\n",
    "#accre_5_mnts_reindexed.head()"
   ]
  },
  {
   "cell_type": "markdown",
   "metadata": {},
   "source": [
    "for date in accre_5_mnts_reindexed['Submit']:\n",
    "    list =[]\n",
    "    count = 1\n",
    "    dateindex = 0\n",
    "    if pd.Timedelta(Submit[1]-Submit[0]).seconds/3600 < 4\n",
    "        dateindex = dateindex + 1\n",
    "        count = count + JobID\n",
    "    elif pd.Timedelta(Submit[1]-Submit[0]).seconds/3600 >= 4\n",
    "        list.append(count)\n",
    "        \n",
    "        "
   ]
  },
  {
   "cell_type": "code",
   "execution_count": 105,
   "metadata": {},
   "outputs": [
    {
     "data": {
      "text/plain": [
       "dtype('<M8[ns]')"
      ]
     },
     "execution_count": 105,
     "metadata": {},
     "output_type": "execute_result"
    }
   ],
   "source": [
    "accre_5_mnts_reindexed['Submit'].dtype"
   ]
  },
  {
   "cell_type": "code",
   "execution_count": 104,
   "metadata": {},
   "outputs": [],
   "source": [
    "# accre_5_mnts_reindexed.rolling().sum()"
   ]
  },
  {
   "cell_type": "code",
   "execution_count": null,
   "metadata": {},
   "outputs": [],
   "source": [
    "for x in accre_5_mnts_reindexed.Submit:\n",
    "    accre_5_mnts_reindexed"
   ]
  },
  {
   "cell_type": "code",
   "execution_count": null,
   "metadata": {},
   "outputs": [],
   "source": []
  },
  {
   "cell_type": "code",
   "execution_count": 57,
   "metadata": {},
   "outputs": [],
   "source": [
    "# grouped.resample('4h').count()"
   ]
  },
  {
   "cell_type": "code",
   "execution_count": 435,
   "metadata": {},
   "outputs": [],
   "source": [
    "#accre_5_minutes.resample('4h','JobID').count()"
   ]
  },
  {
   "cell_type": "code",
   "execution_count": 320,
   "metadata": {},
   "outputs": [],
   "source": [
    "# accre_5_minutes.resample('4h').count()"
   ]
  },
  {
   "cell_type": "code",
   "execution_count": 321,
   "metadata": {},
   "outputs": [],
   "source": [
    "# accre_5_mnts_per_4h.head()"
   ]
  },
  {
   "cell_type": "code",
   "execution_count": 323,
   "metadata": {},
   "outputs": [],
   "source": [
    "# df.reset_index(level=0, inplace=True)"
   ]
  },
  {
   "cell_type": "markdown",
   "metadata": {},
   "source": [
    "DataFrame.resample(rule, how=None, axis=0, fill_method=None, closed=None, label=None, convention='start', kind=None, loffset=None, limit=None, base=0, on=None, level=None)"
   ]
  },
  {
   "cell_type": "code",
   "execution_count": 233,
   "metadata": {},
   "outputs": [],
   "source": [
    "#count_5_minutes_grouped=accre_5_minutes.groupby(['User','Submit'])['JobID'].count()"
   ]
  },
  {
   "cell_type": "code",
   "execution_count": 232,
   "metadata": {},
   "outputs": [],
   "source": [
    "#count_5_minutes_grouped.resample('4h').count()"
   ]
  },
  {
   "cell_type": "code",
   "execution_count": 234,
   "metadata": {},
   "outputs": [],
   "source": [
    "#count_5_minutes_grouped.head()"
   ]
  },
  {
   "cell_type": "markdown",
   "metadata": {},
   "source": [
    "# users sumbitted more than 500 jobs each taking shorter than 5 minutes grouped by month,date and hour"
   ]
  },
  {
   "cell_type": "code",
   "execution_count": 236,
   "metadata": {},
   "outputs": [],
   "source": [
    "## counts per months, day and hour\n",
    "##count_5_minutes_job[count_5_minutes_job> 500]"
   ]
  },
  {
   "cell_type": "markdown",
   "metadata": {},
   "source": [
    "# some notes from Mary\n",
    "# to get random 5000 rows of jobs\n",
    "\n",
    "indices=np.random.randint(0,len(jobs),5000)\n",
    "jobs.subset=jobs.iloc[indices]\n",
    "#1.  most frequent values\n",
    "jobs.ReqMem.valuecounts(ascending=False).head(5000)\n",
    " # this returns df\n",
    "#2. from collections import Counter\n",
    "\n",
    "import Counter from collections\n",
    "mem.types=Counter(jobs.RegMem)\n",
    "mem.typyes.most_common(5000)    \n",
    "\n",
    "# returns a dictionary like counter object.\n",
    "    "
   ]
  },
  {
   "cell_type": "code",
   "execution_count": 59,
   "metadata": {},
   "outputs": [],
   "source": [
    "\n",
    "# elapsed time is the same as duration\n",
    "\n",
    "# accre_df.loc[:,['JobID','Elapsed']].head()"
   ]
  },
  {
   "cell_type": "code",
   "execution_count": null,
   "metadata": {},
   "outputs": [],
   "source": []
  }
 ],
 "metadata": {
  "kernelspec": {
   "display_name": "Python 3",
   "language": "python",
   "name": "python3"
  },
  "language_info": {
   "codemirror_mode": {
    "name": "ipython",
    "version": 3
   },
   "file_extension": ".py",
   "mimetype": "text/x-python",
   "name": "python",
   "nbconvert_exporter": "python",
   "pygments_lexer": "ipython3",
   "version": "3.6.4"
  }
 },
 "nbformat": 4,
 "nbformat_minor": 2
}
