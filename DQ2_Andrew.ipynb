{
 "cells": [
  {
   "cell_type": "markdown",
   "metadata": {},
   "source": [
    "# Data Question 2\n",
    "\n",
    "\n",
    "## How is queue time impacted by RAM requested? How is it impacted by wall time requested?\n",
    "\n",
    "## Are there any nodes that fail more than the other ones?\n",
    "\n",
    "\n",
    "## Identify problematic users\n",
    "Those people who submit greater than 500 jobs, with each less than 5 minutes within 4 hours"
   ]
  },
  {
   "cell_type": "code",
   "execution_count": 17,
   "metadata": {},
   "outputs": [],
   "source": [
    "#import libraries \n",
    "from shapely.geometry import Point\n",
    "import pandas as pd\n",
    "import geopandas as gpd\n",
    "import matplotlib.pyplot as plt\n",
    "import folium\n",
    "from datetime import datetime\n",
    "%matplotlib inline"
   ]
  },
  {
   "cell_type": "code",
   "execution_count": 5,
   "metadata": {},
   "outputs": [
    {
     "data": {
      "text/html": [
       "<div>\n",
       "<style scoped>\n",
       "    .dataframe tbody tr th:only-of-type {\n",
       "        vertical-align: middle;\n",
       "    }\n",
       "\n",
       "    .dataframe tbody tr th {\n",
       "        vertical-align: top;\n",
       "    }\n",
       "\n",
       "    .dataframe thead th {\n",
       "        text-align: right;\n",
       "    }\n",
       "</style>\n",
       "<table border=\"1\" class=\"dataframe\">\n",
       "  <thead>\n",
       "    <tr style=\"text-align: right;\">\n",
       "      <th></th>\n",
       "      <th>JobID</th>\n",
       "      <th>JobIDRaw</th>\n",
       "      <th>Cluster</th>\n",
       "      <th>Partition</th>\n",
       "      <th>Account</th>\n",
       "      <th>Group</th>\n",
       "      <th>GID</th>\n",
       "      <th>User</th>\n",
       "      <th>UID</th>\n",
       "      <th>Submit</th>\n",
       "      <th>...</th>\n",
       "      <th>State</th>\n",
       "      <th>NNodes</th>\n",
       "      <th>NCPUS</th>\n",
       "      <th>ReqCPUS</th>\n",
       "      <th>ReqMem</th>\n",
       "      <th>ReqGRES</th>\n",
       "      <th>ReqTRES</th>\n",
       "      <th>Timelimit</th>\n",
       "      <th>NodeList</th>\n",
       "      <th>JobName</th>\n",
       "    </tr>\n",
       "  </thead>\n",
       "  <tbody>\n",
       "    <tr>\n",
       "      <th>0</th>\n",
       "      <td>15806649</td>\n",
       "      <td>15806649</td>\n",
       "      <td>accre</td>\n",
       "      <td>production</td>\n",
       "      <td>h_vuiis</td>\n",
       "      <td>h_vuiis</td>\n",
       "      <td>36052</td>\n",
       "      <td>masispider</td>\n",
       "      <td>NaN</td>\n",
       "      <td>2017-07-02T00:40:58</td>\n",
       "      <td>...</td>\n",
       "      <td>COMPLETED</td>\n",
       "      <td>1</td>\n",
       "      <td>2</td>\n",
       "      <td>2</td>\n",
       "      <td>12Gn</td>\n",
       "      <td>NaN</td>\n",
       "      <td>cpu=2,mem=12G,node=1</td>\n",
       "      <td>9-04:00:00</td>\n",
       "      <td>vmp1085</td>\n",
       "      <td>WOODWARD_TCP-x-228324-x-228324-x-301-x-Multi_A...</td>\n",
       "    </tr>\n",
       "    <tr>\n",
       "      <th>1</th>\n",
       "      <td>15806664</td>\n",
       "      <td>15806664</td>\n",
       "      <td>accre</td>\n",
       "      <td>production</td>\n",
       "      <td>h_vuiis</td>\n",
       "      <td>h_vuiis</td>\n",
       "      <td>36052</td>\n",
       "      <td>masispider</td>\n",
       "      <td>NaN</td>\n",
       "      <td>2017-07-02T00:40:58</td>\n",
       "      <td>...</td>\n",
       "      <td>COMPLETED</td>\n",
       "      <td>1</td>\n",
       "      <td>2</td>\n",
       "      <td>2</td>\n",
       "      <td>12Gn</td>\n",
       "      <td>NaN</td>\n",
       "      <td>cpu=2,mem=12G,node=1</td>\n",
       "      <td>9-04:00:00</td>\n",
       "      <td>vmp1099</td>\n",
       "      <td>WOODWARD_TCP-x-115174-x-115174-x-301-x-Multi_A...</td>\n",
       "    </tr>\n",
       "    <tr>\n",
       "      <th>2</th>\n",
       "      <td>15806670</td>\n",
       "      <td>15806670</td>\n",
       "      <td>accre</td>\n",
       "      <td>production</td>\n",
       "      <td>h_vuiis</td>\n",
       "      <td>h_vuiis</td>\n",
       "      <td>36052</td>\n",
       "      <td>masispider</td>\n",
       "      <td>NaN</td>\n",
       "      <td>2017-07-02T00:40:58</td>\n",
       "      <td>...</td>\n",
       "      <td>COMPLETED</td>\n",
       "      <td>1</td>\n",
       "      <td>2</td>\n",
       "      <td>2</td>\n",
       "      <td>12Gn</td>\n",
       "      <td>NaN</td>\n",
       "      <td>cpu=2,mem=12G,node=1</td>\n",
       "      <td>9-04:00:00</td>\n",
       "      <td>vmp1126</td>\n",
       "      <td>WOODWARD_TCP-x-215607-x-215607-x-301-x-Multi_A...</td>\n",
       "    </tr>\n",
       "    <tr>\n",
       "      <th>3</th>\n",
       "      <td>15806671</td>\n",
       "      <td>15806671</td>\n",
       "      <td>accre</td>\n",
       "      <td>production</td>\n",
       "      <td>h_vuiis</td>\n",
       "      <td>h_vuiis</td>\n",
       "      <td>36052</td>\n",
       "      <td>masispider</td>\n",
       "      <td>NaN</td>\n",
       "      <td>2017-07-02T00:40:58</td>\n",
       "      <td>...</td>\n",
       "      <td>COMPLETED</td>\n",
       "      <td>1</td>\n",
       "      <td>2</td>\n",
       "      <td>2</td>\n",
       "      <td>12Gn</td>\n",
       "      <td>NaN</td>\n",
       "      <td>cpu=2,mem=12G,node=1</td>\n",
       "      <td>9-04:00:00</td>\n",
       "      <td>vmp230</td>\n",
       "      <td>WOODWARD_TCP-x-116214-x-116214-x-1701-x-Multi_...</td>\n",
       "    </tr>\n",
       "    <tr>\n",
       "      <th>4</th>\n",
       "      <td>15811617</td>\n",
       "      <td>15811617</td>\n",
       "      <td>accre</td>\n",
       "      <td>production</td>\n",
       "      <td>cms_samtest</td>\n",
       "      <td>cms_samtest</td>\n",
       "      <td>59297</td>\n",
       "      <td>uscms010</td>\n",
       "      <td>NaN</td>\n",
       "      <td>2017-07-01T05:00:00</td>\n",
       "      <td>...</td>\n",
       "      <td>COMPLETED</td>\n",
       "      <td>1</td>\n",
       "      <td>1</td>\n",
       "      <td>1</td>\n",
       "      <td>4000Mn</td>\n",
       "      <td>NaN</td>\n",
       "      <td>cpu=1,mem=4000M,node=1</td>\n",
       "      <td>2-00:00:00</td>\n",
       "      <td>vmp1242</td>\n",
       "      <td>bl_aa7c22e04f21</td>\n",
       "    </tr>\n",
       "  </tbody>\n",
       "</table>\n",
       "<p>5 rows × 25 columns</p>\n",
       "</div>"
      ],
      "text/plain": [
       "      JobID  JobIDRaw Cluster   Partition      Account        Group    GID  \\\n",
       "0  15806649  15806649   accre  production      h_vuiis      h_vuiis  36052   \n",
       "1  15806664  15806664   accre  production      h_vuiis      h_vuiis  36052   \n",
       "2  15806670  15806670   accre  production      h_vuiis      h_vuiis  36052   \n",
       "3  15806671  15806671   accre  production      h_vuiis      h_vuiis  36052   \n",
       "4  15811617  15811617   accre  production  cms_samtest  cms_samtest  59297   \n",
       "\n",
       "         User  UID               Submit  \\\n",
       "0  masispider  NaN  2017-07-02T00:40:58   \n",
       "1  masispider  NaN  2017-07-02T00:40:58   \n",
       "2  masispider  NaN  2017-07-02T00:40:58   \n",
       "3  masispider  NaN  2017-07-02T00:40:58   \n",
       "4    uscms010  NaN  2017-07-01T05:00:00   \n",
       "\n",
       "                         ...                              State NNodes NCPUS  \\\n",
       "0                        ...                          COMPLETED      1     2   \n",
       "1                        ...                          COMPLETED      1     2   \n",
       "2                        ...                          COMPLETED      1     2   \n",
       "3                        ...                          COMPLETED      1     2   \n",
       "4                        ...                          COMPLETED      1     1   \n",
       "\n",
       "  ReqCPUS  ReqMem ReqGRES                 ReqTRES   Timelimit  NodeList  \\\n",
       "0       2    12Gn     NaN    cpu=2,mem=12G,node=1  9-04:00:00   vmp1085   \n",
       "1       2    12Gn     NaN    cpu=2,mem=12G,node=1  9-04:00:00   vmp1099   \n",
       "2       2    12Gn     NaN    cpu=2,mem=12G,node=1  9-04:00:00   vmp1126   \n",
       "3       2    12Gn     NaN    cpu=2,mem=12G,node=1  9-04:00:00    vmp230   \n",
       "4       1  4000Mn     NaN  cpu=1,mem=4000M,node=1  2-00:00:00   vmp1242   \n",
       "\n",
       "                                             JobName  \n",
       "0  WOODWARD_TCP-x-228324-x-228324-x-301-x-Multi_A...  \n",
       "1  WOODWARD_TCP-x-115174-x-115174-x-301-x-Multi_A...  \n",
       "2  WOODWARD_TCP-x-215607-x-215607-x-301-x-Multi_A...  \n",
       "3  WOODWARD_TCP-x-116214-x-116214-x-1701-x-Multi_...  \n",
       "4                                    bl_aa7c22e04f21  \n",
       "\n",
       "[5 rows x 25 columns]"
      ]
     },
     "execution_count": 5,
     "metadata": {},
     "output_type": "execute_result"
    }
   ],
   "source": [
    "accre_df = pd.read_csv('Data/july-2017-thru-june-2018.txt', sep = '|', nrows = 10000)\n",
    "accre_df.head()"
   ]
  },
  {
   "cell_type": "code",
   "execution_count": 6,
   "metadata": {},
   "outputs": [
    {
     "data": {
      "text/plain": [
       "Index(['JobID', 'JobIDRaw', 'Cluster', 'Partition', 'Account', 'Group', 'GID',\n",
       "       'User', 'UID', 'Submit', 'Eligible', 'Start', 'End', 'Elapsed',\n",
       "       'ExitCode', 'State', 'NNodes', 'NCPUS', 'ReqCPUS', 'ReqMem', 'ReqGRES',\n",
       "       'ReqTRES', 'Timelimit', 'NodeList', 'JobName'],\n",
       "      dtype='object')"
      ]
     },
     "execution_count": 6,
     "metadata": {},
     "output_type": "execute_result"
    }
   ],
   "source": [
    "accre_df.columns"
   ]
  },
  {
   "cell_type": "markdown",
   "metadata": {},
   "source": [
    "## Queue time = Start time - submit time\n",
    "\n",
    "Queue time is the amount of time that a user has to wait until the job runs"
   ]
  },
  {
   "cell_type": "markdown",
   "metadata": {},
   "source": [
    "## We want to see how requested RAM (reqMem) and requested wall time (Timelimit) affect the Queue time"
   ]
  },
  {
   "cell_type": "code",
   "execution_count": 14,
   "metadata": {
    "scrolled": false
   },
   "outputs": [
    {
     "name": "stdout",
     "output_type": "stream",
     "text": [
      "<class 'pandas.core.frame.DataFrame'>\n",
      "RangeIndex: 10000 entries, 0 to 9999\n",
      "Data columns (total 25 columns):\n",
      "JobID        10000 non-null object\n",
      "JobIDRaw     10000 non-null int64\n",
      "Cluster      10000 non-null object\n",
      "Partition    10000 non-null object\n",
      "Account      10000 non-null object\n",
      "Group        10000 non-null object\n",
      "GID          10000 non-null int64\n",
      "User         10000 non-null object\n",
      "UID          8160 non-null float64\n",
      "Submit       10000 non-null object\n",
      "Eligible     10000 non-null object\n",
      "Start        10000 non-null object\n",
      "End          10000 non-null object\n",
      "Elapsed      10000 non-null object\n",
      "ExitCode     10000 non-null object\n",
      "State        10000 non-null object\n",
      "NNodes       10000 non-null int64\n",
      "NCPUS        10000 non-null int64\n",
      "ReqCPUS      10000 non-null int64\n",
      "ReqMem       10000 non-null object\n",
      "ReqGRES      38 non-null object\n",
      "ReqTRES      10000 non-null object\n",
      "Timelimit    10000 non-null object\n",
      "NodeList     10000 non-null object\n",
      "JobName      10000 non-null object\n",
      "dtypes: float64(1), int64(5), object(19)\n",
      "memory usage: 1.9+ MB\n"
     ]
    }
   ],
   "source": [
    "# Get the data types and size of each of the columns\n",
    "accre_df.info()"
   ]
  },
  {
   "cell_type": "markdown",
   "metadata": {},
   "source": [
    "## Submit and start times are both strings, so we need to convert those to a form that we can use"
   ]
  },
  {
   "cell_type": "code",
   "execution_count": 15,
   "metadata": {},
   "outputs": [
    {
     "data": {
      "text/plain": [
       "0    2017-07-02T00:42:59\n",
       "1    2017-07-02T00:42:59\n",
       "2    2017-07-02T00:42:59\n",
       "3    2017-07-02T00:42:59\n",
       "4    2017-07-01T05:00:00\n",
       "Name: Eligible, dtype: object"
      ]
     },
     "execution_count": 15,
     "metadata": {},
     "output_type": "execute_result"
    }
   ],
   "source": [
    "# Checking the components of the Eligible column\n",
    "accre_df.Eligible.head()\n"
   ]
  },
  {
   "cell_type": "code",
   "execution_count": 16,
   "metadata": {},
   "outputs": [
    {
     "data": {
      "text/plain": [
       "0    2017-07-02T00:40:58\n",
       "1    2017-07-02T00:40:58\n",
       "2    2017-07-02T00:40:58\n",
       "3    2017-07-02T00:40:58\n",
       "4    2017-07-01T05:00:00\n",
       "Name: Submit, dtype: object"
      ]
     },
     "execution_count": 16,
     "metadata": {},
     "output_type": "execute_result"
    }
   ],
   "source": [
    "# Checking the components of the Submit column\n",
    "accre_df.Submit.head()"
   ]
  },
  {
   "cell_type": "code",
   "execution_count": 20,
   "metadata": {},
   "outputs": [],
   "source": [
    "# Change the submit and start column to a date time 64 data type\n",
    "accre_df['Submit'] = pd.to_datetime(accre_df['Submit'], format=\"%Y/%m/%d\")\n",
    "accre_df['Start'] = pd.to_datetime(accre_df['Start'], format=\"%Y/%m/%d\")"
   ]
  },
  {
   "cell_type": "code",
   "execution_count": 21,
   "metadata": {},
   "outputs": [
    {
     "data": {
      "text/plain": [
       "0   2017-07-03 02:13:59\n",
       "1   2017-07-03 02:20:08\n",
       "2   2017-07-03 02:41:13\n",
       "3   2017-07-03 02:51:53\n",
       "4   2017-07-01 05:00:01\n",
       "Name: Start, dtype: datetime64[ns]"
      ]
     },
     "execution_count": 21,
     "metadata": {},
     "output_type": "execute_result"
    }
   ],
   "source": [
    "accre_df.Start.head()"
   ]
  },
  {
   "cell_type": "markdown",
   "metadata": {},
   "source": [
    "## Subtract the submit time from the queue time to find the queue time"
   ]
  },
  {
   "cell_type": "code",
   "execution_count": 25,
   "metadata": {},
   "outputs": [
    {
     "name": "stdout",
     "output_type": "stream",
     "text": [
      "0    1 days 01:33:01\n",
      "1    1 days 01:39:10\n",
      "2    1 days 02:00:15\n",
      "3    1 days 02:10:55\n",
      "4    0 days 00:00:01\n",
      "5    0 days 00:00:03\n",
      "6    0 days 00:00:02\n",
      "7    0 days 00:00:01\n",
      "8    0 days 00:00:01\n",
      "9    0 days 00:00:03\n",
      "10   0 days 00:01:43\n",
      "11   0 days 00:23:01\n",
      "12   0 days 00:36:42\n",
      "13   0 days 01:01:42\n",
      "14   0 days 01:25:36\n",
      "15   0 days 01:40:07\n",
      "16   0 days 02:01:42\n",
      "17   0 days 03:01:45\n",
      "18   0 days 03:41:41\n",
      "19   0 days 03:51:59\n",
      "20   0 days 04:00:01\n",
      "21   0 days 05:30:14\n",
      "22   0 days 05:36:41\n",
      "23   0 days 05:46:40\n",
      "24   0 days 05:58:32\n",
      "25   0 days 07:26:40\n",
      "26   0 days 07:35:36\n",
      "27   0 days 07:47:14\n",
      "28   0 days 08:26:39\n",
      "29   0 days 08:46:39\n",
      "Name: queue_time, dtype: timedelta64[ns]\n"
     ]
    }
   ],
   "source": [
    "accre_df['queue_time'] = accre_df['Start'] - accre_df['Submit']\n",
    "print(accre_df.queue_time.head(30))"
   ]
  },
  {
   "cell_type": "code",
   "execution_count": 24,
   "metadata": {},
   "outputs": [
    {
     "name": "stdout",
     "output_type": "stream",
     "text": [
      "<class 'pandas.core.frame.DataFrame'>\n",
      "RangeIndex: 10000 entries, 0 to 9999\n",
      "Data columns (total 26 columns):\n",
      "JobID         10000 non-null object\n",
      "JobIDRaw      10000 non-null int64\n",
      "Cluster       10000 non-null object\n",
      "Partition     10000 non-null object\n",
      "Account       10000 non-null object\n",
      "Group         10000 non-null object\n",
      "GID           10000 non-null int64\n",
      "User          10000 non-null object\n",
      "UID           8160 non-null float64\n",
      "Submit        10000 non-null datetime64[ns]\n",
      "Eligible      10000 non-null object\n",
      "Start         10000 non-null datetime64[ns]\n",
      "End           10000 non-null object\n",
      "Elapsed       10000 non-null object\n",
      "ExitCode      10000 non-null object\n",
      "State         10000 non-null object\n",
      "NNodes        10000 non-null int64\n",
      "NCPUS         10000 non-null int64\n",
      "ReqCPUS       10000 non-null int64\n",
      "ReqMem        10000 non-null object\n",
      "ReqGRES       38 non-null object\n",
      "ReqTRES       10000 non-null object\n",
      "Timelimit     10000 non-null object\n",
      "NodeList      10000 non-null object\n",
      "JobName       10000 non-null object\n",
      "queue_time    10000 non-null timedelta64[ns]\n",
      "dtypes: datetime64[ns](2), float64(1), int64(5), object(17), timedelta64[ns](1)\n",
      "memory usage: 2.0+ MB\n"
     ]
    }
   ],
   "source": [
    "accre_df.info()"
   ]
  },
  {
   "cell_type": "code",
   "execution_count": null,
   "metadata": {},
   "outputs": [],
   "source": []
  }
 ],
 "metadata": {
  "kernelspec": {
   "display_name": "Python 3",
   "language": "python",
   "name": "python3"
  },
  "language_info": {
   "codemirror_mode": {
    "name": "ipython",
    "version": 3
   },
   "file_extension": ".py",
   "mimetype": "text/x-python",
   "name": "python",
   "nbconvert_exporter": "python",
   "pygments_lexer": "ipython3",
   "version": "3.6.5"
  }
 },
 "nbformat": 4,
 "nbformat_minor": 2
}
