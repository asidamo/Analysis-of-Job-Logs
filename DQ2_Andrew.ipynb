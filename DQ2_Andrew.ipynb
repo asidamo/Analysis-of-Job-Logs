{
 "cells": [
  {
   "cell_type": "markdown",
   "metadata": {},
   "source": [
    "# Data Question 2\n",
    "\n",
    "\n",
    "## How is queue time impacted by RAM requested? How is it impacted by wall time requested?\n",
    "Queue Time is difference between the submit time and the start time, so the amount of time spent in the queue before the job starts\n",
    "\n",
    "## Are there any nodes that fail more than the other ones?\n",
    "    Thoughts on why they fail\n",
    "\n",
    "## Identify problematic users\n",
    "Those people who submit greater than 500 jobs, with each less than 5 minutes within 4 hours"
   ]
  },
  {
   "cell_type": "code",
   "execution_count": 1,
   "metadata": {},
   "outputs": [],
   "source": [
    "#import libraries \n",
    "from shapely.geometry import Point\n",
    "import pandas as pd\n",
    "import geopandas as gpd\n",
    "import matplotlib.pyplot as plt\n",
    "import folium\n",
    "from datetime import datetime\n",
    "import numpy as np\n",
    "import seaborn as sns\n",
    "\n",
    "%matplotlib inline"
   ]
  },
  {
   "cell_type": "code",
   "execution_count": 2,
   "metadata": {},
   "outputs": [
    {
     "name": "stderr",
     "output_type": "stream",
     "text": [
      "/Users/andrewmarsee/anaconda3/lib/python3.6/site-packages/IPython/core/interactiveshell.py:2785: DtypeWarning: Columns (0,20) have mixed types. Specify dtype option on import or set low_memory=False.\n",
      "  interactivity=interactivity, compiler=compiler, result=result)\n"
     ]
    },
    {
     "data": {
      "text/html": [
       "<div>\n",
       "<style scoped>\n",
       "    .dataframe tbody tr th:only-of-type {\n",
       "        vertical-align: middle;\n",
       "    }\n",
       "\n",
       "    .dataframe tbody tr th {\n",
       "        vertical-align: top;\n",
       "    }\n",
       "\n",
       "    .dataframe thead th {\n",
       "        text-align: right;\n",
       "    }\n",
       "</style>\n",
       "<table border=\"1\" class=\"dataframe\">\n",
       "  <thead>\n",
       "    <tr style=\"text-align: right;\">\n",
       "      <th></th>\n",
       "      <th>JobID</th>\n",
       "      <th>JobIDRaw</th>\n",
       "      <th>Cluster</th>\n",
       "      <th>Partition</th>\n",
       "      <th>Account</th>\n",
       "      <th>Group</th>\n",
       "      <th>GID</th>\n",
       "      <th>User</th>\n",
       "      <th>UID</th>\n",
       "      <th>Submit</th>\n",
       "      <th>...</th>\n",
       "      <th>State</th>\n",
       "      <th>NNodes</th>\n",
       "      <th>NCPUS</th>\n",
       "      <th>ReqCPUS</th>\n",
       "      <th>ReqMem</th>\n",
       "      <th>ReqGRES</th>\n",
       "      <th>ReqTRES</th>\n",
       "      <th>Timelimit</th>\n",
       "      <th>NodeList</th>\n",
       "      <th>JobName</th>\n",
       "    </tr>\n",
       "  </thead>\n",
       "  <tbody>\n",
       "    <tr>\n",
       "      <th>0</th>\n",
       "      <td>15806649</td>\n",
       "      <td>15806649</td>\n",
       "      <td>accre</td>\n",
       "      <td>production</td>\n",
       "      <td>h_vuiis</td>\n",
       "      <td>h_vuiis</td>\n",
       "      <td>36052</td>\n",
       "      <td>masispider</td>\n",
       "      <td>NaN</td>\n",
       "      <td>2017-07-02T00:40:58</td>\n",
       "      <td>...</td>\n",
       "      <td>COMPLETED</td>\n",
       "      <td>1</td>\n",
       "      <td>2</td>\n",
       "      <td>2</td>\n",
       "      <td>12Gn</td>\n",
       "      <td>NaN</td>\n",
       "      <td>cpu=2,mem=12G,node=1</td>\n",
       "      <td>9-04:00:00</td>\n",
       "      <td>vmp1085</td>\n",
       "      <td>WOODWARD_TCP-x-228324-x-228324-x-301-x-Multi_A...</td>\n",
       "    </tr>\n",
       "    <tr>\n",
       "      <th>1</th>\n",
       "      <td>15806664</td>\n",
       "      <td>15806664</td>\n",
       "      <td>accre</td>\n",
       "      <td>production</td>\n",
       "      <td>h_vuiis</td>\n",
       "      <td>h_vuiis</td>\n",
       "      <td>36052</td>\n",
       "      <td>masispider</td>\n",
       "      <td>NaN</td>\n",
       "      <td>2017-07-02T00:40:58</td>\n",
       "      <td>...</td>\n",
       "      <td>COMPLETED</td>\n",
       "      <td>1</td>\n",
       "      <td>2</td>\n",
       "      <td>2</td>\n",
       "      <td>12Gn</td>\n",
       "      <td>NaN</td>\n",
       "      <td>cpu=2,mem=12G,node=1</td>\n",
       "      <td>9-04:00:00</td>\n",
       "      <td>vmp1099</td>\n",
       "      <td>WOODWARD_TCP-x-115174-x-115174-x-301-x-Multi_A...</td>\n",
       "    </tr>\n",
       "    <tr>\n",
       "      <th>2</th>\n",
       "      <td>15806670</td>\n",
       "      <td>15806670</td>\n",
       "      <td>accre</td>\n",
       "      <td>production</td>\n",
       "      <td>h_vuiis</td>\n",
       "      <td>h_vuiis</td>\n",
       "      <td>36052</td>\n",
       "      <td>masispider</td>\n",
       "      <td>NaN</td>\n",
       "      <td>2017-07-02T00:40:58</td>\n",
       "      <td>...</td>\n",
       "      <td>COMPLETED</td>\n",
       "      <td>1</td>\n",
       "      <td>2</td>\n",
       "      <td>2</td>\n",
       "      <td>12Gn</td>\n",
       "      <td>NaN</td>\n",
       "      <td>cpu=2,mem=12G,node=1</td>\n",
       "      <td>9-04:00:00</td>\n",
       "      <td>vmp1126</td>\n",
       "      <td>WOODWARD_TCP-x-215607-x-215607-x-301-x-Multi_A...</td>\n",
       "    </tr>\n",
       "    <tr>\n",
       "      <th>3</th>\n",
       "      <td>15806671</td>\n",
       "      <td>15806671</td>\n",
       "      <td>accre</td>\n",
       "      <td>production</td>\n",
       "      <td>h_vuiis</td>\n",
       "      <td>h_vuiis</td>\n",
       "      <td>36052</td>\n",
       "      <td>masispider</td>\n",
       "      <td>NaN</td>\n",
       "      <td>2017-07-02T00:40:58</td>\n",
       "      <td>...</td>\n",
       "      <td>COMPLETED</td>\n",
       "      <td>1</td>\n",
       "      <td>2</td>\n",
       "      <td>2</td>\n",
       "      <td>12Gn</td>\n",
       "      <td>NaN</td>\n",
       "      <td>cpu=2,mem=12G,node=1</td>\n",
       "      <td>9-04:00:00</td>\n",
       "      <td>vmp230</td>\n",
       "      <td>WOODWARD_TCP-x-116214-x-116214-x-1701-x-Multi_...</td>\n",
       "    </tr>\n",
       "    <tr>\n",
       "      <th>4</th>\n",
       "      <td>15811617</td>\n",
       "      <td>15811617</td>\n",
       "      <td>accre</td>\n",
       "      <td>production</td>\n",
       "      <td>cms_samtest</td>\n",
       "      <td>cms_samtest</td>\n",
       "      <td>59297</td>\n",
       "      <td>uscms010</td>\n",
       "      <td>NaN</td>\n",
       "      <td>2017-07-01T05:00:00</td>\n",
       "      <td>...</td>\n",
       "      <td>COMPLETED</td>\n",
       "      <td>1</td>\n",
       "      <td>1</td>\n",
       "      <td>1</td>\n",
       "      <td>4000Mn</td>\n",
       "      <td>NaN</td>\n",
       "      <td>cpu=1,mem=4000M,node=1</td>\n",
       "      <td>2-00:00:00</td>\n",
       "      <td>vmp1242</td>\n",
       "      <td>bl_aa7c22e04f21</td>\n",
       "    </tr>\n",
       "  </tbody>\n",
       "</table>\n",
       "<p>5 rows × 25 columns</p>\n",
       "</div>"
      ],
      "text/plain": [
       "      JobID  JobIDRaw Cluster   Partition      Account        Group    GID  \\\n",
       "0  15806649  15806649   accre  production      h_vuiis      h_vuiis  36052   \n",
       "1  15806664  15806664   accre  production      h_vuiis      h_vuiis  36052   \n",
       "2  15806670  15806670   accre  production      h_vuiis      h_vuiis  36052   \n",
       "3  15806671  15806671   accre  production      h_vuiis      h_vuiis  36052   \n",
       "4  15811617  15811617   accre  production  cms_samtest  cms_samtest  59297   \n",
       "\n",
       "         User  UID               Submit  \\\n",
       "0  masispider  NaN  2017-07-02T00:40:58   \n",
       "1  masispider  NaN  2017-07-02T00:40:58   \n",
       "2  masispider  NaN  2017-07-02T00:40:58   \n",
       "3  masispider  NaN  2017-07-02T00:40:58   \n",
       "4    uscms010  NaN  2017-07-01T05:00:00   \n",
       "\n",
       "                         ...                              State NNodes NCPUS  \\\n",
       "0                        ...                          COMPLETED      1     2   \n",
       "1                        ...                          COMPLETED      1     2   \n",
       "2                        ...                          COMPLETED      1     2   \n",
       "3                        ...                          COMPLETED      1     2   \n",
       "4                        ...                          COMPLETED      1     1   \n",
       "\n",
       "  ReqCPUS  ReqMem ReqGRES                 ReqTRES   Timelimit  NodeList  \\\n",
       "0       2    12Gn     NaN    cpu=2,mem=12G,node=1  9-04:00:00   vmp1085   \n",
       "1       2    12Gn     NaN    cpu=2,mem=12G,node=1  9-04:00:00   vmp1099   \n",
       "2       2    12Gn     NaN    cpu=2,mem=12G,node=1  9-04:00:00   vmp1126   \n",
       "3       2    12Gn     NaN    cpu=2,mem=12G,node=1  9-04:00:00    vmp230   \n",
       "4       1  4000Mn     NaN  cpu=1,mem=4000M,node=1  2-00:00:00   vmp1242   \n",
       "\n",
       "                                             JobName  \n",
       "0  WOODWARD_TCP-x-228324-x-228324-x-301-x-Multi_A...  \n",
       "1  WOODWARD_TCP-x-115174-x-115174-x-301-x-Multi_A...  \n",
       "2  WOODWARD_TCP-x-215607-x-215607-x-301-x-Multi_A...  \n",
       "3  WOODWARD_TCP-x-116214-x-116214-x-1701-x-Multi_...  \n",
       "4                                    bl_aa7c22e04f21  \n",
       "\n",
       "[5 rows x 25 columns]"
      ]
     },
     "execution_count": 2,
     "metadata": {},
     "output_type": "execute_result"
    }
   ],
   "source": [
    "accre_df = pd.read_csv('Data/july-2017-thru-june-2018.txt', sep = '|')\n",
    "accre_df.head()"
   ]
  },
  {
   "cell_type": "code",
   "execution_count": 3,
   "metadata": {},
   "outputs": [
    {
     "data": {
      "text/html": [
       "<div>\n",
       "<style scoped>\n",
       "    .dataframe tbody tr th:only-of-type {\n",
       "        vertical-align: middle;\n",
       "    }\n",
       "\n",
       "    .dataframe tbody tr th {\n",
       "        vertical-align: top;\n",
       "    }\n",
       "\n",
       "    .dataframe thead th {\n",
       "        text-align: right;\n",
       "    }\n",
       "</style>\n",
       "<table border=\"1\" class=\"dataframe\">\n",
       "  <thead>\n",
       "    <tr style=\"text-align: right;\">\n",
       "      <th></th>\n",
       "      <th>JobID</th>\n",
       "      <th>JobIDRaw</th>\n",
       "      <th>Cluster</th>\n",
       "      <th>Partition</th>\n",
       "      <th>Account</th>\n",
       "      <th>Group</th>\n",
       "      <th>GID</th>\n",
       "      <th>User</th>\n",
       "      <th>UID</th>\n",
       "      <th>Submit</th>\n",
       "      <th>...</th>\n",
       "      <th>State</th>\n",
       "      <th>NNodes</th>\n",
       "      <th>NCPUS</th>\n",
       "      <th>ReqCPUS</th>\n",
       "      <th>ReqMem</th>\n",
       "      <th>ReqGRES</th>\n",
       "      <th>ReqTRES</th>\n",
       "      <th>Timelimit</th>\n",
       "      <th>NodeList</th>\n",
       "      <th>JobName</th>\n",
       "    </tr>\n",
       "  </thead>\n",
       "  <tbody>\n",
       "    <tr>\n",
       "      <th>0</th>\n",
       "      <td>15806649</td>\n",
       "      <td>15806649</td>\n",
       "      <td>accre</td>\n",
       "      <td>production</td>\n",
       "      <td>h_vuiis</td>\n",
       "      <td>h_vuiis</td>\n",
       "      <td>36052</td>\n",
       "      <td>masispider</td>\n",
       "      <td>NaN</td>\n",
       "      <td>2017-07-02T00:40:58</td>\n",
       "      <td>...</td>\n",
       "      <td>COMPLETED</td>\n",
       "      <td>1</td>\n",
       "      <td>2</td>\n",
       "      <td>2</td>\n",
       "      <td>12Gn</td>\n",
       "      <td>NaN</td>\n",
       "      <td>cpu=2,mem=12G,node=1</td>\n",
       "      <td>9-04:00:00</td>\n",
       "      <td>vmp1085</td>\n",
       "      <td>WOODWARD_TCP-x-228324-x-228324-x-301-x-Multi_A...</td>\n",
       "    </tr>\n",
       "    <tr>\n",
       "      <th>1</th>\n",
       "      <td>15806664</td>\n",
       "      <td>15806664</td>\n",
       "      <td>accre</td>\n",
       "      <td>production</td>\n",
       "      <td>h_vuiis</td>\n",
       "      <td>h_vuiis</td>\n",
       "      <td>36052</td>\n",
       "      <td>masispider</td>\n",
       "      <td>NaN</td>\n",
       "      <td>2017-07-02T00:40:58</td>\n",
       "      <td>...</td>\n",
       "      <td>COMPLETED</td>\n",
       "      <td>1</td>\n",
       "      <td>2</td>\n",
       "      <td>2</td>\n",
       "      <td>12Gn</td>\n",
       "      <td>NaN</td>\n",
       "      <td>cpu=2,mem=12G,node=1</td>\n",
       "      <td>9-04:00:00</td>\n",
       "      <td>vmp1099</td>\n",
       "      <td>WOODWARD_TCP-x-115174-x-115174-x-301-x-Multi_A...</td>\n",
       "    </tr>\n",
       "    <tr>\n",
       "      <th>2</th>\n",
       "      <td>15806670</td>\n",
       "      <td>15806670</td>\n",
       "      <td>accre</td>\n",
       "      <td>production</td>\n",
       "      <td>h_vuiis</td>\n",
       "      <td>h_vuiis</td>\n",
       "      <td>36052</td>\n",
       "      <td>masispider</td>\n",
       "      <td>NaN</td>\n",
       "      <td>2017-07-02T00:40:58</td>\n",
       "      <td>...</td>\n",
       "      <td>COMPLETED</td>\n",
       "      <td>1</td>\n",
       "      <td>2</td>\n",
       "      <td>2</td>\n",
       "      <td>12Gn</td>\n",
       "      <td>NaN</td>\n",
       "      <td>cpu=2,mem=12G,node=1</td>\n",
       "      <td>9-04:00:00</td>\n",
       "      <td>vmp1126</td>\n",
       "      <td>WOODWARD_TCP-x-215607-x-215607-x-301-x-Multi_A...</td>\n",
       "    </tr>\n",
       "    <tr>\n",
       "      <th>3</th>\n",
       "      <td>15806671</td>\n",
       "      <td>15806671</td>\n",
       "      <td>accre</td>\n",
       "      <td>production</td>\n",
       "      <td>h_vuiis</td>\n",
       "      <td>h_vuiis</td>\n",
       "      <td>36052</td>\n",
       "      <td>masispider</td>\n",
       "      <td>NaN</td>\n",
       "      <td>2017-07-02T00:40:58</td>\n",
       "      <td>...</td>\n",
       "      <td>COMPLETED</td>\n",
       "      <td>1</td>\n",
       "      <td>2</td>\n",
       "      <td>2</td>\n",
       "      <td>12Gn</td>\n",
       "      <td>NaN</td>\n",
       "      <td>cpu=2,mem=12G,node=1</td>\n",
       "      <td>9-04:00:00</td>\n",
       "      <td>vmp230</td>\n",
       "      <td>WOODWARD_TCP-x-116214-x-116214-x-1701-x-Multi_...</td>\n",
       "    </tr>\n",
       "    <tr>\n",
       "      <th>4</th>\n",
       "      <td>15811617</td>\n",
       "      <td>15811617</td>\n",
       "      <td>accre</td>\n",
       "      <td>production</td>\n",
       "      <td>cms_samtest</td>\n",
       "      <td>cms_samtest</td>\n",
       "      <td>59297</td>\n",
       "      <td>uscms010</td>\n",
       "      <td>NaN</td>\n",
       "      <td>2017-07-01T05:00:00</td>\n",
       "      <td>...</td>\n",
       "      <td>COMPLETED</td>\n",
       "      <td>1</td>\n",
       "      <td>1</td>\n",
       "      <td>1</td>\n",
       "      <td>4000Mn</td>\n",
       "      <td>NaN</td>\n",
       "      <td>cpu=1,mem=4000M,node=1</td>\n",
       "      <td>2-00:00:00</td>\n",
       "      <td>vmp1242</td>\n",
       "      <td>bl_aa7c22e04f21</td>\n",
       "    </tr>\n",
       "    <tr>\n",
       "      <th>5</th>\n",
       "      <td>15811618</td>\n",
       "      <td>15811618</td>\n",
       "      <td>accre</td>\n",
       "      <td>production</td>\n",
       "      <td>cms_stage2</td>\n",
       "      <td>cms_stage1</td>\n",
       "      <td>59298</td>\n",
       "      <td>autocms</td>\n",
       "      <td>9209.0</td>\n",
       "      <td>2017-07-01T05:00:01</td>\n",
       "      <td>...</td>\n",
       "      <td>COMPLETED</td>\n",
       "      <td>1</td>\n",
       "      <td>1</td>\n",
       "      <td>1</td>\n",
       "      <td>2Gc</td>\n",
       "      <td>NaN</td>\n",
       "      <td>cpu=1,mem=2G,node=1</td>\n",
       "      <td>12:00:00</td>\n",
       "      <td>vmp1063</td>\n",
       "      <td>skim_test</td>\n",
       "    </tr>\n",
       "    <tr>\n",
       "      <th>6</th>\n",
       "      <td>15811619</td>\n",
       "      <td>15811619</td>\n",
       "      <td>accre</td>\n",
       "      <td>production</td>\n",
       "      <td>cms_stage2</td>\n",
       "      <td>cms</td>\n",
       "      <td>31000</td>\n",
       "      <td>tuos</td>\n",
       "      <td>126986.0</td>\n",
       "      <td>2017-07-01T05:00:02</td>\n",
       "      <td>...</td>\n",
       "      <td>COMPLETED</td>\n",
       "      <td>1</td>\n",
       "      <td>1</td>\n",
       "      <td>1</td>\n",
       "      <td>2Gc</td>\n",
       "      <td>NaN</td>\n",
       "      <td>cpu=1,mem=2G,node=1</td>\n",
       "      <td>12:00:00</td>\n",
       "      <td>vmp1062</td>\n",
       "      <td>skim_test</td>\n",
       "    </tr>\n",
       "    <tr>\n",
       "      <th>7</th>\n",
       "      <td>15811621</td>\n",
       "      <td>15811621</td>\n",
       "      <td>accre</td>\n",
       "      <td>production</td>\n",
       "      <td>cms_samtest</td>\n",
       "      <td>cms_samtest</td>\n",
       "      <td>59297</td>\n",
       "      <td>uscms010</td>\n",
       "      <td>NaN</td>\n",
       "      <td>2017-07-01T05:00:22</td>\n",
       "      <td>...</td>\n",
       "      <td>COMPLETED</td>\n",
       "      <td>1</td>\n",
       "      <td>1</td>\n",
       "      <td>1</td>\n",
       "      <td>4000Mn</td>\n",
       "      <td>NaN</td>\n",
       "      <td>cpu=1,mem=4000M,node=1</td>\n",
       "      <td>2-00:00:00</td>\n",
       "      <td>vmp1242</td>\n",
       "      <td>bl_33ee450ebdc4</td>\n",
       "    </tr>\n",
       "    <tr>\n",
       "      <th>8</th>\n",
       "      <td>15811624</td>\n",
       "      <td>15811624</td>\n",
       "      <td>accre</td>\n",
       "      <td>production</td>\n",
       "      <td>cms_stage2</td>\n",
       "      <td>cms_stage1</td>\n",
       "      <td>59298</td>\n",
       "      <td>autocms</td>\n",
       "      <td>9209.0</td>\n",
       "      <td>2017-07-01T05:01:01</td>\n",
       "      <td>...</td>\n",
       "      <td>COMPLETED</td>\n",
       "      <td>1</td>\n",
       "      <td>1</td>\n",
       "      <td>1</td>\n",
       "      <td>2Gc</td>\n",
       "      <td>NaN</td>\n",
       "      <td>cpu=1,mem=2G,node=1</td>\n",
       "      <td>12:00:00</td>\n",
       "      <td>vmp670</td>\n",
       "      <td>skim_test</td>\n",
       "    </tr>\n",
       "    <tr>\n",
       "      <th>9</th>\n",
       "      <td>15811625</td>\n",
       "      <td>15811625</td>\n",
       "      <td>accre</td>\n",
       "      <td>production</td>\n",
       "      <td>cms_stage2</td>\n",
       "      <td>cms</td>\n",
       "      <td>31000</td>\n",
       "      <td>tuos</td>\n",
       "      <td>126986.0</td>\n",
       "      <td>2017-07-01T05:01:02</td>\n",
       "      <td>...</td>\n",
       "      <td>COMPLETED</td>\n",
       "      <td>1</td>\n",
       "      <td>1</td>\n",
       "      <td>1</td>\n",
       "      <td>2Gc</td>\n",
       "      <td>NaN</td>\n",
       "      <td>cpu=1,mem=2G,node=1</td>\n",
       "      <td>12:00:00</td>\n",
       "      <td>vmp1078</td>\n",
       "      <td>skim_test</td>\n",
       "    </tr>\n",
       "  </tbody>\n",
       "</table>\n",
       "<p>10 rows × 25 columns</p>\n",
       "</div>"
      ],
      "text/plain": [
       "      JobID  JobIDRaw Cluster   Partition      Account        Group    GID  \\\n",
       "0  15806649  15806649   accre  production      h_vuiis      h_vuiis  36052   \n",
       "1  15806664  15806664   accre  production      h_vuiis      h_vuiis  36052   \n",
       "2  15806670  15806670   accre  production      h_vuiis      h_vuiis  36052   \n",
       "3  15806671  15806671   accre  production      h_vuiis      h_vuiis  36052   \n",
       "4  15811617  15811617   accre  production  cms_samtest  cms_samtest  59297   \n",
       "5  15811618  15811618   accre  production   cms_stage2   cms_stage1  59298   \n",
       "6  15811619  15811619   accre  production   cms_stage2          cms  31000   \n",
       "7  15811621  15811621   accre  production  cms_samtest  cms_samtest  59297   \n",
       "8  15811624  15811624   accre  production   cms_stage2   cms_stage1  59298   \n",
       "9  15811625  15811625   accre  production   cms_stage2          cms  31000   \n",
       "\n",
       "         User       UID               Submit  \\\n",
       "0  masispider       NaN  2017-07-02T00:40:58   \n",
       "1  masispider       NaN  2017-07-02T00:40:58   \n",
       "2  masispider       NaN  2017-07-02T00:40:58   \n",
       "3  masispider       NaN  2017-07-02T00:40:58   \n",
       "4    uscms010       NaN  2017-07-01T05:00:00   \n",
       "5     autocms    9209.0  2017-07-01T05:00:01   \n",
       "6        tuos  126986.0  2017-07-01T05:00:02   \n",
       "7    uscms010       NaN  2017-07-01T05:00:22   \n",
       "8     autocms    9209.0  2017-07-01T05:01:01   \n",
       "9        tuos  126986.0  2017-07-01T05:01:02   \n",
       "\n",
       "                         ...                              State NNodes NCPUS  \\\n",
       "0                        ...                          COMPLETED      1     2   \n",
       "1                        ...                          COMPLETED      1     2   \n",
       "2                        ...                          COMPLETED      1     2   \n",
       "3                        ...                          COMPLETED      1     2   \n",
       "4                        ...                          COMPLETED      1     1   \n",
       "5                        ...                          COMPLETED      1     1   \n",
       "6                        ...                          COMPLETED      1     1   \n",
       "7                        ...                          COMPLETED      1     1   \n",
       "8                        ...                          COMPLETED      1     1   \n",
       "9                        ...                          COMPLETED      1     1   \n",
       "\n",
       "  ReqCPUS  ReqMem ReqGRES                 ReqTRES   Timelimit  NodeList  \\\n",
       "0       2    12Gn     NaN    cpu=2,mem=12G,node=1  9-04:00:00   vmp1085   \n",
       "1       2    12Gn     NaN    cpu=2,mem=12G,node=1  9-04:00:00   vmp1099   \n",
       "2       2    12Gn     NaN    cpu=2,mem=12G,node=1  9-04:00:00   vmp1126   \n",
       "3       2    12Gn     NaN    cpu=2,mem=12G,node=1  9-04:00:00    vmp230   \n",
       "4       1  4000Mn     NaN  cpu=1,mem=4000M,node=1  2-00:00:00   vmp1242   \n",
       "5       1     2Gc     NaN     cpu=1,mem=2G,node=1    12:00:00   vmp1063   \n",
       "6       1     2Gc     NaN     cpu=1,mem=2G,node=1    12:00:00   vmp1062   \n",
       "7       1  4000Mn     NaN  cpu=1,mem=4000M,node=1  2-00:00:00   vmp1242   \n",
       "8       1     2Gc     NaN     cpu=1,mem=2G,node=1    12:00:00    vmp670   \n",
       "9       1     2Gc     NaN     cpu=1,mem=2G,node=1    12:00:00   vmp1078   \n",
       "\n",
       "                                             JobName  \n",
       "0  WOODWARD_TCP-x-228324-x-228324-x-301-x-Multi_A...  \n",
       "1  WOODWARD_TCP-x-115174-x-115174-x-301-x-Multi_A...  \n",
       "2  WOODWARD_TCP-x-215607-x-215607-x-301-x-Multi_A...  \n",
       "3  WOODWARD_TCP-x-116214-x-116214-x-1701-x-Multi_...  \n",
       "4                                    bl_aa7c22e04f21  \n",
       "5                                          skim_test  \n",
       "6                                          skim_test  \n",
       "7                                    bl_33ee450ebdc4  \n",
       "8                                          skim_test  \n",
       "9                                          skim_test  \n",
       "\n",
       "[10 rows x 25 columns]"
      ]
     },
     "execution_count": 3,
     "metadata": {},
     "output_type": "execute_result"
    }
   ],
   "source": [
    "accre_df.head(10)"
   ]
  },
  {
   "cell_type": "code",
   "execution_count": 4,
   "metadata": {},
   "outputs": [
    {
     "data": {
      "text/html": [
       "<div>\n",
       "<style scoped>\n",
       "    .dataframe tbody tr th:only-of-type {\n",
       "        vertical-align: middle;\n",
       "    }\n",
       "\n",
       "    .dataframe tbody tr th {\n",
       "        vertical-align: top;\n",
       "    }\n",
       "\n",
       "    .dataframe thead th {\n",
       "        text-align: right;\n",
       "    }\n",
       "</style>\n",
       "<table border=\"1\" class=\"dataframe\">\n",
       "  <thead>\n",
       "    <tr style=\"text-align: right;\">\n",
       "      <th></th>\n",
       "      <th>JobID</th>\n",
       "      <th>JobIDRaw</th>\n",
       "      <th>Cluster</th>\n",
       "      <th>Partition</th>\n",
       "      <th>Account</th>\n",
       "      <th>Group</th>\n",
       "      <th>GID</th>\n",
       "      <th>User</th>\n",
       "      <th>UID</th>\n",
       "      <th>Submit</th>\n",
       "      <th>...</th>\n",
       "      <th>State</th>\n",
       "      <th>NNodes</th>\n",
       "      <th>NCPUS</th>\n",
       "      <th>ReqCPUS</th>\n",
       "      <th>ReqMem</th>\n",
       "      <th>ReqGRES</th>\n",
       "      <th>ReqTRES</th>\n",
       "      <th>Timelimit</th>\n",
       "      <th>NodeList</th>\n",
       "      <th>JobName</th>\n",
       "    </tr>\n",
       "  </thead>\n",
       "  <tbody>\n",
       "    <tr>\n",
       "      <th>12499379</th>\n",
       "      <td>28331346</td>\n",
       "      <td>28331346</td>\n",
       "      <td>accre</td>\n",
       "      <td>production</td>\n",
       "      <td>cms_stage3</td>\n",
       "      <td>cms</td>\n",
       "      <td>31000</td>\n",
       "      <td>janjamrk</td>\n",
       "      <td>171357.0</td>\n",
       "      <td>2018-06-30T23:54:17</td>\n",
       "      <td>...</td>\n",
       "      <td>COMPLETED</td>\n",
       "      <td>1</td>\n",
       "      <td>1</td>\n",
       "      <td>1</td>\n",
       "      <td>4Gc</td>\n",
       "      <td>NaN</td>\n",
       "      <td>cpu=1,mem=4G,node=1</td>\n",
       "      <td>01:00:00</td>\n",
       "      <td>vmp1331</td>\n",
       "      <td>2018-06-30-040817_1</td>\n",
       "    </tr>\n",
       "    <tr>\n",
       "      <th>12499380</th>\n",
       "      <td>28331347</td>\n",
       "      <td>28331347</td>\n",
       "      <td>accre</td>\n",
       "      <td>production</td>\n",
       "      <td>cms_stage3</td>\n",
       "      <td>cms</td>\n",
       "      <td>31000</td>\n",
       "      <td>janjamrk</td>\n",
       "      <td>171357.0</td>\n",
       "      <td>2018-06-30T23:54:17</td>\n",
       "      <td>...</td>\n",
       "      <td>COMPLETED</td>\n",
       "      <td>1</td>\n",
       "      <td>1</td>\n",
       "      <td>1</td>\n",
       "      <td>4Gc</td>\n",
       "      <td>NaN</td>\n",
       "      <td>cpu=1,mem=4G,node=1</td>\n",
       "      <td>01:00:00</td>\n",
       "      <td>vmp1336</td>\n",
       "      <td>2018-06-30-040817_2</td>\n",
       "    </tr>\n",
       "    <tr>\n",
       "      <th>12499381</th>\n",
       "      <td>28331348</td>\n",
       "      <td>28331348</td>\n",
       "      <td>accre</td>\n",
       "      <td>production</td>\n",
       "      <td>cms_stage3</td>\n",
       "      <td>cms</td>\n",
       "      <td>31000</td>\n",
       "      <td>janjamrk</td>\n",
       "      <td>171357.0</td>\n",
       "      <td>2018-06-30T23:54:18</td>\n",
       "      <td>...</td>\n",
       "      <td>COMPLETED</td>\n",
       "      <td>1</td>\n",
       "      <td>1</td>\n",
       "      <td>1</td>\n",
       "      <td>4Gc</td>\n",
       "      <td>NaN</td>\n",
       "      <td>cpu=1,mem=4G,node=1</td>\n",
       "      <td>01:00:00</td>\n",
       "      <td>vmp1347</td>\n",
       "      <td>2018-06-30-040817_3</td>\n",
       "    </tr>\n",
       "    <tr>\n",
       "      <th>12499382</th>\n",
       "      <td>28331349</td>\n",
       "      <td>28331349</td>\n",
       "      <td>accre</td>\n",
       "      <td>production</td>\n",
       "      <td>cms_stage3</td>\n",
       "      <td>cms</td>\n",
       "      <td>31000</td>\n",
       "      <td>janjamrk</td>\n",
       "      <td>171357.0</td>\n",
       "      <td>2018-06-30T23:54:18</td>\n",
       "      <td>...</td>\n",
       "      <td>FAILED</td>\n",
       "      <td>1</td>\n",
       "      <td>1</td>\n",
       "      <td>1</td>\n",
       "      <td>4Gc</td>\n",
       "      <td>NaN</td>\n",
       "      <td>cpu=1,mem=4G,node=1</td>\n",
       "      <td>01:00:00</td>\n",
       "      <td>vmp1385</td>\n",
       "      <td>2018-06-30-040817_4</td>\n",
       "    </tr>\n",
       "    <tr>\n",
       "      <th>12499383</th>\n",
       "      <td>28331350</td>\n",
       "      <td>28331350</td>\n",
       "      <td>accre</td>\n",
       "      <td>production</td>\n",
       "      <td>cms_stage3</td>\n",
       "      <td>cms</td>\n",
       "      <td>31000</td>\n",
       "      <td>janjamrk</td>\n",
       "      <td>171357.0</td>\n",
       "      <td>2018-06-30T23:54:20</td>\n",
       "      <td>...</td>\n",
       "      <td>FAILED</td>\n",
       "      <td>1</td>\n",
       "      <td>1</td>\n",
       "      <td>1</td>\n",
       "      <td>4Gc</td>\n",
       "      <td>NaN</td>\n",
       "      <td>cpu=1,mem=4G,node=1</td>\n",
       "      <td>01:00:00</td>\n",
       "      <td>vmp1406</td>\n",
       "      <td>2018-06-30-040817_5</td>\n",
       "    </tr>\n",
       "    <tr>\n",
       "      <th>12499384</th>\n",
       "      <td>28331351</td>\n",
       "      <td>28331351</td>\n",
       "      <td>accre</td>\n",
       "      <td>production</td>\n",
       "      <td>cms_stage3</td>\n",
       "      <td>cms</td>\n",
       "      <td>31000</td>\n",
       "      <td>janjamrk</td>\n",
       "      <td>171357.0</td>\n",
       "      <td>2018-06-30T23:54:21</td>\n",
       "      <td>...</td>\n",
       "      <td>FAILED</td>\n",
       "      <td>1</td>\n",
       "      <td>1</td>\n",
       "      <td>1</td>\n",
       "      <td>4Gc</td>\n",
       "      <td>NaN</td>\n",
       "      <td>cpu=1,mem=4G,node=1</td>\n",
       "      <td>01:00:00</td>\n",
       "      <td>vmp1314</td>\n",
       "      <td>2018-06-30-040817_6</td>\n",
       "    </tr>\n",
       "    <tr>\n",
       "      <th>12499385</th>\n",
       "      <td>28331352</td>\n",
       "      <td>28331352</td>\n",
       "      <td>accre</td>\n",
       "      <td>production</td>\n",
       "      <td>cms_stage3</td>\n",
       "      <td>cms</td>\n",
       "      <td>31000</td>\n",
       "      <td>janjamrk</td>\n",
       "      <td>171357.0</td>\n",
       "      <td>2018-06-30T23:54:22</td>\n",
       "      <td>...</td>\n",
       "      <td>FAILED</td>\n",
       "      <td>1</td>\n",
       "      <td>1</td>\n",
       "      <td>1</td>\n",
       "      <td>4Gc</td>\n",
       "      <td>NaN</td>\n",
       "      <td>cpu=1,mem=4G,node=1</td>\n",
       "      <td>01:00:00</td>\n",
       "      <td>vmp1315</td>\n",
       "      <td>2018-06-30-040817_7</td>\n",
       "    </tr>\n",
       "    <tr>\n",
       "      <th>12499386</th>\n",
       "      <td>28331353</td>\n",
       "      <td>28331353</td>\n",
       "      <td>accre</td>\n",
       "      <td>production</td>\n",
       "      <td>cms_stage3</td>\n",
       "      <td>cms</td>\n",
       "      <td>31000</td>\n",
       "      <td>janjamrk</td>\n",
       "      <td>171357.0</td>\n",
       "      <td>2018-06-30T23:54:22</td>\n",
       "      <td>...</td>\n",
       "      <td>FAILED</td>\n",
       "      <td>1</td>\n",
       "      <td>1</td>\n",
       "      <td>1</td>\n",
       "      <td>4Gc</td>\n",
       "      <td>NaN</td>\n",
       "      <td>cpu=1,mem=4G,node=1</td>\n",
       "      <td>01:00:00</td>\n",
       "      <td>vmp1315</td>\n",
       "      <td>2018-06-30-040817_8</td>\n",
       "    </tr>\n",
       "    <tr>\n",
       "      <th>12499387</th>\n",
       "      <td>28331356</td>\n",
       "      <td>28331356</td>\n",
       "      <td>accre</td>\n",
       "      <td>production</td>\n",
       "      <td>cms_stage2</td>\n",
       "      <td>cms</td>\n",
       "      <td>31000</td>\n",
       "      <td>autocms</td>\n",
       "      <td>9209.0</td>\n",
       "      <td>2018-06-30T23:55:01</td>\n",
       "      <td>...</td>\n",
       "      <td>COMPLETED</td>\n",
       "      <td>1</td>\n",
       "      <td>1</td>\n",
       "      <td>1</td>\n",
       "      <td>2Gc</td>\n",
       "      <td>NaN</td>\n",
       "      <td>cpu=1,mem=2G,node=1</td>\n",
       "      <td>12:00:00</td>\n",
       "      <td>vmp1065</td>\n",
       "      <td>skim_test</td>\n",
       "    </tr>\n",
       "    <tr>\n",
       "      <th>12499388</th>\n",
       "      <td>28331357</td>\n",
       "      <td>28331357</td>\n",
       "      <td>accre</td>\n",
       "      <td>production</td>\n",
       "      <td>cms_samtest</td>\n",
       "      <td>cms_samtest</td>\n",
       "      <td>59297</td>\n",
       "      <td>uscms010</td>\n",
       "      <td>NaN</td>\n",
       "      <td>2018-06-30T23:55:31</td>\n",
       "      <td>...</td>\n",
       "      <td>COMPLETED</td>\n",
       "      <td>1</td>\n",
       "      <td>1</td>\n",
       "      <td>1</td>\n",
       "      <td>4000Mn</td>\n",
       "      <td>NaN</td>\n",
       "      <td>cpu=1,mem=4000M,node=1</td>\n",
       "      <td>2-00:00:00</td>\n",
       "      <td>vmp1298</td>\n",
       "      <td>bl_0e20773d4484</td>\n",
       "    </tr>\n",
       "  </tbody>\n",
       "</table>\n",
       "<p>10 rows × 25 columns</p>\n",
       "</div>"
      ],
      "text/plain": [
       "             JobID  JobIDRaw Cluster   Partition      Account        Group  \\\n",
       "12499379  28331346  28331346   accre  production   cms_stage3          cms   \n",
       "12499380  28331347  28331347   accre  production   cms_stage3          cms   \n",
       "12499381  28331348  28331348   accre  production   cms_stage3          cms   \n",
       "12499382  28331349  28331349   accre  production   cms_stage3          cms   \n",
       "12499383  28331350  28331350   accre  production   cms_stage3          cms   \n",
       "12499384  28331351  28331351   accre  production   cms_stage3          cms   \n",
       "12499385  28331352  28331352   accre  production   cms_stage3          cms   \n",
       "12499386  28331353  28331353   accre  production   cms_stage3          cms   \n",
       "12499387  28331356  28331356   accre  production   cms_stage2          cms   \n",
       "12499388  28331357  28331357   accre  production  cms_samtest  cms_samtest   \n",
       "\n",
       "            GID      User       UID               Submit         ...           \\\n",
       "12499379  31000  janjamrk  171357.0  2018-06-30T23:54:17         ...            \n",
       "12499380  31000  janjamrk  171357.0  2018-06-30T23:54:17         ...            \n",
       "12499381  31000  janjamrk  171357.0  2018-06-30T23:54:18         ...            \n",
       "12499382  31000  janjamrk  171357.0  2018-06-30T23:54:18         ...            \n",
       "12499383  31000  janjamrk  171357.0  2018-06-30T23:54:20         ...            \n",
       "12499384  31000  janjamrk  171357.0  2018-06-30T23:54:21         ...            \n",
       "12499385  31000  janjamrk  171357.0  2018-06-30T23:54:22         ...            \n",
       "12499386  31000  janjamrk  171357.0  2018-06-30T23:54:22         ...            \n",
       "12499387  31000   autocms    9209.0  2018-06-30T23:55:01         ...            \n",
       "12499388  59297  uscms010       NaN  2018-06-30T23:55:31         ...            \n",
       "\n",
       "              State NNodes NCPUS ReqCPUS  ReqMem ReqGRES  \\\n",
       "12499379  COMPLETED      1     1       1     4Gc     NaN   \n",
       "12499380  COMPLETED      1     1       1     4Gc     NaN   \n",
       "12499381  COMPLETED      1     1       1     4Gc     NaN   \n",
       "12499382     FAILED      1     1       1     4Gc     NaN   \n",
       "12499383     FAILED      1     1       1     4Gc     NaN   \n",
       "12499384     FAILED      1     1       1     4Gc     NaN   \n",
       "12499385     FAILED      1     1       1     4Gc     NaN   \n",
       "12499386     FAILED      1     1       1     4Gc     NaN   \n",
       "12499387  COMPLETED      1     1       1     2Gc     NaN   \n",
       "12499388  COMPLETED      1     1       1  4000Mn     NaN   \n",
       "\n",
       "                         ReqTRES   Timelimit  NodeList              JobName  \n",
       "12499379     cpu=1,mem=4G,node=1    01:00:00   vmp1331  2018-06-30-040817_1  \n",
       "12499380     cpu=1,mem=4G,node=1    01:00:00   vmp1336  2018-06-30-040817_2  \n",
       "12499381     cpu=1,mem=4G,node=1    01:00:00   vmp1347  2018-06-30-040817_3  \n",
       "12499382     cpu=1,mem=4G,node=1    01:00:00   vmp1385  2018-06-30-040817_4  \n",
       "12499383     cpu=1,mem=4G,node=1    01:00:00   vmp1406  2018-06-30-040817_5  \n",
       "12499384     cpu=1,mem=4G,node=1    01:00:00   vmp1314  2018-06-30-040817_6  \n",
       "12499385     cpu=1,mem=4G,node=1    01:00:00   vmp1315  2018-06-30-040817_7  \n",
       "12499386     cpu=1,mem=4G,node=1    01:00:00   vmp1315  2018-06-30-040817_8  \n",
       "12499387     cpu=1,mem=2G,node=1    12:00:00   vmp1065            skim_test  \n",
       "12499388  cpu=1,mem=4000M,node=1  2-00:00:00   vmp1298      bl_0e20773d4484  \n",
       "\n",
       "[10 rows x 25 columns]"
      ]
     },
     "execution_count": 4,
     "metadata": {},
     "output_type": "execute_result"
    }
   ],
   "source": [
    "accre_df.tail(10)"
   ]
  },
  {
   "cell_type": "code",
   "execution_count": 5,
   "metadata": {},
   "outputs": [
    {
     "name": "stdout",
     "output_type": "stream",
     "text": [
      "Index(['JobID', 'JobIDRaw', 'Cluster', 'Partition', 'Account', 'Group', 'GID',\n",
      "       'User', 'UID', 'Submit', 'Eligible', 'Start', 'End', 'Elapsed',\n",
      "       'ExitCode', 'State', 'NNodes', 'NCPUS', 'ReqCPUS', 'ReqMem', 'ReqGRES',\n",
      "       'ReqTRES', 'Timelimit', 'NodeList', 'JobName'],\n",
      "      dtype='object')\n",
      "(12499389, 25)\n"
     ]
    }
   ],
   "source": [
    "print(accre_df.columns)\n",
    "print(accre_df.shape)"
   ]
  },
  {
   "cell_type": "markdown",
   "metadata": {},
   "source": [
    "## Queue time = Start time - submit time\n",
    "\n",
    "Queue time is the amount of time that a user has to wait until the job runs"
   ]
  },
  {
   "cell_type": "markdown",
   "metadata": {},
   "source": [
    "## We want to see how requested RAM (reqMem) and requested wall time (Timelimit) affect the Queue time"
   ]
  },
  {
   "cell_type": "code",
   "execution_count": 6,
   "metadata": {},
   "outputs": [
    {
     "name": "stdout",
     "output_type": "stream",
     "text": [
      "                  Start                  End     Elapsed\n",
      "0   2017-07-03T02:13:59  2017-07-04T03:19:20  1-01:05:21\n",
      "1   2017-07-03T02:20:08  2017-07-04T02:11:55    23:51:47\n",
      "2   2017-07-03T02:41:13  2017-07-04T04:41:04  1-01:59:51\n",
      "3   2017-07-03T02:51:53  2017-07-04T10:54:13  1-08:02:20\n",
      "4   2017-07-01T05:00:01  2017-07-01T05:00:11    00:00:10\n",
      "5   2017-07-01T05:00:04  2017-07-01T05:03:22    00:03:18\n",
      "6   2017-07-01T05:00:04  2017-07-01T05:02:07    00:02:03\n",
      "7   2017-07-01T05:00:23  2017-07-01T05:00:33    00:00:10\n",
      "8   2017-07-01T05:01:02  2017-07-01T05:05:49    00:04:47\n",
      "9   2017-07-01T05:01:05  2017-07-01T05:04:17    00:03:12\n",
      "10  2017-07-01T05:03:05  2017-07-05T15:03:31  4-10:00:26\n",
      "11  2017-07-01T05:24:23  2017-07-04T23:31:41  3-18:07:18\n",
      "12  2017-07-01T05:38:05  2017-07-05T08:57:48  4-03:19:43\n",
      "13  2017-07-01T06:03:05  2017-07-05T15:47:51  4-09:44:46\n",
      "14  2017-07-01T06:26:59  2017-07-05T09:24:54  4-02:57:55\n",
      "15  2017-07-01T06:41:30  2017-07-06T02:26:56  4-19:45:26\n",
      "16  2017-07-01T07:03:05  2017-07-06T15:03:30  5-08:00:25\n",
      "17  2017-07-01T08:03:09  2017-07-06T03:37:29  4-19:34:20\n",
      "18  2017-07-01T08:43:05  2017-07-06T12:14:59  5-03:31:54\n",
      "19  2017-07-01T08:53:23  2017-07-06T00:16:38  4-15:23:15\n",
      "20  2017-07-01T09:01:25  2017-07-05T17:31:35  4-08:30:10\n",
      "21  2017-07-01T10:31:38  2017-07-06T08:00:22  4-21:28:44\n",
      "22  2017-07-01T10:38:05  2017-07-06T09:38:07  4-23:00:02\n",
      "23  2017-07-01T10:48:05  2017-07-06T03:18:28  4-16:30:23\n",
      "24  2017-07-01T10:59:57  2017-07-06T09:03:56  4-22:03:59\n",
      "25  2017-07-01T12:28:05  2017-07-05T20:38:42  4-08:10:37\n",
      "26  2017-07-01T12:37:01  2017-07-06T20:37:22  5-08:00:21\n",
      "27  2017-07-01T12:48:39  2017-07-06T10:24:06  4-21:35:27\n",
      "28  2017-07-01T13:28:05  2017-07-06T11:27:52  4-21:59:47\n",
      "29  2017-07-01T13:48:05  2017-07-06T02:53:14  4-13:05:09\n"
     ]
    }
   ],
   "source": [
    "# Checking if elapsed time is the same as difference between start and end\n",
    "print(accre_df[['Start', 'End', 'Elapsed']].head(30))"
   ]
  },
  {
   "cell_type": "code",
   "execution_count": 7,
   "metadata": {
    "scrolled": false
   },
   "outputs": [
    {
     "name": "stdout",
     "output_type": "stream",
     "text": [
      "<class 'pandas.core.frame.DataFrame'>\n",
      "RangeIndex: 12499389 entries, 0 to 12499388\n",
      "Data columns (total 25 columns):\n",
      "JobID        object\n",
      "JobIDRaw     int64\n",
      "Cluster      object\n",
      "Partition    object\n",
      "Account      object\n",
      "Group        object\n",
      "GID          int64\n",
      "User         object\n",
      "UID          float64\n",
      "Submit       object\n",
      "Eligible     object\n",
      "Start        object\n",
      "End          object\n",
      "Elapsed      object\n",
      "ExitCode     object\n",
      "State        object\n",
      "NNodes       int64\n",
      "NCPUS        int64\n",
      "ReqCPUS      int64\n",
      "ReqMem       object\n",
      "ReqGRES      object\n",
      "ReqTRES      object\n",
      "Timelimit    object\n",
      "NodeList     object\n",
      "JobName      object\n",
      "dtypes: float64(1), int64(5), object(19)\n",
      "memory usage: 2.3+ GB\n"
     ]
    }
   ],
   "source": [
    "# Get the data types and size of each of the columns\n",
    "accre_df.info()"
   ]
  },
  {
   "cell_type": "markdown",
   "metadata": {},
   "source": [
    "## Submit and start times are both strings, so we need to convert those to a form that we can use"
   ]
  },
  {
   "cell_type": "code",
   "execution_count": 8,
   "metadata": {},
   "outputs": [
    {
     "data": {
      "text/plain": [
       "0    2017-07-02T00:42:59\n",
       "1    2017-07-02T00:42:59\n",
       "2    2017-07-02T00:42:59\n",
       "3    2017-07-02T00:42:59\n",
       "4    2017-07-01T05:00:00\n",
       "Name: Eligible, dtype: object"
      ]
     },
     "execution_count": 8,
     "metadata": {},
     "output_type": "execute_result"
    }
   ],
   "source": [
    "# Checking the components of the Eligible column\n",
    "accre_df.Eligible.head()\n"
   ]
  },
  {
   "cell_type": "code",
   "execution_count": 9,
   "metadata": {},
   "outputs": [
    {
     "data": {
      "text/plain": [
       "0    2017-07-02T00:40:58\n",
       "1    2017-07-02T00:40:58\n",
       "2    2017-07-02T00:40:58\n",
       "3    2017-07-02T00:40:58\n",
       "4    2017-07-01T05:00:00\n",
       "Name: Submit, dtype: object"
      ]
     },
     "execution_count": 9,
     "metadata": {},
     "output_type": "execute_result"
    }
   ],
   "source": [
    "# Checking the components of the Submit column\n",
    "accre_df.Submit.head()"
   ]
  },
  {
   "cell_type": "markdown",
   "metadata": {},
   "source": [
    "## We want to get the Timelimit column in a standard format\n",
    "\n",
    "Currently the format is d-h:m:s\n",
    "However, this format breaks down if the requested time is less than 1 day. This makes the format h:m:s\n",
    "Need to standardize the format so that it can be changed to datetime format"
   ]
  },
  {
   "cell_type": "code",
   "execution_count": 10,
   "metadata": {},
   "outputs": [
    {
     "name": "stdout",
     "output_type": "stream",
     "text": [
      "<class 'str'>\n"
     ]
    }
   ],
   "source": [
    "print(type(accre_df['Timelimit'].iloc[5]))"
   ]
  },
  {
   "cell_type": "code",
   "execution_count": 11,
   "metadata": {},
   "outputs": [
    {
     "name": "stdout",
     "output_type": "stream",
     "text": [
      "<class 'str'>\n"
     ]
    }
   ],
   "source": [
    "print(type(accre_df['Timelimit'].iloc[3]))"
   ]
  },
  {
   "cell_type": "code",
   "execution_count": 12,
   "metadata": {},
   "outputs": [],
   "source": [
    "# Change the submit and start column to a date time 64 data type\n",
    "accre_df['Submit'] = pd.to_datetime(accre_df['Submit'], format=\"%Y/%m/%d\")\n",
    "accre_df['Start'] = pd.to_datetime(accre_df['Start'], format=\"%Y/%m/%d\")\n"
   ]
  },
  {
   "cell_type": "code",
   "execution_count": 13,
   "metadata": {},
   "outputs": [
    {
     "data": {
      "text/plain": [
       "0   2017-07-03 02:13:59\n",
       "1   2017-07-03 02:20:08\n",
       "2   2017-07-03 02:41:13\n",
       "3   2017-07-03 02:51:53\n",
       "4   2017-07-01 05:00:01\n",
       "Name: Start, dtype: datetime64[ns]"
      ]
     },
     "execution_count": 13,
     "metadata": {},
     "output_type": "execute_result"
    }
   ],
   "source": [
    "accre_df.Start.head()"
   ]
  },
  {
   "cell_type": "markdown",
   "metadata": {},
   "source": [
    "## Subtract the submit time from the queue time to find the queue time"
   ]
  },
  {
   "cell_type": "code",
   "execution_count": 14,
   "metadata": {},
   "outputs": [
    {
     "name": "stdout",
     "output_type": "stream",
     "text": [
      "0    1 days 01:33:01\n",
      "1    1 days 01:39:10\n",
      "2    1 days 02:00:15\n",
      "3    1 days 02:10:55\n",
      "4    0 days 00:00:01\n",
      "5    0 days 00:00:03\n",
      "6    0 days 00:00:02\n",
      "7    0 days 00:00:01\n",
      "8    0 days 00:00:01\n",
      "9    0 days 00:00:03\n",
      "10   0 days 00:01:43\n",
      "11   0 days 00:23:01\n",
      "12   0 days 00:36:42\n",
      "13   0 days 01:01:42\n",
      "14   0 days 01:25:36\n",
      "15   0 days 01:40:07\n",
      "16   0 days 02:01:42\n",
      "17   0 days 03:01:45\n",
      "18   0 days 03:41:41\n",
      "19   0 days 03:51:59\n",
      "20   0 days 04:00:01\n",
      "21   0 days 05:30:14\n",
      "22   0 days 05:36:41\n",
      "23   0 days 05:46:40\n",
      "24   0 days 05:58:32\n",
      "25   0 days 07:26:40\n",
      "26   0 days 07:35:36\n",
      "27   0 days 07:47:14\n",
      "28   0 days 08:26:39\n",
      "29   0 days 08:46:39\n",
      "Name: queue_time, dtype: timedelta64[ns]\n"
     ]
    }
   ],
   "source": [
    "accre_df['queue_time'] = accre_df['Start'] - accre_df['Submit']\n",
    "print(accre_df.queue_time.head(30))"
   ]
  },
  {
   "cell_type": "code",
   "execution_count": 15,
   "metadata": {},
   "outputs": [
    {
     "name": "stdout",
     "output_type": "stream",
     "text": [
      "<class 'pandas.core.frame.DataFrame'>\n",
      "RangeIndex: 12499389 entries, 0 to 12499388\n",
      "Data columns (total 26 columns):\n",
      "JobID         object\n",
      "JobIDRaw      int64\n",
      "Cluster       object\n",
      "Partition     object\n",
      "Account       object\n",
      "Group         object\n",
      "GID           int64\n",
      "User          object\n",
      "UID           float64\n",
      "Submit        datetime64[ns]\n",
      "Eligible      object\n",
      "Start         datetime64[ns]\n",
      "End           object\n",
      "Elapsed       object\n",
      "ExitCode      object\n",
      "State         object\n",
      "NNodes        int64\n",
      "NCPUS         int64\n",
      "ReqCPUS       int64\n",
      "ReqMem        object\n",
      "ReqGRES       object\n",
      "ReqTRES       object\n",
      "Timelimit     object\n",
      "NodeList      object\n",
      "JobName       object\n",
      "queue_time    timedelta64[ns]\n",
      "dtypes: datetime64[ns](2), float64(1), int64(5), object(17), timedelta64[ns](1)\n",
      "memory usage: 2.4+ GB\n"
     ]
    }
   ],
   "source": [
    "accre_df.info()"
   ]
  },
  {
   "cell_type": "markdown",
   "metadata": {},
   "source": [
    "## Convert the timedelta64 from the queue_time column to seconds (float) for further processing"
   ]
  },
  {
   "cell_type": "code",
   "execution_count": 16,
   "metadata": {},
   "outputs": [
    {
     "name": "stdout",
     "output_type": "stream",
     "text": [
      "0    91981.0\n",
      "1    92350.0\n",
      "2    93615.0\n",
      "3    94255.0\n",
      "4        1.0\n",
      "5        3.0\n",
      "6        2.0\n",
      "7        1.0\n",
      "8        1.0\n",
      "9        3.0\n",
      "Name: queue_time, dtype: float64\n"
     ]
    }
   ],
   "source": [
    "# Convert the queue time to a floating point number containing the seconds it took to start\n",
    "accre_df['queue_time'] = accre_df.queue_time.dt.total_seconds()\n",
    "print(accre_df['queue_time'].head(10))"
   ]
  },
  {
   "cell_type": "markdown",
   "metadata": {},
   "source": [
    "## Convert to minutes"
   ]
  },
  {
   "cell_type": "code",
   "execution_count": 17,
   "metadata": {},
   "outputs": [
    {
     "name": "stdout",
     "output_type": "stream",
     "text": [
      "0    1533.016667\n",
      "1    1539.166667\n",
      "2    1560.250000\n",
      "3    1570.916667\n",
      "4       0.016667\n",
      "5       0.050000\n",
      "6       0.033333\n",
      "7       0.016667\n",
      "8       0.016667\n",
      "9       0.050000\n",
      "Name: queue_time, dtype: float64\n"
     ]
    }
   ],
   "source": [
    "accre_df['queue_time'] = accre_df['queue_time'] /60\n",
    "print(accre_df['queue_time'].head(10))"
   ]
  },
  {
   "cell_type": "markdown",
   "metadata": {},
   "source": [
    "## Now we have the queue time in a floating point number\n",
    "## Next we need to get the requested memory and requested wall time in a usable format\n",
    "\n",
    "## We need to get the Requested Time ('Timelimit') in a usable format"
   ]
  },
  {
   "cell_type": "code",
   "execution_count": 18,
   "metadata": {},
   "outputs": [
    {
     "name": "stdout",
     "output_type": "stream",
     "text": [
      "0     13200.0\n",
      "1     13200.0\n",
      "2     13200.0\n",
      "3     13200.0\n",
      "4      2880.0\n",
      "5       720.0\n",
      "6       720.0\n",
      "7      2880.0\n",
      "8       720.0\n",
      "9       720.0\n",
      "10     7680.0\n",
      "11     7680.0\n",
      "12     7680.0\n",
      "13     7680.0\n",
      "14     7680.0\n",
      "15     7680.0\n",
      "16     7680.0\n",
      "17     7680.0\n",
      "18     7680.0\n",
      "19     7680.0\n",
      "Name: req_time, dtype: float64\n"
     ]
    }
   ],
   "source": [
    "# Get Days, hours, minutes, and seconds\n",
    "req_days = pd.to_numeric(accre_df['Timelimit'].str[:-9]).fillna(value=0)\n",
    "req_hours = pd.to_numeric(accre_df['Timelimit'].str[-8:-6])\n",
    "req_minutes = pd.to_numeric(accre_df['Timelimit'].str[-5:-3])\n",
    "req_secs = pd.to_numeric(accre_df['Timelimit'].str[-2:])\n",
    "# Apply formula to get total time in minutes\n",
    "accre_df['req_time'] = (req_days*1440)+(req_hours*60)+(req_minutes)+(req_secs/60)\n",
    "\n",
    "print(accre_df['req_time'].head(20))"
   ]
  },
  {
   "cell_type": "code",
   "execution_count": 19,
   "metadata": {},
   "outputs": [
    {
     "name": "stdout",
     "output_type": "stream",
     "text": [
      "   req_time JobCount     JobPct\n",
      "0    2880.0  4826451  38.613495\n",
      "1     720.0   898436   7.187839\n",
      "2     120.0   869582   6.956996\n",
      "3     360.0   562836   4.502908\n",
      "4     300.0   497884   3.983267\n",
      "5    1200.0   435674   3.485562\n",
      "6      30.0   405551   3.244567\n",
      "7      60.0   394684   3.157626\n",
      "8     240.0   393654   3.149386\n",
      "9      45.0   316562   2.532620\n",
      "10   1440.0   269345   2.154865\n",
      "11    600.0   224589   1.796800\n",
      "12    180.0   187525   1.500273\n",
      "13     15.0   174400   1.395268\n",
      "14  20160.0   166342   1.330801\n"
     ]
    }
   ],
   "source": [
    "req_time_group=accre_df[['req_time', 'JobIDRaw']].groupby('req_time').agg('count').sort_values(by ='JobIDRaw', ascending = False).head(30)\n",
    "req_time_group = req_time_group.reset_index()\n",
    "req_time_group.columns = [['req_time','JobCount']]\n",
    "req_time_group['JobPct'] = req_time_group['JobCount'] / len(accre_df.index) * 100\n",
    "print(req_time_group.head(15))"
   ]
  },
  {
   "cell_type": "code",
   "execution_count": null,
   "metadata": {},
   "outputs": [],
   "source": []
  },
  {
   "cell_type": "markdown",
   "metadata": {},
   "source": [
    "## We can see that the most popular amount of time requested is 2 Days (2880 minutes)\n",
    "\n",
    "## Next is 12 hours, followed by 2 hours and 6 hours"
   ]
  },
  {
   "cell_type": "code",
   "execution_count": 20,
   "metadata": {},
   "outputs": [
    {
     "name": "stdout",
     "output_type": "stream",
     "text": [
      "The number of NaN values is 108668\n"
     ]
    }
   ],
   "source": [
    "# Counting the number of NaN values in the req_time column\n",
    "print('The number of NaN values is ' + str(accre_df['req_time'].isnull().sum()))"
   ]
  },
  {
   "cell_type": "markdown",
   "metadata": {},
   "source": [
    "## There are 108,668 rows with NaN in the req_time column"
   ]
  },
  {
   "cell_type": "markdown",
   "metadata": {},
   "source": [
    "## Now we have the requested wall time in a column called req_time"
   ]
  },
  {
   "cell_type": "markdown",
   "metadata": {},
   "source": [
    "## Creating groups based on how the users requested memory\n",
    "\n",
    "## Gc = GB per core\n",
    "## Mc = MB per core\n",
    "## Gn = GB per node\n",
    "## Mn = MB per node"
   ]
  },
  {
   "cell_type": "code",
   "execution_count": 21,
   "metadata": {},
   "outputs": [
    {
     "name": "stdout",
     "output_type": "stream",
     "text": [
      "12499369     True\n",
      "12499370     True\n",
      "12499371     True\n",
      "12499372     True\n",
      "12499373     True\n",
      "12499374     True\n",
      "12499375     True\n",
      "12499376     True\n",
      "12499377     True\n",
      "12499378     True\n",
      "12499379     True\n",
      "12499380     True\n",
      "12499381     True\n",
      "12499382     True\n",
      "12499383     True\n",
      "12499384     True\n",
      "12499385     True\n",
      "12499386     True\n",
      "12499387     True\n",
      "12499388    False\n",
      "Name: ReqMem, dtype: bool\n"
     ]
    }
   ],
   "source": [
    "# Requested memory is in the column ReqMem\n",
    "# Number at beginning signifies amount of RAM in either MB or GB, depending if the letter is M or G\n",
    "# The amount of RAM is per core or node, depending whether the last letter is c or n\n",
    "gig_ind_percore = accre_df['ReqMem'].str[-2:] == 'Gc'\n",
    "meg_ind_percore = accre_df['ReqMem'].str[-2:] == 'Mc'\n",
    "gig_ind_pernode = accre_df['ReqMem'].str[-2:] == 'Gn'\n",
    "meg_ind_pernode = accre_df['ReqMem'].str[-2:] == 'Mn'\n",
    "# Checking an example of the bool mask\n",
    "print(gig_ind_percore.tail(20))\n"
   ]
  },
  {
   "cell_type": "markdown",
   "metadata": {},
   "source": [
    "## Convert the requested memory to floating point values"
   ]
  },
  {
   "cell_type": "code",
   "execution_count": 22,
   "metadata": {},
   "outputs": [
    {
     "name": "stdout",
     "output_type": "stream",
     "text": [
      "0       12.0\n",
      "1       12.0\n",
      "2       12.0\n",
      "3       12.0\n",
      "4     4000.0\n",
      "5        2.0\n",
      "6        2.0\n",
      "7     4000.0\n",
      "8        2.0\n",
      "9        2.0\n",
      "10      10.0\n",
      "11      10.0\n",
      "12      10.0\n",
      "13      10.0\n",
      "14      10.0\n",
      "15      10.0\n",
      "16      10.0\n",
      "17      10.0\n",
      "18      10.0\n",
      "19      10.0\n",
      "Name: mem_int, dtype: float64\n"
     ]
    }
   ],
   "source": [
    "# Taking everything up to the second to last character because that will be the amount of memory requested\n",
    "accre_df['mem_int'] = accre_df['ReqMem'].str[:-2]\n",
    "accre_df['mem_int'] = pd.to_numeric(accre_df.mem_int)\n",
    "print(accre_df.mem_int.head(20))"
   ]
  },
  {
   "cell_type": "markdown",
   "metadata": {},
   "source": [
    "## Convert all of the requested memory to GB\n",
    "\n",
    "This makes it a little easier to handle if everything is in the same unit"
   ]
  },
  {
   "cell_type": "code",
   "execution_count": 23,
   "metadata": {},
   "outputs": [
    {
     "name": "stdout",
     "output_type": "stream",
     "text": [
      "0     12.0\n",
      "1     12.0\n",
      "2     12.0\n",
      "3     12.0\n",
      "4      4.0\n",
      "5      2.0\n",
      "6      2.0\n",
      "7      4.0\n",
      "8      2.0\n",
      "9      2.0\n",
      "10    10.0\n",
      "11    10.0\n",
      "12    10.0\n",
      "13    10.0\n",
      "14    10.0\n",
      "15    10.0\n",
      "16    10.0\n",
      "17    10.0\n",
      "18    10.0\n",
      "19    10.0\n",
      "Name: mem_int, dtype: float64\n"
     ]
    }
   ],
   "source": [
    "# Divide the \"Mc\" values by 1000 to get to GB\n",
    "accre_df.loc[meg_ind_percore, 'mem_int'] = accre_df['mem_int'] / 1000\n",
    "# Divide the \"Mn\" values by 1000 to get to GB\n",
    "accre_df.loc[meg_ind_pernode, 'mem_int'] = accre_df['mem_int'] / 1000\n",
    "print(accre_df.mem_int.head(20))"
   ]
  },
  {
   "cell_type": "markdown",
   "metadata": {},
   "source": [
    "## Sorting the values to see what the most memory requested was"
   ]
  },
  {
   "cell_type": "code",
   "execution_count": 24,
   "metadata": {},
   "outputs": [
    {
     "name": "stdout",
     "output_type": "stream",
     "text": [
      "8673264     100000.0\n",
      "5062374       2000.0\n",
      "5062383       2000.0\n",
      "5062390       2000.0\n",
      "5062375       2000.0\n",
      "5062376       2000.0\n",
      "5062377       2000.0\n",
      "5062378       2000.0\n",
      "5062379       2000.0\n",
      "5062380       2000.0\n",
      "5062381       2000.0\n",
      "5062382       2000.0\n",
      "5062384       2000.0\n",
      "5062372       2000.0\n",
      "5062385       2000.0\n",
      "5062386       2000.0\n",
      "5062387       2000.0\n",
      "5062388       2000.0\n",
      "5062389       2000.0\n",
      "5062394       2000.0\n",
      "5062393       2000.0\n",
      "5062392       2000.0\n",
      "5062373       2000.0\n",
      "5062391       2000.0\n",
      "5062371       2000.0\n",
      "5062369       2000.0\n",
      "5062370       2000.0\n",
      "11916731      1000.0\n",
      "8675470       1000.0\n",
      "8675469       1000.0\n",
      "Name: mem_int, dtype: float64\n"
     ]
    }
   ],
   "source": [
    "print(accre_df.mem_int.sort_values(ascending = False).head(30))"
   ]
  },
  {
   "cell_type": "markdown",
   "metadata": {},
   "source": [
    "## We can see that some people requested a lot of memory. The highest amount was 100,000 GB!!"
   ]
  },
  {
   "cell_type": "markdown",
   "metadata": {},
   "source": [
    "## Creating a new column with either an n or c to signify whether the data requested is per node or per core"
   ]
  },
  {
   "cell_type": "code",
   "execution_count": 25,
   "metadata": {},
   "outputs": [
    {
     "name": "stdout",
     "output_type": "stream",
     "text": [
      "0     n\n",
      "1     n\n",
      "2     n\n",
      "3     n\n",
      "4     n\n",
      "5     c\n",
      "6     c\n",
      "7     n\n",
      "8     c\n",
      "9     c\n",
      "10    n\n",
      "11    n\n",
      "12    n\n",
      "13    n\n",
      "14    n\n",
      "15    n\n",
      "16    n\n",
      "17    n\n",
      "18    n\n",
      "19    n\n",
      "Name: core_node, dtype: object\n"
     ]
    }
   ],
   "source": [
    "# Creating a new column with n or c to signify if the requested memory is per core or per node\n",
    "accre_df['core_node'] = accre_df['ReqMem'].str[-1]\n",
    "print(accre_df.core_node.head(20))"
   ]
  },
  {
   "cell_type": "markdown",
   "metadata": {},
   "source": [
    "## Percent of people by how much memory they request"
   ]
  },
  {
   "cell_type": "code",
   "execution_count": 26,
   "metadata": {},
   "outputs": [
    {
     "name": "stdout",
     "output_type": "stream",
     "text": [
      "   ReqMemGB    Count     JobPct\n",
      "0     5.000  2490164  19.922286\n",
      "1    28.000  2038353  16.307621\n",
      "2     2.000  1501889  12.015699\n",
      "3    16.000  1004291   8.034721\n",
      "4    10.000   924773   7.398546\n",
      "5     8.000   877931   7.023791\n",
      "6     1.024   828131   6.625372\n",
      "7     4.000   768971   6.152069\n",
      "8    20.000   492852   3.943009\n",
      "9     3.000   271273   2.170290\n",
      "10    1.000   246819   1.974649\n",
      "11   12.000   229118   1.833034\n",
      "12   15.000   151082   1.208715\n",
      "13   24.000   133831   1.070700\n",
      "14    6.000    68566   0.548555\n",
      "15   40.000    43164   0.345329\n",
      "16   50.000    42925   0.343417\n",
      "17   30.000    41158   0.329280\n",
      "18  100.000    26627   0.213026\n",
      "19   35.000    22113   0.176913\n"
     ]
    }
   ],
   "source": [
    "mem_pct_group=accre_df[['mem_int', 'JobIDRaw']].groupby('mem_int').agg('count').sort_values(by ='JobIDRaw', ascending = False).head(30)\n",
    "mem_pct_group = mem_pct_group.reset_index()\n",
    "mem_pct_group.columns = [['ReqMemGB','Count']]\n",
    "mem_pct_group['JobPct'] = mem_pct_group['Count'] / len(accre_df.index) * 100\n",
    "print(mem_pct_group.head(20))"
   ]
  },
  {
   "cell_type": "markdown",
   "metadata": {},
   "source": [
    "## Accounts that submit the most jobs"
   ]
  },
  {
   "cell_type": "code",
   "execution_count": 27,
   "metadata": {},
   "outputs": [
    {
     "name": "stdout",
     "output_type": "stream",
     "text": [
      "          AccountName    Count     JobPct\n",
      "0                 cms  3539682  28.318840\n",
      "1            beam_lab  1447136  11.577654\n",
      "2         cms_lowprio   928918   7.431707\n",
      "3        p_csb_meiler   762188   6.097802\n",
      "4          cms_stage2   663017   5.304395\n",
      "5            mip_eecs   575854   4.607057\n",
      "6   h_biostat_student   446568   3.572719\n",
      "7                lola   442628   3.541197\n",
      "8            p_meiler   427429   3.419599\n",
      "9                math   371118   2.969089\n",
      "10         cms_stage3   302112   2.417014\n",
      "11           rokaslab   295962   2.367812\n",
      "12        cms_samtest   271589   2.172818\n",
      "13                cgg   226560   1.812569\n",
      "14            stassun   180297   1.442447\n"
     ]
    }
   ],
   "source": [
    "acct_pct_group=accre_df[['Account', 'JobIDRaw']].groupby('Account').agg('count').sort_values(by ='JobIDRaw', ascending = False).head(30)\n",
    "acct_pct_group = acct_pct_group.reset_index()\n",
    "acct_pct_group.columns = [['AccountName','Count']]\n",
    "acct_pct_group['JobPct'] = acct_pct_group['Count'] / len(accre_df.index) * 100\n",
    "print(acct_pct_group.head(15))"
   ]
  },
  {
   "cell_type": "code",
   "execution_count": 28,
   "metadata": {},
   "outputs": [
    {
     "name": "stdout",
     "output_type": "stream",
     "text": [
      "                  State    Count     JobPct\n",
      "0             COMPLETED  7150200  57.204396\n",
      "1    CANCELLED by 29607  3354734  26.839184\n",
      "2                FAILED   902907   7.223609\n",
      "3    CANCELLED by 29605   355327   2.842755\n",
      "4               TIMEOUT   160402   1.283279\n",
      "5   CANCELLED by 112888   105801   0.846449\n",
      "6   CANCELLED by 233674    66809   0.534498\n",
      "7   CANCELLED by 207302    44886   0.359106\n",
      "8        CANCELLED by 0    29569   0.236564\n",
      "9   CANCELLED by 551122    24607   0.196866\n",
      "10   CANCELLED by 53988    19998   0.159992\n",
      "11  CANCELLED by 233240    17531   0.140255\n",
      "12  CANCELLED by 237602    17013   0.136111\n",
      "13  CANCELLED by 342713    16950   0.135607\n",
      "14  CANCELLED by 501421    16363   0.130910\n"
     ]
    }
   ],
   "source": [
    "state_pct_group=accre_df[['State', 'JobIDRaw']].groupby('State').agg('count').sort_values(by ='JobIDRaw', ascending = False).head(30)\n",
    "state_pct_group = state_pct_group.reset_index()\n",
    "state_pct_group.columns = [['State','Count']]\n",
    "state_pct_group['JobPct'] = state_pct_group['Count'] / len(accre_df.index) * 100\n",
    "print(state_pct_group.head(15))"
   ]
  },
  {
   "cell_type": "code",
   "execution_count": 106,
   "metadata": {},
   "outputs": [
    {
     "data": {
      "text/html": [
       "<div>\n",
       "<style scoped>\n",
       "    .dataframe tbody tr th:only-of-type {\n",
       "        vertical-align: middle;\n",
       "    }\n",
       "\n",
       "    .dataframe tbody tr th {\n",
       "        vertical-align: top;\n",
       "    }\n",
       "\n",
       "    .dataframe thead th {\n",
       "        text-align: right;\n",
       "    }\n",
       "</style>\n",
       "<table border=\"1\" class=\"dataframe\">\n",
       "  <thead>\n",
       "    <tr style=\"text-align: right;\">\n",
       "      <th></th>\n",
       "      <th>JobID</th>\n",
       "      <th>JobIDRaw</th>\n",
       "      <th>Cluster</th>\n",
       "      <th>Partition</th>\n",
       "      <th>Account</th>\n",
       "      <th>Group</th>\n",
       "      <th>GID</th>\n",
       "      <th>User</th>\n",
       "      <th>UID</th>\n",
       "      <th>Submit</th>\n",
       "      <th>...</th>\n",
       "      <th>ReqMem</th>\n",
       "      <th>ReqGRES</th>\n",
       "      <th>ReqTRES</th>\n",
       "      <th>Timelimit</th>\n",
       "      <th>NodeList</th>\n",
       "      <th>JobName</th>\n",
       "      <th>queue_time</th>\n",
       "      <th>req_time</th>\n",
       "      <th>mem_int</th>\n",
       "      <th>core_node</th>\n",
       "    </tr>\n",
       "  </thead>\n",
       "  <tbody>\n",
       "    <tr>\n",
       "      <th>333</th>\n",
       "      <td>15811976</td>\n",
       "      <td>15811976</td>\n",
       "      <td>accre</td>\n",
       "      <td>production</td>\n",
       "      <td>cms_lowprio</td>\n",
       "      <td>cms</td>\n",
       "      <td>31000</td>\n",
       "      <td>cmsglidein</td>\n",
       "      <td>NaN</td>\n",
       "      <td>2017-07-01 05:08:13</td>\n",
       "      <td>...</td>\n",
       "      <td>5000Mn</td>\n",
       "      <td>NaN</td>\n",
       "      <td>cpu=1,mem=5000M,node=1</td>\n",
       "      <td>2-00:00:00</td>\n",
       "      <td>vmp1084</td>\n",
       "      <td>bl_0a8dbb748125</td>\n",
       "      <td>0.216667</td>\n",
       "      <td>2880.0</td>\n",
       "      <td>5.0</td>\n",
       "      <td>n</td>\n",
       "    </tr>\n",
       "    <tr>\n",
       "      <th>345</th>\n",
       "      <td>15812001</td>\n",
       "      <td>15812001</td>\n",
       "      <td>accre</td>\n",
       "      <td>production</td>\n",
       "      <td>cms_lowprio</td>\n",
       "      <td>cms</td>\n",
       "      <td>31000</td>\n",
       "      <td>cmsglidein</td>\n",
       "      <td>NaN</td>\n",
       "      <td>2017-07-01 05:10:58</td>\n",
       "      <td>...</td>\n",
       "      <td>5000Mn</td>\n",
       "      <td>NaN</td>\n",
       "      <td>cpu=1,mem=5000M,node=1</td>\n",
       "      <td>2-00:00:00</td>\n",
       "      <td>vmp1125</td>\n",
       "      <td>bl_ce6cb456d537</td>\n",
       "      <td>0.466667</td>\n",
       "      <td>2880.0</td>\n",
       "      <td>5.0</td>\n",
       "      <td>n</td>\n",
       "    </tr>\n",
       "    <tr>\n",
       "      <th>464</th>\n",
       "      <td>15812208</td>\n",
       "      <td>15812208</td>\n",
       "      <td>accre</td>\n",
       "      <td>production</td>\n",
       "      <td>cms_lowprio</td>\n",
       "      <td>cms</td>\n",
       "      <td>31000</td>\n",
       "      <td>cmsglidein</td>\n",
       "      <td>NaN</td>\n",
       "      <td>2017-07-01 05:50:00</td>\n",
       "      <td>...</td>\n",
       "      <td>5000Mn</td>\n",
       "      <td>NaN</td>\n",
       "      <td>cpu=1,mem=5000M,node=1</td>\n",
       "      <td>2-00:00:00</td>\n",
       "      <td>vmp1061</td>\n",
       "      <td>bl_6912aec9c558</td>\n",
       "      <td>0.466667</td>\n",
       "      <td>2880.0</td>\n",
       "      <td>5.0</td>\n",
       "      <td>n</td>\n",
       "    </tr>\n",
       "    <tr>\n",
       "      <th>467</th>\n",
       "      <td>15812211</td>\n",
       "      <td>15812211</td>\n",
       "      <td>accre</td>\n",
       "      <td>production</td>\n",
       "      <td>cms_lowprio</td>\n",
       "      <td>cms</td>\n",
       "      <td>31000</td>\n",
       "      <td>cmsglidein</td>\n",
       "      <td>NaN</td>\n",
       "      <td>2017-07-01 05:50:05</td>\n",
       "      <td>...</td>\n",
       "      <td>5000Mn</td>\n",
       "      <td>NaN</td>\n",
       "      <td>cpu=1,mem=5000M,node=1</td>\n",
       "      <td>2-00:00:00</td>\n",
       "      <td>vmp1064</td>\n",
       "      <td>bl_36a387505a7a</td>\n",
       "      <td>0.383333</td>\n",
       "      <td>2880.0</td>\n",
       "      <td>5.0</td>\n",
       "      <td>n</td>\n",
       "    </tr>\n",
       "    <tr>\n",
       "      <th>468</th>\n",
       "      <td>15812212</td>\n",
       "      <td>15812212</td>\n",
       "      <td>accre</td>\n",
       "      <td>production</td>\n",
       "      <td>cms_lowprio</td>\n",
       "      <td>cms</td>\n",
       "      <td>31000</td>\n",
       "      <td>cmsglidein</td>\n",
       "      <td>NaN</td>\n",
       "      <td>2017-07-01 05:50:05</td>\n",
       "      <td>...</td>\n",
       "      <td>5000Mn</td>\n",
       "      <td>NaN</td>\n",
       "      <td>cpu=1,mem=5000M,node=1</td>\n",
       "      <td>2-00:00:00</td>\n",
       "      <td>vmp1010</td>\n",
       "      <td>bl_b2a66b1f253e</td>\n",
       "      <td>0.383333</td>\n",
       "      <td>2880.0</td>\n",
       "      <td>5.0</td>\n",
       "      <td>n</td>\n",
       "    </tr>\n",
       "    <tr>\n",
       "      <th>469</th>\n",
       "      <td>15812213</td>\n",
       "      <td>15812213</td>\n",
       "      <td>accre</td>\n",
       "      <td>production</td>\n",
       "      <td>cms_lowprio</td>\n",
       "      <td>cms</td>\n",
       "      <td>31000</td>\n",
       "      <td>cmsglidein</td>\n",
       "      <td>NaN</td>\n",
       "      <td>2017-07-01 05:50:05</td>\n",
       "      <td>...</td>\n",
       "      <td>5000Mn</td>\n",
       "      <td>NaN</td>\n",
       "      <td>cpu=1,mem=5000M,node=1</td>\n",
       "      <td>2-00:00:00</td>\n",
       "      <td>vmp1073</td>\n",
       "      <td>bl_28b10eb384f1</td>\n",
       "      <td>0.383333</td>\n",
       "      <td>2880.0</td>\n",
       "      <td>5.0</td>\n",
       "      <td>n</td>\n",
       "    </tr>\n",
       "    <tr>\n",
       "      <th>470</th>\n",
       "      <td>15812214</td>\n",
       "      <td>15812214</td>\n",
       "      <td>accre</td>\n",
       "      <td>production</td>\n",
       "      <td>cms_lowprio</td>\n",
       "      <td>cms</td>\n",
       "      <td>31000</td>\n",
       "      <td>cmsglidein</td>\n",
       "      <td>NaN</td>\n",
       "      <td>2017-07-01 05:50:05</td>\n",
       "      <td>...</td>\n",
       "      <td>5000Mn</td>\n",
       "      <td>NaN</td>\n",
       "      <td>cpu=1,mem=5000M,node=1</td>\n",
       "      <td>2-00:00:00</td>\n",
       "      <td>vmp1007</td>\n",
       "      <td>bl_1e0513c2f2c7</td>\n",
       "      <td>0.383333</td>\n",
       "      <td>2880.0</td>\n",
       "      <td>5.0</td>\n",
       "      <td>n</td>\n",
       "    </tr>\n",
       "    <tr>\n",
       "      <th>471</th>\n",
       "      <td>15812215</td>\n",
       "      <td>15812215</td>\n",
       "      <td>accre</td>\n",
       "      <td>production</td>\n",
       "      <td>cms_lowprio</td>\n",
       "      <td>cms</td>\n",
       "      <td>31000</td>\n",
       "      <td>cmsglidein</td>\n",
       "      <td>NaN</td>\n",
       "      <td>2017-07-01 05:50:21</td>\n",
       "      <td>...</td>\n",
       "      <td>5000Mn</td>\n",
       "      <td>NaN</td>\n",
       "      <td>cpu=1,mem=5000M,node=1</td>\n",
       "      <td>2-00:00:00</td>\n",
       "      <td>vmp1052</td>\n",
       "      <td>bl_38f20779d123</td>\n",
       "      <td>0.116667</td>\n",
       "      <td>2880.0</td>\n",
       "      <td>5.0</td>\n",
       "      <td>n</td>\n",
       "    </tr>\n",
       "    <tr>\n",
       "      <th>472</th>\n",
       "      <td>15812216</td>\n",
       "      <td>15812216</td>\n",
       "      <td>accre</td>\n",
       "      <td>production</td>\n",
       "      <td>cms_lowprio</td>\n",
       "      <td>cms</td>\n",
       "      <td>31000</td>\n",
       "      <td>cmsglidein</td>\n",
       "      <td>NaN</td>\n",
       "      <td>2017-07-01 05:50:21</td>\n",
       "      <td>...</td>\n",
       "      <td>5000Mn</td>\n",
       "      <td>NaN</td>\n",
       "      <td>cpu=1,mem=5000M,node=1</td>\n",
       "      <td>2-00:00:00</td>\n",
       "      <td>vmp204</td>\n",
       "      <td>bl_31d63b0fbd16</td>\n",
       "      <td>0.116667</td>\n",
       "      <td>2880.0</td>\n",
       "      <td>5.0</td>\n",
       "      <td>n</td>\n",
       "    </tr>\n",
       "    <tr>\n",
       "      <th>473</th>\n",
       "      <td>15812217</td>\n",
       "      <td>15812217</td>\n",
       "      <td>accre</td>\n",
       "      <td>production</td>\n",
       "      <td>cms_lowprio</td>\n",
       "      <td>cms</td>\n",
       "      <td>31000</td>\n",
       "      <td>cmsglidein</td>\n",
       "      <td>NaN</td>\n",
       "      <td>2017-07-01 05:50:21</td>\n",
       "      <td>...</td>\n",
       "      <td>5000Mn</td>\n",
       "      <td>NaN</td>\n",
       "      <td>cpu=1,mem=5000M,node=1</td>\n",
       "      <td>2-00:00:00</td>\n",
       "      <td>vmp201</td>\n",
       "      <td>bl_4a4e62d19656</td>\n",
       "      <td>0.116667</td>\n",
       "      <td>2880.0</td>\n",
       "      <td>5.0</td>\n",
       "      <td>n</td>\n",
       "    </tr>\n",
       "  </tbody>\n",
       "</table>\n",
       "<p>10 rows × 29 columns</p>\n",
       "</div>"
      ],
      "text/plain": [
       "        JobID  JobIDRaw Cluster   Partition      Account Group    GID  \\\n",
       "333  15811976  15811976   accre  production  cms_lowprio   cms  31000   \n",
       "345  15812001  15812001   accre  production  cms_lowprio   cms  31000   \n",
       "464  15812208  15812208   accre  production  cms_lowprio   cms  31000   \n",
       "467  15812211  15812211   accre  production  cms_lowprio   cms  31000   \n",
       "468  15812212  15812212   accre  production  cms_lowprio   cms  31000   \n",
       "469  15812213  15812213   accre  production  cms_lowprio   cms  31000   \n",
       "470  15812214  15812214   accre  production  cms_lowprio   cms  31000   \n",
       "471  15812215  15812215   accre  production  cms_lowprio   cms  31000   \n",
       "472  15812216  15812216   accre  production  cms_lowprio   cms  31000   \n",
       "473  15812217  15812217   accre  production  cms_lowprio   cms  31000   \n",
       "\n",
       "           User  UID              Submit    ...     ReqMem ReqGRES  \\\n",
       "333  cmsglidein  NaN 2017-07-01 05:08:13    ...     5000Mn     NaN   \n",
       "345  cmsglidein  NaN 2017-07-01 05:10:58    ...     5000Mn     NaN   \n",
       "464  cmsglidein  NaN 2017-07-01 05:50:00    ...     5000Mn     NaN   \n",
       "467  cmsglidein  NaN 2017-07-01 05:50:05    ...     5000Mn     NaN   \n",
       "468  cmsglidein  NaN 2017-07-01 05:50:05    ...     5000Mn     NaN   \n",
       "469  cmsglidein  NaN 2017-07-01 05:50:05    ...     5000Mn     NaN   \n",
       "470  cmsglidein  NaN 2017-07-01 05:50:05    ...     5000Mn     NaN   \n",
       "471  cmsglidein  NaN 2017-07-01 05:50:21    ...     5000Mn     NaN   \n",
       "472  cmsglidein  NaN 2017-07-01 05:50:21    ...     5000Mn     NaN   \n",
       "473  cmsglidein  NaN 2017-07-01 05:50:21    ...     5000Mn     NaN   \n",
       "\n",
       "                    ReqTRES   Timelimit NodeList          JobName  queue_time  \\\n",
       "333  cpu=1,mem=5000M,node=1  2-00:00:00  vmp1084  bl_0a8dbb748125    0.216667   \n",
       "345  cpu=1,mem=5000M,node=1  2-00:00:00  vmp1125  bl_ce6cb456d537    0.466667   \n",
       "464  cpu=1,mem=5000M,node=1  2-00:00:00  vmp1061  bl_6912aec9c558    0.466667   \n",
       "467  cpu=1,mem=5000M,node=1  2-00:00:00  vmp1064  bl_36a387505a7a    0.383333   \n",
       "468  cpu=1,mem=5000M,node=1  2-00:00:00  vmp1010  bl_b2a66b1f253e    0.383333   \n",
       "469  cpu=1,mem=5000M,node=1  2-00:00:00  vmp1073  bl_28b10eb384f1    0.383333   \n",
       "470  cpu=1,mem=5000M,node=1  2-00:00:00  vmp1007  bl_1e0513c2f2c7    0.383333   \n",
       "471  cpu=1,mem=5000M,node=1  2-00:00:00  vmp1052  bl_38f20779d123    0.116667   \n",
       "472  cpu=1,mem=5000M,node=1  2-00:00:00   vmp204  bl_31d63b0fbd16    0.116667   \n",
       "473  cpu=1,mem=5000M,node=1  2-00:00:00   vmp201  bl_4a4e62d19656    0.116667   \n",
       "\n",
       "     req_time  mem_int core_node  \n",
       "333    2880.0      5.0         n  \n",
       "345    2880.0      5.0         n  \n",
       "464    2880.0      5.0         n  \n",
       "467    2880.0      5.0         n  \n",
       "468    2880.0      5.0         n  \n",
       "469    2880.0      5.0         n  \n",
       "470    2880.0      5.0         n  \n",
       "471    2880.0      5.0         n  \n",
       "472    2880.0      5.0         n  \n",
       "473    2880.0      5.0         n  \n",
       "\n",
       "[10 rows x 29 columns]"
      ]
     },
     "execution_count": 106,
     "metadata": {},
     "output_type": "execute_result"
    }
   ],
   "source": [
    "g29607 = accre_df.loc[accre_df['State'] == 'CANCELLED by 29607']\n",
    "g29607.head(10)\n"
   ]
  },
  {
   "cell_type": "code",
   "execution_count": 62,
   "metadata": {},
   "outputs": [
    {
     "name": "stdout",
     "output_type": "stream",
     "text": [
      "  Group Cancel by 29607    Count JobPct\n",
      "0            cmsglidein  3354734    100\n"
     ]
    }
   ],
   "source": [
    "cancel_count=g29607[['User', 'JobIDRaw']].groupby('User').agg('count').sort_values(by ='JobIDRaw', ascending = False).head(30)\n",
    "cancel_count = cancel_count.reset_index()\n",
    "cancel_count.columns = [['Group Cancel by 29607','Count']]\n",
    "cancel_count['JobPct'] = cancel_count['Count'] / len(g29607) * 100\n",
    "print(cancel_count.head(15))"
   ]
  },
  {
   "cell_type": "markdown",
   "metadata": {},
   "source": [
    "## Taking a look at the submission for 100,000 GB"
   ]
  },
  {
   "cell_type": "code",
   "execution_count": 29,
   "metadata": {},
   "outputs": [
    {
     "name": "stdout",
     "output_type": "stream",
     "text": [
      "JobID                            24502178\n",
      "JobIDRaw                         24502178\n",
      "Cluster                             accre\n",
      "Partition                      production\n",
      "Account                         p_vantage\n",
      "Group                           p_vantage\n",
      "GID                                 59347\n",
      "User                             scholzmb\n",
      "UID                                421502\n",
      "Submit                2018-02-08 18:30:11\n",
      "Eligible              2018-02-08T18:30:11\n",
      "Start                 2018-02-08 18:30:11\n",
      "End                   2018-02-08T18:30:11\n",
      "Elapsed                          00:00:00\n",
      "ExitCode                              1:0\n",
      "State                              FAILED\n",
      "NNodes                                  1\n",
      "NCPUS                                   8\n",
      "ReqCPUS                                 8\n",
      "ReqMem                        100000000Mn\n",
      "ReqGRES                               NaN\n",
      "ReqTRES       cpu=8,mem=100000000M,node=1\n",
      "Timelimit                     14-00:00:00\n",
      "NodeList                    None assigned\n",
      "JobName                          Assemble\n",
      "queue_time                              0\n",
      "req_time                            20160\n",
      "mem_int                            100000\n",
      "core_node                               n\n",
      "Name: 8673264, dtype: object\n"
     ]
    }
   ],
   "source": [
    "print(accre_df.iloc[8673264,:])"
   ]
  },
  {
   "cell_type": "markdown",
   "metadata": {},
   "source": [
    "## Their submission failed. Not a surprise considering they requested 100,000 GB "
   ]
  },
  {
   "cell_type": "markdown",
   "metadata": {},
   "source": [
    "# Now we have everything we need to visualize how requested time and memory affect queue time\n",
    "\n",
    "## Can group by per core and also per node\n",
    "\n",
    "## plot queue time vs requested mem\n",
    "## plot queue time vs requested time"
   ]
  },
  {
   "cell_type": "markdown",
   "metadata": {},
   "source": [
    "# First create smaller dataframe with just queue time, req_time, mem_int, core_node columns"
   ]
  },
  {
   "cell_type": "code",
   "execution_count": 30,
   "metadata": {},
   "outputs": [
    {
     "name": "stdout",
     "output_type": "stream",
     "text": [
      "     queue_time  req_time  mem_int core_node      State      Account\n",
      "0   1533.016667   13200.0     12.0         n  COMPLETED      h_vuiis\n",
      "1   1539.166667   13200.0     12.0         n  COMPLETED      h_vuiis\n",
      "2   1560.250000   13200.0     12.0         n  COMPLETED      h_vuiis\n",
      "3   1570.916667   13200.0     12.0         n  COMPLETED      h_vuiis\n",
      "4      0.016667    2880.0      4.0         n  COMPLETED  cms_samtest\n",
      "5      0.050000     720.0      2.0         c  COMPLETED   cms_stage2\n",
      "6      0.033333     720.0      2.0         c  COMPLETED   cms_stage2\n",
      "7      0.016667    2880.0      4.0         n  COMPLETED  cms_samtest\n",
      "8      0.016667     720.0      2.0         c  COMPLETED   cms_stage2\n",
      "9      0.050000     720.0      2.0         c  COMPLETED   cms_stage2\n",
      "10     1.716667    7680.0     10.0         n  COMPLETED      h_vuiis\n",
      "11    23.016667    7680.0     10.0         n  COMPLETED      h_vuiis\n",
      "12    36.700000    7680.0     10.0         n  COMPLETED      h_vuiis\n",
      "13    61.700000    7680.0     10.0         n  COMPLETED      h_vuiis\n",
      "14    85.600000    7680.0     10.0         n  COMPLETED      h_vuiis\n",
      "15   100.116667    7680.0     10.0         n  COMPLETED      h_vuiis\n",
      "16   121.700000    7680.0     10.0         n    TIMEOUT      h_vuiis\n",
      "17   181.750000    7680.0     10.0         n  COMPLETED      h_vuiis\n",
      "18   221.683333    7680.0     10.0         n  COMPLETED      h_vuiis\n",
      "19   231.983333    7680.0     10.0         n  COMPLETED      h_vuiis\n"
     ]
    }
   ],
   "source": [
    "q1_df = accre_df[['queue_time', 'req_time', 'mem_int', 'core_node', 'State', 'Account']]\n",
    "print(q1_df.head(20))"
   ]
  },
  {
   "cell_type": "code",
   "execution_count": 31,
   "metadata": {},
   "outputs": [
    {
     "data": {
      "text/html": [
       "<div>\n",
       "<style scoped>\n",
       "    .dataframe tbody tr th:only-of-type {\n",
       "        vertical-align: middle;\n",
       "    }\n",
       "\n",
       "    .dataframe tbody tr th {\n",
       "        vertical-align: top;\n",
       "    }\n",
       "\n",
       "    .dataframe thead th {\n",
       "        text-align: right;\n",
       "    }\n",
       "</style>\n",
       "<table border=\"1\" class=\"dataframe\">\n",
       "  <thead>\n",
       "    <tr style=\"text-align: right;\">\n",
       "      <th></th>\n",
       "      <th>queue_time</th>\n",
       "      <th>req_time</th>\n",
       "      <th>mem_int</th>\n",
       "      <th>core_node</th>\n",
       "      <th>State</th>\n",
       "      <th>Account</th>\n",
       "    </tr>\n",
       "  </thead>\n",
       "  <tbody>\n",
       "    <tr>\n",
       "      <th>386</th>\n",
       "      <td>0.250000</td>\n",
       "      <td>2880.0</td>\n",
       "      <td>8.0</td>\n",
       "      <td>n</td>\n",
       "      <td>FAILED</td>\n",
       "      <td>segrest_group</td>\n",
       "    </tr>\n",
       "    <tr>\n",
       "      <th>441</th>\n",
       "      <td>0.383333</td>\n",
       "      <td>480.0</td>\n",
       "      <td>8.0</td>\n",
       "      <td>n</td>\n",
       "      <td>FAILED</td>\n",
       "      <td>segrest_group</td>\n",
       "    </tr>\n",
       "    <tr>\n",
       "      <th>453</th>\n",
       "      <td>0.900000</td>\n",
       "      <td>480.0</td>\n",
       "      <td>8.0</td>\n",
       "      <td>n</td>\n",
       "      <td>FAILED</td>\n",
       "      <td>segrest_group</td>\n",
       "    </tr>\n",
       "    <tr>\n",
       "      <th>537</th>\n",
       "      <td>0.950000</td>\n",
       "      <td>2880.0</td>\n",
       "      <td>8.0</td>\n",
       "      <td>n</td>\n",
       "      <td>FAILED</td>\n",
       "      <td>segrest_group</td>\n",
       "    </tr>\n",
       "    <tr>\n",
       "      <th>543</th>\n",
       "      <td>4.916667</td>\n",
       "      <td>600.0</td>\n",
       "      <td>10.0</td>\n",
       "      <td>n</td>\n",
       "      <td>FAILED</td>\n",
       "      <td>h_vuiis</td>\n",
       "    </tr>\n",
       "    <tr>\n",
       "      <th>544</th>\n",
       "      <td>4.916667</td>\n",
       "      <td>600.0</td>\n",
       "      <td>10.0</td>\n",
       "      <td>n</td>\n",
       "      <td>FAILED</td>\n",
       "      <td>h_vuiis</td>\n",
       "    </tr>\n",
       "    <tr>\n",
       "      <th>545</th>\n",
       "      <td>9.933333</td>\n",
       "      <td>600.0</td>\n",
       "      <td>10.0</td>\n",
       "      <td>n</td>\n",
       "      <td>FAILED</td>\n",
       "      <td>h_vuiis</td>\n",
       "    </tr>\n",
       "    <tr>\n",
       "      <th>546</th>\n",
       "      <td>9.916667</td>\n",
       "      <td>600.0</td>\n",
       "      <td>10.0</td>\n",
       "      <td>n</td>\n",
       "      <td>FAILED</td>\n",
       "      <td>h_vuiis</td>\n",
       "    </tr>\n",
       "    <tr>\n",
       "      <th>547</th>\n",
       "      <td>14.916667</td>\n",
       "      <td>600.0</td>\n",
       "      <td>10.0</td>\n",
       "      <td>n</td>\n",
       "      <td>FAILED</td>\n",
       "      <td>h_vuiis</td>\n",
       "    </tr>\n",
       "    <tr>\n",
       "      <th>548</th>\n",
       "      <td>14.916667</td>\n",
       "      <td>600.0</td>\n",
       "      <td>10.0</td>\n",
       "      <td>n</td>\n",
       "      <td>FAILED</td>\n",
       "      <td>h_vuiis</td>\n",
       "    </tr>\n",
       "    <tr>\n",
       "      <th>549</th>\n",
       "      <td>19.900000</td>\n",
       "      <td>600.0</td>\n",
       "      <td>10.0</td>\n",
       "      <td>n</td>\n",
       "      <td>FAILED</td>\n",
       "      <td>h_vuiis</td>\n",
       "    </tr>\n",
       "    <tr>\n",
       "      <th>576</th>\n",
       "      <td>0.250000</td>\n",
       "      <td>2880.0</td>\n",
       "      <td>8.0</td>\n",
       "      <td>n</td>\n",
       "      <td>FAILED</td>\n",
       "      <td>segrest_group</td>\n",
       "    </tr>\n",
       "    <tr>\n",
       "      <th>718</th>\n",
       "      <td>0.100000</td>\n",
       "      <td>600.0</td>\n",
       "      <td>10.0</td>\n",
       "      <td>n</td>\n",
       "      <td>FAILED</td>\n",
       "      <td>h_vuiis</td>\n",
       "    </tr>\n",
       "    <tr>\n",
       "      <th>719</th>\n",
       "      <td>5.116667</td>\n",
       "      <td>600.0</td>\n",
       "      <td>10.0</td>\n",
       "      <td>n</td>\n",
       "      <td>FAILED</td>\n",
       "      <td>h_vuiis</td>\n",
       "    </tr>\n",
       "    <tr>\n",
       "      <th>720</th>\n",
       "      <td>5.116667</td>\n",
       "      <td>600.0</td>\n",
       "      <td>10.0</td>\n",
       "      <td>n</td>\n",
       "      <td>FAILED</td>\n",
       "      <td>h_vuiis</td>\n",
       "    </tr>\n",
       "    <tr>\n",
       "      <th>721</th>\n",
       "      <td>5.116667</td>\n",
       "      <td>600.0</td>\n",
       "      <td>10.0</td>\n",
       "      <td>n</td>\n",
       "      <td>FAILED</td>\n",
       "      <td>h_vuiis</td>\n",
       "    </tr>\n",
       "    <tr>\n",
       "      <th>722</th>\n",
       "      <td>10.100000</td>\n",
       "      <td>600.0</td>\n",
       "      <td>10.0</td>\n",
       "      <td>n</td>\n",
       "      <td>FAILED</td>\n",
       "      <td>h_vuiis</td>\n",
       "    </tr>\n",
       "    <tr>\n",
       "      <th>723</th>\n",
       "      <td>10.083333</td>\n",
       "      <td>600.0</td>\n",
       "      <td>10.0</td>\n",
       "      <td>n</td>\n",
       "      <td>FAILED</td>\n",
       "      <td>h_vuiis</td>\n",
       "    </tr>\n",
       "    <tr>\n",
       "      <th>724</th>\n",
       "      <td>15.116667</td>\n",
       "      <td>600.0</td>\n",
       "      <td>10.0</td>\n",
       "      <td>n</td>\n",
       "      <td>FAILED</td>\n",
       "      <td>h_vuiis</td>\n",
       "    </tr>\n",
       "    <tr>\n",
       "      <th>725</th>\n",
       "      <td>15.116667</td>\n",
       "      <td>600.0</td>\n",
       "      <td>10.0</td>\n",
       "      <td>n</td>\n",
       "      <td>FAILED</td>\n",
       "      <td>h_vuiis</td>\n",
       "    </tr>\n",
       "  </tbody>\n",
       "</table>\n",
       "</div>"
      ],
      "text/plain": [
       "     queue_time  req_time  mem_int core_node   State        Account\n",
       "386    0.250000    2880.0      8.0         n  FAILED  segrest_group\n",
       "441    0.383333     480.0      8.0         n  FAILED  segrest_group\n",
       "453    0.900000     480.0      8.0         n  FAILED  segrest_group\n",
       "537    0.950000    2880.0      8.0         n  FAILED  segrest_group\n",
       "543    4.916667     600.0     10.0         n  FAILED        h_vuiis\n",
       "544    4.916667     600.0     10.0         n  FAILED        h_vuiis\n",
       "545    9.933333     600.0     10.0         n  FAILED        h_vuiis\n",
       "546    9.916667     600.0     10.0         n  FAILED        h_vuiis\n",
       "547   14.916667     600.0     10.0         n  FAILED        h_vuiis\n",
       "548   14.916667     600.0     10.0         n  FAILED        h_vuiis\n",
       "549   19.900000     600.0     10.0         n  FAILED        h_vuiis\n",
       "576    0.250000    2880.0      8.0         n  FAILED  segrest_group\n",
       "718    0.100000     600.0     10.0         n  FAILED        h_vuiis\n",
       "719    5.116667     600.0     10.0         n  FAILED        h_vuiis\n",
       "720    5.116667     600.0     10.0         n  FAILED        h_vuiis\n",
       "721    5.116667     600.0     10.0         n  FAILED        h_vuiis\n",
       "722   10.100000     600.0     10.0         n  FAILED        h_vuiis\n",
       "723   10.083333     600.0     10.0         n  FAILED        h_vuiis\n",
       "724   15.116667     600.0     10.0         n  FAILED        h_vuiis\n",
       "725   15.116667     600.0     10.0         n  FAILED        h_vuiis"
      ]
     },
     "execution_count": 31,
     "metadata": {},
     "output_type": "execute_result"
    }
   ],
   "source": [
    "q1_df.loc[q1_df['State'] == 'FAILED'].head(20)"
   ]
  },
  {
   "cell_type": "markdown",
   "metadata": {},
   "source": [
    "## randomly sample data for plotting"
   ]
  },
  {
   "cell_type": "code",
   "execution_count": 81,
   "metadata": {
    "scrolled": false
   },
   "outputs": [
    {
     "name": "stdout",
     "output_type": "stream",
     "text": [
      "          queue_time  req_time  mem_int core_node               State  \\\n",
      "3872158   494.150000       5.0    2.000         c           COMPLETED   \n",
      "6897389    59.783333    2880.0    5.000         n  CANCELLED by 29607   \n",
      "1245971     0.016667    1800.0    2.000         n           COMPLETED   \n",
      "9451347    65.116667    2880.0    5.000         n           COMPLETED   \n",
      "10265561  601.916667    2400.0   16.000         n           COMPLETED   \n",
      "4669092    58.616667    2880.0    5.000         n  CANCELLED by 29607   \n",
      "9342850    56.566667    2880.0    5.000         n  CANCELLED by 29607   \n",
      "8295805   618.083333     720.0   20.000         c              FAILED   \n",
      "4877278    59.383333    2880.0   28.000         n  CANCELLED by 29607   \n",
      "11058428  137.616667    1800.0   16.000         n           COMPLETED   \n",
      "11548937    2.316667     900.0   16.000         n           COMPLETED   \n",
      "5998018   191.650000     180.0   20.000         c           COMPLETED   \n",
      "11361184    4.966667     150.0    3.000         n           COMPLETED   \n",
      "5019792   345.250000   20160.0    1.024         n           COMPLETED   \n",
      "9416143    60.516667    2880.0    5.000         n  CANCELLED by 29607   \n",
      "\n",
      "           Account  \n",
      "3872158     jswhep  \n",
      "6897389        cms  \n",
      "1245971   mip_eecs  \n",
      "9451347        cms  \n",
      "10265561  beam_lab  \n",
      "4669092        cms  \n",
      "9342850        cms  \n",
      "8295805   beam_lab  \n",
      "4877278        cms  \n",
      "11058428  beam_lab  \n",
      "11548937  beam_lab  \n",
      "5998018   beam_lab  \n",
      "11361184  beam_lab  \n",
      "5019792   rokaslab  \n",
      "9416143        cms  \n",
      "The shape of the random subset is (5000, 6)\n"
     ]
    }
   ],
   "source": [
    "# create random sample of 3000 integers\n",
    "indices = np.random.randint(0, len(q1_df), 5000)\n",
    "q1_df_rand = q1_df.iloc[indices]\n",
    "print(q1_df_rand.head(15))\n",
    "print('The shape of the random subset is ' + str(q1_df_rand.shape))"
   ]
  },
  {
   "cell_type": "markdown",
   "metadata": {},
   "source": [
    "## Time to plot the data in the random subset"
   ]
  },
  {
   "cell_type": "code",
   "execution_count": 33,
   "metadata": {},
   "outputs": [
    {
     "data": {
      "text/plain": [
       "Text(0,0.5,'Queue Time (min)')"
      ]
     },
     "execution_count": 33,
     "metadata": {},
     "output_type": "execute_result"
    },
    {
     "data": {
      "image/png": "[encoded data removed]",
      "text/plain": [
       "<Figure size 432x288 with 1 Axes>"
      ]
     },
     "metadata": {},
     "output_type": "display_data"
    }
   ],
   "source": [
    "q1_df_rand.plot(kind='scatter', x='req_time', y='queue_time', xlim=(0,20000), ylim=(0,10000))\n",
    "plt.title('Queue Time vs Requested Wall Time')\n",
    "plt.xlabel('Requested Wall Time (min)')\n",
    "plt.ylabel('Queue Time (min)')"
   ]
  },
  {
   "cell_type": "code",
   "execution_count": 34,
   "metadata": {},
   "outputs": [
    {
     "data": {
      "text/plain": [
       "Text(0,0.5,'Queue Time (min)')"
      ]
     },
     "execution_count": 34,
     "metadata": {},
     "output_type": "execute_result"
    },
    {
     "data": {
      "image/png": "[encoded data removed]",
      "text/plain": [
       "<Figure size 432x288 with 1 Axes>"
      ]
     },
     "metadata": {},
     "output_type": "display_data"
    }
   ],
   "source": [
    "q1_df_rand.plot(kind='scatter', x='mem_int', y='queue_time')\n",
    "plt.title('Queue Time vs Requested Memory')\n",
    "plt.xlabel('Requested Memory (GB)')\n",
    "plt.ylabel('Queue Time (min)')"
   ]
  },
  {
   "cell_type": "markdown",
   "metadata": {},
   "source": [
    "## Create a histogram to view the distribution of Requested Wall Times"
   ]
  },
  {
   "cell_type": "code",
   "execution_count": 35,
   "metadata": {},
   "outputs": [
    {
     "data": {
      "text/plain": [
       "Text(0.5,0,'Requested Time (min)')"
      ]
     },
     "execution_count": 35,
     "metadata": {},
     "output_type": "execute_result"
    },
    {
     "data": {
      "image/png": "[encoded data removed]",
      "text/plain": [
       "<Figure size 432x288 with 1 Axes>"
      ]
     },
     "metadata": {},
     "output_type": "display_data"
    }
   ],
   "source": [
    "q1_df['req_time'].loc[q1_df['req_time'] < 3000].plot(kind='hist', bins = 60)\n",
    "plt.xlabel('Requested Time (min)')"
   ]
  },
  {
   "cell_type": "code",
   "execution_count": 36,
   "metadata": {},
   "outputs": [
    {
     "data": {
      "text/plain": [
       "Text(0.5,0,'Requested Memory (GB)')"
      ]
     },
     "execution_count": 36,
     "metadata": {},
     "output_type": "execute_result"
    },
    {
     "data": {
      "image/png": "[encoded data removed]",
      "text/plain": [
       "<Figure size 432x288 with 1 Axes>"
      ]
     },
     "metadata": {},
     "output_type": "display_data"
    }
   ],
   "source": [
    "q1_df['mem_int'].loc[q1_df['mem_int'] < 40].plot(kind='hist', bins = 60)\n",
    "plt.xlabel('Requested Memory (GB)')"
   ]
  },
  {
   "cell_type": "code",
   "execution_count": 37,
   "metadata": {},
   "outputs": [
    {
     "data": {
      "text/plain": [
       "Text(0.5,1,'Amount of People Who Request Per Node or Core')"
      ]
     },
     "execution_count": 37,
     "metadata": {},
     "output_type": "execute_result"
    },
    {
     "data": {
      "image/png": "[encoded data removed]",
      "text/plain": [
       "<Figure size 432x288 with 1 Axes>"
      ]
     },
     "metadata": {},
     "output_type": "display_data"
    }
   ],
   "source": [
    "q1_df['core_node'].value_counts().plot(kind='bar', rot=0)\n",
    "plt.xlabel('Core (c) or Node (n)')\n",
    "plt.title('Amount of People Who Request Per Node or Core')"
   ]
  },
  {
   "cell_type": "code",
   "execution_count": 99,
   "metadata": {},
   "outputs": [
    {
     "name": "stdout",
     "output_type": "stream",
     "text": [
      "  core_node  queue_time  req_time  mem_int\n",
      "0         c   12.016667     720.0      3.0\n",
      "1         n   59.783333    2880.0      8.0\n"
     ]
    }
   ],
   "source": [
    "\n",
    "q1_med = q1_df_rand.groupby('core_node').median()\n",
    "q1_med = q1_med.reset_index()\n",
    "print(q1_med.head(30))\n",
    "# q1_med.plot(kind='scatter', x='mem_int', y='queue_time')\n",
    "# plt.title('Queue Time vs Requested Memory')\n",
    "# plt.xlabel('Requested Memory (GB)')\n",
    "# plt.ylabel('Queue Time (min)')"
   ]
  },
  {
   "cell_type": "markdown",
   "metadata": {},
   "source": [
    "## Histogram of how much memory is requested typically"
   ]
  },
  {
   "cell_type": "code",
   "execution_count": 39,
   "metadata": {},
   "outputs": [
    {
     "data": {
      "text/plain": [
       "Text(0.5,0,'Requested Memory (GB)')"
      ]
     },
     "execution_count": 39,
     "metadata": {},
     "output_type": "execute_result"
    },
    {
     "data": {
      "image/png": "[encoded data removed]",
      "text/plain": [
       "<Figure size 432x288 with 1 Axes>"
      ]
     },
     "metadata": {},
     "output_type": "display_data"
    }
   ],
   "source": [
    "q1_df_m = q1_df['mem_int'] < 40\n",
    "q1_df_low = q1_df[q1_df_m]\n",
    "#print(q1_df_low.head())\n",
    "q1_df_low['mem_int'].plot(kind='hist', bins = 60)\n",
    "plt.xlabel('Requested Memory (GB)')"
   ]
  },
  {
   "cell_type": "markdown",
   "metadata": {},
   "source": [
    "## Looking at the number who specify per core or per node for the random sample"
   ]
  },
  {
   "cell_type": "code",
   "execution_count": 103,
   "metadata": {},
   "outputs": [
    {
     "name": "stdout",
     "output_type": "stream",
     "text": [
      "The number of users who request per core is 804\n",
      "The number of users who request per node is 4196\n"
     ]
    }
   ],
   "source": [
    "q1_df_core_rand = q1_df_rand[q1_df_rand['core_node'] == 'c']\n",
    "q1_df_node_rand = q1_df_rand[q1_df_rand['core_node'] == 'n']\n",
    "print('The number of users who request per core is ' + str(len(q1_df_core_rand)))\n",
    "print('The number of users who request per node is ' + str(len(q1_df_node_rand)))"
   ]
  },
  {
   "cell_type": "code",
   "execution_count": 104,
   "metadata": {},
   "outputs": [
    {
     "name": "stdout",
     "output_type": "stream",
     "text": [
      "The number of users who request per core is 2012344\n",
      "The number of users who request per node is 10487045\n"
     ]
    }
   ],
   "source": [
    "q1_df_core = q1_df[q1_df['core_node'] == 'c']\n",
    "q1_df_node = q1_df[q1_df['core_node'] == 'n']\n",
    "print('The number of users who request per core is ' + str(len(q1_df_core)))\n",
    "print('The number of users who request per node is ' + str(len(q1_df_node)))"
   ]
  },
  {
   "cell_type": "markdown",
   "metadata": {},
   "source": [
    "## Let's look at a scatter plot for people who request less than 5 GB "
   ]
  },
  {
   "cell_type": "code",
   "execution_count": 41,
   "metadata": {},
   "outputs": [
    {
     "data": {
      "text/plain": [
       "Text(0,0.5,'Queue Time (min)')"
      ]
     },
     "execution_count": 41,
     "metadata": {},
     "output_type": "execute_result"
    },
    {
     "data": {
      "image/png": "[encoded data removed]",
      "text/plain": [
       "<Figure size 432x288 with 1 Axes>"
      ]
     },
     "metadata": {},
     "output_type": "display_data"
    }
   ],
   "source": [
    "q1_df_less_5 = q1_df[q1_df['mem_int'] <= 5]\n",
    "q1_df_less_5.plot(kind='scatter', x='mem_int', y='queue_time')\n",
    "plt.title('Queue Time vs Requested Memory')\n",
    "plt.xlabel('Requested Memory (GB)')\n",
    "plt.ylabel('Queue Time (min)')"
   ]
  },
  {
   "cell_type": "code",
   "execution_count": 42,
   "metadata": {},
   "outputs": [
    {
     "name": "stdout",
     "output_type": "stream",
     "text": [
      "   req_time    Count     JobPct\n",
      "0    2880.0  2677760  43.644588\n",
      "1     720.0   787105  12.828959\n",
      "2      30.0   346400   5.645945\n",
      "3     240.0   232489   3.789319\n",
      "4      60.0   204725   3.336796\n",
      "5      15.0   164532   2.681693\n",
      "6    1440.0   157529   2.567552\n",
      "7   20160.0   149029   2.429011\n",
      "8     120.0   136170   2.219424\n",
      "9     300.0   122843   2.002208\n",
      "10   5400.0   119139   1.941837\n",
      "11      2.0   107457   1.751433\n",
      "12    600.0    78199   1.274559\n",
      "13    180.0    61987   1.010321\n",
      "14      1.0    61720   1.005969\n"
     ]
    }
   ],
   "source": [
    "time_pct_group = q1_df_less_5[['req_time', 'core_node']].groupby('req_time').agg('count').sort_values(by ='core_node', ascending = False).head(30)\n",
    "time_pct_group = time_pct_group.reset_index()\n",
    "time_pct_group.columns = [['req_time','Count']]\n",
    "time_pct_group['JobPct'] = time_pct_group['Count'] / len(q1_df_less_5.index) * 100\n",
    "print(time_pct_group.head(15))"
   ]
  },
  {
   "cell_type": "code",
   "execution_count": 43,
   "metadata": {},
   "outputs": [
    {
     "data": {
      "text/plain": [
       "Text(0,0.5,'Queue Time (min)')"
      ]
     },
     "execution_count": 43,
     "metadata": {},
     "output_type": "execute_result"
    },
    {
     "data": {
      "image/png": "[encoded data removed]",
      "text/plain": [
       "<Figure size 432x288 with 1 Axes>"
      ]
     },
     "metadata": {},
     "output_type": "display_data"
    }
   ],
   "source": [
    "q1_df_less_5_2880 = q1_df_less_5.loc[q1_df_less_5['req_time'].isin([720, 2880])]\n",
    "q1_df_less_5_2880.plot(kind='scatter', x='mem_int', y='queue_time')\n",
    "plt.title('Queue Time vs Requested Memory')\n",
    "plt.xlabel('Requested Memory (GB)')\n",
    "plt.ylabel('Queue Time (min)')"
   ]
  },
  {
   "cell_type": "code",
   "execution_count": 67,
   "metadata": {},
   "outputs": [
    {
     "data": {
      "text/plain": [
       "Text(0,0.5,'Queue Time (min)')"
      ]
     },
     "execution_count": 67,
     "metadata": {},
     "output_type": "execute_result"
    },
    {
     "data": {
      "image/png": "[encoded data removed]",
      "text/plain": [
       "<Figure size 432x288 with 1 Axes>"
      ]
     },
     "metadata": {},
     "output_type": "display_data"
    }
   ],
   "source": [
    "q1_df_less_5_common = q1_df_less_5.loc[q1_df_less_5['mem_int'].isin([1,1.024, 2,3,4,5])]\n",
    "ax = q1_df_less_5_common.plot(kind='scatter', x='mem_int', y='queue_time', color='red')\n",
    "\n",
    "q1_df_less_5_rare = q1_df_less_5.loc[~q1_df_less_5['mem_int'].isin([1,1.024, 2,3,4,5])]\n",
    "q1_df_less_5_rare.plot(kind='scatter', x='mem_int', y='queue_time', color='green', ax=ax)\n",
    "\n",
    "plt.title('Queue Time vs Requested Memory')\n",
    "plt.xlabel('Requested Memory (GB)')\n",
    "plt.ylabel('Queue Time (min)')\n",
    "\n",
    "# Look at fig size for presentation\n",
    "# plt.figure(figsize=(width, height))"
   ]
  },
  {
   "cell_type": "code",
   "execution_count": 61,
   "metadata": {},
   "outputs": [
    {
     "name": "stdout",
     "output_type": "stream",
     "text": [
      "(6135377, 6)\n"
     ]
    }
   ],
   "source": [
    "print(q1_df_less_5.shape)"
   ]
  },
  {
   "cell_type": "markdown",
   "metadata": {},
   "source": [
    "## Next find median queue time of 1,1.024,2,3,4,5 GB vs. all others"
   ]
  },
  {
   "cell_type": "code",
   "execution_count": 76,
   "metadata": {},
   "outputs": [
    {
     "name": "stdout",
     "output_type": "stream",
     "text": [
      "   mem_int  queue_time  req_time\n",
      "0    1.000    0.016667     126.0\n",
      "1    1.024  569.466667     120.0\n",
      "2    2.000    3.433333     720.0\n",
      "3    3.000  100.016667     360.0\n",
      "4    4.000    2.683333     720.0\n",
      "5    5.000   59.333333    2880.0\n",
      "The median queue time for the most common requested memory is 59.03 minutes\n",
      "The mean queue time for the most common requested memory is 292.01 minutes\n",
      "The number of users submitting these values is 6107247\n"
     ]
    }
   ],
   "source": [
    "med_q1_df_less_5_common = q1_df_less_5_common.groupby('mem_int').median()\n",
    "med_q1_df_less_5_common = med_q1_df_less_5_common.reset_index()\n",
    "print(med_q1_df_less_5_common.head(15))\n",
    "\n",
    "print('The median queue time for the most common requested memory is ' + str(round(q1_df_less_5_common['queue_time'].median(), 2)) + ' minutes')\n",
    "print('The mean queue time for the most common requested memory is ' + str(round(q1_df_less_5_common['queue_time'].mean(),2)) + ' minutes')\n",
    "\n",
    "print('The number of users submitting these values is ' + str(len(q1_df_less_5_common.index)))"
   ]
  },
  {
   "cell_type": "code",
   "execution_count": 89,
   "metadata": {},
   "outputs": [
    {
     "name": "stdout",
     "output_type": "stream",
     "text": [
      "   mem_int  queue_time  req_time\n",
      "0    4.400    0.016667    3600.0\n",
      "1    4.200    0.016667      60.0\n",
      "2    4.034    0.883333      60.0\n",
      "3    3.500    0.033333     600.0\n",
      "4    3.300    0.000000    3600.0\n",
      "5    3.100   20.391667    2880.0\n",
      "6    2.500   20.950000     300.0\n",
      "7    2.200    4.133333    1200.0\n",
      "8    2.100    0.033333    1200.0\n",
      "9    1.792    0.016667      15.0\n",
      "The median queue time for the most common requested memory is 7.39 minutes\n",
      "The mean queue time for the most common requested memory is 73.01 minutes\n",
      "The number of users submitting these values is 28130\n"
     ]
    }
   ],
   "source": [
    "med_q1_df_less_5_rare = q1_df_less_5_rare.groupby('mem_int').median().sort_values(by='mem_int', ascending = False)\n",
    "med_q1_df_less_5_rare = med_q1_df_less_5_rare.reset_index()\n",
    "print(med_q1_df_less_5_rare.head(10))\n",
    "\n",
    "print('The median queue time for the most common requested memory is ' + str(round(q1_df_less_5_rare['queue_time'].median(),2)) + ' minutes')\n",
    "print('The mean queue time for the most common requested memory is ' + str(round(q1_df_less_5_rare['queue_time'].mean(),2)) + ' minutes')\n",
    "\n",
    "print('The number of users submitting these values is ' + str(len(q1_df_less_5_rare.index)))"
   ]
  },
  {
   "cell_type": "markdown",
   "metadata": {},
   "source": [
    "## Let's look at the requests above 5 GB"
   ]
  },
  {
   "cell_type": "code",
   "execution_count": 97,
   "metadata": {},
   "outputs": [
    {
     "data": {
      "text/plain": [
       "Text(0,0.5,'Queue Time (min)')"
      ]
     },
     "execution_count": 97,
     "metadata": {},
     "output_type": "execute_result"
    },
    {
     "data": {
      "image/png": "[encoded data removed]",
      "text/plain": [
       "<Figure size 432x288 with 1 Axes>"
      ]
     },
     "metadata": {},
     "output_type": "display_data"
    }
   ],
   "source": [
    "q1_df_greater_5 = q1_df_rand[q1_df_rand['mem_int'] > 5]\n",
    "#q1_df_greater_5 = q1_df[q1_df['mem_int'] > 5]\n",
    "\n",
    "q1_df_greater_5_common = q1_df_greater_5.loc[q1_df_greater_5['mem_int'].isin([28,10, 8,16,20, 12])]\n",
    "ax = q1_df_greater_5_common.plot(kind='scatter', x='mem_int', y='queue_time', color='red')\n",
    "\n",
    "q1_df_greater_5_rare = q1_df_greater_5.loc[~q1_df_greater_5['mem_int'].isin([28,10, 8,16,20, 12])]\n",
    "q1_df_greater_5_rare.plot(kind='scatter', x='mem_int', y='queue_time', color='green', ax=ax)\n",
    "\n",
    "plt.axis([0,50,0,15000])\n",
    "plt.title('Queue Time vs Requested Memory')\n",
    "plt.xlabel('Requested Memory (GB)')\n",
    "plt.ylabel('Queue Time (min)')\n"
   ]
  },
  {
   "cell_type": "markdown",
   "metadata": {},
   "source": [
    "## Look at the medians and means of common vs uncommon for those over 5 GB"
   ]
  },
  {
   "cell_type": "code",
   "execution_count": 91,
   "metadata": {},
   "outputs": [
    {
     "name": "stdout",
     "output_type": "stream",
     "text": [
      "   mem_int  queue_time  req_time\n",
      "0      8.0  151.016667     360.0\n",
      "1     10.0   63.150000     120.0\n",
      "2     12.0  920.250000     120.0\n",
      "3     16.0  299.716667     900.0\n",
      "4     20.0  645.500000     300.0\n",
      "5     28.0   59.566667    2880.0\n",
      "The median queue time for the most common requested memory is 60.2 minutes\n",
      "The mean queue time for the most common requested memory is 429.44 minutes\n",
      "The number of users submitting these values is 2263\n"
     ]
    }
   ],
   "source": [
    "med_q1_df_greater_5_common = q1_df_greater_5_common.groupby('mem_int').median()\n",
    "med_q1_df_greater_5_common = med_q1_df_greater_5_common.reset_index()\n",
    "print(med_q1_df_greater_5_common.head(15))\n",
    "\n",
    "print('The median queue time for the most common requested memory is ' + str(round(q1_df_greater_5_common['queue_time'].median(), 2)) + ' minutes')\n",
    "print('The mean queue time for the most common requested memory is ' + str(round(q1_df_greater_5_common['queue_time'].mean(),2)) + ' minutes')\n",
    "\n",
    "print('The number of users submitting these values is ' + str(len(q1_df_greater_5_common.index)))"
   ]
  },
  {
   "cell_type": "code",
   "execution_count": 93,
   "metadata": {},
   "outputs": [
    {
     "name": "stdout",
     "output_type": "stream",
     "text": [
      "    mem_int  queue_time  req_time\n",
      "0     4.400    0.016667    3600.0\n",
      "1     4.200    0.016667      60.0\n",
      "2     4.034    0.883333      60.0\n",
      "3     3.500    0.033333     600.0\n",
      "4     3.300    0.000000    3600.0\n",
      "5     3.100   20.391667    2880.0\n",
      "6     2.500   20.950000     300.0\n",
      "7     2.200    4.133333    1200.0\n",
      "8     2.100    0.033333    1200.0\n",
      "9     1.792    0.016667      15.0\n",
      "10    1.777  152.541667    4025.0\n",
      "11    1.675  103.758333    4024.0\n",
      "12    1.600   21.233333     364.0\n",
      "13    1.591   68.175000    4024.0\n",
      "14    1.586   31.700000    4024.0\n",
      "The median queue time for the most common requested memory is 38.75 minutes\n",
      "The mean queue time for the most common requested memory is 365.67 minutes\n",
      "The number of users submitting these values is 304\n"
     ]
    }
   ],
   "source": [
    "med_q1_df_greater_5_rare = q1_df_greater_5_rare.groupby('mem_int').median()\n",
    "med_q1_df_greater_5_rare = med_q1_df_greater_5_rare.reset_index()\n",
    "print(med_q1_df_less_5_rare.head(15))\n",
    "\n",
    "print('The median queue time for the most common requested memory is ' + str(round(q1_df_greater_5_rare['queue_time'].median(), 2)) + ' minutes')\n",
    "print('The mean queue time for the most common requested memory is ' + str(round(q1_df_greater_5_rare['queue_time'].mean(),2)) + ' minutes')\n",
    "\n",
    "print('The number of users submitting these values is ' + str(len(q1_df_greater_5_rare.index)))"
   ]
  },
  {
   "cell_type": "markdown",
   "metadata": {},
   "source": [
    "## Let's standardize so that we look at the graphs for people who request the same amount of time. Thos who request the same amount of time plotted on a line"
   ]
  },
  {
   "cell_type": "code",
   "execution_count": 45,
   "metadata": {},
   "outputs": [
    {
     "data": {
      "text/plain": [
       "Text(0.5,0,'Requested Memory (GB)')"
      ]
     },
     "execution_count": 45,
     "metadata": {},
     "output_type": "execute_result"
    },
    {
     "data": {
      "image/png": "[encoded data removed]",
      "text/plain": [
       "<Figure size 432x288 with 1 Axes>"
      ]
     },
     "metadata": {},
     "output_type": "display_data"
    }
   ],
   "source": [
    "q1_df_node_720 = q1_df_node[q1_df_node['req_time'] == 720]\n",
    "#q1_df_node_2880.head(20)\n",
    "q1_df_node_720['mem_int'].plot(kind='hist', bins = 200, xlim=(0,20))\n",
    "#plt.title('Queue Time vs Requested Memory')\n",
    "plt.xlabel('Requested Memory (GB)')\n",
    "#plt.ylabel('Queue Time (min)')\n",
    "#plt.axis([0, 300, 0, 8000])"
   ]
  },
  {
   "cell_type": "code",
   "execution_count": 46,
   "metadata": {},
   "outputs": [
    {
     "name": "stdout",
     "output_type": "stream",
     "text": [
      "  mem_int Count     JobPct\n",
      "0   3.000     7  29.166667\n",
      "1   4.000     4  16.666667\n",
      "2   8.000     4  16.666667\n",
      "3  16.000     4  16.666667\n",
      "4  10.000     2   8.333333\n",
      "5   1.024     1   4.166667\n",
      "6   2.000     1   4.166667\n",
      "7   6.000     1   4.166667\n"
     ]
    }
   ],
   "source": [
    "mem_pct_720 = q1_df_node_720[['mem_int', 'core_node']].groupby('mem_int').agg('count').sort_values(by ='core_node', ascending = False).head(30)\n",
    "mem_pct_720 = mem_pct_720.reset_index()\n",
    "mem_pct_720.columns = [['mem_int','Count']]\n",
    "mem_pct_720['JobPct'] = mem_pct_720['Count'] / len(q1_df_node_720.index) * 100\n",
    "print(mem_pct_720.head(15))"
   ]
  },
  {
   "cell_type": "code",
   "execution_count": 47,
   "metadata": {},
   "outputs": [
    {
     "data": {
      "text/plain": [
       "Text(0.5,0,'Requested Memory (GB)')"
      ]
     },
     "execution_count": 47,
     "metadata": {},
     "output_type": "execute_result"
    },
    {
     "data": {
      "image/png": "[encoded data removed]",
      "text/plain": [
       "<Figure size 432x288 with 1 Axes>"
      ]
     },
     "metadata": {},
     "output_type": "display_data"
    }
   ],
   "source": [
    "q1_df_node_2880 = q1_df_node[q1_df_node['req_time'] == 2880]\n",
    "#q1_df_node_2880.head(20)\n",
    "q1_df_node_2880['mem_int'].plot(kind='hist', bins = 200, xlim=(0,30))\n",
    "#plt.title('Queue Time vs Requested Memory')\n",
    "plt.xlabel('Requested Memory (GB)')\n",
    "#plt.ylabel('Queue Time (min)')\n",
    "#plt.axis([0, 300, 0, 8000])"
   ]
  },
  {
   "cell_type": "code",
   "execution_count": 48,
   "metadata": {},
   "outputs": [
    {
     "name": "stdout",
     "output_type": "stream",
     "text": [
      "   mem_int Count     JobPct\n",
      "0    5.000   553  48.508772\n",
      "1   28.000   497  43.596491\n",
      "2    4.000    60   5.263158\n",
      "3    8.000     9   0.789474\n",
      "4   16.000     7   0.614035\n",
      "5    3.000     5   0.438596\n",
      "6   20.000     4   0.350877\n",
      "7   14.168     2   0.175439\n",
      "8    1.024     1   0.087719\n",
      "9    3.100     1   0.087719\n",
      "10  30.000     1   0.087719\n"
     ]
    }
   ],
   "source": [
    "mem_pct_2880 = q1_df_node_2880[['mem_int', 'core_node']].groupby('mem_int').agg('count').sort_values(by ='core_node', ascending = False).head(30)\n",
    "mem_pct_2880 = mem_pct_2880.reset_index()\n",
    "mem_pct_2880.columns = [['mem_int','Count']]\n",
    "mem_pct_2880['JobPct'] = mem_pct_2880['Count'] / len(q1_df_node_2880.index) * 100\n",
    "print(mem_pct_2880.head(15))"
   ]
  },
  {
   "cell_type": "code",
   "execution_count": 49,
   "metadata": {},
   "outputs": [
    {
     "data": {
      "text/plain": [
       "Text(0,0.5,'Queue Time (min)')"
      ]
     },
     "execution_count": 49,
     "metadata": {},
     "output_type": "execute_result"
    },
    {
     "data": {
      "image/png": "[encoded data removed]",
      "text/plain": [
       "<Figure size 432x288 with 1 Axes>"
      ]
     },
     "metadata": {},
     "output_type": "display_data"
    }
   ],
   "source": [
    "q1_df_node_2880.plot(kind='scatter', x='mem_int', y='queue_time')\n",
    "plt.title('Queue Time vs Requested Memory')\n",
    "plt.xlabel('Requested Memory (GB)')\n",
    "plt.ylabel('Queue Time (min)')"
   ]
  },
  {
   "cell_type": "code",
   "execution_count": 50,
   "metadata": {},
   "outputs": [
    {
     "name": "stdout",
     "output_type": "stream",
     "text": [
      "    mem_int   queue_time  req_time\n",
      "0     3.000  1651.633333     135.0\n",
      "1    10.000   883.933333     360.0\n",
      "2    15.000   627.650000      90.0\n",
      "3    16.000   327.150000      45.0\n",
      "4    21.000   262.866667    2880.0\n",
      "5     8.000   103.483333     480.0\n",
      "6    14.000    97.466667    4320.0\n",
      "7    20.000    94.533333     180.0\n",
      "8     0.010    82.100000     180.0\n",
      "9    19.200    64.050000    3600.0\n",
      "10    4.000    39.666667     720.0\n",
      "11    1.000    26.250000      15.0\n",
      "12    6.000    14.100000     240.0\n",
      "13    5.000    12.966667      15.0\n",
      "14   12.500     8.166667     720.0\n",
      "15    9.000     7.950000     120.0\n",
      "16    1.024     3.025000      15.0\n",
      "17    2.000     0.208333     720.0\n",
      "18   12.000     0.166667    1200.0\n"
     ]
    }
   ],
   "source": [
    "q1_median_group = q1_df_core.groupby('mem_int').median().sort_values(by = 'queue_time', ascending = False)\n",
    "q1_median_group = q1_median_group.reset_index()\n",
    "print(q1_median_group.head(30))"
   ]
  },
  {
   "cell_type": "code",
   "execution_count": 51,
   "metadata": {},
   "outputs": [
    {
     "data": {
      "text/plain": [
       "Text(0,0.5,'Queue Time (min)')"
      ]
     },
     "execution_count": 51,
     "metadata": {},
     "output_type": "execute_result"
    },
    {
     "data": {
      "image/png": "[encoded data removed]",
      "text/plain": [
       "<Figure size 432x288 with 1 Axes>"
      ]
     },
     "metadata": {},
     "output_type": "display_data"
    }
   ],
   "source": [
    "q1_median_group.plot(kind='scatter', x='mem_int', y='queue_time')\n",
    "plt.title('Queue Time vs Requested Memory')\n",
    "plt.xlabel('Median Requested Memory (GB)')\n",
    "plt.ylabel('Queue Time (min)')"
   ]
  },
  {
   "cell_type": "code",
   "execution_count": 52,
   "metadata": {},
   "outputs": [
    {
     "name": "stdout",
     "output_type": "stream",
     "text": [
      "             Account  queue_time  req_time  mem_int\n",
      "0              accre    2.866667     120.0     0.01\n",
      "1          accre_gpu    0.000000     720.0   100.00\n",
      "2                aim   15.300000     240.0     3.00\n",
      "3      aivas_lab_gpu    0.066667    7200.0    24.00\n",
      "4        aldrich_lab    0.633333    7200.0     2.00\n",
      "5       anderson_mri    0.450000      60.0    16.00\n",
      "6   anderson_mri_gpu    0.016667      60.0    10.00\n",
      "7           beam_lab  263.566667     480.0    16.00\n",
      "8       beam_lab_gpu  435.066667     135.0     3.00\n",
      "9            biomath    0.016667    2400.0    85.00\n",
      "10   biostat_faculty   10.883333     600.0     2.00\n",
      "11       biostat_gpu    0.516667    3000.0   100.00\n",
      "12        biostat_it  384.533333     540.0    16.00\n",
      "13         booth_lab    0.000000     180.0     2.00\n",
      "14        bowman_lab    2.666667     480.0    20.00\n",
      "15            bridge    0.333333   10080.0    20.00\n",
      "16          bsci3272    0.016667     240.0    10.00\n",
      "17  candelaria_group  559.166667     120.0     4.00\n",
      "18         capra_lab   50.133333     600.0     8.00\n",
      "19     capra_lab_csb  140.383333     720.0    10.00\n",
      "20     capra_lab_gpu  110.116667     360.0    20.00\n",
      "21              cerl    4.233333     480.0     2.00\n",
      "22          cerl_gpu    0.016667     360.0     8.00\n",
      "23               cgg  283.650000     300.0     2.00\n",
      "24           cgg_gpu    0.016667     300.0    30.00\n",
      "25       chbe285_gpu  449.900000    5760.0     2.00\n",
      "26     civil_env_eng   10.983333    4320.0     3.00\n",
      "27               cms   59.433333    2880.0     5.00\n",
      "28           cms_gpu   20.216667    2880.0     3.10\n",
      "29       cms_lowprio   59.500000    2880.0     5.00\n"
     ]
    }
   ],
   "source": [
    "# Grouping by account name and seeing the medians of each account\n",
    "q1_account_group = q1_df.groupby('Account').median()\n",
    "q1_account_group = q1_account_group.reset_index()\n",
    "print(q1_account_group.head(30))"
   ]
  },
  {
   "cell_type": "code",
   "execution_count": 105,
   "metadata": {},
   "outputs": [
    {
     "data": {
      "text/html": [
       "<div>\n",
       "<style scoped>\n",
       "    .dataframe tbody tr th:only-of-type {\n",
       "        vertical-align: middle;\n",
       "    }\n",
       "\n",
       "    .dataframe tbody tr th {\n",
       "        vertical-align: top;\n",
       "    }\n",
       "\n",
       "    .dataframe thead th {\n",
       "        text-align: right;\n",
       "    }\n",
       "</style>\n",
       "<table border=\"1\" class=\"dataframe\">\n",
       "  <thead>\n",
       "    <tr style=\"text-align: right;\">\n",
       "      <th></th>\n",
       "      <th>queue_time</th>\n",
       "      <th>req_time</th>\n",
       "      <th>mem_int</th>\n",
       "      <th>core_node</th>\n",
       "      <th>State</th>\n",
       "      <th>Account</th>\n",
       "    </tr>\n",
       "  </thead>\n",
       "  <tbody>\n",
       "    <tr>\n",
       "      <th>13981</th>\n",
       "      <td>0.133333</td>\n",
       "      <td>2880.0</td>\n",
       "      <td>16.0</td>\n",
       "      <td>n</td>\n",
       "      <td>CANCELLED by 207302</td>\n",
       "      <td>beam_lab</td>\n",
       "    </tr>\n",
       "    <tr>\n",
       "      <th>13982</th>\n",
       "      <td>0.016667</td>\n",
       "      <td>2880.0</td>\n",
       "      <td>16.0</td>\n",
       "      <td>n</td>\n",
       "      <td>CANCELLED by 207302</td>\n",
       "      <td>beam_lab</td>\n",
       "    </tr>\n",
       "    <tr>\n",
       "      <th>13983</th>\n",
       "      <td>0.016667</td>\n",
       "      <td>2880.0</td>\n",
       "      <td>16.0</td>\n",
       "      <td>n</td>\n",
       "      <td>CANCELLED by 207302</td>\n",
       "      <td>beam_lab</td>\n",
       "    </tr>\n",
       "    <tr>\n",
       "      <th>13984</th>\n",
       "      <td>0.016667</td>\n",
       "      <td>2880.0</td>\n",
       "      <td>16.0</td>\n",
       "      <td>n</td>\n",
       "      <td>CANCELLED by 207302</td>\n",
       "      <td>beam_lab</td>\n",
       "    </tr>\n",
       "    <tr>\n",
       "      <th>13985</th>\n",
       "      <td>0.016667</td>\n",
       "      <td>2880.0</td>\n",
       "      <td>16.0</td>\n",
       "      <td>n</td>\n",
       "      <td>CANCELLED by 207302</td>\n",
       "      <td>beam_lab</td>\n",
       "    </tr>\n",
       "    <tr>\n",
       "      <th>13986</th>\n",
       "      <td>0.016667</td>\n",
       "      <td>2880.0</td>\n",
       "      <td>16.0</td>\n",
       "      <td>n</td>\n",
       "      <td>CANCELLED by 207302</td>\n",
       "      <td>beam_lab</td>\n",
       "    </tr>\n",
       "    <tr>\n",
       "      <th>13987</th>\n",
       "      <td>0.016667</td>\n",
       "      <td>2880.0</td>\n",
       "      <td>16.0</td>\n",
       "      <td>n</td>\n",
       "      <td>CANCELLED by 207302</td>\n",
       "      <td>beam_lab</td>\n",
       "    </tr>\n",
       "    <tr>\n",
       "      <th>13988</th>\n",
       "      <td>0.016667</td>\n",
       "      <td>2880.0</td>\n",
       "      <td>16.0</td>\n",
       "      <td>n</td>\n",
       "      <td>CANCELLED by 207302</td>\n",
       "      <td>beam_lab</td>\n",
       "    </tr>\n",
       "    <tr>\n",
       "      <th>13989</th>\n",
       "      <td>0.016667</td>\n",
       "      <td>2880.0</td>\n",
       "      <td>16.0</td>\n",
       "      <td>n</td>\n",
       "      <td>CANCELLED by 207302</td>\n",
       "      <td>beam_lab</td>\n",
       "    </tr>\n",
       "    <tr>\n",
       "      <th>13990</th>\n",
       "      <td>0.016667</td>\n",
       "      <td>2880.0</td>\n",
       "      <td>16.0</td>\n",
       "      <td>n</td>\n",
       "      <td>CANCELLED by 207302</td>\n",
       "      <td>beam_lab</td>\n",
       "    </tr>\n",
       "  </tbody>\n",
       "</table>\n",
       "</div>"
      ],
      "text/plain": [
       "       queue_time  req_time  mem_int core_node                State   Account\n",
       "13981    0.133333    2880.0     16.0         n  CANCELLED by 207302  beam_lab\n",
       "13982    0.016667    2880.0     16.0         n  CANCELLED by 207302  beam_lab\n",
       "13983    0.016667    2880.0     16.0         n  CANCELLED by 207302  beam_lab\n",
       "13984    0.016667    2880.0     16.0         n  CANCELLED by 207302  beam_lab\n",
       "13985    0.016667    2880.0     16.0         n  CANCELLED by 207302  beam_lab\n",
       "13986    0.016667    2880.0     16.0         n  CANCELLED by 207302  beam_lab\n",
       "13987    0.016667    2880.0     16.0         n  CANCELLED by 207302  beam_lab\n",
       "13988    0.016667    2880.0     16.0         n  CANCELLED by 207302  beam_lab\n",
       "13989    0.016667    2880.0     16.0         n  CANCELLED by 207302  beam_lab\n",
       "13990    0.016667    2880.0     16.0         n  CANCELLED by 207302  beam_lab"
      ]
     },
     "execution_count": 105,
     "metadata": {},
     "output_type": "execute_result"
    }
   ],
   "source": [
    "q1_df_beamlab = q1_df_node[q1_df_node['Account'] == 'beam_lab']\n",
    "q1_df_beamlab.head(10)"
   ]
  },
  {
   "cell_type": "code",
   "execution_count": 54,
   "metadata": {},
   "outputs": [],
   "source": [
    "# Try filtering out those that are Cancelled"
   ]
  },
  {
   "cell_type": "code",
   "execution_count": 55,
   "metadata": {},
   "outputs": [],
   "source": [
    "# What happens if you compare the common requests to the not so common requests"
   ]
  },
  {
   "cell_type": "markdown",
   "metadata": {},
   "source": [
    "## Examine relationship with maximum requested run time"
   ]
  },
  {
   "cell_type": "code",
   "execution_count": null,
   "metadata": {},
   "outputs": [],
   "source": []
  }
 ],
 "metadata": {
  "kernelspec": {
   "display_name": "Python 3",
   "language": "python",
   "name": "python3"
  },
  "language_info": {
   "codemirror_mode": {
    "name": "ipython",
    "version": 3
   },
   "file_extension": ".py",
   "mimetype": "text/x-python",
   "name": "python",
   "nbconvert_exporter": "python",
   "pygments_lexer": "ipython3",
   "version": "3.6.5"
  }
 },
 "nbformat": 4,
 "nbformat_minor": 2
}
