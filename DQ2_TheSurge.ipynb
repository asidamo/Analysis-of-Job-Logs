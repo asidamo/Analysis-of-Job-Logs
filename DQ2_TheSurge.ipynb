{
 "cells": [
  {
   "cell_type": "markdown",
   "metadata": {},
   "source": [
    "# Data Question 2\n",
    "\n",
    "\n",
    "## How is queue time impacted by RAM requested? How is it impacted by wall time requested?\n",
    "Queue Time is difference between the submit time and the start time, so the amount of time spent in the queue before the job starts\n",
    "\n",
    "## Are there any nodes that fail more than the other ones?\n",
    "    Thoughts on why they fail\n",
    "\n",
    "## Identify problematic users\n",
    "Those people who submit greater than 500 jobs, with each less than 5 minutes within 4 hours"
   ]
  },
  {
   "cell_type": "code",
   "execution_count": 181,
   "metadata": {},
   "outputs": [],
   "source": [
    "#import libraries \n",
    "from shapely.geometry import Point\n",
    "import pandas as pd\n",
    "import geopandas as gpd\n",
    "import matplotlib.pyplot as plt\n",
    "import folium\n",
    "from datetime import datetime\n",
    "import numpy as np\n",
    "import seaborn as sns\n",
    "\n",
    "%matplotlib inline\n",
    "# Increasing default figure size of the notebook\n",
    "plt.rcParams['figure.figsize'] = [12, 8]"
   ]
  },
  {
   "cell_type": "markdown",
   "metadata": {},
   "source": [
    "## Reading in the data to a dataframe called accre_df"
   ]
  },
  {
   "cell_type": "code",
   "execution_count": 2,
   "metadata": {},
   "outputs": [
    {
     "name": "stderr",
     "output_type": "stream",
     "text": [
      "/Users/andrewmarsee/anaconda3/lib/python3.6/site-packages/IPython/core/interactiveshell.py:2785: DtypeWarning: Columns (0,20) have mixed types. Specify dtype option on import or set low_memory=False.\n",
      "  interactivity=interactivity, compiler=compiler, result=result)\n"
     ]
    },
    {
     "data": {
      "text/html": [
       "<div>\n",
       "<style scoped>\n",
       "    .dataframe tbody tr th:only-of-type {\n",
       "        vertical-align: middle;\n",
       "    }\n",
       "\n",
       "    .dataframe tbody tr th {\n",
       "        vertical-align: top;\n",
       "    }\n",
       "\n",
       "    .dataframe thead th {\n",
       "        text-align: right;\n",
       "    }\n",
       "</style>\n",
       "<table border=\"1\" class=\"dataframe\">\n",
       "  <thead>\n",
       "    <tr style=\"text-align: right;\">\n",
       "      <th></th>\n",
       "      <th>JobID</th>\n",
       "      <th>JobIDRaw</th>\n",
       "      <th>Cluster</th>\n",
       "      <th>Partition</th>\n",
       "      <th>Account</th>\n",
       "      <th>Group</th>\n",
       "      <th>GID</th>\n",
       "      <th>User</th>\n",
       "      <th>UID</th>\n",
       "      <th>Submit</th>\n",
       "      <th>...</th>\n",
       "      <th>State</th>\n",
       "      <th>NNodes</th>\n",
       "      <th>NCPUS</th>\n",
       "      <th>ReqCPUS</th>\n",
       "      <th>ReqMem</th>\n",
       "      <th>ReqGRES</th>\n",
       "      <th>ReqTRES</th>\n",
       "      <th>Timelimit</th>\n",
       "      <th>NodeList</th>\n",
       "      <th>JobName</th>\n",
       "    </tr>\n",
       "  </thead>\n",
       "  <tbody>\n",
       "    <tr>\n",
       "      <th>0</th>\n",
       "      <td>15806649</td>\n",
       "      <td>15806649</td>\n",
       "      <td>accre</td>\n",
       "      <td>production</td>\n",
       "      <td>h_vuiis</td>\n",
       "      <td>h_vuiis</td>\n",
       "      <td>36052</td>\n",
       "      <td>masispider</td>\n",
       "      <td>NaN</td>\n",
       "      <td>2017-07-02T00:40:58</td>\n",
       "      <td>...</td>\n",
       "      <td>COMPLETED</td>\n",
       "      <td>1</td>\n",
       "      <td>2</td>\n",
       "      <td>2</td>\n",
       "      <td>12Gn</td>\n",
       "      <td>NaN</td>\n",
       "      <td>cpu=2,mem=12G,node=1</td>\n",
       "      <td>9-04:00:00</td>\n",
       "      <td>vmp1085</td>\n",
       "      <td>WOODWARD_TCP-x-228324-x-228324-x-301-x-Multi_A...</td>\n",
       "    </tr>\n",
       "    <tr>\n",
       "      <th>1</th>\n",
       "      <td>15806664</td>\n",
       "      <td>15806664</td>\n",
       "      <td>accre</td>\n",
       "      <td>production</td>\n",
       "      <td>h_vuiis</td>\n",
       "      <td>h_vuiis</td>\n",
       "      <td>36052</td>\n",
       "      <td>masispider</td>\n",
       "      <td>NaN</td>\n",
       "      <td>2017-07-02T00:40:58</td>\n",
       "      <td>...</td>\n",
       "      <td>COMPLETED</td>\n",
       "      <td>1</td>\n",
       "      <td>2</td>\n",
       "      <td>2</td>\n",
       "      <td>12Gn</td>\n",
       "      <td>NaN</td>\n",
       "      <td>cpu=2,mem=12G,node=1</td>\n",
       "      <td>9-04:00:00</td>\n",
       "      <td>vmp1099</td>\n",
       "      <td>WOODWARD_TCP-x-115174-x-115174-x-301-x-Multi_A...</td>\n",
       "    </tr>\n",
       "    <tr>\n",
       "      <th>2</th>\n",
       "      <td>15806670</td>\n",
       "      <td>15806670</td>\n",
       "      <td>accre</td>\n",
       "      <td>production</td>\n",
       "      <td>h_vuiis</td>\n",
       "      <td>h_vuiis</td>\n",
       "      <td>36052</td>\n",
       "      <td>masispider</td>\n",
       "      <td>NaN</td>\n",
       "      <td>2017-07-02T00:40:58</td>\n",
       "      <td>...</td>\n",
       "      <td>COMPLETED</td>\n",
       "      <td>1</td>\n",
       "      <td>2</td>\n",
       "      <td>2</td>\n",
       "      <td>12Gn</td>\n",
       "      <td>NaN</td>\n",
       "      <td>cpu=2,mem=12G,node=1</td>\n",
       "      <td>9-04:00:00</td>\n",
       "      <td>vmp1126</td>\n",
       "      <td>WOODWARD_TCP-x-215607-x-215607-x-301-x-Multi_A...</td>\n",
       "    </tr>\n",
       "    <tr>\n",
       "      <th>3</th>\n",
       "      <td>15806671</td>\n",
       "      <td>15806671</td>\n",
       "      <td>accre</td>\n",
       "      <td>production</td>\n",
       "      <td>h_vuiis</td>\n",
       "      <td>h_vuiis</td>\n",
       "      <td>36052</td>\n",
       "      <td>masispider</td>\n",
       "      <td>NaN</td>\n",
       "      <td>2017-07-02T00:40:58</td>\n",
       "      <td>...</td>\n",
       "      <td>COMPLETED</td>\n",
       "      <td>1</td>\n",
       "      <td>2</td>\n",
       "      <td>2</td>\n",
       "      <td>12Gn</td>\n",
       "      <td>NaN</td>\n",
       "      <td>cpu=2,mem=12G,node=1</td>\n",
       "      <td>9-04:00:00</td>\n",
       "      <td>vmp230</td>\n",
       "      <td>WOODWARD_TCP-x-116214-x-116214-x-1701-x-Multi_...</td>\n",
       "    </tr>\n",
       "    <tr>\n",
       "      <th>4</th>\n",
       "      <td>15811617</td>\n",
       "      <td>15811617</td>\n",
       "      <td>accre</td>\n",
       "      <td>production</td>\n",
       "      <td>cms_samtest</td>\n",
       "      <td>cms_samtest</td>\n",
       "      <td>59297</td>\n",
       "      <td>uscms010</td>\n",
       "      <td>NaN</td>\n",
       "      <td>2017-07-01T05:00:00</td>\n",
       "      <td>...</td>\n",
       "      <td>COMPLETED</td>\n",
       "      <td>1</td>\n",
       "      <td>1</td>\n",
       "      <td>1</td>\n",
       "      <td>4000Mn</td>\n",
       "      <td>NaN</td>\n",
       "      <td>cpu=1,mem=4000M,node=1</td>\n",
       "      <td>2-00:00:00</td>\n",
       "      <td>vmp1242</td>\n",
       "      <td>bl_aa7c22e04f21</td>\n",
       "    </tr>\n",
       "  </tbody>\n",
       "</table>\n",
       "<p>5 rows × 25 columns</p>\n",
       "</div>"
      ],
      "text/plain": [
       "      JobID  JobIDRaw Cluster   Partition      Account        Group    GID  \\\n",
       "0  15806649  15806649   accre  production      h_vuiis      h_vuiis  36052   \n",
       "1  15806664  15806664   accre  production      h_vuiis      h_vuiis  36052   \n",
       "2  15806670  15806670   accre  production      h_vuiis      h_vuiis  36052   \n",
       "3  15806671  15806671   accre  production      h_vuiis      h_vuiis  36052   \n",
       "4  15811617  15811617   accre  production  cms_samtest  cms_samtest  59297   \n",
       "\n",
       "         User  UID               Submit  \\\n",
       "0  masispider  NaN  2017-07-02T00:40:58   \n",
       "1  masispider  NaN  2017-07-02T00:40:58   \n",
       "2  masispider  NaN  2017-07-02T00:40:58   \n",
       "3  masispider  NaN  2017-07-02T00:40:58   \n",
       "4    uscms010  NaN  2017-07-01T05:00:00   \n",
       "\n",
       "                         ...                              State NNodes NCPUS  \\\n",
       "0                        ...                          COMPLETED      1     2   \n",
       "1                        ...                          COMPLETED      1     2   \n",
       "2                        ...                          COMPLETED      1     2   \n",
       "3                        ...                          COMPLETED      1     2   \n",
       "4                        ...                          COMPLETED      1     1   \n",
       "\n",
       "  ReqCPUS  ReqMem ReqGRES                 ReqTRES   Timelimit  NodeList  \\\n",
       "0       2    12Gn     NaN    cpu=2,mem=12G,node=1  9-04:00:00   vmp1085   \n",
       "1       2    12Gn     NaN    cpu=2,mem=12G,node=1  9-04:00:00   vmp1099   \n",
       "2       2    12Gn     NaN    cpu=2,mem=12G,node=1  9-04:00:00   vmp1126   \n",
       "3       2    12Gn     NaN    cpu=2,mem=12G,node=1  9-04:00:00    vmp230   \n",
       "4       1  4000Mn     NaN  cpu=1,mem=4000M,node=1  2-00:00:00   vmp1242   \n",
       "\n",
       "                                             JobName  \n",
       "0  WOODWARD_TCP-x-228324-x-228324-x-301-x-Multi_A...  \n",
       "1  WOODWARD_TCP-x-115174-x-115174-x-301-x-Multi_A...  \n",
       "2  WOODWARD_TCP-x-215607-x-215607-x-301-x-Multi_A...  \n",
       "3  WOODWARD_TCP-x-116214-x-116214-x-1701-x-Multi_...  \n",
       "4                                    bl_aa7c22e04f21  \n",
       "\n",
       "[5 rows x 25 columns]"
      ]
     },
     "execution_count": 2,
     "metadata": {},
     "output_type": "execute_result"
    }
   ],
   "source": [
    "accre_df = pd.read_csv('Data/july-2017-thru-june-2018.txt', sep = '|')\n",
    "accre_df.head()"
   ]
  },
  {
   "cell_type": "code",
   "execution_count": 3,
   "metadata": {},
   "outputs": [
    {
     "data": {
      "text/html": [
       "<div>\n",
       "<style scoped>\n",
       "    .dataframe tbody tr th:only-of-type {\n",
       "        vertical-align: middle;\n",
       "    }\n",
       "\n",
       "    .dataframe tbody tr th {\n",
       "        vertical-align: top;\n",
       "    }\n",
       "\n",
       "    .dataframe thead th {\n",
       "        text-align: right;\n",
       "    }\n",
       "</style>\n",
       "<table border=\"1\" class=\"dataframe\">\n",
       "  <thead>\n",
       "    <tr style=\"text-align: right;\">\n",
       "      <th></th>\n",
       "      <th>JobID</th>\n",
       "      <th>JobIDRaw</th>\n",
       "      <th>Cluster</th>\n",
       "      <th>Partition</th>\n",
       "      <th>Account</th>\n",
       "      <th>Group</th>\n",
       "      <th>GID</th>\n",
       "      <th>User</th>\n",
       "      <th>UID</th>\n",
       "      <th>Submit</th>\n",
       "      <th>...</th>\n",
       "      <th>State</th>\n",
       "      <th>NNodes</th>\n",
       "      <th>NCPUS</th>\n",
       "      <th>ReqCPUS</th>\n",
       "      <th>ReqMem</th>\n",
       "      <th>ReqGRES</th>\n",
       "      <th>ReqTRES</th>\n",
       "      <th>Timelimit</th>\n",
       "      <th>NodeList</th>\n",
       "      <th>JobName</th>\n",
       "    </tr>\n",
       "  </thead>\n",
       "  <tbody>\n",
       "    <tr>\n",
       "      <th>12499384</th>\n",
       "      <td>28331351</td>\n",
       "      <td>28331351</td>\n",
       "      <td>accre</td>\n",
       "      <td>production</td>\n",
       "      <td>cms_stage3</td>\n",
       "      <td>cms</td>\n",
       "      <td>31000</td>\n",
       "      <td>janjamrk</td>\n",
       "      <td>171357.0</td>\n",
       "      <td>2018-06-30T23:54:21</td>\n",
       "      <td>...</td>\n",
       "      <td>FAILED</td>\n",
       "      <td>1</td>\n",
       "      <td>1</td>\n",
       "      <td>1</td>\n",
       "      <td>4Gc</td>\n",
       "      <td>NaN</td>\n",
       "      <td>cpu=1,mem=4G,node=1</td>\n",
       "      <td>01:00:00</td>\n",
       "      <td>vmp1314</td>\n",
       "      <td>2018-06-30-040817_6</td>\n",
       "    </tr>\n",
       "    <tr>\n",
       "      <th>12499385</th>\n",
       "      <td>28331352</td>\n",
       "      <td>28331352</td>\n",
       "      <td>accre</td>\n",
       "      <td>production</td>\n",
       "      <td>cms_stage3</td>\n",
       "      <td>cms</td>\n",
       "      <td>31000</td>\n",
       "      <td>janjamrk</td>\n",
       "      <td>171357.0</td>\n",
       "      <td>2018-06-30T23:54:22</td>\n",
       "      <td>...</td>\n",
       "      <td>FAILED</td>\n",
       "      <td>1</td>\n",
       "      <td>1</td>\n",
       "      <td>1</td>\n",
       "      <td>4Gc</td>\n",
       "      <td>NaN</td>\n",
       "      <td>cpu=1,mem=4G,node=1</td>\n",
       "      <td>01:00:00</td>\n",
       "      <td>vmp1315</td>\n",
       "      <td>2018-06-30-040817_7</td>\n",
       "    </tr>\n",
       "    <tr>\n",
       "      <th>12499386</th>\n",
       "      <td>28331353</td>\n",
       "      <td>28331353</td>\n",
       "      <td>accre</td>\n",
       "      <td>production</td>\n",
       "      <td>cms_stage3</td>\n",
       "      <td>cms</td>\n",
       "      <td>31000</td>\n",
       "      <td>janjamrk</td>\n",
       "      <td>171357.0</td>\n",
       "      <td>2018-06-30T23:54:22</td>\n",
       "      <td>...</td>\n",
       "      <td>FAILED</td>\n",
       "      <td>1</td>\n",
       "      <td>1</td>\n",
       "      <td>1</td>\n",
       "      <td>4Gc</td>\n",
       "      <td>NaN</td>\n",
       "      <td>cpu=1,mem=4G,node=1</td>\n",
       "      <td>01:00:00</td>\n",
       "      <td>vmp1315</td>\n",
       "      <td>2018-06-30-040817_8</td>\n",
       "    </tr>\n",
       "    <tr>\n",
       "      <th>12499387</th>\n",
       "      <td>28331356</td>\n",
       "      <td>28331356</td>\n",
       "      <td>accre</td>\n",
       "      <td>production</td>\n",
       "      <td>cms_stage2</td>\n",
       "      <td>cms</td>\n",
       "      <td>31000</td>\n",
       "      <td>autocms</td>\n",
       "      <td>9209.0</td>\n",
       "      <td>2018-06-30T23:55:01</td>\n",
       "      <td>...</td>\n",
       "      <td>COMPLETED</td>\n",
       "      <td>1</td>\n",
       "      <td>1</td>\n",
       "      <td>1</td>\n",
       "      <td>2Gc</td>\n",
       "      <td>NaN</td>\n",
       "      <td>cpu=1,mem=2G,node=1</td>\n",
       "      <td>12:00:00</td>\n",
       "      <td>vmp1065</td>\n",
       "      <td>skim_test</td>\n",
       "    </tr>\n",
       "    <tr>\n",
       "      <th>12499388</th>\n",
       "      <td>28331357</td>\n",
       "      <td>28331357</td>\n",
       "      <td>accre</td>\n",
       "      <td>production</td>\n",
       "      <td>cms_samtest</td>\n",
       "      <td>cms_samtest</td>\n",
       "      <td>59297</td>\n",
       "      <td>uscms010</td>\n",
       "      <td>NaN</td>\n",
       "      <td>2018-06-30T23:55:31</td>\n",
       "      <td>...</td>\n",
       "      <td>COMPLETED</td>\n",
       "      <td>1</td>\n",
       "      <td>1</td>\n",
       "      <td>1</td>\n",
       "      <td>4000Mn</td>\n",
       "      <td>NaN</td>\n",
       "      <td>cpu=1,mem=4000M,node=1</td>\n",
       "      <td>2-00:00:00</td>\n",
       "      <td>vmp1298</td>\n",
       "      <td>bl_0e20773d4484</td>\n",
       "    </tr>\n",
       "  </tbody>\n",
       "</table>\n",
       "<p>5 rows × 25 columns</p>\n",
       "</div>"
      ],
      "text/plain": [
       "             JobID  JobIDRaw Cluster   Partition      Account        Group  \\\n",
       "12499384  28331351  28331351   accre  production   cms_stage3          cms   \n",
       "12499385  28331352  28331352   accre  production   cms_stage3          cms   \n",
       "12499386  28331353  28331353   accre  production   cms_stage3          cms   \n",
       "12499387  28331356  28331356   accre  production   cms_stage2          cms   \n",
       "12499388  28331357  28331357   accre  production  cms_samtest  cms_samtest   \n",
       "\n",
       "            GID      User       UID               Submit         ...           \\\n",
       "12499384  31000  janjamrk  171357.0  2018-06-30T23:54:21         ...            \n",
       "12499385  31000  janjamrk  171357.0  2018-06-30T23:54:22         ...            \n",
       "12499386  31000  janjamrk  171357.0  2018-06-30T23:54:22         ...            \n",
       "12499387  31000   autocms    9209.0  2018-06-30T23:55:01         ...            \n",
       "12499388  59297  uscms010       NaN  2018-06-30T23:55:31         ...            \n",
       "\n",
       "              State NNodes NCPUS ReqCPUS  ReqMem ReqGRES  \\\n",
       "12499384     FAILED      1     1       1     4Gc     NaN   \n",
       "12499385     FAILED      1     1       1     4Gc     NaN   \n",
       "12499386     FAILED      1     1       1     4Gc     NaN   \n",
       "12499387  COMPLETED      1     1       1     2Gc     NaN   \n",
       "12499388  COMPLETED      1     1       1  4000Mn     NaN   \n",
       "\n",
       "                         ReqTRES   Timelimit  NodeList              JobName  \n",
       "12499384     cpu=1,mem=4G,node=1    01:00:00   vmp1314  2018-06-30-040817_6  \n",
       "12499385     cpu=1,mem=4G,node=1    01:00:00   vmp1315  2018-06-30-040817_7  \n",
       "12499386     cpu=1,mem=4G,node=1    01:00:00   vmp1315  2018-06-30-040817_8  \n",
       "12499387     cpu=1,mem=2G,node=1    12:00:00   vmp1065            skim_test  \n",
       "12499388  cpu=1,mem=4000M,node=1  2-00:00:00   vmp1298      bl_0e20773d4484  \n",
       "\n",
       "[5 rows x 25 columns]"
      ]
     },
     "execution_count": 3,
     "metadata": {},
     "output_type": "execute_result"
    }
   ],
   "source": [
    "accre_df.tail()"
   ]
  },
  {
   "cell_type": "code",
   "execution_count": 4,
   "metadata": {},
   "outputs": [
    {
     "name": "stdout",
     "output_type": "stream",
     "text": [
      "Index(['JobID', 'JobIDRaw', 'Cluster', 'Partition', 'Account', 'Group', 'GID',\n",
      "       'User', 'UID', 'Submit', 'Eligible', 'Start', 'End', 'Elapsed',\n",
      "       'ExitCode', 'State', 'NNodes', 'NCPUS', 'ReqCPUS', 'ReqMem', 'ReqGRES',\n",
      "       'ReqTRES', 'Timelimit', 'NodeList', 'JobName'],\n",
      "      dtype='object')\n",
      "The shape of the df is (12499389, 25)\n"
     ]
    }
   ],
   "source": [
    "print(accre_df.columns)\n",
    "print('The shape of the df is ' + str(accre_df.shape))"
   ]
  },
  {
   "cell_type": "markdown",
   "metadata": {},
   "source": [
    "# First question regards finding queue time\n",
    "\n",
    "# We need a queue time formula\n",
    "\n",
    "## Queue time = Start time - submit time\n",
    "\n",
    "Queue time is the amount of time that a user has to wait until the job runs"
   ]
  },
  {
   "cell_type": "markdown",
   "metadata": {},
   "source": [
    "## We want to see how requested RAM (reqMem) and requested wall time (Timelimit) affect the Queue time"
   ]
  },
  {
   "cell_type": "code",
   "execution_count": 5,
   "metadata": {
    "scrolled": false
   },
   "outputs": [
    {
     "name": "stdout",
     "output_type": "stream",
     "text": [
      "<class 'pandas.core.frame.DataFrame'>\n",
      "RangeIndex: 12499389 entries, 0 to 12499388\n",
      "Data columns (total 25 columns):\n",
      "JobID        object\n",
      "JobIDRaw     int64\n",
      "Cluster      object\n",
      "Partition    object\n",
      "Account      object\n",
      "Group        object\n",
      "GID          int64\n",
      "User         object\n",
      "UID          float64\n",
      "Submit       object\n",
      "Eligible     object\n",
      "Start        object\n",
      "End          object\n",
      "Elapsed      object\n",
      "ExitCode     object\n",
      "State        object\n",
      "NNodes       int64\n",
      "NCPUS        int64\n",
      "ReqCPUS      int64\n",
      "ReqMem       object\n",
      "ReqGRES      object\n",
      "ReqTRES      object\n",
      "Timelimit    object\n",
      "NodeList     object\n",
      "JobName      object\n",
      "dtypes: float64(1), int64(5), object(19)\n",
      "memory usage: 2.3+ GB\n"
     ]
    }
   ],
   "source": [
    "# Get the data types and size of each of the columns\n",
    "accre_df.info()"
   ]
  },
  {
   "cell_type": "markdown",
   "metadata": {},
   "source": [
    "## Submit and start times are both strings, so we need to convert those to a form that we can use"
   ]
  },
  {
   "cell_type": "markdown",
   "metadata": {},
   "source": [
    "## We want to get the Timelimit column in a standard format\n",
    "\n",
    "Currently the format is d-h:m:s\n",
    "However, this format breaks down if the requested time is less than 1 day. This makes the format h:m:s\n",
    "Need to standardize the format so that it can be changed to datetime format"
   ]
  },
  {
   "cell_type": "code",
   "execution_count": 6,
   "metadata": {},
   "outputs": [],
   "source": [
    "# Change the submit and start column to a date time 64 data type\n",
    "accre_df['Submit'] = pd.to_datetime(accre_df['Submit'])#, format=\"%Y/%m/%d\")\n",
    "accre_df['Start'] = pd.to_datetime(accre_df['Start'])#, format=\"%Y/%m/%d\")\n"
   ]
  },
  {
   "cell_type": "markdown",
   "metadata": {},
   "source": [
    "## We'll need the end column converted for question 3, so we'll do that now"
   ]
  },
  {
   "cell_type": "code",
   "execution_count": 7,
   "metadata": {},
   "outputs": [],
   "source": [
    "accre_df['End']=pd.to_datetime(accre_df['End'])\n"
   ]
  },
  {
   "cell_type": "markdown",
   "metadata": {},
   "source": [
    "## Subtract the submit time from the queue time to find the queue time"
   ]
  },
  {
   "cell_type": "code",
   "execution_count": 8,
   "metadata": {},
   "outputs": [
    {
     "name": "stdout",
     "output_type": "stream",
     "text": [
      "0    1 days 01:33:01\n",
      "1    1 days 01:39:10\n",
      "2    1 days 02:00:15\n",
      "3    1 days 02:10:55\n",
      "4    0 days 00:00:01\n",
      "5    0 days 00:00:03\n",
      "6    0 days 00:00:02\n",
      "7    0 days 00:00:01\n",
      "8    0 days 00:00:01\n",
      "9    0 days 00:00:03\n",
      "10   0 days 00:01:43\n",
      "11   0 days 00:23:01\n",
      "12   0 days 00:36:42\n",
      "13   0 days 01:01:42\n",
      "14   0 days 01:25:36\n",
      "15   0 days 01:40:07\n",
      "16   0 days 02:01:42\n",
      "17   0 days 03:01:45\n",
      "18   0 days 03:41:41\n",
      "19   0 days 03:51:59\n",
      "Name: queue_time, dtype: timedelta64[ns]\n"
     ]
    }
   ],
   "source": [
    "accre_df['queue_time'] = accre_df['Start'] - accre_df['Submit']\n",
    "print(accre_df.queue_time.head(20))"
   ]
  },
  {
   "cell_type": "markdown",
   "metadata": {},
   "source": [
    "## Elapsed column needs to be in timedelta format"
   ]
  },
  {
   "cell_type": "code",
   "execution_count": 9,
   "metadata": {},
   "outputs": [],
   "source": [
    "accre_df['Elapsed']=accre_df['End']-accre_df['Start']\n"
   ]
  },
  {
   "cell_type": "markdown",
   "metadata": {},
   "source": [
    "## Checking to make sure that the datatypes are now what we want them to be"
   ]
  },
  {
   "cell_type": "code",
   "execution_count": 10,
   "metadata": {},
   "outputs": [
    {
     "name": "stdout",
     "output_type": "stream",
     "text": [
      "<class 'pandas.core.frame.DataFrame'>\n",
      "RangeIndex: 12499389 entries, 0 to 12499388\n",
      "Data columns (total 26 columns):\n",
      "JobID         object\n",
      "JobIDRaw      int64\n",
      "Cluster       object\n",
      "Partition     object\n",
      "Account       object\n",
      "Group         object\n",
      "GID           int64\n",
      "User          object\n",
      "UID           float64\n",
      "Submit        datetime64[ns]\n",
      "Eligible      object\n",
      "Start         datetime64[ns]\n",
      "End           datetime64[ns]\n",
      "Elapsed       timedelta64[ns]\n",
      "ExitCode      object\n",
      "State         object\n",
      "NNodes        int64\n",
      "NCPUS         int64\n",
      "ReqCPUS       int64\n",
      "ReqMem        object\n",
      "ReqGRES       object\n",
      "ReqTRES       object\n",
      "Timelimit     object\n",
      "NodeList      object\n",
      "JobName       object\n",
      "queue_time    timedelta64[ns]\n",
      "dtypes: datetime64[ns](3), float64(1), int64(5), object(15), timedelta64[ns](2)\n",
      "memory usage: 2.4+ GB\n"
     ]
    }
   ],
   "source": [
    "accre_df.info()"
   ]
  },
  {
   "cell_type": "markdown",
   "metadata": {},
   "source": [
    "## Convert the timedelta64 from the queue_time column to seconds (float) for further processing"
   ]
  },
  {
   "cell_type": "code",
   "execution_count": 11,
   "metadata": {},
   "outputs": [],
   "source": [
    "# Convert the queue time to a floating point number containing the seconds it took to start\n",
    "accre_df['queue_time'] = accre_df.queue_time.dt.total_seconds()\n",
    "\n",
    "#print(accre_df['queue_time'].head(10))"
   ]
  },
  {
   "cell_type": "markdown",
   "metadata": {},
   "source": [
    "## Convert to minutes for smaller scale"
   ]
  },
  {
   "cell_type": "code",
   "execution_count": 12,
   "metadata": {},
   "outputs": [],
   "source": [
    "accre_df['queue_time'] = accre_df['queue_time'] /60\n",
    "#print(accre_df['queue_time'].head(10))"
   ]
  },
  {
   "cell_type": "markdown",
   "metadata": {},
   "source": [
    "## Now we have the queue time in a floating point number\n",
    "## Next we need to get the requested memory and requested wall time in a usable format\n",
    "\n",
    "## We need to get the Requested Time ('Timelimit') in a usable format"
   ]
  },
  {
   "cell_type": "code",
   "execution_count": 13,
   "metadata": {},
   "outputs": [
    {
     "name": "stdout",
     "output_type": "stream",
     "text": [
      "0     13200.0\n",
      "1     13200.0\n",
      "2     13200.0\n",
      "3     13200.0\n",
      "4      2880.0\n",
      "5       720.0\n",
      "6       720.0\n",
      "7      2880.0\n",
      "8       720.0\n",
      "9       720.0\n",
      "10     7680.0\n",
      "11     7680.0\n",
      "12     7680.0\n",
      "13     7680.0\n",
      "14     7680.0\n",
      "15     7680.0\n",
      "16     7680.0\n",
      "17     7680.0\n",
      "18     7680.0\n",
      "19     7680.0\n",
      "Name: req_time, dtype: float64\n"
     ]
    }
   ],
   "source": [
    "# Get Days, hours, minutes, and seconds from Timelimit column\n",
    "req_days = pd.to_numeric(accre_df['Timelimit'].str[:-9]).fillna(value=0)\n",
    "req_hours = pd.to_numeric(accre_df['Timelimit'].str[-8:-6])\n",
    "req_minutes = pd.to_numeric(accre_df['Timelimit'].str[-5:-3])\n",
    "req_secs = pd.to_numeric(accre_df['Timelimit'].str[-2:])\n",
    "# Apply formula to get total time in minutes\n",
    "accre_df['req_time'] = (req_days*1440)+(req_hours*60)+(req_minutes)+(req_secs/60)\n",
    "\n",
    "print(accre_df['req_time'].head(20))"
   ]
  },
  {
   "cell_type": "markdown",
   "metadata": {},
   "source": [
    "## Checking to see what the most common requested times are"
   ]
  },
  {
   "cell_type": "code",
   "execution_count": 14,
   "metadata": {},
   "outputs": [
    {
     "name": "stdout",
     "output_type": "stream",
     "text": [
      "   req_time JobCount     JobPct\n",
      "0    2880.0  4826451  38.613495\n",
      "1     720.0   898436   7.187839\n",
      "2     120.0   869582   6.956996\n",
      "3     360.0   562836   4.502908\n",
      "4     300.0   497884   3.983267\n",
      "5    1200.0   435674   3.485562\n",
      "6      30.0   405551   3.244567\n",
      "7      60.0   394684   3.157626\n",
      "8     240.0   393654   3.149386\n",
      "9      45.0   316562   2.532620\n",
      "10   1440.0   269345   2.154865\n",
      "11    600.0   224589   1.796800\n",
      "12    180.0   187525   1.500273\n",
      "13     15.0   174400   1.395268\n",
      "14  20160.0   166342   1.330801\n"
     ]
    }
   ],
   "source": [
    "req_time_group=accre_df[['req_time', 'JobIDRaw']].groupby('req_time').agg('count').sort_values(by ='JobIDRaw', ascending = False)\n",
    "req_time_group = req_time_group.reset_index()\n",
    "req_time_group.columns = [['req_time','JobCount']]\n",
    "req_time_group['JobPct'] = req_time_group['JobCount'] / len(accre_df.index) * 100\n",
    "print(req_time_group.head(15))"
   ]
  },
  {
   "cell_type": "markdown",
   "metadata": {},
   "source": [
    "## We can see that the most popular amount of time requested is 2 Days (2880 minutes)\n",
    "\n",
    "## Next is 12 hours, followed by 2 hours then 6 hours"
   ]
  },
  {
   "cell_type": "markdown",
   "metadata": {},
   "source": [
    "## Now we have the requested max wall time (min) in a column called req_time\n",
    "\n",
    "## Next we need to get the requested memory in a usable format"
   ]
  },
  {
   "cell_type": "markdown",
   "metadata": {},
   "source": [
    "## Creating groups based on how the users requested memory\n",
    "\n",
    "## Gc = GB per core\n",
    "## Mc = MB per core\n",
    "## Gn = GB per node\n",
    "## Mn = MB per node"
   ]
  },
  {
   "cell_type": "code",
   "execution_count": 15,
   "metadata": {},
   "outputs": [
    {
     "name": "stdout",
     "output_type": "stream",
     "text": [
      "  MemReqCat JobCount     JobPct\n",
      "0        Mn  7767300  62.141437\n",
      "1        Gn  2611077  20.889637\n",
      "2        Gc  1894041  15.153069\n",
      "3        Mc   118303   0.946470\n",
      "4        0n   108668   0.869386\n"
     ]
    }
   ],
   "source": [
    "# Requested memory is in the column ReqMem\n",
    "# Number at beginning signifies amount of RAM in either MB or GB, depending if the letter is M or G\n",
    "# The amount of RAM is per core or node, depending whether the last letter is c or n\n",
    "gig_ind_percore = accre_df['ReqMem'].str[-2:] == 'Gc'\n",
    "meg_ind_percore = accre_df['ReqMem'].str[-2:] == 'Mc'\n",
    "gig_ind_pernode = accre_df['ReqMem'].str[-2:] == 'Gn'\n",
    "meg_ind_pernode = accre_df['ReqMem'].str[-2:] == 'Mn'\n",
    "# Checking an example of the bool mask\n",
    "#Creating a new column with the categories\n",
    "accre_df['mem_cat'] = accre_df['ReqMem'].str[-2:]\n",
    "\n",
    "# Counting the number of people who make certain requests and \n",
    "# finding percentage of total jobs\n",
    "mem_categories=accre_df[['mem_cat', 'JobIDRaw']].groupby('mem_cat').agg('count').sort_values(by ='JobIDRaw', ascending = False)\n",
    "mem_categories = mem_categories.reset_index()\n",
    "mem_categories.columns = [['MemReqCat','JobCount']]\n",
    "mem_categories['JobPct'] = mem_categories['JobCount'] / len(accre_df.index) * 100\n",
    "print(mem_categories)\n",
    "\n",
    "#print(gig_ind_percore.tail(20))\n"
   ]
  },
  {
   "cell_type": "markdown",
   "metadata": {},
   "source": [
    "## Convert the requested memory to floating point values"
   ]
  },
  {
   "cell_type": "code",
   "execution_count": 16,
   "metadata": {},
   "outputs": [],
   "source": [
    "# Taking everything up to the second to last character because that will be the amount of memory requested\n",
    "accre_df['mem_int'] = accre_df['ReqMem'].str[:-2]\n",
    "accre_df['mem_int'] = pd.to_numeric(accre_df.mem_int)\n",
    "#print(accre_df.mem_int.head(10))"
   ]
  },
  {
   "cell_type": "markdown",
   "metadata": {},
   "source": [
    "## Convert all of the requested memory to GB\n",
    "\n",
    "This makes it a little easier to handle if everything is in the same unit"
   ]
  },
  {
   "cell_type": "code",
   "execution_count": 17,
   "metadata": {},
   "outputs": [
    {
     "name": "stdout",
     "output_type": "stream",
     "text": [
      "0    12.0\n",
      "1    12.0\n",
      "2    12.0\n",
      "3    12.0\n",
      "4     4.0\n",
      "5     2.0\n",
      "6     2.0\n",
      "7     4.0\n",
      "8     2.0\n",
      "9     2.0\n",
      "Name: mem_int, dtype: float64\n"
     ]
    }
   ],
   "source": [
    "# Grabbing the first character and checking if it is M\n",
    "# Those are divided by 1000 to get everything in GB\n",
    "accre_df.loc[accre_df['mem_cat'].str[0] == 'M', 'mem_int'] = accre_df['mem_int'] / 1000\n",
    "print(accre_df.mem_int.head(10))"
   ]
  },
  {
   "cell_type": "markdown",
   "metadata": {},
   "source": [
    "## Sorting the values to see what the most memory requested was"
   ]
  },
  {
   "cell_type": "code",
   "execution_count": 18,
   "metadata": {},
   "outputs": [
    {
     "name": "stdout",
     "output_type": "stream",
     "text": [
      "8673264    100000.0\n",
      "5062374      2000.0\n",
      "5062383      2000.0\n",
      "5062390      2000.0\n",
      "5062375      2000.0\n",
      "Name: mem_int, dtype: float64\n"
     ]
    }
   ],
   "source": [
    "print(accre_df.mem_int.sort_values(ascending = False).head(5))"
   ]
  },
  {
   "cell_type": "markdown",
   "metadata": {},
   "source": [
    "## We can see that some people requested a lot of memory. The highest amount was 100,000 GB!!"
   ]
  },
  {
   "cell_type": "markdown",
   "metadata": {},
   "source": [
    "## Creating a new column with either an n or c to signify whether the data requested is per node or per core"
   ]
  },
  {
   "cell_type": "code",
   "execution_count": 19,
   "metadata": {},
   "outputs": [
    {
     "name": "stdout",
     "output_type": "stream",
     "text": [
      "0    n\n",
      "1    n\n",
      "2    n\n",
      "3    n\n",
      "4    n\n",
      "5    c\n",
      "6    c\n",
      "7    n\n",
      "8    c\n",
      "9    c\n",
      "Name: core_node, dtype: object\n"
     ]
    }
   ],
   "source": [
    "# Creating a new column with n or c to signify if the requested memory is per core or per node\n",
    "accre_df['core_node'] = accre_df['ReqMem'].str[-1]\n",
    "print(accre_df.core_node.head(10))"
   ]
  },
  {
   "cell_type": "markdown",
   "metadata": {},
   "source": [
    "## Percent of people by how much memory they request"
   ]
  },
  {
   "cell_type": "code",
   "execution_count": 20,
   "metadata": {},
   "outputs": [
    {
     "name": "stdout",
     "output_type": "stream",
     "text": [
      "   ReqMemGB    Count     JobPct\n",
      "0     5.000  2490164  19.922286\n",
      "1    28.000  2038353  16.307621\n",
      "2     2.000  1501889  12.015699\n",
      "3    16.000  1004291   8.034721\n",
      "4    10.000   924773   7.398546\n",
      "5     8.000   877931   7.023791\n",
      "6     1.024   828131   6.625372\n",
      "7     4.000   768971   6.152069\n",
      "8    20.000   492852   3.943009\n",
      "9     3.000   271273   2.170290\n",
      "10    1.000   246819   1.974649\n",
      "11   12.000   229118   1.833034\n",
      "12   15.000   151082   1.208715\n",
      "13   24.000   133831   1.070700\n",
      "14    6.000    68566   0.548555\n",
      "15   40.000    43164   0.345329\n",
      "16   50.000    42925   0.343417\n",
      "17   30.000    41158   0.329280\n",
      "18  100.000    26627   0.213026\n",
      "19   35.000    22113   0.176913\n"
     ]
    }
   ],
   "source": [
    "mem_pct_group=accre_df[['mem_int', 'JobIDRaw']].groupby('mem_int').agg('count').sort_values(by ='JobIDRaw', ascending = False).head(30)\n",
    "mem_pct_group = mem_pct_group.reset_index()\n",
    "mem_pct_group.columns = [['ReqMemGB','Count']]\n",
    "mem_pct_group['JobPct'] = mem_pct_group['Count'] / len(accre_df.index) * 100\n",
    "print(mem_pct_group.head(20))"
   ]
  },
  {
   "cell_type": "markdown",
   "metadata": {},
   "source": [
    "# Now we have everything we need to visualize how requested time and memory affect queue time\n",
    "\n",
    "## Can group by per core and also per node\n",
    "\n",
    "## plot queue time vs requested memory\n",
    "## plot queue time vs requested time"
   ]
  },
  {
   "cell_type": "markdown",
   "metadata": {},
   "source": [
    "# First create smaller dataframe with just queue time, req_time, mem_int, core_node, state, and account columns"
   ]
  },
  {
   "cell_type": "code",
   "execution_count": 21,
   "metadata": {},
   "outputs": [
    {
     "name": "stdout",
     "output_type": "stream",
     "text": [
      "     queue_time  req_time  mem_int core_node      State      Account\n",
      "0   1533.016667   13200.0     12.0         n  COMPLETED      h_vuiis\n",
      "1   1539.166667   13200.0     12.0         n  COMPLETED      h_vuiis\n",
      "2   1560.250000   13200.0     12.0         n  COMPLETED      h_vuiis\n",
      "3   1570.916667   13200.0     12.0         n  COMPLETED      h_vuiis\n",
      "4      0.016667    2880.0      4.0         n  COMPLETED  cms_samtest\n",
      "5      0.050000     720.0      2.0         c  COMPLETED   cms_stage2\n",
      "6      0.033333     720.0      2.0         c  COMPLETED   cms_stage2\n",
      "7      0.016667    2880.0      4.0         n  COMPLETED  cms_samtest\n",
      "8      0.016667     720.0      2.0         c  COMPLETED   cms_stage2\n",
      "9      0.050000     720.0      2.0         c  COMPLETED   cms_stage2\n",
      "10     1.716667    7680.0     10.0         n  COMPLETED      h_vuiis\n",
      "11    23.016667    7680.0     10.0         n  COMPLETED      h_vuiis\n",
      "12    36.700000    7680.0     10.0         n  COMPLETED      h_vuiis\n",
      "13    61.700000    7680.0     10.0         n  COMPLETED      h_vuiis\n",
      "14    85.600000    7680.0     10.0         n  COMPLETED      h_vuiis\n"
     ]
    }
   ],
   "source": [
    "q1_df = accre_df[['queue_time', 'req_time', 'mem_int', 'core_node', 'State', 'Account']]\n",
    "print(q1_df.head(15))"
   ]
  },
  {
   "cell_type": "markdown",
   "metadata": {},
   "source": [
    "## randomly sample data for plotting"
   ]
  },
  {
   "cell_type": "code",
   "execution_count": 22,
   "metadata": {
    "scrolled": false
   },
   "outputs": [],
   "source": [
    "# create random sample of 5000 integers\n",
    "indices = np.random.randint(0, len(q1_df), 5000)\n",
    "q1_df_rand = q1_df.iloc[indices]\n",
    "#print(q1_df_rand.head())\n",
    "#print('The shape of the random subset is ' + str(q1_df_rand.shape))"
   ]
  },
  {
   "cell_type": "markdown",
   "metadata": {},
   "source": [
    "## Time to plot the data in the random subset\n",
    "\n",
    "## Scatter plots to get an idea of what's going on with the data"
   ]
  },
  {
   "cell_type": "code",
   "execution_count": 23,
   "metadata": {},
   "outputs": [
    {
     "data": {
      "text/plain": [
       "Text(0,0.5,'Queue Time (min)')"
      ]
     },
     "execution_count": 23,
     "metadata": {},
     "output_type": "execute_result"
    },
    {
     "data": {
      "image/png": "[encoded data removed]",
      "text/plain": [
       "<Figure size 432x288 with 1 Axes>"
      ]
     },
     "metadata": {},
     "output_type": "display_data"
    }
   ],
   "source": [
    "q1_df_rand.plot(kind='scatter', x='req_time', y='queue_time', xlim=(0,20000), ylim=(0,10000), fontsize = 16)\n",
    "plt.title('Queue Time vs Requested Wall Time', fontsize = 16)\n",
    "plt.xlabel('Requested Wall Time (min)', fontsize = 16)\n",
    "plt.ylabel('Queue Time (min)', fontsize = 16)"
   ]
  },
  {
   "cell_type": "code",
   "execution_count": 24,
   "metadata": {},
   "outputs": [
    {
     "data": {
      "text/plain": [
       "Text(0,0.5,'Queue Time (min)')"
      ]
     },
     "execution_count": 24,
     "metadata": {},
     "output_type": "execute_result"
    },
    {
     "data": {
      "image/png": "[encoded data removed]",
      "text/plain": [
       "<Figure size 432x288 with 1 Axes>"
      ]
     },
     "metadata": {},
     "output_type": "display_data"
    }
   ],
   "source": [
    "q1_df_rand.plot(kind='scatter', x='mem_int', y='queue_time', fontsize = 16)\n",
    "plt.title('Queue Time vs Requested Memory', fontsize = 16)\n",
    "plt.xlabel('Requested Memory (GB)', fontsize = 16)\n",
    "plt.ylabel('Queue Time (min)', fontsize = 16)"
   ]
  },
  {
   "cell_type": "markdown",
   "metadata": {},
   "source": [
    "# There doesn't appear to be much correlation between the variables\n",
    "\n",
    "# Maybe a slight negative correlation between Queue Time and Max Wall Time"
   ]
  },
  {
   "cell_type": "markdown",
   "metadata": {},
   "source": [
    "## Let's look at the distribution of Requested Wall Times"
   ]
  },
  {
   "cell_type": "code",
   "execution_count": 182,
   "metadata": {},
   "outputs": [
    {
     "data": {
      "text/plain": [
       "Text(0.5,0,'Requested Time (min)')"
      ]
     },
     "execution_count": 182,
     "metadata": {},
     "output_type": "execute_result"
    },
    {
     "data": {
      "image/png": "[encoded data removed]",
      "text/plain": [
       "<Figure size 864x576 with 1 Axes>"
      ]
     },
     "metadata": {},
     "output_type": "display_data"
    }
   ],
   "source": [
    "q1_df['req_time'].plot(kind='hist', bins = 60, range = (0,3000), fontsize = 16)\n",
    "plt.xlabel('Requested Time (min)', fontsize = 16)"
   ]
  },
  {
   "cell_type": "code",
   "execution_count": 185,
   "metadata": {},
   "outputs": [
    {
     "data": {
      "text/plain": [
       "Text(0.5,0,'Requested Memory (GB)')"
      ]
     },
     "execution_count": 185,
     "metadata": {},
     "output_type": "execute_result"
    },
    {
     "data": {
      "image/png": "[encoded data removed]",
      "text/plain": [
       "<Figure size 864x576 with 1 Axes>"
      ]
     },
     "metadata": {},
     "output_type": "display_data"
    }
   ],
   "source": [
    "q1_df['mem_int'].plot(kind='hist', bins = 60, range = (0,40), fontsize = 16)\n",
    "plt.xlabel('Requested Memory (GB)', fontsize = 16)"
   ]
  },
  {
   "cell_type": "markdown",
   "metadata": {},
   "source": [
    "## Looking at Node and Core requests"
   ]
  },
  {
   "cell_type": "code",
   "execution_count": 186,
   "metadata": {},
   "outputs": [
    {
     "data": {
      "text/plain": [
       "Text(0.5,1,'Amount of People Who Request Per Node or Core')"
      ]
     },
     "execution_count": 186,
     "metadata": {},
     "output_type": "execute_result"
    },
    {
     "data": {
      "image/png": "[encoded data removed]",
      "text/plain": [
       "<Figure size 864x576 with 1 Axes>"
      ]
     },
     "metadata": {},
     "output_type": "display_data"
    }
   ],
   "source": [
    "q1_df['core_node'].value_counts().plot(kind='bar', rot=0, fontsize = 16)\n",
    "plt.xlabel('Core (c) or Node (n)', fontsize = 16)\n",
    "plt.title('Amount of People Who Request Per Node or Core', fontsize = 16)"
   ]
  },
  {
   "cell_type": "code",
   "execution_count": 28,
   "metadata": {},
   "outputs": [
    {
     "name": "stdout",
     "output_type": "stream",
     "text": [
      "The number of users who request per core is 2012344\n",
      "The number of users who request per node is 10487045\n"
     ]
    }
   ],
   "source": [
    "q1_df_core = q1_df[q1_df['core_node'] == 'c']\n",
    "q1_df_node = q1_df[q1_df['core_node'] == 'n']\n",
    "print('The number of users who request per core is ' + str(len(q1_df_core)))\n",
    "print('The number of users who request per node is ' + str(len(q1_df_node)))"
   ]
  },
  {
   "cell_type": "code",
   "execution_count": 29,
   "metadata": {},
   "outputs": [
    {
     "name": "stdout",
     "output_type": "stream",
     "text": [
      "  core_node  queue_time  req_time  mem_int\n",
      "0         c    9.183333     720.0      2.0\n",
      "1         n   59.883333    2880.0      8.0\n"
     ]
    }
   ],
   "source": [
    "q1_med = q1_df_rand.groupby('core_node').median()\n",
    "q1_med = q1_med.reset_index()\n",
    "print(q1_med.head(30))"
   ]
  },
  {
   "cell_type": "markdown",
   "metadata": {},
   "source": [
    "## Looking at the number who specify per core or per node for the random sample"
   ]
  },
  {
   "cell_type": "code",
   "execution_count": 30,
   "metadata": {},
   "outputs": [
    {
     "name": "stdout",
     "output_type": "stream",
     "text": [
      "The number of users who request per core is 803\n",
      "The number of users who request per node is 4197\n"
     ]
    }
   ],
   "source": [
    "q1_df_core_rand = q1_df_rand[q1_df_rand['core_node'] == 'c']\n",
    "q1_df_node_rand = q1_df_rand[q1_df_rand['core_node'] == 'n']\n",
    "print('The number of users who request per core is ' + str(len(q1_df_core_rand)))\n",
    "print('The number of users who request per node is ' + str(len(q1_df_node_rand)))"
   ]
  },
  {
   "cell_type": "markdown",
   "metadata": {},
   "source": [
    "## Let's break the data down to a smaller subset\n",
    "\n",
    "## We'll first look at those who request less than 5 GB\n",
    "\n",
    "## Let's look at a scatter plot for people who request less than 5 GB "
   ]
  },
  {
   "cell_type": "code",
   "execution_count": 180,
   "metadata": {},
   "outputs": [
    {
     "data": {
      "text/plain": [
       "Text(0,0.5,'Queue Time (min)')"
      ]
     },
     "execution_count": 180,
     "metadata": {},
     "output_type": "execute_result"
    },
    {
     "data": {
      "image/png": "[encoded data removed]",
      "text/plain": [
       "<Figure size 432x288 with 1 Axes>"
      ]
     },
     "metadata": {},
     "output_type": "display_data"
    }
   ],
   "source": [
    "# Subsetting by mem_int less than or equal to 5\n",
    "q1_df_less_5 = q1_df[q1_df['mem_int'] <= 5]\n",
    "q1_df_less_5.plot(kind='scatter', x='mem_int', y='queue_time', fontsize = 16)\n",
    "plt.title('Queue Time vs Requested Memory', fontsize = 16)\n",
    "plt.xlabel('Requested Memory (GB)', fontsize = 16)\n",
    "plt.ylabel('Queue Time (min)', fontsize = 16)"
   ]
  },
  {
   "cell_type": "markdown",
   "metadata": {},
   "source": [
    "## We can see the columns at 1,2,3,4,5 but the other memory requests all have lower queue times\n",
    "\n",
    "# Let's visualize with the less common requests in a different color"
   ]
  },
  {
   "cell_type": "code",
   "execution_count": 187,
   "metadata": {},
   "outputs": [
    {
     "data": {
      "text/plain": [
       "Text(0,0.5,'Queue Time (min)')"
      ]
     },
     "execution_count": 187,
     "metadata": {},
     "output_type": "execute_result"
    },
    {
     "data": {
      "image/png": "[encoded data removed]",
      "text/plain": [
       "<Figure size 864x576 with 1 Axes>"
      ]
     },
     "metadata": {},
     "output_type": "display_data"
    }
   ],
   "source": [
    "q1_df_less_5_common = q1_df_less_5.loc[q1_df_less_5['mem_int'].isin([1,1.024, 2,3,4,5])]\n",
    "ax = q1_df_less_5_common.plot(kind='scatter', x='mem_int', y='queue_time', color='orange', fontsize = 16)\n",
    "\n",
    "q1_df_less_5_rare = q1_df_less_5.loc[~q1_df_less_5['mem_int'].isin([1,1.024, 2,3,4,5])]\n",
    "q1_df_less_5_rare.plot(kind='scatter', x='mem_int', y='queue_time', color='blue', ax=ax, fontsize = 16)\n",
    "\n",
    "plt.title('Queue Time vs Requested Memory', fontsize = 16)\n",
    "plt.xlabel('Requested Memory (GB)', fontsize = 16)\n",
    "plt.ylabel('Queue Time (min)', fontsize = 16)"
   ]
  },
  {
   "cell_type": "markdown",
   "metadata": {},
   "source": [
    "## All of the blue dots appear to have lower queue times than the orange, indicating that the less common requests have a shorter queue time\n",
    "\n",
    "## Let's investigate further"
   ]
  },
  {
   "cell_type": "code",
   "execution_count": 33,
   "metadata": {},
   "outputs": [
    {
     "name": "stdout",
     "output_type": "stream",
     "text": [
      "The number of users submitting 1, 1.024, 2, 3, 4, or 5 is 6107247\n",
      "The number of users submitting anything else is 28130\n",
      "The median queue time for the most common requested memory is 59.03 minutes vs. a median queue time of 7.39 minutes for rare submissions\n"
     ]
    }
   ],
   "source": [
    "med_q1_df_less_5_common = q1_df_less_5_common.groupby('mem_int').median()\n",
    "med_q1_df_less_5_common = med_q1_df_less_5_common.reset_index()\n",
    "\n",
    "med_q1_df_less_5_rare = q1_df_less_5_rare.groupby('mem_int').median().sort_values(by='mem_int', ascending = False)\n",
    "med_q1_df_less_5_rare = med_q1_df_less_5_rare.reset_index()\n",
    "\n",
    "print('The number of users submitting 1, 1.024, 2, 3, 4, or 5 is ' + str(len(q1_df_less_5_common.index)))\n",
    "print('The number of users submitting anything else is ' + str(len(q1_df_less_5_rare.index)))\n",
    "\n",
    "print('The median queue time for the most common requested memory is ' + str(round(q1_df_less_5_common['queue_time'].median(), 2)) + ' minutes'\n",
    "     + ' vs. a median queue time of ' + str(round(q1_df_less_5_rare['queue_time'].median(), 2)) + ' minutes for rare submissions')\n",
    "\n",
    "# print('The mean queue time for the most common requested memory is ' + str(round(q1_df_less_5_common['queue_time'].mean(), 2)) + ' minutes'\n",
    "     #+ ' vs. a mean queue time of ' + str(round(q1_df_less_5_rare['queue_time'].mean(), 2)) + ' minutes for rare submissions')\n"
   ]
  },
  {
   "cell_type": "markdown",
   "metadata": {},
   "source": [
    "# We can see that the median queue times is significantly lower for the rare submissions than the common submissions"
   ]
  },
  {
   "cell_type": "code",
   "execution_count": 34,
   "metadata": {},
   "outputs": [
    {
     "name": "stdout",
     "output_type": "stream",
     "text": [
      "   req_time    Count     JobPct\n",
      "0    2880.0  2677760  43.644588\n",
      "1     720.0   787105  12.828959\n",
      "2      30.0   346400   5.645945\n",
      "3     240.0   232489   3.789319\n",
      "4      60.0   204725   3.336796\n",
      "5      15.0   164532   2.681693\n",
      "6    1440.0   157529   2.567552\n",
      "7   20160.0   149029   2.429011\n",
      "8     120.0   136170   2.219424\n",
      "9     300.0   122843   2.002208\n",
      "10   5400.0   119139   1.941837\n",
      "11      2.0   107457   1.751433\n",
      "12    600.0    78199   1.274559\n",
      "13    180.0    61987   1.010321\n",
      "14      1.0    61720   1.005969\n"
     ]
    }
   ],
   "source": [
    "time_pct_group = q1_df_less_5[['req_time', 'core_node']].groupby('req_time').agg('count').sort_values(by ='core_node', ascending = False).head(30)\n",
    "time_pct_group = time_pct_group.reset_index()\n",
    "time_pct_group.columns = [['req_time','Count']]\n",
    "time_pct_group['JobPct'] = time_pct_group['Count'] / len(q1_df_less_5.index) * 100\n",
    "print(time_pct_group.head(15))"
   ]
  },
  {
   "cell_type": "markdown",
   "metadata": {},
   "source": [
    "## Does this hold up for requests above 5 GB?"
   ]
  },
  {
   "cell_type": "code",
   "execution_count": 188,
   "metadata": {},
   "outputs": [
    {
     "data": {
      "text/plain": [
       "Text(0,0.5,'Queue Time (min)')"
      ]
     },
     "execution_count": 188,
     "metadata": {},
     "output_type": "execute_result"
    },
    {
     "data": {
      "image/png": "[encoded data removed]",
      "text/plain": [
       "<Figure size 864x576 with 1 Axes>"
      ]
     },
     "metadata": {},
     "output_type": "display_data"
    }
   ],
   "source": [
    "# Using the random subset for this one to make the plots cleaner\n",
    "q1_df_greater_5 = q1_df_rand[q1_df_rand['mem_int'] > 5]\n",
    "#q1_df_greater_5 = q1_df[q1_df['mem_int'] > 5]\n",
    "\n",
    "q1_df_greater_5_common = q1_df_greater_5.loc[q1_df_greater_5['mem_int'].isin([28,10, 8,16,20, 12])]\n",
    "ax = q1_df_greater_5_common.plot(kind='scatter', x='mem_int', y='queue_time', color='orange', fontsize = 16)\n",
    "\n",
    "q1_df_greater_5_rare = q1_df_greater_5.loc[~q1_df_greater_5['mem_int'].isin([28,10, 8,16,20, 12])]\n",
    "q1_df_greater_5_rare.plot(kind='scatter', x='mem_int', y='queue_time', color='blue', ax=ax, fontsize = 16)\n",
    "\n",
    "plt.axis([0,50,0,15000])\n",
    "plt.title('Queue Time vs Requested Memory', fontsize = 16)\n",
    "plt.xlabel('Requested Memory (GB)', fontsize = 16)\n",
    "plt.ylabel('Queue Time (min)', fontsize = 16)\n"
   ]
  },
  {
   "cell_type": "markdown",
   "metadata": {},
   "source": [
    "## The blue dots once again appear to be lower than the orange ones\n",
    "\n",
    "## Let's look at the medians and means again"
   ]
  },
  {
   "cell_type": "code",
   "execution_count": 36,
   "metadata": {},
   "outputs": [
    {
     "name": "stdout",
     "output_type": "stream",
     "text": [
      "The number of users submitting 1, 1.024, 2, 3, 4, or 5 is 2199\n",
      "The number of users submitting anything else is 266\n",
      "The median queue time for the most common requested memory is 60.32 minutes vs. a median queue time of 51.48 minutes for rare submissions\n"
     ]
    }
   ],
   "source": [
    "med_q1_df_greater_5_common = q1_df_greater_5_common.groupby('mem_int').median()\n",
    "med_q1_df_greater_5_common = med_q1_df_greater_5_common.reset_index()\n",
    "\n",
    "med_q1_df_greater_5_rare = q1_df_greater_5_rare.groupby('mem_int').median().sort_values(by='mem_int', ascending = False)\n",
    "med_q1_df_greater_5_rare = med_q1_df_greater_5_rare.reset_index()\n",
    "\n",
    "print('The number of users submitting 1, 1.024, 2, 3, 4, or 5 is ' + str(len(q1_df_greater_5_common.index)))\n",
    "print('The number of users submitting anything else is ' + str(len(q1_df_greater_5_rare.index)))\n",
    "\n",
    "print('The median queue time for the most common requested memory is ' + str(round(q1_df_greater_5_common['queue_time'].median(), 2)) + ' minutes'\n",
    "     + ' vs. a median queue time of ' + str(round(q1_df_greater_5_rare['queue_time'].median(), 2)) + ' minutes for rare submissions')\n",
    "\n",
    "#print('The mean queue time for the most common requested memory is ' + str(round(q1_df_less_5_common['queue_time'].mean(), 2)) + ' minutes'\n",
    " #    + ' vs. a mean queue time of ' + str(round(q1_df_greater_5_rare['queue_time'].mean(), 2)) + ' minutes for rare submissions')\n"
   ]
  },
  {
   "cell_type": "markdown",
   "metadata": {},
   "source": [
    "## The median queue time is still significantly lower for rare submissions\n",
    "\n",
    "## This leads us to conclude that there is a correlation between how common the requested memory is and the resulting queue time\n",
    "\n",
    "## Shorter queue times can be achieved by submitting uncommon memory requests\n",
    "\n",
    "## This relationship could result from the remaining memory after somebody requests a fractional amount. For example, if a 0.5 GB request gets filled a spot that has total GB available, then a 4.3 GB submission could fit in the slot while a 5 GB submission could not.\n",
    "\n",
    "## This could also be impacted by the 1024 MB submissions if they are processed as 1.024 GB rather than 1 GB because that is a common requested memory submission."
   ]
  },
  {
   "cell_type": "markdown",
   "metadata": {},
   "source": [
    "## Let's standardize so that we look at the graphs for people who request the same amount of time. Those who request the same amount of time plotted on a line"
   ]
  },
  {
   "cell_type": "markdown",
   "metadata": {},
   "source": [
    "# Time to look more into how requested wall time impacts queue time"
   ]
  },
  {
   "cell_type": "code",
   "execution_count": 37,
   "metadata": {},
   "outputs": [
    {
     "data": {
      "text/plain": [
       "Text(0.5,0,'Requested Memory (GB)')"
      ]
     },
     "execution_count": 37,
     "metadata": {},
     "output_type": "execute_result"
    },
    {
     "data": {
      "image/png": "[encoded data removed]",
      "text/plain": [
       "<Figure size 432x288 with 1 Axes>"
      ]
     },
     "metadata": {},
     "output_type": "display_data"
    }
   ],
   "source": [
    "q1_df_node_720 = q1_df_node[q1_df_node['req_time'] == 720]\n",
    "q1_df_node_720['mem_int'].plot(kind='hist', bins = 200, xlim=(0,20), fontsize = 16)\n",
    "plt.xlabel('Requested Memory (GB)', fontsize = 16)"
   ]
  },
  {
   "cell_type": "code",
   "execution_count": 38,
   "metadata": {},
   "outputs": [
    {
     "data": {
      "text/plain": [
       "Text(0.5,0,'Requested Memory (GB)')"
      ]
     },
     "execution_count": 38,
     "metadata": {},
     "output_type": "execute_result"
    },
    {
     "data": {
      "image/png": "[encoded data removed]",
      "text/plain": [
       "<Figure size 432x288 with 1 Axes>"
      ]
     },
     "metadata": {},
     "output_type": "display_data"
    }
   ],
   "source": [
    "q1_df_node_2880 = q1_df_node_rand[q1_df_node_rand['req_time'] == 2880]\n",
    "q1_df_node_2880['mem_int'].plot(kind='hist', bins = 30, range=(0,30), fontsize = 16)\n",
    "plt.xlabel('Requested Memory (GB)', fontsize = 16)"
   ]
  },
  {
   "cell_type": "code",
   "execution_count": 39,
   "metadata": {},
   "outputs": [
    {
     "data": {
      "text/plain": [
       "Text(0.5,0,'Queue Time (min)')"
      ]
     },
     "execution_count": 39,
     "metadata": {},
     "output_type": "execute_result"
    },
    {
     "data": {
      "image/png": "[encoded data removed]",
      "text/plain": [
       "<Figure size 432x288 with 1 Axes>"
      ]
     },
     "metadata": {},
     "output_type": "display_data"
    }
   ],
   "source": [
    "q1_df_node_2880['queue_time'].plot(kind='hist', bins = 50, range=(0,150), density=True, fontsize = 16)\n",
    "plt.title('Distribution of Requests with Max Wall Time of 2 Days', fontsize = 16)\n",
    "plt.xlabel('Queue Time (min)', fontsize = 16)"
   ]
  },
  {
   "cell_type": "markdown",
   "metadata": {},
   "source": [
    "## This shows that for jobs that request 2 days (~39% of jobs) they either start right away or wait for about an hour"
   ]
  },
  {
   "cell_type": "code",
   "execution_count": 40,
   "metadata": {},
   "outputs": [
    {
     "data": {
      "text/plain": [
       "Text(0.5,0,'Queue Time (min)')"
      ]
     },
     "execution_count": 40,
     "metadata": {},
     "output_type": "execute_result"
    },
    {
     "data": {
      "image/png": "[encoded data removed]",
      "text/plain": [
       "<Figure size 432x288 with 1 Axes>"
      ]
     },
     "metadata": {},
     "output_type": "display_data"
    }
   ],
   "source": [
    "q1_df_node_720 = q1_df_node[q1_df_node['req_time'] == 720]\n",
    "q1_df_node_720['queue_time'].plot(kind='hist', bins = 50, range=(0,150), density=True, fontsize = 16)\n",
    "plt.title('Distribution of Requests with Max Wall Time of 12 Hours', fontsize = 16)\n",
    "plt.xlabel('Queue Time (min)', fontsize = 16)"
   ]
  },
  {
   "cell_type": "code",
   "execution_count": 41,
   "metadata": {},
   "outputs": [
    {
     "data": {
      "text/plain": [
       "Text(0.5,0,'Queue Time (min)')"
      ]
     },
     "execution_count": 41,
     "metadata": {},
     "output_type": "execute_result"
    },
    {
     "data": {
      "image/png": "[encoded data removed]",
      "text/plain": [
       "<Figure size 432x288 with 1 Axes>"
      ]
     },
     "metadata": {},
     "output_type": "display_data"
    }
   ],
   "source": [
    "q1_df_node_120 = q1_df_node[q1_df_node['req_time'] == 120]\n",
    "q1_df_node_120['queue_time'].plot(kind='hist', bins = 50, cumulative=False, density = True, range=(0,150), fontsize = 16)\n",
    "plt.title('Distribution of Requests with Max Wall Time of 2 Hours', fontsize = 16)\n",
    "plt.xlabel('Queue Time (min)', fontsize = 16)"
   ]
  },
  {
   "cell_type": "code",
   "execution_count": 42,
   "metadata": {},
   "outputs": [
    {
     "data": {
      "text/plain": [
       "Text(0.5,0,'Queue Time (min)')"
      ]
     },
     "execution_count": 42,
     "metadata": {},
     "output_type": "execute_result"
    },
    {
     "data": {
      "image/png": "[encoded data removed]",
      "text/plain": [
       "<Figure size 432x288 with 1 Axes>"
      ]
     },
     "metadata": {},
     "output_type": "display_data"
    }
   ],
   "source": [
    "q1_df_node_360 = q1_df_node[q1_df_node['req_time'] == 360]\n",
    "q1_df_node_360['queue_time'].plot(kind='hist', bins = 50, range=(0,200), density=True, fontsize = 16)\n",
    "plt.title('Distribution of Requests with Max Wall Time of 6 Hours', fontsize = 16)\n",
    "plt.xlabel('Queue Time (min)', fontsize = 16)"
   ]
  },
  {
   "cell_type": "code",
   "execution_count": 43,
   "metadata": {},
   "outputs": [
    {
     "data": {
      "text/plain": [
       "Text(0.5,0,'Queue Time (min)')"
      ]
     },
     "execution_count": 43,
     "metadata": {},
     "output_type": "execute_result"
    },
    {
     "data": {
      "image/png": "[encoded data removed]",
      "text/plain": [
       "<Figure size 432x288 with 1 Axes>"
      ]
     },
     "metadata": {},
     "output_type": "display_data"
    }
   ],
   "source": [
    "q1_df_node_300 = q1_df_node[q1_df_node['req_time'] == 300]\n",
    "q1_df_node_300['queue_time'].plot(kind='hist', bins = 50, range=(0,200), density=True, fontsize = 16)\n",
    "plt.title('Distribution of Requests with Max Wall Time of 5 Hours', fontsize = 16)\n",
    "plt.xlabel('Queue Time (min)', fontsize = 16)"
   ]
  },
  {
   "cell_type": "code",
   "execution_count": 44,
   "metadata": {},
   "outputs": [
    {
     "name": "stdout",
     "output_type": "stream",
     "text": [
      "   req_time JobCount    JobPct\n",
      "95    157.0     1860  0.014881\n",
      "96    330.0     1772  0.014177\n",
      "97   1830.0     1667  0.013337\n",
      "98   3300.0     1605  0.012841\n",
      "99    144.0     1599  0.012793\n",
      "100\n"
     ]
    }
   ],
   "source": [
    "time_100 = req_time_group.iloc[:100]\n",
    "#time_100_instances = req_time_group[time_100_temp]\n",
    "print(time_100.tail())\n",
    "time_list = time_100['req_time'].values\n",
    "print(len(time_list))"
   ]
  },
  {
   "cell_type": "code",
   "execution_count": 45,
   "metadata": {},
   "outputs": [
    {
     "data": {
      "text/html": [
       "<div>\n",
       "<style scoped>\n",
       "    .dataframe tbody tr th:only-of-type {\n",
       "        vertical-align: middle;\n",
       "    }\n",
       "\n",
       "    .dataframe tbody tr th {\n",
       "        vertical-align: top;\n",
       "    }\n",
       "\n",
       "    .dataframe thead th {\n",
       "        text-align: right;\n",
       "    }\n",
       "</style>\n",
       "<table border=\"1\" class=\"dataframe\">\n",
       "  <thead>\n",
       "    <tr style=\"text-align: right;\">\n",
       "      <th></th>\n",
       "      <th>queue_time</th>\n",
       "      <th>req_time</th>\n",
       "      <th>mem_int</th>\n",
       "      <th>core_node</th>\n",
       "      <th>State</th>\n",
       "      <th>Account</th>\n",
       "    </tr>\n",
       "  </thead>\n",
       "  <tbody>\n",
       "    <tr>\n",
       "      <th>12499303</th>\n",
       "      <td>0.183333</td>\n",
       "      <td>2880.0</td>\n",
       "      <td>4.0</td>\n",
       "      <td>n</td>\n",
       "      <td>COMPLETED</td>\n",
       "      <td>cms_samtest</td>\n",
       "    </tr>\n",
       "    <tr>\n",
       "      <th>12499345</th>\n",
       "      <td>0.000000</td>\n",
       "      <td>2880.0</td>\n",
       "      <td>4.0</td>\n",
       "      <td>n</td>\n",
       "      <td>COMPLETED</td>\n",
       "      <td>cms_samtest</td>\n",
       "    </tr>\n",
       "    <tr>\n",
       "      <th>12499349</th>\n",
       "      <td>0.150000</td>\n",
       "      <td>2880.0</td>\n",
       "      <td>4.0</td>\n",
       "      <td>n</td>\n",
       "      <td>COMPLETED</td>\n",
       "      <td>cms_samtest</td>\n",
       "    </tr>\n",
       "    <tr>\n",
       "      <th>12499355</th>\n",
       "      <td>0.133333</td>\n",
       "      <td>2880.0</td>\n",
       "      <td>4.0</td>\n",
       "      <td>n</td>\n",
       "      <td>COMPLETED</td>\n",
       "      <td>cms_samtest</td>\n",
       "    </tr>\n",
       "    <tr>\n",
       "      <th>12499388</th>\n",
       "      <td>0.000000</td>\n",
       "      <td>2880.0</td>\n",
       "      <td>4.0</td>\n",
       "      <td>n</td>\n",
       "      <td>COMPLETED</td>\n",
       "      <td>cms_samtest</td>\n",
       "    </tr>\n",
       "  </tbody>\n",
       "</table>\n",
       "</div>"
      ],
      "text/plain": [
       "          queue_time  req_time  mem_int core_node      State      Account\n",
       "12499303    0.183333    2880.0      4.0         n  COMPLETED  cms_samtest\n",
       "12499345    0.000000    2880.0      4.0         n  COMPLETED  cms_samtest\n",
       "12499349    0.150000    2880.0      4.0         n  COMPLETED  cms_samtest\n",
       "12499355    0.133333    2880.0      4.0         n  COMPLETED  cms_samtest\n",
       "12499388    0.000000    2880.0      4.0         n  COMPLETED  cms_samtest"
      ]
     },
     "execution_count": 45,
     "metadata": {},
     "output_type": "execute_result"
    }
   ],
   "source": [
    "top_100_sub = q1_df_node.loc[q1_df_node.req_time.isin(time_list)]\n",
    "top_100_sub.tail()"
   ]
  },
  {
   "cell_type": "code",
   "execution_count": 46,
   "metadata": {},
   "outputs": [
    {
     "name": "stdout",
     "output_type": "stream",
     "text": [
      "<class 'pandas.core.frame.DataFrame'>\n",
      "Int64Index: 21388 entries, 39517 to 12404274\n",
      "Data columns (total 6 columns):\n",
      "queue_time    21388 non-null float64\n",
      "req_time      21388 non-null float64\n",
      "mem_int       21388 non-null float64\n",
      "core_node     21388 non-null object\n",
      "State         21388 non-null object\n",
      "Account       21388 non-null object\n",
      "dtypes: float64(3), object(3)\n",
      "memory usage: 1.1+ MB\n"
     ]
    }
   ],
   "source": [
    "top_100_mem_5 = top_100_sub[top_100_sub['mem_int'] == 6]\n",
    "top_100_mem_5.info()"
   ]
  },
  {
   "cell_type": "code",
   "execution_count": 47,
   "metadata": {},
   "outputs": [
    {
     "name": "stdout",
     "output_type": "stream",
     "text": [
      "    req_time   queue_time  mem_int\n",
      "0     3120.0  2516.016667    4.000\n",
      "1        1.0  1290.866667    2.000\n",
      "2        2.0  1282.750000    2.000\n",
      "3      780.0   902.300000   16.000\n",
      "4     1500.0   861.983333   16.000\n",
      "5      782.0   848.700000   20.000\n",
      "6      300.0   789.333333   20.000\n",
      "7     2100.0   714.566667    8.000\n",
      "8    20160.0   670.800000    1.024\n",
      "9    10800.0   553.866667    1.024\n",
      "10     480.0   544.850000    8.000\n",
      "11     900.0   537.000000   10.000\n",
      "12     240.0   458.350000    1.024\n",
      "13     570.0   454.300000   16.000\n",
      "14     160.0   450.383333    4.000\n"
     ]
    }
   ],
   "source": [
    "q1_median_group = top_100_sub.groupby('req_time').median().sort_values(by = 'queue_time', ascending = False)\n",
    "q1_median_group = q1_median_group.reset_index()\n",
    "print(q1_median_group.head(15))"
   ]
  },
  {
   "cell_type": "code",
   "execution_count": 48,
   "metadata": {},
   "outputs": [
    {
     "name": "stdout",
     "output_type": "stream",
     "text": [
      "    req_time  queue_time  mem_int\n",
      "0     5400.0  676.433333      6.0\n",
      "1     2100.0  513.700000      6.0\n",
      "2     5760.0  263.758333      6.0\n",
      "3     7200.0  131.066667      6.0\n",
      "4     2160.0   86.200000      6.0\n",
      "5     3600.0   47.600000      6.0\n",
      "6     2880.0   34.900000      6.0\n",
      "7       30.0   18.833333      6.0\n",
      "8      480.0   10.866667      6.0\n",
      "9     4320.0    7.100000      6.0\n",
      "10   14400.0    4.650000      6.0\n",
      "11      15.0    2.900000      6.0\n",
      "12    1800.0    2.816667      6.0\n",
      "13     840.0    2.600000      6.0\n",
      "14   20160.0    2.383333      6.0\n"
     ]
    }
   ],
   "source": [
    "q1_median_group_5 = top_100_mem_5.groupby('req_time').median().sort_values(by = 'queue_time', ascending = False)\n",
    "q1_median_group_5 = q1_median_group_5.reset_index()\n",
    "print(q1_median_group_5.head(15))"
   ]
  },
  {
   "cell_type": "code",
   "execution_count": 49,
   "metadata": {},
   "outputs": [
    {
     "data": {
      "text/html": [
       "<div>\n",
       "<style scoped>\n",
       "    .dataframe tbody tr th:only-of-type {\n",
       "        vertical-align: middle;\n",
       "    }\n",
       "\n",
       "    .dataframe tbody tr th {\n",
       "        vertical-align: top;\n",
       "    }\n",
       "\n",
       "    .dataframe thead th {\n",
       "        text-align: right;\n",
       "    }\n",
       "</style>\n",
       "<table border=\"1\" class=\"dataframe\">\n",
       "  <thead>\n",
       "    <tr style=\"text-align: right;\">\n",
       "      <th></th>\n",
       "      <th>queue_time</th>\n",
       "      <th>req_time</th>\n",
       "      <th>mem_int</th>\n",
       "      <th>core_node</th>\n",
       "      <th>State</th>\n",
       "      <th>Account</th>\n",
       "    </tr>\n",
       "  </thead>\n",
       "  <tbody>\n",
       "    <tr>\n",
       "      <th>548485</th>\n",
       "      <td>515.333333</td>\n",
       "      <td>5760.0</td>\n",
       "      <td>6.0</td>\n",
       "      <td>n</td>\n",
       "      <td>FAILED</td>\n",
       "      <td>rokaslab</td>\n",
       "    </tr>\n",
       "    <tr>\n",
       "      <th>649837</th>\n",
       "      <td>12.183333</td>\n",
       "      <td>5760.0</td>\n",
       "      <td>6.0</td>\n",
       "      <td>n</td>\n",
       "      <td>COMPLETED</td>\n",
       "      <td>rokaslab</td>\n",
       "    </tr>\n",
       "  </tbody>\n",
       "</table>\n",
       "</div>"
      ],
      "text/plain": [
       "        queue_time  req_time  mem_int core_node      State   Account\n",
       "548485  515.333333    5760.0      6.0         n     FAILED  rokaslab\n",
       "649837   12.183333    5760.0      6.0         n  COMPLETED  rokaslab"
      ]
     },
     "execution_count": 49,
     "metadata": {},
     "output_type": "execute_result"
    }
   ],
   "source": [
    "top_100_mem_5[top_100_mem_5['req_time'] == 5760]"
   ]
  },
  {
   "cell_type": "markdown",
   "metadata": {},
   "source": [
    "## 3120 minutes is 52 hours, leading the pack in median queue time at 2516 minutes (~42 hours)"
   ]
  },
  {
   "cell_type": "code",
   "execution_count": 50,
   "metadata": {},
   "outputs": [
    {
     "data": {
      "text/plain": [
       "Text(0,0.5,'Queue Time (min)')"
      ]
     },
     "execution_count": 50,
     "metadata": {},
     "output_type": "execute_result"
    },
    {
     "data": {
      "image/png": "[encoded data removed]",
      "text/plain": [
       "<Figure size 432x288 with 1 Axes>"
      ]
     },
     "metadata": {},
     "output_type": "display_data"
    }
   ],
   "source": [
    "q1_median_group.plot(kind='scatter', x='req_time', y='queue_time', fontsize = 16)\n",
    "plt.title('Queue Time vs Median Requested Time', fontsize = 16)\n",
    "plt.xlabel('Median Requested Time (min)', fontsize = 16)\n",
    "plt.ylabel('Queue Time (min)', fontsize = 16)"
   ]
  },
  {
   "cell_type": "code",
   "execution_count": 51,
   "metadata": {},
   "outputs": [
    {
     "data": {
      "text/plain": [
       "Text(0,0.5,'Queue Time (min)')"
      ]
     },
     "execution_count": 51,
     "metadata": {},
     "output_type": "execute_result"
    },
    {
     "data": {
      "image/png": "[encoded data removed]",
      "text/plain": [
       "<Figure size 432x288 with 1 Axes>"
      ]
     },
     "metadata": {},
     "output_type": "display_data"
    }
   ],
   "source": [
    "q1_median_group_5.plot(kind='scatter', x='req_time', y='queue_time', fontsize = 16)\n",
    "plt.title('Queue Time vs Median Requested Time', fontsize = 16)\n",
    "plt.xlabel('Median Requested Time (min)', fontsize = 16)\n",
    "plt.ylabel('Queue Time (min)', fontsize = 16)"
   ]
  },
  {
   "cell_type": "code",
   "execution_count": 52,
   "metadata": {},
   "outputs": [
    {
     "name": "stdout",
     "output_type": "stream",
     "text": [
      "             Account  queue_time  req_time  mem_int\n",
      "0              accre    2.866667     120.0     0.01\n",
      "1          accre_gpu    0.000000     720.0   100.00\n",
      "2                aim   15.300000     240.0     3.00\n",
      "3      aivas_lab_gpu    0.066667    7200.0    24.00\n",
      "4        aldrich_lab    0.633333    7200.0     2.00\n",
      "5       anderson_mri    0.450000      60.0    16.00\n",
      "6   anderson_mri_gpu    0.016667      60.0    10.00\n",
      "7           beam_lab  263.566667     480.0    16.00\n",
      "8       beam_lab_gpu  435.066667     135.0     3.00\n",
      "9            biomath    0.016667    2400.0    85.00\n",
      "10   biostat_faculty   10.883333     600.0     2.00\n",
      "11       biostat_gpu    0.516667    3000.0   100.00\n",
      "12        biostat_it  384.533333     540.0    16.00\n",
      "13         booth_lab    0.000000     180.0     2.00\n",
      "14        bowman_lab    2.666667     480.0    20.00\n",
      "15            bridge    0.333333   10080.0    20.00\n",
      "16          bsci3272    0.016667     240.0    10.00\n",
      "17  candelaria_group  559.166667     120.0     4.00\n",
      "18         capra_lab   50.133333     600.0     8.00\n",
      "19     capra_lab_csb  140.383333     720.0    10.00\n",
      "20     capra_lab_gpu  110.116667     360.0    20.00\n",
      "21              cerl    4.233333     480.0     2.00\n",
      "22          cerl_gpu    0.016667     360.0     8.00\n",
      "23               cgg  283.650000     300.0     2.00\n",
      "24           cgg_gpu    0.016667     300.0    30.00\n",
      "25       chbe285_gpu  449.900000    5760.0     2.00\n",
      "26     civil_env_eng   10.983333    4320.0     3.00\n",
      "27               cms   59.433333    2880.0     5.00\n",
      "28           cms_gpu   20.216667    2880.0     3.10\n",
      "29       cms_lowprio   59.500000    2880.0     5.00\n"
     ]
    }
   ],
   "source": [
    "# Grouping by account name and seeing the medians of each account\n",
    "q1_account_group = q1_df.groupby('Account').median()\n",
    "q1_account_group = q1_account_group.reset_index()\n",
    "print(q1_account_group.head(30))"
   ]
  },
  {
   "cell_type": "code",
   "execution_count": 53,
   "metadata": {},
   "outputs": [
    {
     "data": {
      "text/html": [
       "<div>\n",
       "<style scoped>\n",
       "    .dataframe tbody tr th:only-of-type {\n",
       "        vertical-align: middle;\n",
       "    }\n",
       "\n",
       "    .dataframe tbody tr th {\n",
       "        vertical-align: top;\n",
       "    }\n",
       "\n",
       "    .dataframe thead th {\n",
       "        text-align: right;\n",
       "    }\n",
       "</style>\n",
       "<table border=\"1\" class=\"dataframe\">\n",
       "  <thead>\n",
       "    <tr style=\"text-align: right;\">\n",
       "      <th></th>\n",
       "      <th>queue_time</th>\n",
       "      <th>req_time</th>\n",
       "      <th>mem_int</th>\n",
       "      <th>core_node</th>\n",
       "      <th>State</th>\n",
       "      <th>Account</th>\n",
       "    </tr>\n",
       "  </thead>\n",
       "  <tbody>\n",
       "    <tr>\n",
       "      <th>28740</th>\n",
       "      <td>0.016667</td>\n",
       "      <td>60.0</td>\n",
       "      <td>16.0</td>\n",
       "      <td>n</td>\n",
       "      <td>COMPLETED</td>\n",
       "      <td>lola</td>\n",
       "    </tr>\n",
       "    <tr>\n",
       "      <th>29301</th>\n",
       "      <td>0.016667</td>\n",
       "      <td>240.0</td>\n",
       "      <td>16.0</td>\n",
       "      <td>n</td>\n",
       "      <td>COMPLETED</td>\n",
       "      <td>lola</td>\n",
       "    </tr>\n",
       "    <tr>\n",
       "      <th>29507</th>\n",
       "      <td>0.033333</td>\n",
       "      <td>60.0</td>\n",
       "      <td>16.0</td>\n",
       "      <td>n</td>\n",
       "      <td>CANCELLED by 240352</td>\n",
       "      <td>lola</td>\n",
       "    </tr>\n",
       "    <tr>\n",
       "      <th>30667</th>\n",
       "      <td>0.016667</td>\n",
       "      <td>240.0</td>\n",
       "      <td>16.0</td>\n",
       "      <td>n</td>\n",
       "      <td>TIMEOUT</td>\n",
       "      <td>lola</td>\n",
       "    </tr>\n",
       "    <tr>\n",
       "      <th>33215</th>\n",
       "      <td>0.016667</td>\n",
       "      <td>240.0</td>\n",
       "      <td>16.0</td>\n",
       "      <td>n</td>\n",
       "      <td>TIMEOUT</td>\n",
       "      <td>lola</td>\n",
       "    </tr>\n",
       "    <tr>\n",
       "      <th>37259</th>\n",
       "      <td>0.000000</td>\n",
       "      <td>4320.0</td>\n",
       "      <td>16.0</td>\n",
       "      <td>n</td>\n",
       "      <td>COMPLETED</td>\n",
       "      <td>lola</td>\n",
       "    </tr>\n",
       "    <tr>\n",
       "      <th>487364</th>\n",
       "      <td>0.000000</td>\n",
       "      <td>10.0</td>\n",
       "      <td>8.0</td>\n",
       "      <td>n</td>\n",
       "      <td>CANCELLED by 645260</td>\n",
       "      <td>lola</td>\n",
       "    </tr>\n",
       "    <tr>\n",
       "      <th>487408</th>\n",
       "      <td>0.000000</td>\n",
       "      <td>10.0</td>\n",
       "      <td>8.0</td>\n",
       "      <td>n</td>\n",
       "      <td>CANCELLED by 645260</td>\n",
       "      <td>lola</td>\n",
       "    </tr>\n",
       "    <tr>\n",
       "      <th>487418</th>\n",
       "      <td>0.016667</td>\n",
       "      <td>10.0</td>\n",
       "      <td>8.0</td>\n",
       "      <td>n</td>\n",
       "      <td>CANCELLED by 645260</td>\n",
       "      <td>lola</td>\n",
       "    </tr>\n",
       "    <tr>\n",
       "      <th>487426</th>\n",
       "      <td>0.000000</td>\n",
       "      <td>10.0</td>\n",
       "      <td>8.0</td>\n",
       "      <td>n</td>\n",
       "      <td>CANCELLED by 645260</td>\n",
       "      <td>lola</td>\n",
       "    </tr>\n",
       "  </tbody>\n",
       "</table>\n",
       "</div>"
      ],
      "text/plain": [
       "        queue_time  req_time  mem_int core_node                State Account\n",
       "28740     0.016667      60.0     16.0         n            COMPLETED    lola\n",
       "29301     0.016667     240.0     16.0         n            COMPLETED    lola\n",
       "29507     0.033333      60.0     16.0         n  CANCELLED by 240352    lola\n",
       "30667     0.016667     240.0     16.0         n              TIMEOUT    lola\n",
       "33215     0.016667     240.0     16.0         n              TIMEOUT    lola\n",
       "37259     0.000000    4320.0     16.0         n            COMPLETED    lola\n",
       "487364    0.000000      10.0      8.0         n  CANCELLED by 645260    lola\n",
       "487408    0.000000      10.0      8.0         n  CANCELLED by 645260    lola\n",
       "487418    0.016667      10.0      8.0         n  CANCELLED by 645260    lola\n",
       "487426    0.000000      10.0      8.0         n  CANCELLED by 645260    lola"
      ]
     },
     "execution_count": 53,
     "metadata": {},
     "output_type": "execute_result"
    }
   ],
   "source": [
    "q1_df_beamlab = q1_df_node[q1_df_node['Account'] == 'lola']\n",
    "q1_df_beamlab.head(10)"
   ]
  },
  {
   "cell_type": "markdown",
   "metadata": {},
   "source": [
    "## Examine relationship with maximum requested run time"
   ]
  },
  {
   "cell_type": "code",
   "execution_count": 54,
   "metadata": {},
   "outputs": [
    {
     "data": {
      "text/html": [
       "<div>\n",
       "<style scoped>\n",
       "    .dataframe tbody tr th:only-of-type {\n",
       "        vertical-align: middle;\n",
       "    }\n",
       "\n",
       "    .dataframe tbody tr th {\n",
       "        vertical-align: top;\n",
       "    }\n",
       "\n",
       "    .dataframe thead th {\n",
       "        text-align: right;\n",
       "    }\n",
       "</style>\n",
       "<table border=\"1\" class=\"dataframe\">\n",
       "  <thead>\n",
       "    <tr style=\"text-align: right;\">\n",
       "      <th></th>\n",
       "      <th>req_time</th>\n",
       "      <th>queue_time</th>\n",
       "      <th>mem_int</th>\n",
       "    </tr>\n",
       "  </thead>\n",
       "  <tbody>\n",
       "    <tr>\n",
       "      <th>0</th>\n",
       "      <td>1.0</td>\n",
       "      <td>1292.125000</td>\n",
       "      <td>2.000</td>\n",
       "    </tr>\n",
       "    <tr>\n",
       "      <th>1</th>\n",
       "      <td>2.0</td>\n",
       "      <td>1302.116667</td>\n",
       "      <td>2.000</td>\n",
       "    </tr>\n",
       "    <tr>\n",
       "      <th>2</th>\n",
       "      <td>3.0</td>\n",
       "      <td>95.950000</td>\n",
       "      <td>2.000</td>\n",
       "    </tr>\n",
       "    <tr>\n",
       "      <th>3</th>\n",
       "      <td>5.0</td>\n",
       "      <td>0.016667</td>\n",
       "      <td>1.000</td>\n",
       "    </tr>\n",
       "    <tr>\n",
       "      <th>4</th>\n",
       "      <td>7.0</td>\n",
       "      <td>6.033333</td>\n",
       "      <td>4.000</td>\n",
       "    </tr>\n",
       "    <tr>\n",
       "      <th>5</th>\n",
       "      <td>8.0</td>\n",
       "      <td>0.008333</td>\n",
       "      <td>1.000</td>\n",
       "    </tr>\n",
       "    <tr>\n",
       "      <th>6</th>\n",
       "      <td>10.0</td>\n",
       "      <td>9.450000</td>\n",
       "      <td>1.024</td>\n",
       "    </tr>\n",
       "    <tr>\n",
       "      <th>7</th>\n",
       "      <td>15.0</td>\n",
       "      <td>34.758333</td>\n",
       "      <td>4.000</td>\n",
       "    </tr>\n",
       "    <tr>\n",
       "      <th>8</th>\n",
       "      <td>18.0</td>\n",
       "      <td>0.008333</td>\n",
       "      <td>1.000</td>\n",
       "    </tr>\n",
       "    <tr>\n",
       "      <th>9</th>\n",
       "      <td>20.0</td>\n",
       "      <td>7.908333</td>\n",
       "      <td>1.024</td>\n",
       "    </tr>\n",
       "    <tr>\n",
       "      <th>10</th>\n",
       "      <td>25.0</td>\n",
       "      <td>0.475000</td>\n",
       "      <td>3.500</td>\n",
       "    </tr>\n",
       "    <tr>\n",
       "      <th>11</th>\n",
       "      <td>26.0</td>\n",
       "      <td>0.016667</td>\n",
       "      <td>1.000</td>\n",
       "    </tr>\n",
       "    <tr>\n",
       "      <th>12</th>\n",
       "      <td>30.0</td>\n",
       "      <td>434.641667</td>\n",
       "      <td>1.024</td>\n",
       "    </tr>\n",
       "    <tr>\n",
       "      <th>13</th>\n",
       "      <td>40.0</td>\n",
       "      <td>26.700000</td>\n",
       "      <td>4.000</td>\n",
       "    </tr>\n",
       "    <tr>\n",
       "      <th>14</th>\n",
       "      <td>45.0</td>\n",
       "      <td>117.416667</td>\n",
       "      <td>10.000</td>\n",
       "    </tr>\n",
       "  </tbody>\n",
       "</table>\n",
       "</div>"
      ],
      "text/plain": [
       "    req_time   queue_time  mem_int\n",
       "0        1.0  1292.125000    2.000\n",
       "1        2.0  1302.116667    2.000\n",
       "2        3.0    95.950000    2.000\n",
       "3        5.0     0.016667    1.000\n",
       "4        7.0     6.033333    4.000\n",
       "5        8.0     0.008333    1.000\n",
       "6       10.0     9.450000    1.024\n",
       "7       15.0    34.758333    4.000\n",
       "8       18.0     0.008333    1.000\n",
       "9       20.0     7.908333    1.024\n",
       "10      25.0     0.475000    3.500\n",
       "11      26.0     0.016667    1.000\n",
       "12      30.0   434.641667    1.024\n",
       "13      40.0    26.700000    4.000\n",
       "14      45.0   117.416667   10.000"
      ]
     },
     "execution_count": 54,
     "metadata": {},
     "output_type": "execute_result"
    }
   ],
   "source": [
    "# Group by Requested Time and get the averages\n",
    "q1_df_avgs = q1_df_node_rand.groupby('req_time').median()\n",
    "q1_df_avgs = q1_df_avgs.reset_index()\n",
    "q1_df_avgs.head(15)"
   ]
  },
  {
   "cell_type": "code",
   "execution_count": 55,
   "metadata": {},
   "outputs": [
    {
     "data": {
      "text/html": [
       "<div>\n",
       "<style scoped>\n",
       "    .dataframe tbody tr th:only-of-type {\n",
       "        vertical-align: middle;\n",
       "    }\n",
       "\n",
       "    .dataframe tbody tr th {\n",
       "        vertical-align: top;\n",
       "    }\n",
       "\n",
       "    .dataframe thead th {\n",
       "        text-align: right;\n",
       "    }\n",
       "</style>\n",
       "<table border=\"1\" class=\"dataframe\">\n",
       "  <thead>\n",
       "    <tr style=\"text-align: right;\">\n",
       "      <th></th>\n",
       "      <th>queue_time</th>\n",
       "      <th>req_time</th>\n",
       "      <th>mem_int</th>\n",
       "      <th>core_node</th>\n",
       "      <th>State</th>\n",
       "      <th>Account</th>\n",
       "    </tr>\n",
       "  </thead>\n",
       "  <tbody>\n",
       "    <tr>\n",
       "      <th>1773897</th>\n",
       "      <td>819.016667</td>\n",
       "      <td>300.0</td>\n",
       "      <td>20.0</td>\n",
       "      <td>n</td>\n",
       "      <td>COMPLETED</td>\n",
       "      <td>lola</td>\n",
       "    </tr>\n",
       "    <tr>\n",
       "      <th>4262014</th>\n",
       "      <td>1585.950000</td>\n",
       "      <td>300.0</td>\n",
       "      <td>20.0</td>\n",
       "      <td>n</td>\n",
       "      <td>COMPLETED</td>\n",
       "      <td>lola</td>\n",
       "    </tr>\n",
       "    <tr>\n",
       "      <th>3040608</th>\n",
       "      <td>657.833333</td>\n",
       "      <td>300.0</td>\n",
       "      <td>20.0</td>\n",
       "      <td>n</td>\n",
       "      <td>COMPLETED</td>\n",
       "      <td>lola</td>\n",
       "    </tr>\n",
       "    <tr>\n",
       "      <th>3343765</th>\n",
       "      <td>1161.283333</td>\n",
       "      <td>300.0</td>\n",
       "      <td>20.0</td>\n",
       "      <td>n</td>\n",
       "      <td>COMPLETED</td>\n",
       "      <td>lola</td>\n",
       "    </tr>\n",
       "    <tr>\n",
       "      <th>24692</th>\n",
       "      <td>543.900000</td>\n",
       "      <td>782.0</td>\n",
       "      <td>20.0</td>\n",
       "      <td>n</td>\n",
       "      <td>COMPLETED</td>\n",
       "      <td>sbcs</td>\n",
       "    </tr>\n",
       "    <tr>\n",
       "      <th>2735459</th>\n",
       "      <td>3624.433333</td>\n",
       "      <td>300.0</td>\n",
       "      <td>20.0</td>\n",
       "      <td>n</td>\n",
       "      <td>COMPLETED</td>\n",
       "      <td>lola</td>\n",
       "    </tr>\n",
       "    <tr>\n",
       "      <th>5702570</th>\n",
       "      <td>162.566667</td>\n",
       "      <td>60.0</td>\n",
       "      <td>20.0</td>\n",
       "      <td>n</td>\n",
       "      <td>COMPLETED</td>\n",
       "      <td>p_csb_meiler</td>\n",
       "    </tr>\n",
       "    <tr>\n",
       "      <th>1733307</th>\n",
       "      <td>1619.716667</td>\n",
       "      <td>300.0</td>\n",
       "      <td>20.0</td>\n",
       "      <td>n</td>\n",
       "      <td>FAILED</td>\n",
       "      <td>lola</td>\n",
       "    </tr>\n",
       "    <tr>\n",
       "      <th>2011418</th>\n",
       "      <td>25.616667</td>\n",
       "      <td>60.0</td>\n",
       "      <td>20.0</td>\n",
       "      <td>n</td>\n",
       "      <td>FAILED</td>\n",
       "      <td>beam_lab</td>\n",
       "    </tr>\n",
       "    <tr>\n",
       "      <th>9297163</th>\n",
       "      <td>32.583333</td>\n",
       "      <td>3000.0</td>\n",
       "      <td>20.0</td>\n",
       "      <td>n</td>\n",
       "      <td>COMPLETED</td>\n",
       "      <td>cgg</td>\n",
       "    </tr>\n",
       "  </tbody>\n",
       "</table>\n",
       "</div>"
      ],
      "text/plain": [
       "          queue_time  req_time  mem_int core_node      State       Account\n",
       "1773897   819.016667     300.0     20.0         n  COMPLETED          lola\n",
       "4262014  1585.950000     300.0     20.0         n  COMPLETED          lola\n",
       "3040608   657.833333     300.0     20.0         n  COMPLETED          lola\n",
       "3343765  1161.283333     300.0     20.0         n  COMPLETED          lola\n",
       "24692     543.900000     782.0     20.0         n  COMPLETED          sbcs\n",
       "2735459  3624.433333     300.0     20.0         n  COMPLETED          lola\n",
       "5702570   162.566667      60.0     20.0         n  COMPLETED  p_csb_meiler\n",
       "1733307  1619.716667     300.0     20.0         n     FAILED          lola\n",
       "2011418    25.616667      60.0     20.0         n     FAILED      beam_lab\n",
       "9297163    32.583333    3000.0     20.0         n  COMPLETED           cgg"
      ]
     },
     "execution_count": 55,
     "metadata": {},
     "output_type": "execute_result"
    }
   ],
   "source": [
    "q1_df_5_rand = q1_df_node_rand[q1_df_node_rand['mem_int'] == 20]\n",
    "q1_df_5_rand.head(10)"
   ]
  },
  {
   "cell_type": "code",
   "execution_count": 56,
   "metadata": {},
   "outputs": [
    {
     "data": {
      "text/html": [
       "<div>\n",
       "<style scoped>\n",
       "    .dataframe tbody tr th:only-of-type {\n",
       "        vertical-align: middle;\n",
       "    }\n",
       "\n",
       "    .dataframe tbody tr th {\n",
       "        vertical-align: top;\n",
       "    }\n",
       "\n",
       "    .dataframe thead th {\n",
       "        text-align: right;\n",
       "    }\n",
       "</style>\n",
       "<table border=\"1\" class=\"dataframe\">\n",
       "  <thead>\n",
       "    <tr style=\"text-align: right;\">\n",
       "      <th></th>\n",
       "      <th>queue_time</th>\n",
       "      <th>req_time</th>\n",
       "      <th>mem_int</th>\n",
       "      <th>core_node</th>\n",
       "      <th>State</th>\n",
       "      <th>Account</th>\n",
       "    </tr>\n",
       "  </thead>\n",
       "  <tbody>\n",
       "    <tr>\n",
       "      <th>878841</th>\n",
       "      <td>109.350000</td>\n",
       "      <td>240.0</td>\n",
       "      <td>1.024</td>\n",
       "      <td>n</td>\n",
       "      <td>COMPLETED</td>\n",
       "      <td>math</td>\n",
       "    </tr>\n",
       "    <tr>\n",
       "      <th>249183</th>\n",
       "      <td>1210.516667</td>\n",
       "      <td>30.0</td>\n",
       "      <td>1.024</td>\n",
       "      <td>n</td>\n",
       "      <td>COMPLETED</td>\n",
       "      <td>math</td>\n",
       "    </tr>\n",
       "    <tr>\n",
       "      <th>509316</th>\n",
       "      <td>343.750000</td>\n",
       "      <td>60.0</td>\n",
       "      <td>1.024</td>\n",
       "      <td>n</td>\n",
       "      <td>COMPLETED</td>\n",
       "      <td>math</td>\n",
       "    </tr>\n",
       "    <tr>\n",
       "      <th>319189</th>\n",
       "      <td>2495.033333</td>\n",
       "      <td>30.0</td>\n",
       "      <td>1.024</td>\n",
       "      <td>n</td>\n",
       "      <td>COMPLETED</td>\n",
       "      <td>math</td>\n",
       "    </tr>\n",
       "    <tr>\n",
       "      <th>782196</th>\n",
       "      <td>1057.133333</td>\n",
       "      <td>240.0</td>\n",
       "      <td>1.024</td>\n",
       "      <td>n</td>\n",
       "      <td>COMPLETED</td>\n",
       "      <td>math</td>\n",
       "    </tr>\n",
       "    <tr>\n",
       "      <th>483245</th>\n",
       "      <td>223.233333</td>\n",
       "      <td>60.0</td>\n",
       "      <td>1.024</td>\n",
       "      <td>n</td>\n",
       "      <td>COMPLETED</td>\n",
       "      <td>math</td>\n",
       "    </tr>\n",
       "    <tr>\n",
       "      <th>483214</th>\n",
       "      <td>222.466667</td>\n",
       "      <td>60.0</td>\n",
       "      <td>1.024</td>\n",
       "      <td>n</td>\n",
       "      <td>COMPLETED</td>\n",
       "      <td>math</td>\n",
       "    </tr>\n",
       "    <tr>\n",
       "      <th>1038002</th>\n",
       "      <td>293.666667</td>\n",
       "      <td>240.0</td>\n",
       "      <td>1.024</td>\n",
       "      <td>n</td>\n",
       "      <td>COMPLETED</td>\n",
       "      <td>math</td>\n",
       "    </tr>\n",
       "    <tr>\n",
       "      <th>251871</th>\n",
       "      <td>1278.550000</td>\n",
       "      <td>30.0</td>\n",
       "      <td>1.024</td>\n",
       "      <td>n</td>\n",
       "      <td>COMPLETED</td>\n",
       "      <td>math</td>\n",
       "    </tr>\n",
       "    <tr>\n",
       "      <th>567127</th>\n",
       "      <td>144.650000</td>\n",
       "      <td>60.0</td>\n",
       "      <td>1.024</td>\n",
       "      <td>n</td>\n",
       "      <td>COMPLETED</td>\n",
       "      <td>math</td>\n",
       "    </tr>\n",
       "  </tbody>\n",
       "</table>\n",
       "</div>"
      ],
      "text/plain": [
       "          queue_time  req_time  mem_int core_node      State Account\n",
       "878841    109.350000     240.0    1.024         n  COMPLETED    math\n",
       "249183   1210.516667      30.0    1.024         n  COMPLETED    math\n",
       "509316    343.750000      60.0    1.024         n  COMPLETED    math\n",
       "319189   2495.033333      30.0    1.024         n  COMPLETED    math\n",
       "782196   1057.133333     240.0    1.024         n  COMPLETED    math\n",
       "483245    223.233333      60.0    1.024         n  COMPLETED    math\n",
       "483214    222.466667      60.0    1.024         n  COMPLETED    math\n",
       "1038002   293.666667     240.0    1.024         n  COMPLETED    math\n",
       "251871   1278.550000      30.0    1.024         n  COMPLETED    math\n",
       "567127    144.650000      60.0    1.024         n  COMPLETED    math"
      ]
     },
     "execution_count": 56,
     "metadata": {},
     "output_type": "execute_result"
    }
   ],
   "source": [
    "q1_df_beam_rand = q1_df_node_rand[q1_df_node_rand['Account'] == 'math']\n",
    "q1_df_beam_rand.head(10)"
   ]
  },
  {
   "cell_type": "code",
   "execution_count": 57,
   "metadata": {},
   "outputs": [
    {
     "data": {
      "text/plain": [
       "<matplotlib.axes._subplots.AxesSubplot at 0x1a70e71e80>"
      ]
     },
     "execution_count": 57,
     "metadata": {},
     "output_type": "execute_result"
    },
    {
     "data": {
      "image/png": "[encoded data removed]",
      "text/plain": [
       "<Figure size 432x288 with 1 Axes>"
      ]
     },
     "metadata": {},
     "output_type": "display_data"
    }
   ],
   "source": [
    "q1_df_rand.plot(kind='scatter',x='req_time', y='queue_time', fontsize = 16)\n",
    "#plt.axis([0,7500, 0, 10000])"
   ]
  },
  {
   "cell_type": "code",
   "execution_count": 58,
   "metadata": {},
   "outputs": [],
   "source": [
    "#q1_remove_outliers = q1_df_rand.loc[q1_df_rand['queue_time'] < 20000,:]\n",
    "q1_remove_outliers = q1_median_group.loc[q1_median_group['queue_time'] < 1500,:]"
   ]
  },
  {
   "cell_type": "code",
   "execution_count": 59,
   "metadata": {},
   "outputs": [
    {
     "data": {
      "text/html": [
       "<div>\n",
       "<style scoped>\n",
       "    .dataframe tbody tr th:only-of-type {\n",
       "        vertical-align: middle;\n",
       "    }\n",
       "\n",
       "    .dataframe tbody tr th {\n",
       "        vertical-align: top;\n",
       "    }\n",
       "\n",
       "    .dataframe thead th {\n",
       "        text-align: right;\n",
       "    }\n",
       "</style>\n",
       "<table border=\"1\" class=\"dataframe\">\n",
       "  <thead>\n",
       "    <tr style=\"text-align: right;\">\n",
       "      <th></th>\n",
       "      <th>req_time</th>\n",
       "      <th>queue_time</th>\n",
       "    </tr>\n",
       "  </thead>\n",
       "  <tbody>\n",
       "    <tr>\n",
       "      <th>1</th>\n",
       "      <td>1.0</td>\n",
       "      <td>1290.866667</td>\n",
       "    </tr>\n",
       "    <tr>\n",
       "      <th>2</th>\n",
       "      <td>2.0</td>\n",
       "      <td>1282.750000</td>\n",
       "    </tr>\n",
       "    <tr>\n",
       "      <th>3</th>\n",
       "      <td>780.0</td>\n",
       "      <td>902.300000</td>\n",
       "    </tr>\n",
       "    <tr>\n",
       "      <th>4</th>\n",
       "      <td>1500.0</td>\n",
       "      <td>861.983333</td>\n",
       "    </tr>\n",
       "    <tr>\n",
       "      <th>5</th>\n",
       "      <td>782.0</td>\n",
       "      <td>848.700000</td>\n",
       "    </tr>\n",
       "    <tr>\n",
       "      <th>6</th>\n",
       "      <td>300.0</td>\n",
       "      <td>789.333333</td>\n",
       "    </tr>\n",
       "    <tr>\n",
       "      <th>7</th>\n",
       "      <td>2100.0</td>\n",
       "      <td>714.566667</td>\n",
       "    </tr>\n",
       "    <tr>\n",
       "      <th>8</th>\n",
       "      <td>20160.0</td>\n",
       "      <td>670.800000</td>\n",
       "    </tr>\n",
       "    <tr>\n",
       "      <th>9</th>\n",
       "      <td>10800.0</td>\n",
       "      <td>553.866667</td>\n",
       "    </tr>\n",
       "    <tr>\n",
       "      <th>10</th>\n",
       "      <td>480.0</td>\n",
       "      <td>544.850000</td>\n",
       "    </tr>\n",
       "  </tbody>\n",
       "</table>\n",
       "</div>"
      ],
      "text/plain": [
       "    req_time   queue_time\n",
       "1        1.0  1290.866667\n",
       "2        2.0  1282.750000\n",
       "3      780.0   902.300000\n",
       "4     1500.0   861.983333\n",
       "5      782.0   848.700000\n",
       "6      300.0   789.333333\n",
       "7     2100.0   714.566667\n",
       "8    20160.0   670.800000\n",
       "9    10800.0   553.866667\n",
       "10     480.0   544.850000"
      ]
     },
     "execution_count": 59,
     "metadata": {},
     "output_type": "execute_result"
    }
   ],
   "source": [
    "q1_corr_df = q1_remove_outliers.loc[:,['req_time', 'queue_time']]\n",
    "\n",
    "q1_corr_df.head(10)"
   ]
  },
  {
   "cell_type": "code",
   "execution_count": 60,
   "metadata": {},
   "outputs": [
    {
     "data": {
      "text/html": [
       "<div>\n",
       "<style scoped>\n",
       "    .dataframe tbody tr th:only-of-type {\n",
       "        vertical-align: middle;\n",
       "    }\n",
       "\n",
       "    .dataframe tbody tr th {\n",
       "        vertical-align: top;\n",
       "    }\n",
       "\n",
       "    .dataframe thead th {\n",
       "        text-align: right;\n",
       "    }\n",
       "</style>\n",
       "<table border=\"1\" class=\"dataframe\">\n",
       "  <thead>\n",
       "    <tr style=\"text-align: right;\">\n",
       "      <th></th>\n",
       "      <th>req_time</th>\n",
       "      <th>queue_time</th>\n",
       "      <th>mem_int</th>\n",
       "    </tr>\n",
       "  </thead>\n",
       "  <tbody>\n",
       "    <tr>\n",
       "      <th>req_time</th>\n",
       "      <td>1.000000</td>\n",
       "      <td>0.143179</td>\n",
       "      <td>NaN</td>\n",
       "    </tr>\n",
       "    <tr>\n",
       "      <th>queue_time</th>\n",
       "      <td>0.143179</td>\n",
       "      <td>1.000000</td>\n",
       "      <td>NaN</td>\n",
       "    </tr>\n",
       "    <tr>\n",
       "      <th>mem_int</th>\n",
       "      <td>NaN</td>\n",
       "      <td>NaN</td>\n",
       "      <td>NaN</td>\n",
       "    </tr>\n",
       "  </tbody>\n",
       "</table>\n",
       "</div>"
      ],
      "text/plain": [
       "            req_time  queue_time  mem_int\n",
       "req_time    1.000000    0.143179      NaN\n",
       "queue_time  0.143179    1.000000      NaN\n",
       "mem_int          NaN         NaN      NaN"
      ]
     },
     "execution_count": 60,
     "metadata": {},
     "output_type": "execute_result"
    }
   ],
   "source": [
    "q1_median_group_5.corr()"
   ]
  },
  {
   "cell_type": "code",
   "execution_count": null,
   "metadata": {},
   "outputs": [],
   "source": []
  },
  {
   "cell_type": "markdown",
   "metadata": {},
   "source": [
    "# Question 2. Are there any nodes that fail more than the others"
   ]
  },
  {
   "cell_type": "code",
   "execution_count": 70,
   "metadata": {},
   "outputs": [
    {
     "data": {
      "text/plain": [
       "array(['COMPLETED', 'TIMEOUT', 'CANCELLED by 29607', 'FAILED',\n",
       "       'CANCELLED by 454080', 'CANCELLED by 100684',\n",
       "       'CANCELLED by 667840', 'CANCELLED by 660360',\n",
       "       'CANCELLED by 481000', 'CANCELLED by 0', 'CANCELLED by 229215',\n",
       "       'CANCELLED by 633620', 'CANCELLED by 207302',\n",
       "       'CANCELLED by 124006', 'CANCELLED by 112602',\n",
       "       'CANCELLED by 172079', 'CANCELLED by 199052',\n",
       "       'CANCELLED by 156369', 'CANCELLED by 389801', 'NODE_FAIL',\n",
       "       'CANCELLED by 123148', 'CANCELLED by 501421',\n",
       "       'CANCELLED by 525961', 'CANCELLED by 352698',\n",
       "       'CANCELLED by 169859', 'CANCELLED by 144605', 'CANCELLED by 85636',\n",
       "       'CANCELLED by 240352', 'CANCELLED by 195638',\n",
       "       'CANCELLED by 534784', 'CANCELLED by 379605',\n",
       "       'CANCELLED by 308082', 'CANCELLED by 28075', 'CANCELLED by 337100',\n",
       "       'CANCELLED by 497968', 'CANCELLED by 485800',\n",
       "       'CANCELLED by 237813', 'CANCELLED by 504485',\n",
       "       'CANCELLED by 174942', 'CANCELLED by 171742',\n",
       "       'CANCELLED by 584640', 'CANCELLED by 115292', 'CANCELLED by 29605',\n",
       "       'PREEMPTED', 'CANCELLED by 169950', 'CANCELLED by 465700',\n",
       "       'CANCELLED by 233240', 'CANCELLED by 90423', 'CANCELLED by 693461',\n",
       "       'CANCELLED by 348967', 'CANCELLED by 234826',\n",
       "       'CANCELLED by 234804', 'CANCELLED by 543102', 'CANCELLED by 20003',\n",
       "       'CANCELLED by 423460', 'CANCELLED by 565201',\n",
       "       'CANCELLED by 446300', 'CANCELLED by 467740',\n",
       "       'CANCELLED by 141409', 'CANCELLED by 1010', 'CANCELLED by 496200',\n",
       "       'CANCELLED by 229251', 'CANCELLED by 478081', 'CANCELLED by 89762',\n",
       "       'CANCELLED by 360640', 'CANCELLED by 342713',\n",
       "       'CANCELLED by 114701', 'CANCELLED by 79207', 'CANCELLED by 175942',\n",
       "       'CANCELLED by 155042', 'CANCELLED by 233927',\n",
       "       'CANCELLED by 488480', 'CANCELLED by 355660',\n",
       "       'CANCELLED by 391003', 'CANCELLED by 233286',\n",
       "       'CANCELLED by 338343', 'CANCELLED by 116648',\n",
       "       'CANCELLED by 169069', 'CANCELLED by 40091', 'CANCELLED by 645260',\n",
       "       'CANCELLED by 645280', 'CANCELLED by 232071',\n",
       "       'CANCELLED by 347007', 'CANCELLED by 337620',\n",
       "       'CANCELLED by 397061', 'CANCELLED by 233611', 'CANCELLED by 57935',\n",
       "       'CANCELLED by 68906', 'CANCELLED by 5007', 'CANCELLED by 606781',\n",
       "       'CANCELLED by 196742', 'CANCELLED by 657361',\n",
       "       'CANCELLED by 195064', 'CANCELLED by 59223', 'CANCELLED by 559643',\n",
       "       'CANCELLED by 229226', 'CANCELLED by 480981',\n",
       "       'CANCELLED by 344973', 'CANCELLED by 171302',\n",
       "       'CANCELLED by 558123', 'CANCELLED by 222580',\n",
       "       'CANCELLED by 483348', 'CANCELLED by 473722',\n",
       "       'CANCELLED by 587640', 'CANCELLED by 229312',\n",
       "       'CANCELLED by 161909', 'CANCELLED by 229206',\n",
       "       'CANCELLED by 280920', 'CANCELLED by 478077', 'CANCELLED by 96504',\n",
       "       'CANCELLED by 200524', 'CANCELLED by 675940',\n",
       "       'CANCELLED by 502965', 'CANCELLED by 233839',\n",
       "       'CANCELLED by 200701', 'CANCELLED by 170616',\n",
       "       'CANCELLED by 199755', 'CANCELLED by 497281', 'CANCELLED by 20725',\n",
       "       'CANCELLED by 198602', 'CANCELLED by 349259',\n",
       "       'CANCELLED by 170833', 'CANCELLED by 451700',\n",
       "       'CANCELLED by 199766', 'CANCELLED by 173073',\n",
       "       'CANCELLED by 339163', 'CANCELLED by 199086',\n",
       "       'CANCELLED by 172396', 'CANCELLED by 171798', 'CANCELLED by 34298',\n",
       "       'CANCELLED by 231603', 'CANCELLED by 9997', 'CANCELLED by 470960',\n",
       "       'CANCELLED by 173433', 'CANCELLED by 242400',\n",
       "       'CANCELLED by 175115', 'CANCELLED by 117632',\n",
       "       'CANCELLED by 298060', 'CANCELLED by 158061',\n",
       "       'CANCELLED by 663880', 'CANCELLED by 664085',\n",
       "       'CANCELLED by 234344', 'CANCELLED by 348785',\n",
       "       'CANCELLED by 515423', 'CANCELLED by 126986',\n",
       "       'CANCELLED by 175195', 'CANCELLED by 159541',\n",
       "       'CANCELLED by 555240', 'CANCELLED by 30100', 'CANCELLED by 421502',\n",
       "       'CANCELLED by 688481', 'CANCELLED by 93631', 'CANCELLED by 1005',\n",
       "       'CANCELLED by 409540', 'CANCELLED by 377140', 'CANCELLED by 99901',\n",
       "       'CANCELLED by 197514', 'CANCELLED by 176870', 'CANCELLED by 5009',\n",
       "       'CANCELLED by 234991', 'CANCELLED by 335225',\n",
       "       'CANCELLED by 121574', 'CANCELLED by 352796',\n",
       "       'CANCELLED by 141603', 'CANCELLED by 233949',\n",
       "       'CANCELLED by 175381', 'CANCELLED by 346276',\n",
       "       'CANCELLED by 164282', 'CANCELLED by 536741',\n",
       "       'CANCELLED by 113209', 'CANCELLED by 87722', 'CANCELLED by 260643',\n",
       "       'CANCELLED by 198781', 'CANCELLED by 171357', 'CANCELLED by 82877',\n",
       "       'CANCELLED by 176812', 'CANCELLED by 667321',\n",
       "       'CANCELLED by 524189', 'CANCELLED by 232979',\n",
       "       'CANCELLED by 156547', 'CANCELLED by 607300',\n",
       "       'CANCELLED by 175929', 'CANCELLED by 574202',\n",
       "       'CANCELLED by 112870', 'CANCELLED by 621980',\n",
       "       'CANCELLED by 103978', 'CANCELLED by 112888',\n",
       "       'CANCELLED by 201849', 'CANCELLED by 337422',\n",
       "       'CANCELLED by 163851', 'CANCELLED by 233674',\n",
       "       'CANCELLED by 171004', 'CANCELLED by 735540',\n",
       "       'CANCELLED by 162009', 'CANCELLED by 353986',\n",
       "       'CANCELLED by 174850', 'CANCELLED by 558341',\n",
       "       'CANCELLED by 427821', 'CANCELLED by 169937',\n",
       "       'CANCELLED by 471960', 'CANCELLED by 731860',\n",
       "       'CANCELLED by 255620', 'CANCELLED by 623680',\n",
       "       'CANCELLED by 171328', 'CANCELLED by 353983',\n",
       "       'CANCELLED by 229109', 'CANCELLED by 111765',\n",
       "       'CANCELLED by 199092', 'CANCELLED by 16903', 'CANCELLED by 656864',\n",
       "       'CANCELLED by 172059', 'CANCELLED by 174209', 'CANCELLED by 28048',\n",
       "       'CANCELLED by 200581', 'CANCELLED by 237602',\n",
       "       'CANCELLED by 154932', 'CANCELLED by 674623',\n",
       "       'CANCELLED by 170568', 'CANCELLED by 124968',\n",
       "       'CANCELLED by 195640', 'CANCELLED by 645161',\n",
       "       'CANCELLED by 526520', 'CANCELLED by 196703',\n",
       "       'CANCELLED by 484992', 'CANCELLED by 566631',\n",
       "       'CANCELLED by 501425', 'CANCELLED by 232977', 'CANCELLED by 59887',\n",
       "       'CANCELLED by 315354', 'CANCELLED by 545929',\n",
       "       'CANCELLED by 124926', 'CANCELLED by 714900',\n",
       "       'CANCELLED by 551122', 'CANCELLED by 200640',\n",
       "       'CANCELLED by 483404', 'CANCELLED by 743703',\n",
       "       'CANCELLED by 353978', 'CANCELLED by 53988', 'CANCELLED by 160745',\n",
       "       'CANCELLED by 354401', 'CANCELLED by 154990',\n",
       "       'CANCELLED by 453420', 'CANCELLED by 121890',\n",
       "       'CANCELLED by 368360', 'CANCELLED by 743040',\n",
       "       'CANCELLED by 344984', 'CANCELLED by 231297',\n",
       "       'CANCELLED by 478095', 'CANCELLED by 46963', 'CANCELLED by 334696',\n",
       "       'CANCELLED by 29644', 'CANCELLED by 171251', 'CANCELLED by 111664',\n",
       "       'CANCELLED by 196257', 'CANCELLED by 638884',\n",
       "       'CANCELLED by 504438', 'CANCELLED by 231246',\n",
       "       'CANCELLED by 479945', 'CANCELLED by 584746',\n",
       "       'CANCELLED by 712681', 'CANCELLED by 170421',\n",
       "       'CANCELLED by 708003', 'CANCELLED by 198996',\n",
       "       'CANCELLED by 103040', 'CANCELLED by 395240',\n",
       "       'CANCELLED by 651429', 'CANCELLED by 631220',\n",
       "       'CANCELLED by 645144', 'CANCELLED by 748590',\n",
       "       'CANCELLED by 712927', 'CANCELLED by 649317',\n",
       "       'CANCELLED by 640469', 'CANCELLED by 577900',\n",
       "       'CANCELLED by 155083', 'CANCELLED by 200467',\n",
       "       'CANCELLED by 322021', 'CANCELLED by 478542',\n",
       "       'CANCELLED by 143184', 'CANCELLED by 660984', 'CANCELLED by 29789',\n",
       "       'CANCELLED by 156658', 'CANCELLED by 50427', 'CANCELLED by 623740',\n",
       "       'CANCELLED by 657618', 'CANCELLED by 342288',\n",
       "       'CANCELLED by 232963', 'CANCELLED by 45725', 'CANCELLED by 591541',\n",
       "       'CANCELLED by 318547', 'CANCELLED by 25407', 'CANCELLED by 232756',\n",
       "       'CANCELLED by 226488', 'CANCELLED by 649321',\n",
       "       'CANCELLED by 715880', 'CANCELLED by 675240',\n",
       "       'CANCELLED by 704500', 'CANCELLED by 248940',\n",
       "       'CANCELLED by 586680', 'CANCELLED by 88934', 'CANCELLED by 136468',\n",
       "       'CANCELLED by 697860', 'CANCELLED by 598941',\n",
       "       'CANCELLED by 199062', 'CANCELLED by 76581', 'CANCELLED by 747109',\n",
       "       'CANCELLED by 159963', 'CANCELLED by 309220',\n",
       "       'CANCELLED by 177470', 'CANCELLED by 346243',\n",
       "       'CANCELLED by 674523', 'CANCELLED by 117275',\n",
       "       'CANCELLED by 236022', 'CANCELLED by 19088', 'CANCELLED by 696220',\n",
       "       'CANCELLED by 204903', 'CANCELLED by 232742',\n",
       "       'CANCELLED by 354701', 'CANCELLED by 553540',\n",
       "       'CANCELLED by 482851', 'CANCELLED by 200152',\n",
       "       'CANCELLED by 128553', 'CANCELLED by 332860',\n",
       "       'CANCELLED by 756644', 'CANCELLED by 111694',\n",
       "       'CANCELLED by 315546', 'CANCELLED by 530861',\n",
       "       'CANCELLED by 235985', 'CANCELLED by 207446',\n",
       "       'CANCELLED by 236490', 'CANCELLED by 352793',\n",
       "       'CANCELLED by 236050', 'CANCELLED by 505319',\n",
       "       'CANCELLED by 315473', 'CANCELLED by 646621',\n",
       "       'CANCELLED by 171745', 'CANCELLED by 753020',\n",
       "       'CANCELLED by 745149', 'CANCELLED by 19853', 'CANCELLED by 661782',\n",
       "       'CANCELLED by 518360', 'CANCELLED by 764102',\n",
       "       'CANCELLED by 343241', 'CANCELLED by 345883',\n",
       "       'CANCELLED by 176465', 'CANCELLED by 649319',\n",
       "       'CANCELLED by 751980', 'CANCELLED by 314420',\n",
       "       'CANCELLED by 491383', 'CANCELLED by 762584',\n",
       "       'CANCELLED by 339873', 'CANCELLED by 762604',\n",
       "       'CANCELLED by 171801', 'CANCELLED by 672289',\n",
       "       'CANCELLED by 103583', 'CANCELLED by 198805',\n",
       "       'CANCELLED by 315469', 'CANCELLED by 347540',\n",
       "       'CANCELLED by 138255', 'CANCELLED by 160027',\n",
       "       'CANCELLED by 650987', 'CANCELLED by 352764',\n",
       "       'CANCELLED by 395329', 'CANCELLED by 648455',\n",
       "       'CANCELLED by 256540', 'CANCELLED by 771170',\n",
       "       'CANCELLED by 126883', 'CANCELLED by 234983',\n",
       "       'CANCELLED by 768696', 'CANCELLED by 502974',\n",
       "       'CANCELLED by 204304', 'CANCELLED by 513037'], dtype=object)"
      ]
     },
     "execution_count": 70,
     "metadata": {},
     "output_type": "execute_result"
    }
   ],
   "source": [
    "# Unique values to find the state to look at\n",
    "accre_df.State.unique()\n"
   ]
  },
  {
   "cell_type": "code",
   "execution_count": 71,
   "metadata": {},
   "outputs": [],
   "source": [
    "# Filtering out the jobs that run on multiple nodes\n",
    "Jobs_df=accre_df.loc[accre_df['NodeList'].str[3]!='[', :]\n"
   ]
  },
  {
   "cell_type": "markdown",
   "metadata": {},
   "source": [
    "## We're looking for the nodes that have a state of NODE_FAIL"
   ]
  },
  {
   "cell_type": "code",
   "execution_count": 72,
   "metadata": {},
   "outputs": [
    {
     "data": {
      "text/html": [
       "<div>\n",
       "<style scoped>\n",
       "    .dataframe tbody tr th:only-of-type {\n",
       "        vertical-align: middle;\n",
       "    }\n",
       "\n",
       "    .dataframe tbody tr th {\n",
       "        vertical-align: top;\n",
       "    }\n",
       "\n",
       "    .dataframe thead th {\n",
       "        text-align: right;\n",
       "    }\n",
       "</style>\n",
       "<table border=\"1\" class=\"dataframe\">\n",
       "  <thead>\n",
       "    <tr style=\"text-align: right;\">\n",
       "      <th></th>\n",
       "      <th>JobID</th>\n",
       "      <th>JobIDRaw</th>\n",
       "      <th>Cluster</th>\n",
       "      <th>Partition</th>\n",
       "      <th>Account</th>\n",
       "      <th>Group</th>\n",
       "      <th>GID</th>\n",
       "      <th>User</th>\n",
       "      <th>UID</th>\n",
       "      <th>Submit</th>\n",
       "      <th>...</th>\n",
       "      <th>ReqGRES</th>\n",
       "      <th>ReqTRES</th>\n",
       "      <th>Timelimit</th>\n",
       "      <th>NodeList</th>\n",
       "      <th>JobName</th>\n",
       "      <th>queue_time</th>\n",
       "      <th>req_time</th>\n",
       "      <th>mem_cat</th>\n",
       "      <th>mem_int</th>\n",
       "      <th>core_node</th>\n",
       "    </tr>\n",
       "  </thead>\n",
       "  <tbody>\n",
       "    <tr>\n",
       "      <th>22163</th>\n",
       "      <td>15839577_49</td>\n",
       "      <td>15839577</td>\n",
       "      <td>accre</td>\n",
       "      <td>production</td>\n",
       "      <td>capra_lab_csb</td>\n",
       "      <td>capra_lab</td>\n",
       "      <td>20429</td>\n",
       "      <td>sivleyrm</td>\n",
       "      <td>156369.0</td>\n",
       "      <td>2017-07-03 16:33:30</td>\n",
       "      <td>...</td>\n",
       "      <td>NaN</td>\n",
       "      <td>cpu=1,mem=10G,node=1</td>\n",
       "      <td>5-00:00:00</td>\n",
       "      <td>vmp1342</td>\n",
       "      <td>rsa_K</td>\n",
       "      <td>0.016667</td>\n",
       "      <td>7200.0</td>\n",
       "      <td>Gn</td>\n",
       "      <td>10.0</td>\n",
       "      <td>n</td>\n",
       "    </tr>\n",
       "    <tr>\n",
       "      <th>22166</th>\n",
       "      <td>15839577_2</td>\n",
       "      <td>15839580</td>\n",
       "      <td>accre</td>\n",
       "      <td>production</td>\n",
       "      <td>capra_lab_csb</td>\n",
       "      <td>capra_lab</td>\n",
       "      <td>20429</td>\n",
       "      <td>sivleyrm</td>\n",
       "      <td>156369.0</td>\n",
       "      <td>2017-07-03 16:33:30</td>\n",
       "      <td>...</td>\n",
       "      <td>NaN</td>\n",
       "      <td>cpu=1,mem=10G,node=1</td>\n",
       "      <td>5-00:00:00</td>\n",
       "      <td>vmp1055</td>\n",
       "      <td>rsa_K</td>\n",
       "      <td>0.000000</td>\n",
       "      <td>7200.0</td>\n",
       "      <td>Gn</td>\n",
       "      <td>10.0</td>\n",
       "      <td>n</td>\n",
       "    </tr>\n",
       "    <tr>\n",
       "      <th>22167</th>\n",
       "      <td>15839577_3</td>\n",
       "      <td>15839581</td>\n",
       "      <td>accre</td>\n",
       "      <td>production</td>\n",
       "      <td>capra_lab_csb</td>\n",
       "      <td>capra_lab</td>\n",
       "      <td>20429</td>\n",
       "      <td>sivleyrm</td>\n",
       "      <td>156369.0</td>\n",
       "      <td>2017-07-03 16:33:30</td>\n",
       "      <td>...</td>\n",
       "      <td>NaN</td>\n",
       "      <td>cpu=1,mem=10G,node=1</td>\n",
       "      <td>5-00:00:00</td>\n",
       "      <td>vmp1043</td>\n",
       "      <td>rsa_K</td>\n",
       "      <td>0.000000</td>\n",
       "      <td>7200.0</td>\n",
       "      <td>Gn</td>\n",
       "      <td>10.0</td>\n",
       "      <td>n</td>\n",
       "    </tr>\n",
       "    <tr>\n",
       "      <th>22204</th>\n",
       "      <td>15839577_40</td>\n",
       "      <td>15839618</td>\n",
       "      <td>accre</td>\n",
       "      <td>production</td>\n",
       "      <td>capra_lab_csb</td>\n",
       "      <td>capra_lab</td>\n",
       "      <td>20429</td>\n",
       "      <td>sivleyrm</td>\n",
       "      <td>156369.0</td>\n",
       "      <td>2017-07-03 16:33:30</td>\n",
       "      <td>...</td>\n",
       "      <td>NaN</td>\n",
       "      <td>cpu=1,mem=10G,node=1</td>\n",
       "      <td>5-00:00:00</td>\n",
       "      <td>vmp1342</td>\n",
       "      <td>rsa_K</td>\n",
       "      <td>0.016667</td>\n",
       "      <td>7200.0</td>\n",
       "      <td>Gn</td>\n",
       "      <td>10.0</td>\n",
       "      <td>n</td>\n",
       "    </tr>\n",
       "    <tr>\n",
       "      <th>22205</th>\n",
       "      <td>15839577_41</td>\n",
       "      <td>15839619</td>\n",
       "      <td>accre</td>\n",
       "      <td>production</td>\n",
       "      <td>capra_lab_csb</td>\n",
       "      <td>capra_lab</td>\n",
       "      <td>20429</td>\n",
       "      <td>sivleyrm</td>\n",
       "      <td>156369.0</td>\n",
       "      <td>2017-07-03 16:33:30</td>\n",
       "      <td>...</td>\n",
       "      <td>NaN</td>\n",
       "      <td>cpu=1,mem=10G,node=1</td>\n",
       "      <td>5-00:00:00</td>\n",
       "      <td>vmp1342</td>\n",
       "      <td>rsa_K</td>\n",
       "      <td>0.016667</td>\n",
       "      <td>7200.0</td>\n",
       "      <td>Gn</td>\n",
       "      <td>10.0</td>\n",
       "      <td>n</td>\n",
       "    </tr>\n",
       "  </tbody>\n",
       "</table>\n",
       "<p>5 rows × 30 columns</p>\n",
       "</div>"
      ],
      "text/plain": [
       "             JobID  JobIDRaw Cluster   Partition        Account      Group  \\\n",
       "22163  15839577_49  15839577   accre  production  capra_lab_csb  capra_lab   \n",
       "22166   15839577_2  15839580   accre  production  capra_lab_csb  capra_lab   \n",
       "22167   15839577_3  15839581   accre  production  capra_lab_csb  capra_lab   \n",
       "22204  15839577_40  15839618   accre  production  capra_lab_csb  capra_lab   \n",
       "22205  15839577_41  15839619   accre  production  capra_lab_csb  capra_lab   \n",
       "\n",
       "         GID      User       UID              Submit    ...    ReqGRES  \\\n",
       "22163  20429  sivleyrm  156369.0 2017-07-03 16:33:30    ...        NaN   \n",
       "22166  20429  sivleyrm  156369.0 2017-07-03 16:33:30    ...        NaN   \n",
       "22167  20429  sivleyrm  156369.0 2017-07-03 16:33:30    ...        NaN   \n",
       "22204  20429  sivleyrm  156369.0 2017-07-03 16:33:30    ...        NaN   \n",
       "22205  20429  sivleyrm  156369.0 2017-07-03 16:33:30    ...        NaN   \n",
       "\n",
       "                    ReqTRES   Timelimit NodeList JobName queue_time  req_time  \\\n",
       "22163  cpu=1,mem=10G,node=1  5-00:00:00  vmp1342   rsa_K   0.016667    7200.0   \n",
       "22166  cpu=1,mem=10G,node=1  5-00:00:00  vmp1055   rsa_K   0.000000    7200.0   \n",
       "22167  cpu=1,mem=10G,node=1  5-00:00:00  vmp1043   rsa_K   0.000000    7200.0   \n",
       "22204  cpu=1,mem=10G,node=1  5-00:00:00  vmp1342   rsa_K   0.016667    7200.0   \n",
       "22205  cpu=1,mem=10G,node=1  5-00:00:00  vmp1342   rsa_K   0.016667    7200.0   \n",
       "\n",
       "       mem_cat  mem_int core_node  \n",
       "22163       Gn     10.0         n  \n",
       "22166       Gn     10.0         n  \n",
       "22167       Gn     10.0         n  \n",
       "22204       Gn     10.0         n  \n",
       "22205       Gn     10.0         n  \n",
       "\n",
       "[5 rows x 30 columns]"
      ]
     },
     "execution_count": 72,
     "metadata": {},
     "output_type": "execute_result"
    }
   ],
   "source": [
    "#Slice the dataframe to show all failed jobs\n",
    "jobs_failure = Jobs_df[(Jobs_df.State==\"NODE_FAIL\")]\n",
    "jobs_failure.head()"
   ]
  },
  {
   "cell_type": "code",
   "execution_count": 73,
   "metadata": {},
   "outputs": [
    {
     "data": {
      "text/html": [
       "<div>\n",
       "<style scoped>\n",
       "    .dataframe tbody tr th:only-of-type {\n",
       "        vertical-align: middle;\n",
       "    }\n",
       "\n",
       "    .dataframe tbody tr th {\n",
       "        vertical-align: top;\n",
       "    }\n",
       "\n",
       "    .dataframe thead th {\n",
       "        text-align: right;\n",
       "    }\n",
       "</style>\n",
       "<table border=\"1\" class=\"dataframe\">\n",
       "  <thead>\n",
       "    <tr style=\"text-align: right;\">\n",
       "      <th></th>\n",
       "      <th>JobID</th>\n",
       "      <th>ExitCode</th>\n",
       "      <th>State</th>\n",
       "      <th>NodeList</th>\n",
       "    </tr>\n",
       "  </thead>\n",
       "  <tbody>\n",
       "    <tr>\n",
       "      <th>22163</th>\n",
       "      <td>15839577_49</td>\n",
       "      <td>0:0</td>\n",
       "      <td>NODE_FAIL</td>\n",
       "      <td>vmp1342</td>\n",
       "    </tr>\n",
       "    <tr>\n",
       "      <th>22166</th>\n",
       "      <td>15839577_2</td>\n",
       "      <td>0:0</td>\n",
       "      <td>NODE_FAIL</td>\n",
       "      <td>vmp1055</td>\n",
       "    </tr>\n",
       "    <tr>\n",
       "      <th>22167</th>\n",
       "      <td>15839577_3</td>\n",
       "      <td>0:0</td>\n",
       "      <td>NODE_FAIL</td>\n",
       "      <td>vmp1043</td>\n",
       "    </tr>\n",
       "    <tr>\n",
       "      <th>22204</th>\n",
       "      <td>15839577_40</td>\n",
       "      <td>0:0</td>\n",
       "      <td>NODE_FAIL</td>\n",
       "      <td>vmp1342</td>\n",
       "    </tr>\n",
       "    <tr>\n",
       "      <th>22205</th>\n",
       "      <td>15839577_41</td>\n",
       "      <td>0:0</td>\n",
       "      <td>NODE_FAIL</td>\n",
       "      <td>vmp1342</td>\n",
       "    </tr>\n",
       "  </tbody>\n",
       "</table>\n",
       "</div>"
      ],
      "text/plain": [
       "             JobID ExitCode      State NodeList\n",
       "22163  15839577_49      0:0  NODE_FAIL  vmp1342\n",
       "22166   15839577_2      0:0  NODE_FAIL  vmp1055\n",
       "22167   15839577_3      0:0  NODE_FAIL  vmp1043\n",
       "22204  15839577_40      0:0  NODE_FAIL  vmp1342\n",
       "22205  15839577_41      0:0  NODE_FAIL  vmp1342"
      ]
     },
     "execution_count": 73,
     "metadata": {},
     "output_type": "execute_result"
    }
   ],
   "source": [
    "#Drop unused columns\n",
    "jobs_failed=jobs_failure[['JobID', 'ExitCode', 'State', 'NodeList']]\n",
    "jobs_failed.head()"
   ]
  },
  {
   "cell_type": "code",
   "execution_count": 74,
   "metadata": {},
   "outputs": [],
   "source": [
    "#Count how many times each node has failed\n",
    "pd.DataFrame(jobs_failed.NodeList.value_counts());"
   ]
  },
  {
   "cell_type": "code",
   "execution_count": 75,
   "metadata": {},
   "outputs": [],
   "source": [
    "#Count how many times every node has been used overall\n",
    "pd.DataFrame(Jobs_df.NodeList.value_counts());"
   ]
  },
  {
   "cell_type": "code",
   "execution_count": 76,
   "metadata": {},
   "outputs": [],
   "source": [
    "failed = {}\n",
    "for key, value in jobs_failed[jobs_failed.State.isin(['NODE_FAIL'])].groupby('NodeList').size().iteritems():\n",
    "    failed.update({key: value})"
   ]
  },
  {
   "cell_type": "code",
   "execution_count": 77,
   "metadata": {},
   "outputs": [
    {
     "data": {
      "text/html": [
       "<div>\n",
       "<style scoped>\n",
       "    .dataframe tbody tr th:only-of-type {\n",
       "        vertical-align: middle;\n",
       "    }\n",
       "\n",
       "    .dataframe tbody tr th {\n",
       "        vertical-align: top;\n",
       "    }\n",
       "\n",
       "    .dataframe thead th {\n",
       "        text-align: right;\n",
       "    }\n",
       "</style>\n",
       "<table border=\"1\" class=\"dataframe\">\n",
       "  <thead>\n",
       "    <tr style=\"text-align: right;\">\n",
       "      <th></th>\n",
       "      <th>index</th>\n",
       "      <th>failures</th>\n",
       "    </tr>\n",
       "  </thead>\n",
       "  <tbody>\n",
       "    <tr>\n",
       "      <th>0</th>\n",
       "      <td>gpu0001</td>\n",
       "      <td>2</td>\n",
       "    </tr>\n",
       "    <tr>\n",
       "      <th>1</th>\n",
       "      <td>gpu0002</td>\n",
       "      <td>1</td>\n",
       "    </tr>\n",
       "    <tr>\n",
       "      <th>2</th>\n",
       "      <td>gpu0003</td>\n",
       "      <td>1</td>\n",
       "    </tr>\n",
       "    <tr>\n",
       "      <th>3</th>\n",
       "      <td>gpu0004</td>\n",
       "      <td>2</td>\n",
       "    </tr>\n",
       "    <tr>\n",
       "      <th>4</th>\n",
       "      <td>gpu0005</td>\n",
       "      <td>2</td>\n",
       "    </tr>\n",
       "  </tbody>\n",
       "</table>\n",
       "</div>"
      ],
      "text/plain": [
       "     index  failures\n",
       "0  gpu0001         2\n",
       "1  gpu0002         1\n",
       "2  gpu0003         1\n",
       "3  gpu0004         2\n",
       "4  gpu0005         2"
      ]
     },
     "execution_count": 77,
     "metadata": {},
     "output_type": "execute_result"
    }
   ],
   "source": [
    "failed_df = pd.DataFrame.from_dict(failed, orient='index', columns=[\"failures\"])\n",
    "failed_df.reset_index(level=0, inplace=True)\n",
    "failed_df.head()"
   ]
  },
  {
   "cell_type": "code",
   "execution_count": 78,
   "metadata": {},
   "outputs": [],
   "source": [
    "total = {}\n",
    "for key, value in Jobs_df.groupby('NodeList').size().iteritems():\n",
    "    total.update({key: value})"
   ]
  },
  {
   "cell_type": "code",
   "execution_count": 79,
   "metadata": {},
   "outputs": [
    {
     "data": {
      "text/html": [
       "<div>\n",
       "<style scoped>\n",
       "    .dataframe tbody tr th:only-of-type {\n",
       "        vertical-align: middle;\n",
       "    }\n",
       "\n",
       "    .dataframe tbody tr th {\n",
       "        vertical-align: top;\n",
       "    }\n",
       "\n",
       "    .dataframe thead th {\n",
       "        text-align: right;\n",
       "    }\n",
       "</style>\n",
       "<table border=\"1\" class=\"dataframe\">\n",
       "  <thead>\n",
       "    <tr style=\"text-align: right;\">\n",
       "      <th></th>\n",
       "      <th>index</th>\n",
       "      <th>uses</th>\n",
       "    </tr>\n",
       "  </thead>\n",
       "  <tbody>\n",
       "    <tr>\n",
       "      <th>0</th>\n",
       "      <td>None assigned</td>\n",
       "      <td>3470227</td>\n",
       "    </tr>\n",
       "    <tr>\n",
       "      <th>1</th>\n",
       "      <td>amn0008</td>\n",
       "      <td>130</td>\n",
       "    </tr>\n",
       "    <tr>\n",
       "      <th>2</th>\n",
       "      <td>amn0009</td>\n",
       "      <td>109</td>\n",
       "    </tr>\n",
       "    <tr>\n",
       "      <th>3</th>\n",
       "      <td>gpu0001</td>\n",
       "      <td>5891</td>\n",
       "    </tr>\n",
       "    <tr>\n",
       "      <th>4</th>\n",
       "      <td>gpu0002</td>\n",
       "      <td>4072</td>\n",
       "    </tr>\n",
       "  </tbody>\n",
       "</table>\n",
       "</div>"
      ],
      "text/plain": [
       "           index     uses\n",
       "0  None assigned  3470227\n",
       "1        amn0008      130\n",
       "2        amn0009      109\n",
       "3        gpu0001     5891\n",
       "4        gpu0002     4072"
      ]
     },
     "execution_count": 79,
     "metadata": {},
     "output_type": "execute_result"
    }
   ],
   "source": [
    "# Create df with total uses to find percentage\n",
    "total_df = pd.DataFrame.from_dict(total, orient='index', columns=[\"uses\"])\n",
    "total_df.reset_index(level=0, inplace=True)\n",
    "total_df.head()"
   ]
  },
  {
   "cell_type": "code",
   "execution_count": 80,
   "metadata": {},
   "outputs": [
    {
     "data": {
      "text/html": [
       "<div>\n",
       "<style scoped>\n",
       "    .dataframe tbody tr th:only-of-type {\n",
       "        vertical-align: middle;\n",
       "    }\n",
       "\n",
       "    .dataframe tbody tr th {\n",
       "        vertical-align: top;\n",
       "    }\n",
       "\n",
       "    .dataframe thead th {\n",
       "        text-align: right;\n",
       "    }\n",
       "</style>\n",
       "<table border=\"1\" class=\"dataframe\">\n",
       "  <thead>\n",
       "    <tr style=\"text-align: right;\">\n",
       "      <th></th>\n",
       "      <th>index</th>\n",
       "      <th>uses</th>\n",
       "      <th>failures</th>\n",
       "    </tr>\n",
       "  </thead>\n",
       "  <tbody>\n",
       "    <tr>\n",
       "      <th>0</th>\n",
       "      <td>None assigned</td>\n",
       "      <td>3470227</td>\n",
       "      <td>NaN</td>\n",
       "    </tr>\n",
       "    <tr>\n",
       "      <th>1</th>\n",
       "      <td>amn0008</td>\n",
       "      <td>130</td>\n",
       "      <td>NaN</td>\n",
       "    </tr>\n",
       "    <tr>\n",
       "      <th>2</th>\n",
       "      <td>amn0009</td>\n",
       "      <td>109</td>\n",
       "      <td>NaN</td>\n",
       "    </tr>\n",
       "    <tr>\n",
       "      <th>3</th>\n",
       "      <td>gpu0001</td>\n",
       "      <td>5891</td>\n",
       "      <td>2.0</td>\n",
       "    </tr>\n",
       "    <tr>\n",
       "      <th>4</th>\n",
       "      <td>gpu0002</td>\n",
       "      <td>4072</td>\n",
       "      <td>1.0</td>\n",
       "    </tr>\n",
       "  </tbody>\n",
       "</table>\n",
       "</div>"
      ],
      "text/plain": [
       "           index     uses  failures\n",
       "0  None assigned  3470227       NaN\n",
       "1        amn0008      130       NaN\n",
       "2        amn0009      109       NaN\n",
       "3        gpu0001     5891       2.0\n",
       "4        gpu0002     4072       1.0"
      ]
     },
     "execution_count": 80,
     "metadata": {},
     "output_type": "execute_result"
    }
   ],
   "source": [
    "# Combining to have the failures and uses in one df\n",
    "overall_df = pd.merge(total_df, failed_df, how='outer')\n",
    "overall_df.head()"
   ]
  },
  {
   "cell_type": "code",
   "execution_count": 81,
   "metadata": {},
   "outputs": [
    {
     "data": {
      "text/html": [
       "<div>\n",
       "<style scoped>\n",
       "    .dataframe tbody tr th:only-of-type {\n",
       "        vertical-align: middle;\n",
       "    }\n",
       "\n",
       "    .dataframe tbody tr th {\n",
       "        vertical-align: top;\n",
       "    }\n",
       "\n",
       "    .dataframe thead th {\n",
       "        text-align: right;\n",
       "    }\n",
       "</style>\n",
       "<table border=\"1\" class=\"dataframe\">\n",
       "  <thead>\n",
       "    <tr style=\"text-align: right;\">\n",
       "      <th></th>\n",
       "      <th>index</th>\n",
       "      <th>uses</th>\n",
       "      <th>failures</th>\n",
       "      <th>Pct_Fail</th>\n",
       "    </tr>\n",
       "  </thead>\n",
       "  <tbody>\n",
       "    <tr>\n",
       "      <th>0</th>\n",
       "      <td>None assigned</td>\n",
       "      <td>3470227</td>\n",
       "      <td>NaN</td>\n",
       "      <td></td>\n",
       "    </tr>\n",
       "    <tr>\n",
       "      <th>1</th>\n",
       "      <td>amn0008</td>\n",
       "      <td>130</td>\n",
       "      <td>NaN</td>\n",
       "      <td></td>\n",
       "    </tr>\n",
       "    <tr>\n",
       "      <th>2</th>\n",
       "      <td>amn0009</td>\n",
       "      <td>109</td>\n",
       "      <td>NaN</td>\n",
       "      <td></td>\n",
       "    </tr>\n",
       "    <tr>\n",
       "      <th>3</th>\n",
       "      <td>gpu0001</td>\n",
       "      <td>5891</td>\n",
       "      <td>2.0</td>\n",
       "      <td></td>\n",
       "    </tr>\n",
       "    <tr>\n",
       "      <th>4</th>\n",
       "      <td>gpu0002</td>\n",
       "      <td>4072</td>\n",
       "      <td>1.0</td>\n",
       "      <td></td>\n",
       "    </tr>\n",
       "  </tbody>\n",
       "</table>\n",
       "</div>"
      ],
      "text/plain": [
       "           index     uses  failures Pct_Fail\n",
       "0  None assigned  3470227       NaN         \n",
       "1        amn0008      130       NaN         \n",
       "2        amn0009      109       NaN         \n",
       "3        gpu0001     5891       2.0         \n",
       "4        gpu0002     4072       1.0         "
      ]
     },
     "execution_count": 81,
     "metadata": {},
     "output_type": "execute_result"
    }
   ],
   "source": [
    "# Initializing a percent fail column\n",
    "overall_df['Pct_Fail'] = \"\"\n",
    "overall_df.head()"
   ]
  },
  {
   "cell_type": "code",
   "execution_count": 82,
   "metadata": {},
   "outputs": [],
   "source": [
    "# Filling NaN with 0 because the NaN indicates there were no failures\n",
    "overall_df['failures'].fillna(0, inplace=True)\n"
   ]
  },
  {
   "cell_type": "code",
   "execution_count": 83,
   "metadata": {},
   "outputs": [
    {
     "data": {
      "text/html": [
       "<div>\n",
       "<style scoped>\n",
       "    .dataframe tbody tr th:only-of-type {\n",
       "        vertical-align: middle;\n",
       "    }\n",
       "\n",
       "    .dataframe tbody tr th {\n",
       "        vertical-align: top;\n",
       "    }\n",
       "\n",
       "    .dataframe thead th {\n",
       "        text-align: right;\n",
       "    }\n",
       "</style>\n",
       "<table border=\"1\" class=\"dataframe\">\n",
       "  <thead>\n",
       "    <tr style=\"text-align: right;\">\n",
       "      <th></th>\n",
       "      <th>index</th>\n",
       "      <th>uses</th>\n",
       "      <th>failures</th>\n",
       "      <th>Pct_Fail</th>\n",
       "    </tr>\n",
       "  </thead>\n",
       "  <tbody>\n",
       "    <tr>\n",
       "      <th>0</th>\n",
       "      <td>None assigned</td>\n",
       "      <td>3470227</td>\n",
       "      <td>0.0</td>\n",
       "      <td>0.000000</td>\n",
       "    </tr>\n",
       "    <tr>\n",
       "      <th>1</th>\n",
       "      <td>amn0008</td>\n",
       "      <td>130</td>\n",
       "      <td>0.0</td>\n",
       "      <td>0.000000</td>\n",
       "    </tr>\n",
       "    <tr>\n",
       "      <th>2</th>\n",
       "      <td>amn0009</td>\n",
       "      <td>109</td>\n",
       "      <td>0.0</td>\n",
       "      <td>0.000000</td>\n",
       "    </tr>\n",
       "    <tr>\n",
       "      <th>3</th>\n",
       "      <td>gpu0001</td>\n",
       "      <td>5891</td>\n",
       "      <td>2.0</td>\n",
       "      <td>0.033950</td>\n",
       "    </tr>\n",
       "    <tr>\n",
       "      <th>4</th>\n",
       "      <td>gpu0002</td>\n",
       "      <td>4072</td>\n",
       "      <td>1.0</td>\n",
       "      <td>0.024558</td>\n",
       "    </tr>\n",
       "  </tbody>\n",
       "</table>\n",
       "</div>"
      ],
      "text/plain": [
       "           index     uses  failures  Pct_Fail\n",
       "0  None assigned  3470227       0.0  0.000000\n",
       "1        amn0008      130       0.0  0.000000\n",
       "2        amn0009      109       0.0  0.000000\n",
       "3        gpu0001     5891       2.0  0.033950\n",
       "4        gpu0002     4072       1.0  0.024558"
      ]
     },
     "execution_count": 83,
     "metadata": {},
     "output_type": "execute_result"
    }
   ],
   "source": [
    "# Finding percentage to compare by failure rate\n",
    "overall_df['Pct_Fail']=overall_df.failures/overall_df.uses*100\n",
    "overall_df.head()"
   ]
  },
  {
   "cell_type": "code",
   "execution_count": 84,
   "metadata": {},
   "outputs": [
    {
     "data": {
      "text/html": [
       "<div>\n",
       "<style scoped>\n",
       "    .dataframe tbody tr th:only-of-type {\n",
       "        vertical-align: middle;\n",
       "    }\n",
       "\n",
       "    .dataframe tbody tr th {\n",
       "        vertical-align: top;\n",
       "    }\n",
       "\n",
       "    .dataframe thead th {\n",
       "        text-align: right;\n",
       "    }\n",
       "</style>\n",
       "<table border=\"1\" class=\"dataframe\">\n",
       "  <thead>\n",
       "    <tr style=\"text-align: right;\">\n",
       "      <th></th>\n",
       "      <th>index</th>\n",
       "      <th>uses</th>\n",
       "      <th>failures</th>\n",
       "      <th>Pct_Fail</th>\n",
       "    </tr>\n",
       "  </thead>\n",
       "  <tbody>\n",
       "    <tr>\n",
       "      <th>42</th>\n",
       "      <td>vm-qa-node004</td>\n",
       "      <td>6</td>\n",
       "      <td>1.0</td>\n",
       "      <td>16.666667</td>\n",
       "    </tr>\n",
       "    <tr>\n",
       "      <th>629</th>\n",
       "      <td>vmp595</td>\n",
       "      <td>1018</td>\n",
       "      <td>8.0</td>\n",
       "      <td>0.785855</td>\n",
       "    </tr>\n",
       "    <tr>\n",
       "      <th>632</th>\n",
       "      <td>vmp598</td>\n",
       "      <td>1042</td>\n",
       "      <td>7.0</td>\n",
       "      <td>0.671785</td>\n",
       "    </tr>\n",
       "    <tr>\n",
       "      <th>626</th>\n",
       "      <td>vmp592</td>\n",
       "      <td>1084</td>\n",
       "      <td>7.0</td>\n",
       "      <td>0.645756</td>\n",
       "    </tr>\n",
       "    <tr>\n",
       "      <th>647</th>\n",
       "      <td>vmp692</td>\n",
       "      <td>1117</td>\n",
       "      <td>7.0</td>\n",
       "      <td>0.626679</td>\n",
       "    </tr>\n",
       "  </tbody>\n",
       "</table>\n",
       "</div>"
      ],
      "text/plain": [
       "             index  uses  failures   Pct_Fail\n",
       "42   vm-qa-node004     6       1.0  16.666667\n",
       "629         vmp595  1018       8.0   0.785855\n",
       "632         vmp598  1042       7.0   0.671785\n",
       "626         vmp592  1084       7.0   0.645756\n",
       "647         vmp692  1117       7.0   0.626679"
      ]
     },
     "execution_count": 84,
     "metadata": {},
     "output_type": "execute_result"
    }
   ],
   "source": [
    "# Sorting by failure rate to find those that fail the most\n",
    "overall_df.sort_values(\"Pct_Fail\", ascending = False, inplace = True)\n",
    "overall_df.head()"
   ]
  },
  {
   "cell_type": "markdown",
   "metadata": {},
   "source": [
    "## vm-qa-node004 has the highest failure rate, but it was only used 6 times"
   ]
  },
  {
   "cell_type": "code",
   "execution_count": 85,
   "metadata": {},
   "outputs": [
    {
     "data": {
      "text/html": [
       "<div>\n",
       "<style scoped>\n",
       "    .dataframe tbody tr th:only-of-type {\n",
       "        vertical-align: middle;\n",
       "    }\n",
       "\n",
       "    .dataframe tbody tr th {\n",
       "        vertical-align: top;\n",
       "    }\n",
       "\n",
       "    .dataframe thead th {\n",
       "        text-align: right;\n",
       "    }\n",
       "</style>\n",
       "<table border=\"1\" class=\"dataframe\">\n",
       "  <thead>\n",
       "    <tr style=\"text-align: right;\">\n",
       "      <th></th>\n",
       "      <th>index</th>\n",
       "      <th>uses</th>\n",
       "      <th>failures</th>\n",
       "      <th>Pct_Fail</th>\n",
       "    </tr>\n",
       "  </thead>\n",
       "  <tbody>\n",
       "    <tr>\n",
       "      <th>629</th>\n",
       "      <td>vmp595</td>\n",
       "      <td>1018</td>\n",
       "      <td>8.0</td>\n",
       "      <td>0.785855</td>\n",
       "    </tr>\n",
       "    <tr>\n",
       "      <th>632</th>\n",
       "      <td>vmp598</td>\n",
       "      <td>1042</td>\n",
       "      <td>7.0</td>\n",
       "      <td>0.671785</td>\n",
       "    </tr>\n",
       "    <tr>\n",
       "      <th>626</th>\n",
       "      <td>vmp592</td>\n",
       "      <td>1084</td>\n",
       "      <td>7.0</td>\n",
       "      <td>0.645756</td>\n",
       "    </tr>\n",
       "    <tr>\n",
       "      <th>647</th>\n",
       "      <td>vmp692</td>\n",
       "      <td>1117</td>\n",
       "      <td>7.0</td>\n",
       "      <td>0.626679</td>\n",
       "    </tr>\n",
       "    <tr>\n",
       "      <th>649</th>\n",
       "      <td>vmp696</td>\n",
       "      <td>1118</td>\n",
       "      <td>7.0</td>\n",
       "      <td>0.626118</td>\n",
       "    </tr>\n",
       "  </tbody>\n",
       "</table>\n",
       "</div>"
      ],
      "text/plain": [
       "      index  uses  failures  Pct_Fail\n",
       "629  vmp595  1018       8.0  0.785855\n",
       "632  vmp598  1042       7.0  0.671785\n",
       "626  vmp592  1084       7.0  0.645756\n",
       "647  vmp692  1117       7.0  0.626679\n",
       "649  vmp696  1118       7.0  0.626118"
      ]
     },
     "execution_count": 85,
     "metadata": {},
     "output_type": "execute_result"
    }
   ],
   "source": [
    "# Filter out the 0s and the one outlier\n",
    "overall_full_subset = overall_df[overall_df['Pct_Fail']>0]\n",
    "overall_full_subset = overall_full_subset[overall_full_subset['Pct_Fail']<1]\n",
    "overall_full_subset.head()"
   ]
  },
  {
   "cell_type": "code",
   "execution_count": 86,
   "metadata": {},
   "outputs": [
    {
     "data": {
      "text/html": [
       "<div>\n",
       "<style scoped>\n",
       "    .dataframe tbody tr th:only-of-type {\n",
       "        vertical-align: middle;\n",
       "    }\n",
       "\n",
       "    .dataframe tbody tr th {\n",
       "        vertical-align: top;\n",
       "    }\n",
       "\n",
       "    .dataframe thead th {\n",
       "        text-align: right;\n",
       "    }\n",
       "</style>\n",
       "<table border=\"1\" class=\"dataframe\">\n",
       "  <thead>\n",
       "    <tr style=\"text-align: right;\">\n",
       "      <th></th>\n",
       "      <th>Node</th>\n",
       "      <th>uses</th>\n",
       "      <th>failures</th>\n",
       "      <th>Pct_Fail</th>\n",
       "    </tr>\n",
       "  </thead>\n",
       "  <tbody>\n",
       "    <tr>\n",
       "      <th>629</th>\n",
       "      <td>vmp595</td>\n",
       "      <td>1018</td>\n",
       "      <td>8.0</td>\n",
       "      <td>0.785855</td>\n",
       "    </tr>\n",
       "    <tr>\n",
       "      <th>632</th>\n",
       "      <td>vmp598</td>\n",
       "      <td>1042</td>\n",
       "      <td>7.0</td>\n",
       "      <td>0.671785</td>\n",
       "    </tr>\n",
       "    <tr>\n",
       "      <th>626</th>\n",
       "      <td>vmp592</td>\n",
       "      <td>1084</td>\n",
       "      <td>7.0</td>\n",
       "      <td>0.645756</td>\n",
       "    </tr>\n",
       "    <tr>\n",
       "      <th>647</th>\n",
       "      <td>vmp692</td>\n",
       "      <td>1117</td>\n",
       "      <td>7.0</td>\n",
       "      <td>0.626679</td>\n",
       "    </tr>\n",
       "    <tr>\n",
       "      <th>649</th>\n",
       "      <td>vmp696</td>\n",
       "      <td>1118</td>\n",
       "      <td>7.0</td>\n",
       "      <td>0.626118</td>\n",
       "    </tr>\n",
       "    <tr>\n",
       "      <th>24</th>\n",
       "      <td>gpu0022</td>\n",
       "      <td>505</td>\n",
       "      <td>3.0</td>\n",
       "      <td>0.594059</td>\n",
       "    </tr>\n",
       "    <tr>\n",
       "      <th>648</th>\n",
       "      <td>vmp695</td>\n",
       "      <td>1097</td>\n",
       "      <td>5.0</td>\n",
       "      <td>0.455789</td>\n",
       "    </tr>\n",
       "    <tr>\n",
       "      <th>12</th>\n",
       "      <td>gpu0010</td>\n",
       "      <td>1097</td>\n",
       "      <td>5.0</td>\n",
       "      <td>0.455789</td>\n",
       "    </tr>\n",
       "    <tr>\n",
       "      <th>631</th>\n",
       "      <td>vmp597</td>\n",
       "      <td>1099</td>\n",
       "      <td>5.0</td>\n",
       "      <td>0.454959</td>\n",
       "    </tr>\n",
       "    <tr>\n",
       "      <th>651</th>\n",
       "      <td>vmp698</td>\n",
       "      <td>1147</td>\n",
       "      <td>5.0</td>\n",
       "      <td>0.435920</td>\n",
       "    </tr>\n",
       "    <tr>\n",
       "      <th>9</th>\n",
       "      <td>gpu0007</td>\n",
       "      <td>1198</td>\n",
       "      <td>5.0</td>\n",
       "      <td>0.417362</td>\n",
       "    </tr>\n",
       "    <tr>\n",
       "      <th>628</th>\n",
       "      <td>vmp594</td>\n",
       "      <td>1023</td>\n",
       "      <td>4.0</td>\n",
       "      <td>0.391007</td>\n",
       "    </tr>\n",
       "    <tr>\n",
       "      <th>650</th>\n",
       "      <td>vmp697</td>\n",
       "      <td>1078</td>\n",
       "      <td>4.0</td>\n",
       "      <td>0.371058</td>\n",
       "    </tr>\n",
       "    <tr>\n",
       "      <th>30</th>\n",
       "      <td>gpu0028</td>\n",
       "      <td>275</td>\n",
       "      <td>1.0</td>\n",
       "      <td>0.363636</td>\n",
       "    </tr>\n",
       "    <tr>\n",
       "      <th>10</th>\n",
       "      <td>gpu0008</td>\n",
       "      <td>1621</td>\n",
       "      <td>5.0</td>\n",
       "      <td>0.308452</td>\n",
       "    </tr>\n",
       "    <tr>\n",
       "      <th>548</th>\n",
       "      <td>vmp425</td>\n",
       "      <td>5442</td>\n",
       "      <td>13.0</td>\n",
       "      <td>0.238883</td>\n",
       "    </tr>\n",
       "    <tr>\n",
       "      <th>19</th>\n",
       "      <td>gpu0017</td>\n",
       "      <td>2926</td>\n",
       "      <td>5.0</td>\n",
       "      <td>0.170882</td>\n",
       "    </tr>\n",
       "    <tr>\n",
       "      <th>196</th>\n",
       "      <td>vmp1223</td>\n",
       "      <td>7203</td>\n",
       "      <td>11.0</td>\n",
       "      <td>0.152714</td>\n",
       "    </tr>\n",
       "    <tr>\n",
       "      <th>14</th>\n",
       "      <td>gpu0012</td>\n",
       "      <td>1529</td>\n",
       "      <td>2.0</td>\n",
       "      <td>0.130804</td>\n",
       "    </tr>\n",
       "    <tr>\n",
       "      <th>313</th>\n",
       "      <td>vmp1354</td>\n",
       "      <td>24104</td>\n",
       "      <td>31.0</td>\n",
       "      <td>0.128609</td>\n",
       "    </tr>\n",
       "    <tr>\n",
       "      <th>545</th>\n",
       "      <td>vmp422</td>\n",
       "      <td>3957</td>\n",
       "      <td>5.0</td>\n",
       "      <td>0.126358</td>\n",
       "    </tr>\n",
       "    <tr>\n",
       "      <th>191</th>\n",
       "      <td>vmp1218</td>\n",
       "      <td>7930</td>\n",
       "      <td>10.0</td>\n",
       "      <td>0.126103</td>\n",
       "    </tr>\n",
       "    <tr>\n",
       "      <th>426</th>\n",
       "      <td>vmp301</td>\n",
       "      <td>9193</td>\n",
       "      <td>11.0</td>\n",
       "      <td>0.119656</td>\n",
       "    </tr>\n",
       "    <tr>\n",
       "      <th>564</th>\n",
       "      <td>vmp441</td>\n",
       "      <td>8380</td>\n",
       "      <td>10.0</td>\n",
       "      <td>0.119332</td>\n",
       "    </tr>\n",
       "    <tr>\n",
       "      <th>566</th>\n",
       "      <td>vmp443</td>\n",
       "      <td>7602</td>\n",
       "      <td>9.0</td>\n",
       "      <td>0.118390</td>\n",
       "    </tr>\n",
       "  </tbody>\n",
       "</table>\n",
       "</div>"
      ],
      "text/plain": [
       "        Node   uses  failures  Pct_Fail\n",
       "629   vmp595   1018       8.0  0.785855\n",
       "632   vmp598   1042       7.0  0.671785\n",
       "626   vmp592   1084       7.0  0.645756\n",
       "647   vmp692   1117       7.0  0.626679\n",
       "649   vmp696   1118       7.0  0.626118\n",
       "24   gpu0022    505       3.0  0.594059\n",
       "648   vmp695   1097       5.0  0.455789\n",
       "12   gpu0010   1097       5.0  0.455789\n",
       "631   vmp597   1099       5.0  0.454959\n",
       "651   vmp698   1147       5.0  0.435920\n",
       "9    gpu0007   1198       5.0  0.417362\n",
       "628   vmp594   1023       4.0  0.391007\n",
       "650   vmp697   1078       4.0  0.371058\n",
       "30   gpu0028    275       1.0  0.363636\n",
       "10   gpu0008   1621       5.0  0.308452\n",
       "548   vmp425   5442      13.0  0.238883\n",
       "19   gpu0017   2926       5.0  0.170882\n",
       "196  vmp1223   7203      11.0  0.152714\n",
       "14   gpu0012   1529       2.0  0.130804\n",
       "313  vmp1354  24104      31.0  0.128609\n",
       "545   vmp422   3957       5.0  0.126358\n",
       "191  vmp1218   7930      10.0  0.126103\n",
       "426   vmp301   9193      11.0  0.119656\n",
       "564   vmp441   8380      10.0  0.119332\n",
       "566   vmp443   7602       9.0  0.118390"
      ]
     },
     "execution_count": 86,
     "metadata": {},
     "output_type": "execute_result"
    }
   ],
   "source": [
    "#Finding the top 25 failure rate\n",
    "overall_final = overall_full_subset.head(25)\n",
    "overall_final.columns = ['Node', 'uses', 'failures', 'Pct_Fail']\n",
    "overall_final"
   ]
  },
  {
   "cell_type": "markdown",
   "metadata": {},
   "source": [
    "## The highest failure rate was only 0.79%, indicating that the nodes are pretty reliable"
   ]
  },
  {
   "cell_type": "code",
   "execution_count": 87,
   "metadata": {},
   "outputs": [
    {
     "data": {
      "text/html": [
       "<div>\n",
       "<style scoped>\n",
       "    .dataframe tbody tr th:only-of-type {\n",
       "        vertical-align: middle;\n",
       "    }\n",
       "\n",
       "    .dataframe tbody tr th {\n",
       "        vertical-align: top;\n",
       "    }\n",
       "\n",
       "    .dataframe thead th {\n",
       "        text-align: right;\n",
       "    }\n",
       "</style>\n",
       "<table border=\"1\" class=\"dataframe\">\n",
       "  <thead>\n",
       "    <tr style=\"text-align: right;\">\n",
       "      <th></th>\n",
       "      <th>index</th>\n",
       "      <th>uses</th>\n",
       "      <th>failures</th>\n",
       "      <th>Pct_Fail</th>\n",
       "    </tr>\n",
       "  </thead>\n",
       "  <tbody>\n",
       "    <tr>\n",
       "      <th>50</th>\n",
       "      <td>vmp1010</td>\n",
       "      <td>36912</td>\n",
       "      <td>1.0</td>\n",
       "      <td>0.002709</td>\n",
       "    </tr>\n",
       "    <tr>\n",
       "      <th>46</th>\n",
       "      <td>vmp1003</td>\n",
       "      <td>38681</td>\n",
       "      <td>1.0</td>\n",
       "      <td>0.002585</td>\n",
       "    </tr>\n",
       "    <tr>\n",
       "      <th>257</th>\n",
       "      <td>vmp1298</td>\n",
       "      <td>47568</td>\n",
       "      <td>1.0</td>\n",
       "      <td>0.002102</td>\n",
       "    </tr>\n",
       "    <tr>\n",
       "      <th>44</th>\n",
       "      <td>vmp1001</td>\n",
       "      <td>66221</td>\n",
       "      <td>1.0</td>\n",
       "      <td>0.001510</td>\n",
       "    </tr>\n",
       "    <tr>\n",
       "      <th>368</th>\n",
       "      <td>vmp1409</td>\n",
       "      <td>92419</td>\n",
       "      <td>1.0</td>\n",
       "      <td>0.001082</td>\n",
       "    </tr>\n",
       "  </tbody>\n",
       "</table>\n",
       "</div>"
      ],
      "text/plain": [
       "       index   uses  failures  Pct_Fail\n",
       "50   vmp1010  36912       1.0  0.002709\n",
       "46   vmp1003  38681       1.0  0.002585\n",
       "257  vmp1298  47568       1.0  0.002102\n",
       "44   vmp1001  66221       1.0  0.001510\n",
       "368  vmp1409  92419       1.0  0.001082"
      ]
     },
     "execution_count": 87,
     "metadata": {},
     "output_type": "execute_result"
    }
   ],
   "source": [
    "overall_full_subset.tail()"
   ]
  },
  {
   "cell_type": "code",
   "execution_count": 88,
   "metadata": {},
   "outputs": [
    {
     "data": {
      "text/plain": [
       "count    592.000000\n",
       "mean       0.044829\n",
       "std        0.082634\n",
       "min        0.001082\n",
       "25%        0.010810\n",
       "50%        0.026098\n",
       "75%        0.049695\n",
       "max        0.785855\n",
       "Name: Pct_Fail, dtype: float64"
      ]
     },
     "execution_count": 88,
     "metadata": {},
     "output_type": "execute_result"
    }
   ],
   "source": [
    "# Look at teh metrics of the dataframe\n",
    "overall_full_subset.Pct_Fail.describe()\n"
   ]
  },
  {
   "cell_type": "markdown",
   "metadata": {},
   "source": [
    "# Visualize the failure rate and number of uses"
   ]
  },
  {
   "cell_type": "code",
   "execution_count": 89,
   "metadata": {},
   "outputs": [
    {
     "data": {
      "image/png": "[encoded data removed]",
      "text/plain": [
       "<Figure size 1512x504 with 2 Axes>"
      ]
     },
     "metadata": {},
     "output_type": "display_data"
    }
   ],
   "source": [
    "fig, (ax1, ax2) = plt.subplots(nrows=1, ncols=2, figsize = (21,7), sharey=True)\n",
    "sns.barplot(overall_final.Pct_Fail, overall_final.Node, orient='h', ax=ax1);\n",
    "\n",
    "sns.barplot(overall_final.uses, overall_final.Node, orient='h', ax=ax2);\n",
    "plt.show()\n"
   ]
  },
  {
   "cell_type": "markdown",
   "metadata": {},
   "source": [
    "# We can see that vmp595 has the highest failure rate at 0.7896%. The highest number of failures is vmp1354, but it is used far more often"
   ]
  },
  {
   "cell_type": "markdown",
   "metadata": {},
   "source": []
  },
  {
   "cell_type": "markdown",
   "metadata": {},
   "source": [
    "# Question 3. Are there problematic users? \n",
    "\n",
    "Thos who submit at least 500 jobs within a 4 hour window that run for 5 minutes or less"
   ]
  },
  {
   "cell_type": "code",
   "execution_count": 90,
   "metadata": {},
   "outputs": [
    {
     "data": {
      "text/html": [
       "<div>\n",
       "<style scoped>\n",
       "    .dataframe tbody tr th:only-of-type {\n",
       "        vertical-align: middle;\n",
       "    }\n",
       "\n",
       "    .dataframe tbody tr th {\n",
       "        vertical-align: top;\n",
       "    }\n",
       "\n",
       "    .dataframe thead th {\n",
       "        text-align: right;\n",
       "    }\n",
       "</style>\n",
       "<table border=\"1\" class=\"dataframe\">\n",
       "  <thead>\n",
       "    <tr style=\"text-align: right;\">\n",
       "      <th></th>\n",
       "      <th>Submit</th>\n",
       "      <th>User</th>\n",
       "      <th>JobIDRaw</th>\n",
       "      <th>Elapsed</th>\n",
       "      <th>State</th>\n",
       "    </tr>\n",
       "  </thead>\n",
       "  <tbody>\n",
       "    <tr>\n",
       "      <th>0</th>\n",
       "      <td>2017-07-02 00:40:58</td>\n",
       "      <td>masispider</td>\n",
       "      <td>15806649</td>\n",
       "      <td>1 days 01:05:21</td>\n",
       "      <td>COMPLETED</td>\n",
       "    </tr>\n",
       "    <tr>\n",
       "      <th>1</th>\n",
       "      <td>2017-07-02 00:40:58</td>\n",
       "      <td>masispider</td>\n",
       "      <td>15806664</td>\n",
       "      <td>0 days 23:51:47</td>\n",
       "      <td>COMPLETED</td>\n",
       "    </tr>\n",
       "    <tr>\n",
       "      <th>2</th>\n",
       "      <td>2017-07-02 00:40:58</td>\n",
       "      <td>masispider</td>\n",
       "      <td>15806670</td>\n",
       "      <td>1 days 01:59:51</td>\n",
       "      <td>COMPLETED</td>\n",
       "    </tr>\n",
       "    <tr>\n",
       "      <th>3</th>\n",
       "      <td>2017-07-02 00:40:58</td>\n",
       "      <td>masispider</td>\n",
       "      <td>15806671</td>\n",
       "      <td>1 days 08:02:20</td>\n",
       "      <td>COMPLETED</td>\n",
       "    </tr>\n",
       "    <tr>\n",
       "      <th>4</th>\n",
       "      <td>2017-07-01 05:00:00</td>\n",
       "      <td>uscms010</td>\n",
       "      <td>15811617</td>\n",
       "      <td>0 days 00:00:10</td>\n",
       "      <td>COMPLETED</td>\n",
       "    </tr>\n",
       "  </tbody>\n",
       "</table>\n",
       "</div>"
      ],
      "text/plain": [
       "               Submit        User  JobIDRaw         Elapsed      State\n",
       "0 2017-07-02 00:40:58  masispider  15806649 1 days 01:05:21  COMPLETED\n",
       "1 2017-07-02 00:40:58  masispider  15806664 0 days 23:51:47  COMPLETED\n",
       "2 2017-07-02 00:40:58  masispider  15806670 1 days 01:59:51  COMPLETED\n",
       "3 2017-07-02 00:40:58  masispider  15806671 1 days 08:02:20  COMPLETED\n",
       "4 2017-07-01 05:00:00    uscms010  15811617 0 days 00:00:10  COMPLETED"
      ]
     },
     "execution_count": 90,
     "metadata": {},
     "output_type": "execute_result"
    }
   ],
   "source": [
    "# keep only sumbit, user, jobidraw and elapsed time column for analysis\n",
    "accre_select_df=accre_df.loc[:,['Submit','User','JobIDRaw','Elapsed','State']]\n",
    "accre_select_df.head()"
   ]
  },
  {
   "cell_type": "markdown",
   "metadata": {},
   "source": [
    "## Select jobs with elapsed time of less than 5 minutes"
   ]
  },
  {
   "cell_type": "code",
   "execution_count": 95,
   "metadata": {},
   "outputs": [],
   "source": [
    "accre_5_minutes_df= accre_select_df[accre_select_df.Elapsed<'0 days 00:05:00']"
   ]
  },
  {
   "cell_type": "markdown",
   "metadata": {},
   "source": [
    "## Now that we just have the jobs less than 5 minutes, we only need submit, user and JobIDRaw columns to use below"
   ]
  },
  {
   "cell_type": "code",
   "execution_count": 100,
   "metadata": {},
   "outputs": [
    {
     "data": {
      "text/html": [
       "<div>\n",
       "<style scoped>\n",
       "    .dataframe tbody tr th:only-of-type {\n",
       "        vertical-align: middle;\n",
       "    }\n",
       "\n",
       "    .dataframe tbody tr th {\n",
       "        vertical-align: top;\n",
       "    }\n",
       "\n",
       "    .dataframe thead th {\n",
       "        text-align: right;\n",
       "    }\n",
       "</style>\n",
       "<table border=\"1\" class=\"dataframe\">\n",
       "  <thead>\n",
       "    <tr style=\"text-align: right;\">\n",
       "      <th></th>\n",
       "      <th>Submit</th>\n",
       "      <th>User</th>\n",
       "      <th>JobIDRaw</th>\n",
       "    </tr>\n",
       "  </thead>\n",
       "  <tbody>\n",
       "    <tr>\n",
       "      <th>4</th>\n",
       "      <td>2017-07-01 05:00:00</td>\n",
       "      <td>uscms010</td>\n",
       "      <td>15811617</td>\n",
       "    </tr>\n",
       "    <tr>\n",
       "      <th>5</th>\n",
       "      <td>2017-07-01 05:00:01</td>\n",
       "      <td>autocms</td>\n",
       "      <td>15811618</td>\n",
       "    </tr>\n",
       "    <tr>\n",
       "      <th>6</th>\n",
       "      <td>2017-07-01 05:00:02</td>\n",
       "      <td>tuos</td>\n",
       "      <td>15811619</td>\n",
       "    </tr>\n",
       "    <tr>\n",
       "      <th>7</th>\n",
       "      <td>2017-07-01 05:00:22</td>\n",
       "      <td>uscms010</td>\n",
       "      <td>15811621</td>\n",
       "    </tr>\n",
       "    <tr>\n",
       "      <th>8</th>\n",
       "      <td>2017-07-01 05:01:01</td>\n",
       "      <td>autocms</td>\n",
       "      <td>15811624</td>\n",
       "    </tr>\n",
       "    <tr>\n",
       "      <th>9</th>\n",
       "      <td>2017-07-01 05:01:02</td>\n",
       "      <td>tuos</td>\n",
       "      <td>15811625</td>\n",
       "    </tr>\n",
       "    <tr>\n",
       "      <th>31</th>\n",
       "      <td>2017-07-01 05:01:26</td>\n",
       "      <td>vuiiscci</td>\n",
       "      <td>15811649</td>\n",
       "    </tr>\n",
       "    <tr>\n",
       "      <th>33</th>\n",
       "      <td>2017-07-01 05:01:26</td>\n",
       "      <td>vuiiscci</td>\n",
       "      <td>15811651</td>\n",
       "    </tr>\n",
       "    <tr>\n",
       "      <th>34</th>\n",
       "      <td>2017-07-01 05:01:56</td>\n",
       "      <td>uscms010</td>\n",
       "      <td>15811654</td>\n",
       "    </tr>\n",
       "    <tr>\n",
       "      <th>35</th>\n",
       "      <td>2017-07-01 05:02:02</td>\n",
       "      <td>autocms</td>\n",
       "      <td>15811655</td>\n",
       "    </tr>\n",
       "  </tbody>\n",
       "</table>\n",
       "</div>"
      ],
      "text/plain": [
       "                Submit      User  JobIDRaw\n",
       "4  2017-07-01 05:00:00  uscms010  15811617\n",
       "5  2017-07-01 05:00:01   autocms  15811618\n",
       "6  2017-07-01 05:00:02      tuos  15811619\n",
       "7  2017-07-01 05:00:22  uscms010  15811621\n",
       "8  2017-07-01 05:01:01   autocms  15811624\n",
       "9  2017-07-01 05:01:02      tuos  15811625\n",
       "31 2017-07-01 05:01:26  vuiiscci  15811649\n",
       "33 2017-07-01 05:01:26  vuiiscci  15811651\n",
       "34 2017-07-01 05:01:56  uscms010  15811654\n",
       "35 2017-07-01 05:02:02   autocms  15811655"
      ]
     },
     "execution_count": 100,
     "metadata": {},
     "output_type": "execute_result"
    }
   ],
   "source": [
    "accre_5_minutes=accre_5_minutes_df.loc[:,['Submit','User','JobIDRaw']]\n",
    "accre_5_minutes.head(10)"
   ]
  },
  {
   "cell_type": "markdown",
   "metadata": {},
   "source": [
    "## Group and count the short jobs in a 4 hours range"
   ]
  },
  {
   "cell_type": "code",
   "execution_count": 108,
   "metadata": {},
   "outputs": [
    {
     "data": {
      "text/plain": [
       "User     Submit             \n",
       "abraha1  2017-10-07 18:58:44    1.0\n",
       "         2017-10-07 19:06:01    2.0\n",
       "         2017-10-07 19:12:39    3.0\n",
       "         2017-10-07 19:21:18    4.0\n",
       "         2017-10-07 19:29:20    5.0\n",
       "Name: JobIDRaw, dtype: float64"
      ]
     },
     "execution_count": 108,
     "metadata": {},
     "output_type": "execute_result"
    }
   ],
   "source": [
    "# Rolling window and count jobs within the 4 hour window\n",
    "grouped_by_4h = accre_5_minutes.groupby('User').rolling('4h', on='Submit').JobIDRaw.count()\n",
    "grouped_by_4h.head()"
   ]
  },
  {
   "cell_type": "code",
   "execution_count": 157,
   "metadata": {},
   "outputs": [
    {
     "data": {
      "text/html": [
       "<div>\n",
       "<style scoped>\n",
       "    .dataframe tbody tr th:only-of-type {\n",
       "        vertical-align: middle;\n",
       "    }\n",
       "\n",
       "    .dataframe tbody tr th {\n",
       "        vertical-align: top;\n",
       "    }\n",
       "\n",
       "    .dataframe thead th {\n",
       "        text-align: right;\n",
       "    }\n",
       "</style>\n",
       "<table border=\"1\" class=\"dataframe\">\n",
       "  <thead>\n",
       "    <tr style=\"text-align: right;\">\n",
       "      <th></th>\n",
       "      <th>User</th>\n",
       "      <th>Submit</th>\n",
       "      <th>ShortJobCount</th>\n",
       "    </tr>\n",
       "  </thead>\n",
       "  <tbody>\n",
       "    <tr>\n",
       "      <th>0</th>\n",
       "      <td>abraha1</td>\n",
       "      <td>2017-10-07 18:58:44</td>\n",
       "      <td>1.0</td>\n",
       "    </tr>\n",
       "    <tr>\n",
       "      <th>1</th>\n",
       "      <td>abraha1</td>\n",
       "      <td>2017-10-07 19:06:01</td>\n",
       "      <td>2.0</td>\n",
       "    </tr>\n",
       "    <tr>\n",
       "      <th>2</th>\n",
       "      <td>abraha1</td>\n",
       "      <td>2017-10-07 19:12:39</td>\n",
       "      <td>3.0</td>\n",
       "    </tr>\n",
       "    <tr>\n",
       "      <th>3</th>\n",
       "      <td>abraha1</td>\n",
       "      <td>2017-10-07 19:21:18</td>\n",
       "      <td>4.0</td>\n",
       "    </tr>\n",
       "    <tr>\n",
       "      <th>4</th>\n",
       "      <td>abraha1</td>\n",
       "      <td>2017-10-07 19:29:20</td>\n",
       "      <td>5.0</td>\n",
       "    </tr>\n",
       "  </tbody>\n",
       "</table>\n",
       "</div>"
      ],
      "text/plain": [
       "      User              Submit  ShortJobCount\n",
       "0  abraha1 2017-10-07 18:58:44            1.0\n",
       "1  abraha1 2017-10-07 19:06:01            2.0\n",
       "2  abraha1 2017-10-07 19:12:39            3.0\n",
       "3  abraha1 2017-10-07 19:21:18            4.0\n",
       "4  abraha1 2017-10-07 19:29:20            5.0"
      ]
     },
     "execution_count": 157,
     "metadata": {},
     "output_type": "execute_result"
    }
   ],
   "source": [
    "rolling_df = pd.DataFrame(grouped_by_4h)\n",
    "rolling_df = rolling_df.reset_index()\n",
    "rolling_df.columns = ['User', 'Submit', 'ShortJobCount']\n",
    "rolling_df.head()"
   ]
  },
  {
   "cell_type": "code",
   "execution_count": 160,
   "metadata": {},
   "outputs": [
    {
     "data": {
      "text/html": [
       "<div>\n",
       "<style scoped>\n",
       "    .dataframe tbody tr th:only-of-type {\n",
       "        vertical-align: middle;\n",
       "    }\n",
       "\n",
       "    .dataframe tbody tr th {\n",
       "        vertical-align: top;\n",
       "    }\n",
       "\n",
       "    .dataframe thead th {\n",
       "        text-align: right;\n",
       "    }\n",
       "</style>\n",
       "<table border=\"1\" class=\"dataframe\">\n",
       "  <thead>\n",
       "    <tr style=\"text-align: right;\">\n",
       "      <th></th>\n",
       "      <th>ShortJobCount</th>\n",
       "    </tr>\n",
       "    <tr>\n",
       "      <th>User</th>\n",
       "      <th></th>\n",
       "    </tr>\n",
       "  </thead>\n",
       "  <tbody>\n",
       "    <tr>\n",
       "      <th>abraha1</th>\n",
       "      <td>17948.0</td>\n",
       "    </tr>\n",
       "    <tr>\n",
       "      <th>actkink</th>\n",
       "      <td>13.0</td>\n",
       "    </tr>\n",
       "    <tr>\n",
       "      <th>ahmedi</th>\n",
       "      <td>21.0</td>\n",
       "    </tr>\n",
       "    <tr>\n",
       "      <th>aimantj</th>\n",
       "      <td>198.0</td>\n",
       "    </tr>\n",
       "    <tr>\n",
       "      <th>ainoosj</th>\n",
       "      <td>4.0</td>\n",
       "    </tr>\n",
       "    <tr>\n",
       "      <th>albertme</th>\n",
       "      <td>25.0</td>\n",
       "    </tr>\n",
       "    <tr>\n",
       "      <th>anandip</th>\n",
       "      <td>6.0</td>\n",
       "    </tr>\n",
       "    <tr>\n",
       "      <th>andera</th>\n",
       "      <td>2.0</td>\n",
       "    </tr>\n",
       "    <tr>\n",
       "      <th>anderdm1</th>\n",
       "      <td>7.0</td>\n",
       "    </tr>\n",
       "    <tr>\n",
       "      <th>anderkj2</th>\n",
       "      <td>9.0</td>\n",
       "    </tr>\n",
       "  </tbody>\n",
       "</table>\n",
       "</div>"
      ],
      "text/plain": [
       "          ShortJobCount\n",
       "User                   \n",
       "abraha1         17948.0\n",
       "actkink            13.0\n",
       "ahmedi             21.0\n",
       "aimantj           198.0\n",
       "ainoosj             4.0\n",
       "albertme           25.0\n",
       "anandip             6.0\n",
       "andera              2.0\n",
       "anderdm1            7.0\n",
       "anderkj2            9.0"
      ]
     },
     "execution_count": 160,
     "metadata": {},
     "output_type": "execute_result"
    }
   ],
   "source": [
    "rolling_max= rolling_df[['User', 'ShortJobCount']].groupby('User').max()\n",
    "rolling_max.head(10)"
   ]
  },
  {
   "cell_type": "code",
   "execution_count": 161,
   "metadata": {},
   "outputs": [
    {
     "data": {
      "text/html": [
       "<div>\n",
       "<style scoped>\n",
       "    .dataframe tbody tr th:only-of-type {\n",
       "        vertical-align: middle;\n",
       "    }\n",
       "\n",
       "    .dataframe tbody tr th {\n",
       "        vertical-align: top;\n",
       "    }\n",
       "\n",
       "    .dataframe thead th {\n",
       "        text-align: right;\n",
       "    }\n",
       "</style>\n",
       "<table border=\"1\" class=\"dataframe\">\n",
       "  <thead>\n",
       "    <tr style=\"text-align: right;\">\n",
       "      <th></th>\n",
       "      <th>ShortJobCount</th>\n",
       "    </tr>\n",
       "    <tr>\n",
       "      <th>User</th>\n",
       "      <th></th>\n",
       "    </tr>\n",
       "  </thead>\n",
       "  <tbody>\n",
       "    <tr>\n",
       "      <th>sotocs</th>\n",
       "      <td>242719.0</td>\n",
       "    </tr>\n",
       "    <tr>\n",
       "      <th>wangj36</th>\n",
       "      <td>75906.0</td>\n",
       "    </tr>\n",
       "    <tr>\n",
       "      <th>jacklisr</th>\n",
       "      <td>69808.0</td>\n",
       "    </tr>\n",
       "    <tr>\n",
       "      <th>zhangdk</th>\n",
       "      <td>63331.0</td>\n",
       "    </tr>\n",
       "    <tr>\n",
       "      <th>cmsglidein</th>\n",
       "      <td>49154.0</td>\n",
       "    </tr>\n",
       "    <tr>\n",
       "      <th>janjamrk</th>\n",
       "      <td>41174.0</td>\n",
       "    </tr>\n",
       "    <tr>\n",
       "      <th>deik</th>\n",
       "      <td>31723.0</td>\n",
       "    </tr>\n",
       "    <tr>\n",
       "      <th>schlunsg</th>\n",
       "      <td>27574.0</td>\n",
       "    </tr>\n",
       "    <tr>\n",
       "      <th>jiany17</th>\n",
       "      <td>20724.0</td>\n",
       "    </tr>\n",
       "    <tr>\n",
       "      <th>cmslocal</th>\n",
       "      <td>19012.0</td>\n",
       "    </tr>\n",
       "  </tbody>\n",
       "</table>\n",
       "</div>"
      ],
      "text/plain": [
       "            ShortJobCount\n",
       "User                     \n",
       "sotocs           242719.0\n",
       "wangj36           75906.0\n",
       "jacklisr          69808.0\n",
       "zhangdk           63331.0\n",
       "cmsglidein        49154.0\n",
       "janjamrk          41174.0\n",
       "deik              31723.0\n",
       "schlunsg          27574.0\n",
       "jiany17           20724.0\n",
       "cmslocal          19012.0"
      ]
     },
     "execution_count": 161,
     "metadata": {},
     "output_type": "execute_result"
    }
   ],
   "source": [
    "# The most jobs that a user submitted within a 4 hour window\n",
    "grouped_by_4h_500=rolling_max[rolling_max['ShortJobCount']>=500].sort_values(by = 'ShortJobCount', ascending=False)\n",
    "#grouped_by_4h_500 = grouped_by_4h_500.reset_index()\n",
    "grouped_by_4h_500.head(10)"
   ]
  },
  {
   "cell_type": "markdown",
   "metadata": {},
   "source": [
    "# bar plot of top 30 users running more than 500 short jobs within 4 hours\n"
   ]
  },
  {
   "cell_type": "code",
   "execution_count": 176,
   "metadata": {},
   "outputs": [
    {
     "data": {
      "text/plain": [
       "Text(0.5,0,'User')"
      ]
     },
     "execution_count": 176,
     "metadata": {},
     "output_type": "execute_result"
    },
    {
     "data": {
      "image/png": "[encoded data removed]",
      "text/plain": [
       "<Figure size 864x576 with 1 Axes>"
      ]
     },
     "metadata": {},
     "output_type": "display_data"
    }
   ],
   "source": [
    "grouped_by_4h_500.iloc[:30].plot(kind = 'bar', legend=True,fontsize=16, figsize=(12,8), color='turquoise')\n",
    "\n",
    "plt.title('Maximum amount of jobs Users Submitted in 4 hours', fontsize = 16)\n",
    "plt.ylabel('Max Number of Jobs in 4 Hours', fontsize = 16)\n",
    "plt.xlabel('User', fontsize=16)"
   ]
  },
  {
   "cell_type": "markdown",
   "metadata": {},
   "source": [
    "## Now we know who submitted the most jobs in a 4 hour window, but how many instances were there of users submitting at least 500 jobs"
   ]
  },
  {
   "cell_type": "code",
   "execution_count": 163,
   "metadata": {},
   "outputs": [
    {
     "data": {
      "text/html": [
       "<div>\n",
       "<style scoped>\n",
       "    .dataframe tbody tr th:only-of-type {\n",
       "        vertical-align: middle;\n",
       "    }\n",
       "\n",
       "    .dataframe tbody tr th {\n",
       "        vertical-align: top;\n",
       "    }\n",
       "\n",
       "    .dataframe thead th {\n",
       "        text-align: right;\n",
       "    }\n",
       "</style>\n",
       "<table border=\"1\" class=\"dataframe\">\n",
       "  <thead>\n",
       "    <tr style=\"text-align: right;\">\n",
       "      <th></th>\n",
       "      <th>User</th>\n",
       "      <th>Submit</th>\n",
       "      <th>ShortJobCount</th>\n",
       "    </tr>\n",
       "  </thead>\n",
       "  <tbody>\n",
       "    <tr>\n",
       "      <th>1212</th>\n",
       "      <td>abraha1</td>\n",
       "      <td>2018-01-27 23:34:02</td>\n",
       "      <td>500.0</td>\n",
       "    </tr>\n",
       "    <tr>\n",
       "      <th>3506</th>\n",
       "      <td>abraha1</td>\n",
       "      <td>2018-03-25 15:06:33</td>\n",
       "      <td>500.0</td>\n",
       "    </tr>\n",
       "    <tr>\n",
       "      <th>6222</th>\n",
       "      <td>abraha1</td>\n",
       "      <td>2018-03-26 20:29:33</td>\n",
       "      <td>500.0</td>\n",
       "    </tr>\n",
       "    <tr>\n",
       "      <th>7103</th>\n",
       "      <td>abraha1</td>\n",
       "      <td>2018-06-22 05:59:41</td>\n",
       "      <td>500.0</td>\n",
       "    </tr>\n",
       "    <tr>\n",
       "      <th>9918</th>\n",
       "      <td>abraha1</td>\n",
       "      <td>2018-06-22 20:20:02</td>\n",
       "      <td>500.0</td>\n",
       "    </tr>\n",
       "    <tr>\n",
       "      <th>10751</th>\n",
       "      <td>abraha1</td>\n",
       "      <td>2018-06-23 23:41:33</td>\n",
       "      <td>500.0</td>\n",
       "    </tr>\n",
       "    <tr>\n",
       "      <th>16922</th>\n",
       "      <td>abraha1</td>\n",
       "      <td>2018-06-27 15:34:10</td>\n",
       "      <td>500.0</td>\n",
       "    </tr>\n",
       "    <tr>\n",
       "      <th>203051</th>\n",
       "      <td>autocms</td>\n",
       "      <td>2017-11-16 08:12:02</td>\n",
       "      <td>500.0</td>\n",
       "    </tr>\n",
       "    <tr>\n",
       "      <th>463065</th>\n",
       "      <td>badamifs</td>\n",
       "      <td>2017-08-09 19:57:30</td>\n",
       "      <td>500.0</td>\n",
       "    </tr>\n",
       "    <tr>\n",
       "      <th>465038</th>\n",
       "      <td>badamifs</td>\n",
       "      <td>2017-08-11 14:46:20</td>\n",
       "      <td>500.0</td>\n",
       "    </tr>\n",
       "  </tbody>\n",
       "</table>\n",
       "</div>"
      ],
      "text/plain": [
       "            User              Submit  ShortJobCount\n",
       "1212     abraha1 2018-01-27 23:34:02          500.0\n",
       "3506     abraha1 2018-03-25 15:06:33          500.0\n",
       "6222     abraha1 2018-03-26 20:29:33          500.0\n",
       "7103     abraha1 2018-06-22 05:59:41          500.0\n",
       "9918     abraha1 2018-06-22 20:20:02          500.0\n",
       "10751    abraha1 2018-06-23 23:41:33          500.0\n",
       "16922    abraha1 2018-06-27 15:34:10          500.0\n",
       "203051   autocms 2017-11-16 08:12:02          500.0\n",
       "463065  badamifs 2017-08-09 19:57:30          500.0\n",
       "465038  badamifs 2017-08-11 14:46:20          500.0"
      ]
     },
     "execution_count": 163,
     "metadata": {},
     "output_type": "execute_result"
    }
   ],
   "source": [
    "# Checking to see when 500 is reached\n",
    "# This will be used to count how many times a user submitted 500 jobs in a 4 hour window\n",
    "accre_500_occurence = rolling_df[rolling_df['ShortJobCount']==500]\n",
    "accre_500_occurence.head(10)"
   ]
  },
  {
   "cell_type": "markdown",
   "metadata": {},
   "source": [
    "## So who are the people who offended the most"
   ]
  },
  {
   "cell_type": "code",
   "execution_count": 178,
   "metadata": {},
   "outputs": [
    {
     "data": {
      "text/html": [
       "<div>\n",
       "<style scoped>\n",
       "    .dataframe tbody tr th:only-of-type {\n",
       "        vertical-align: middle;\n",
       "    }\n",
       "\n",
       "    .dataframe tbody tr th {\n",
       "        vertical-align: top;\n",
       "    }\n",
       "\n",
       "    .dataframe thead th {\n",
       "        text-align: right;\n",
       "    }\n",
       "</style>\n",
       "<table border=\"1\" class=\"dataframe\">\n",
       "  <thead>\n",
       "    <tr style=\"text-align: right;\">\n",
       "      <th></th>\n",
       "      <th>Instances</th>\n",
       "    </tr>\n",
       "    <tr>\n",
       "      <th>User</th>\n",
       "      <th></th>\n",
       "    </tr>\n",
       "  </thead>\n",
       "  <tbody>\n",
       "    <tr>\n",
       "      <th>cmsglidein</th>\n",
       "      <td>356</td>\n",
       "    </tr>\n",
       "    <tr>\n",
       "      <th>brockc</th>\n",
       "      <td>118</td>\n",
       "    </tr>\n",
       "    <tr>\n",
       "      <th>cmslocal</th>\n",
       "      <td>113</td>\n",
       "    </tr>\n",
       "    <tr>\n",
       "      <th>msrc</th>\n",
       "      <td>82</td>\n",
       "    </tr>\n",
       "    <tr>\n",
       "      <th>moonj</th>\n",
       "      <td>56</td>\n",
       "    </tr>\n",
       "    <tr>\n",
       "      <th>ozgunka</th>\n",
       "      <td>56</td>\n",
       "    </tr>\n",
       "    <tr>\n",
       "      <th>schluedj</th>\n",
       "      <td>41</td>\n",
       "    </tr>\n",
       "    <tr>\n",
       "      <th>deik</th>\n",
       "      <td>40</td>\n",
       "    </tr>\n",
       "    <tr>\n",
       "      <th>jiany17</th>\n",
       "      <td>29</td>\n",
       "    </tr>\n",
       "    <tr>\n",
       "      <th>tierneje</th>\n",
       "      <td>20</td>\n",
       "    </tr>\n",
       "  </tbody>\n",
       "</table>\n",
       "</div>"
      ],
      "text/plain": [
       "            Instances\n",
       "User                 \n",
       "cmsglidein        356\n",
       "brockc            118\n",
       "cmslocal          113\n",
       "msrc               82\n",
       "moonj              56\n",
       "ozgunka            56\n",
       "schluedj           41\n",
       "deik               40\n",
       "jiany17            29\n",
       "tierneje           20"
      ]
     },
     "execution_count": 178,
     "metadata": {},
     "output_type": "execute_result"
    }
   ],
   "source": [
    "repeat_offender_count=accre_500_occurence[['User', 'ShortJobCount']].groupby('User').agg('count').sort_values(by ='ShortJobCount', ascending = False)\n",
    "repeat_offender_count.columns = ['Instances']\n",
    "repeat_offender_count.head(10)"
   ]
  },
  {
   "cell_type": "markdown",
   "metadata": {},
   "source": [
    "## Bar plot of the Top 30 repeat offenders "
   ]
  },
  {
   "cell_type": "code",
   "execution_count": 179,
   "metadata": {
    "scrolled": false
   },
   "outputs": [
    {
     "data": {
      "text/plain": [
       "Text(0.5,0,'User')"
      ]
     },
     "execution_count": 179,
     "metadata": {},
     "output_type": "execute_result"
    },
    {
     "data": {
      "image/png": "[encoded data removed]",
      "text/plain": [
       "<Figure size 864x576 with 1 Axes>"
      ]
     },
     "metadata": {},
     "output_type": "display_data"
    }
   ],
   "source": [
    "repeat_offender_count.iloc[:30].plot(kind = 'bar', legend=False,fontsize=16, figsize=(12,8), color='teal')\n",
    "\n",
    "plt.title('Instances of Submitting at Least 500 Short Jobs in 4 hours', fontsize = 16)\n",
    "plt.ylabel('Instances', fontsize = 16)\n",
    "plt.xlabel('User', fontsize=16)"
   ]
  },
  {
   "cell_type": "markdown",
   "metadata": {},
   "source": [
    "## We can see that cmsglidein is the most problematic user since there were over 350 4 hour windows with at least 500 short job submissions"
   ]
  },
  {
   "cell_type": "markdown",
   "metadata": {},
   "source": [
    "# Additional Exploration"
   ]
  },
  {
   "cell_type": "markdown",
   "metadata": {},
   "source": [
    "## Accounts that submit the most jobs"
   ]
  },
  {
   "cell_type": "code",
   "execution_count": 91,
   "metadata": {},
   "outputs": [
    {
     "name": "stdout",
     "output_type": "stream",
     "text": [
      "          AccountName    Count     JobPct\n",
      "0                 cms  3539682  28.318840\n",
      "1            beam_lab  1447136  11.577654\n",
      "2         cms_lowprio   928918   7.431707\n",
      "3        p_csb_meiler   762188   6.097802\n",
      "4          cms_stage2   663017   5.304395\n",
      "5            mip_eecs   575854   4.607057\n",
      "6   h_biostat_student   446568   3.572719\n",
      "7                lola   442628   3.541197\n",
      "8            p_meiler   427429   3.419599\n",
      "9                math   371118   2.969089\n",
      "10         cms_stage3   302112   2.417014\n",
      "11           rokaslab   295962   2.367812\n",
      "12        cms_samtest   271589   2.172818\n",
      "13                cgg   226560   1.812569\n",
      "14            stassun   180297   1.442447\n"
     ]
    }
   ],
   "source": [
    "acct_pct_group=accre_df[['Account', 'JobIDRaw']].groupby('Account').agg('count').sort_values(by ='JobIDRaw', ascending = False).head(30)\n",
    "acct_pct_group = acct_pct_group.reset_index()\n",
    "acct_pct_group.columns = [['AccountName','Count']]\n",
    "acct_pct_group['JobPct'] = acct_pct_group['Count'] / len(accre_df.index) * 100\n",
    "print(acct_pct_group.head(15))"
   ]
  },
  {
   "cell_type": "markdown",
   "metadata": {},
   "source": [
    "## The most common state for the jobs run"
   ]
  },
  {
   "cell_type": "code",
   "execution_count": 92,
   "metadata": {},
   "outputs": [
    {
     "name": "stdout",
     "output_type": "stream",
     "text": [
      "                  State    Count     JobPct\n",
      "0             COMPLETED  7150200  57.204396\n",
      "1    CANCELLED by 29607  3354734  26.839184\n",
      "2                FAILED   902907   7.223609\n",
      "3    CANCELLED by 29605   355327   2.842755\n",
      "4               TIMEOUT   160402   1.283279\n",
      "5   CANCELLED by 112888   105801   0.846449\n",
      "6   CANCELLED by 233674    66809   0.534498\n",
      "7   CANCELLED by 207302    44886   0.359106\n",
      "8        CANCELLED by 0    29569   0.236564\n",
      "9   CANCELLED by 551122    24607   0.196866\n",
      "10   CANCELLED by 53988    19998   0.159992\n",
      "11  CANCELLED by 233240    17531   0.140255\n",
      "12  CANCELLED by 237602    17013   0.136111\n",
      "13  CANCELLED by 342713    16950   0.135607\n",
      "14  CANCELLED by 501421    16363   0.130910\n"
     ]
    }
   ],
   "source": [
    "state_pct_group=accre_df[['State', 'JobIDRaw']].groupby('State').agg('count').sort_values(by ='JobIDRaw', ascending = False).head(30)\n",
    "state_pct_group = state_pct_group.reset_index()\n",
    "state_pct_group.columns = [['State','Count']]\n",
    "state_pct_group['JobPct'] = state_pct_group['Count'] / len(accre_df.index) * 100\n",
    "print(state_pct_group.head(15))"
   ]
  },
  {
   "cell_type": "markdown",
   "metadata": {},
   "source": [
    "## Finding the jobs with state: 'Cancelled by 29607'"
   ]
  },
  {
   "cell_type": "code",
   "execution_count": 93,
   "metadata": {},
   "outputs": [
    {
     "data": {
      "text/html": [
       "<div>\n",
       "<style scoped>\n",
       "    .dataframe tbody tr th:only-of-type {\n",
       "        vertical-align: middle;\n",
       "    }\n",
       "\n",
       "    .dataframe tbody tr th {\n",
       "        vertical-align: top;\n",
       "    }\n",
       "\n",
       "    .dataframe thead th {\n",
       "        text-align: right;\n",
       "    }\n",
       "</style>\n",
       "<table border=\"1\" class=\"dataframe\">\n",
       "  <thead>\n",
       "    <tr style=\"text-align: right;\">\n",
       "      <th></th>\n",
       "      <th>JobID</th>\n",
       "      <th>JobIDRaw</th>\n",
       "      <th>Cluster</th>\n",
       "      <th>Partition</th>\n",
       "      <th>Account</th>\n",
       "      <th>Group</th>\n",
       "      <th>GID</th>\n",
       "      <th>User</th>\n",
       "      <th>UID</th>\n",
       "      <th>Submit</th>\n",
       "      <th>...</th>\n",
       "      <th>ReqGRES</th>\n",
       "      <th>ReqTRES</th>\n",
       "      <th>Timelimit</th>\n",
       "      <th>NodeList</th>\n",
       "      <th>JobName</th>\n",
       "      <th>queue_time</th>\n",
       "      <th>req_time</th>\n",
       "      <th>mem_cat</th>\n",
       "      <th>mem_int</th>\n",
       "      <th>core_node</th>\n",
       "    </tr>\n",
       "  </thead>\n",
       "  <tbody>\n",
       "    <tr>\n",
       "      <th>333</th>\n",
       "      <td>15811976</td>\n",
       "      <td>15811976</td>\n",
       "      <td>accre</td>\n",
       "      <td>production</td>\n",
       "      <td>cms_lowprio</td>\n",
       "      <td>cms</td>\n",
       "      <td>31000</td>\n",
       "      <td>cmsglidein</td>\n",
       "      <td>NaN</td>\n",
       "      <td>2017-07-01 05:08:13</td>\n",
       "      <td>...</td>\n",
       "      <td>NaN</td>\n",
       "      <td>cpu=1,mem=5000M,node=1</td>\n",
       "      <td>2-00:00:00</td>\n",
       "      <td>vmp1084</td>\n",
       "      <td>bl_0a8dbb748125</td>\n",
       "      <td>0.216667</td>\n",
       "      <td>2880.0</td>\n",
       "      <td>Mn</td>\n",
       "      <td>5.0</td>\n",
       "      <td>n</td>\n",
       "    </tr>\n",
       "    <tr>\n",
       "      <th>345</th>\n",
       "      <td>15812001</td>\n",
       "      <td>15812001</td>\n",
       "      <td>accre</td>\n",
       "      <td>production</td>\n",
       "      <td>cms_lowprio</td>\n",
       "      <td>cms</td>\n",
       "      <td>31000</td>\n",
       "      <td>cmsglidein</td>\n",
       "      <td>NaN</td>\n",
       "      <td>2017-07-01 05:10:58</td>\n",
       "      <td>...</td>\n",
       "      <td>NaN</td>\n",
       "      <td>cpu=1,mem=5000M,node=1</td>\n",
       "      <td>2-00:00:00</td>\n",
       "      <td>vmp1125</td>\n",
       "      <td>bl_ce6cb456d537</td>\n",
       "      <td>0.466667</td>\n",
       "      <td>2880.0</td>\n",
       "      <td>Mn</td>\n",
       "      <td>5.0</td>\n",
       "      <td>n</td>\n",
       "    </tr>\n",
       "    <tr>\n",
       "      <th>464</th>\n",
       "      <td>15812208</td>\n",
       "      <td>15812208</td>\n",
       "      <td>accre</td>\n",
       "      <td>production</td>\n",
       "      <td>cms_lowprio</td>\n",
       "      <td>cms</td>\n",
       "      <td>31000</td>\n",
       "      <td>cmsglidein</td>\n",
       "      <td>NaN</td>\n",
       "      <td>2017-07-01 05:50:00</td>\n",
       "      <td>...</td>\n",
       "      <td>NaN</td>\n",
       "      <td>cpu=1,mem=5000M,node=1</td>\n",
       "      <td>2-00:00:00</td>\n",
       "      <td>vmp1061</td>\n",
       "      <td>bl_6912aec9c558</td>\n",
       "      <td>0.466667</td>\n",
       "      <td>2880.0</td>\n",
       "      <td>Mn</td>\n",
       "      <td>5.0</td>\n",
       "      <td>n</td>\n",
       "    </tr>\n",
       "    <tr>\n",
       "      <th>467</th>\n",
       "      <td>15812211</td>\n",
       "      <td>15812211</td>\n",
       "      <td>accre</td>\n",
       "      <td>production</td>\n",
       "      <td>cms_lowprio</td>\n",
       "      <td>cms</td>\n",
       "      <td>31000</td>\n",
       "      <td>cmsglidein</td>\n",
       "      <td>NaN</td>\n",
       "      <td>2017-07-01 05:50:05</td>\n",
       "      <td>...</td>\n",
       "      <td>NaN</td>\n",
       "      <td>cpu=1,mem=5000M,node=1</td>\n",
       "      <td>2-00:00:00</td>\n",
       "      <td>vmp1064</td>\n",
       "      <td>bl_36a387505a7a</td>\n",
       "      <td>0.383333</td>\n",
       "      <td>2880.0</td>\n",
       "      <td>Mn</td>\n",
       "      <td>5.0</td>\n",
       "      <td>n</td>\n",
       "    </tr>\n",
       "    <tr>\n",
       "      <th>468</th>\n",
       "      <td>15812212</td>\n",
       "      <td>15812212</td>\n",
       "      <td>accre</td>\n",
       "      <td>production</td>\n",
       "      <td>cms_lowprio</td>\n",
       "      <td>cms</td>\n",
       "      <td>31000</td>\n",
       "      <td>cmsglidein</td>\n",
       "      <td>NaN</td>\n",
       "      <td>2017-07-01 05:50:05</td>\n",
       "      <td>...</td>\n",
       "      <td>NaN</td>\n",
       "      <td>cpu=1,mem=5000M,node=1</td>\n",
       "      <td>2-00:00:00</td>\n",
       "      <td>vmp1010</td>\n",
       "      <td>bl_b2a66b1f253e</td>\n",
       "      <td>0.383333</td>\n",
       "      <td>2880.0</td>\n",
       "      <td>Mn</td>\n",
       "      <td>5.0</td>\n",
       "      <td>n</td>\n",
       "    </tr>\n",
       "    <tr>\n",
       "      <th>469</th>\n",
       "      <td>15812213</td>\n",
       "      <td>15812213</td>\n",
       "      <td>accre</td>\n",
       "      <td>production</td>\n",
       "      <td>cms_lowprio</td>\n",
       "      <td>cms</td>\n",
       "      <td>31000</td>\n",
       "      <td>cmsglidein</td>\n",
       "      <td>NaN</td>\n",
       "      <td>2017-07-01 05:50:05</td>\n",
       "      <td>...</td>\n",
       "      <td>NaN</td>\n",
       "      <td>cpu=1,mem=5000M,node=1</td>\n",
       "      <td>2-00:00:00</td>\n",
       "      <td>vmp1073</td>\n",
       "      <td>bl_28b10eb384f1</td>\n",
       "      <td>0.383333</td>\n",
       "      <td>2880.0</td>\n",
       "      <td>Mn</td>\n",
       "      <td>5.0</td>\n",
       "      <td>n</td>\n",
       "    </tr>\n",
       "    <tr>\n",
       "      <th>470</th>\n",
       "      <td>15812214</td>\n",
       "      <td>15812214</td>\n",
       "      <td>accre</td>\n",
       "      <td>production</td>\n",
       "      <td>cms_lowprio</td>\n",
       "      <td>cms</td>\n",
       "      <td>31000</td>\n",
       "      <td>cmsglidein</td>\n",
       "      <td>NaN</td>\n",
       "      <td>2017-07-01 05:50:05</td>\n",
       "      <td>...</td>\n",
       "      <td>NaN</td>\n",
       "      <td>cpu=1,mem=5000M,node=1</td>\n",
       "      <td>2-00:00:00</td>\n",
       "      <td>vmp1007</td>\n",
       "      <td>bl_1e0513c2f2c7</td>\n",
       "      <td>0.383333</td>\n",
       "      <td>2880.0</td>\n",
       "      <td>Mn</td>\n",
       "      <td>5.0</td>\n",
       "      <td>n</td>\n",
       "    </tr>\n",
       "    <tr>\n",
       "      <th>471</th>\n",
       "      <td>15812215</td>\n",
       "      <td>15812215</td>\n",
       "      <td>accre</td>\n",
       "      <td>production</td>\n",
       "      <td>cms_lowprio</td>\n",
       "      <td>cms</td>\n",
       "      <td>31000</td>\n",
       "      <td>cmsglidein</td>\n",
       "      <td>NaN</td>\n",
       "      <td>2017-07-01 05:50:21</td>\n",
       "      <td>...</td>\n",
       "      <td>NaN</td>\n",
       "      <td>cpu=1,mem=5000M,node=1</td>\n",
       "      <td>2-00:00:00</td>\n",
       "      <td>vmp1052</td>\n",
       "      <td>bl_38f20779d123</td>\n",
       "      <td>0.116667</td>\n",
       "      <td>2880.0</td>\n",
       "      <td>Mn</td>\n",
       "      <td>5.0</td>\n",
       "      <td>n</td>\n",
       "    </tr>\n",
       "    <tr>\n",
       "      <th>472</th>\n",
       "      <td>15812216</td>\n",
       "      <td>15812216</td>\n",
       "      <td>accre</td>\n",
       "      <td>production</td>\n",
       "      <td>cms_lowprio</td>\n",
       "      <td>cms</td>\n",
       "      <td>31000</td>\n",
       "      <td>cmsglidein</td>\n",
       "      <td>NaN</td>\n",
       "      <td>2017-07-01 05:50:21</td>\n",
       "      <td>...</td>\n",
       "      <td>NaN</td>\n",
       "      <td>cpu=1,mem=5000M,node=1</td>\n",
       "      <td>2-00:00:00</td>\n",
       "      <td>vmp204</td>\n",
       "      <td>bl_31d63b0fbd16</td>\n",
       "      <td>0.116667</td>\n",
       "      <td>2880.0</td>\n",
       "      <td>Mn</td>\n",
       "      <td>5.0</td>\n",
       "      <td>n</td>\n",
       "    </tr>\n",
       "    <tr>\n",
       "      <th>473</th>\n",
       "      <td>15812217</td>\n",
       "      <td>15812217</td>\n",
       "      <td>accre</td>\n",
       "      <td>production</td>\n",
       "      <td>cms_lowprio</td>\n",
       "      <td>cms</td>\n",
       "      <td>31000</td>\n",
       "      <td>cmsglidein</td>\n",
       "      <td>NaN</td>\n",
       "      <td>2017-07-01 05:50:21</td>\n",
       "      <td>...</td>\n",
       "      <td>NaN</td>\n",
       "      <td>cpu=1,mem=5000M,node=1</td>\n",
       "      <td>2-00:00:00</td>\n",
       "      <td>vmp201</td>\n",
       "      <td>bl_4a4e62d19656</td>\n",
       "      <td>0.116667</td>\n",
       "      <td>2880.0</td>\n",
       "      <td>Mn</td>\n",
       "      <td>5.0</td>\n",
       "      <td>n</td>\n",
       "    </tr>\n",
       "  </tbody>\n",
       "</table>\n",
       "<p>10 rows × 30 columns</p>\n",
       "</div>"
      ],
      "text/plain": [
       "        JobID  JobIDRaw Cluster   Partition      Account Group    GID  \\\n",
       "333  15811976  15811976   accre  production  cms_lowprio   cms  31000   \n",
       "345  15812001  15812001   accre  production  cms_lowprio   cms  31000   \n",
       "464  15812208  15812208   accre  production  cms_lowprio   cms  31000   \n",
       "467  15812211  15812211   accre  production  cms_lowprio   cms  31000   \n",
       "468  15812212  15812212   accre  production  cms_lowprio   cms  31000   \n",
       "469  15812213  15812213   accre  production  cms_lowprio   cms  31000   \n",
       "470  15812214  15812214   accre  production  cms_lowprio   cms  31000   \n",
       "471  15812215  15812215   accre  production  cms_lowprio   cms  31000   \n",
       "472  15812216  15812216   accre  production  cms_lowprio   cms  31000   \n",
       "473  15812217  15812217   accre  production  cms_lowprio   cms  31000   \n",
       "\n",
       "           User  UID              Submit    ...    ReqGRES  \\\n",
       "333  cmsglidein  NaN 2017-07-01 05:08:13    ...        NaN   \n",
       "345  cmsglidein  NaN 2017-07-01 05:10:58    ...        NaN   \n",
       "464  cmsglidein  NaN 2017-07-01 05:50:00    ...        NaN   \n",
       "467  cmsglidein  NaN 2017-07-01 05:50:05    ...        NaN   \n",
       "468  cmsglidein  NaN 2017-07-01 05:50:05    ...        NaN   \n",
       "469  cmsglidein  NaN 2017-07-01 05:50:05    ...        NaN   \n",
       "470  cmsglidein  NaN 2017-07-01 05:50:05    ...        NaN   \n",
       "471  cmsglidein  NaN 2017-07-01 05:50:21    ...        NaN   \n",
       "472  cmsglidein  NaN 2017-07-01 05:50:21    ...        NaN   \n",
       "473  cmsglidein  NaN 2017-07-01 05:50:21    ...        NaN   \n",
       "\n",
       "                    ReqTRES   Timelimit NodeList          JobName queue_time  \\\n",
       "333  cpu=1,mem=5000M,node=1  2-00:00:00  vmp1084  bl_0a8dbb748125   0.216667   \n",
       "345  cpu=1,mem=5000M,node=1  2-00:00:00  vmp1125  bl_ce6cb456d537   0.466667   \n",
       "464  cpu=1,mem=5000M,node=1  2-00:00:00  vmp1061  bl_6912aec9c558   0.466667   \n",
       "467  cpu=1,mem=5000M,node=1  2-00:00:00  vmp1064  bl_36a387505a7a   0.383333   \n",
       "468  cpu=1,mem=5000M,node=1  2-00:00:00  vmp1010  bl_b2a66b1f253e   0.383333   \n",
       "469  cpu=1,mem=5000M,node=1  2-00:00:00  vmp1073  bl_28b10eb384f1   0.383333   \n",
       "470  cpu=1,mem=5000M,node=1  2-00:00:00  vmp1007  bl_1e0513c2f2c7   0.383333   \n",
       "471  cpu=1,mem=5000M,node=1  2-00:00:00  vmp1052  bl_38f20779d123   0.116667   \n",
       "472  cpu=1,mem=5000M,node=1  2-00:00:00   vmp204  bl_31d63b0fbd16   0.116667   \n",
       "473  cpu=1,mem=5000M,node=1  2-00:00:00   vmp201  bl_4a4e62d19656   0.116667   \n",
       "\n",
       "     req_time  mem_cat  mem_int core_node  \n",
       "333    2880.0       Mn      5.0         n  \n",
       "345    2880.0       Mn      5.0         n  \n",
       "464    2880.0       Mn      5.0         n  \n",
       "467    2880.0       Mn      5.0         n  \n",
       "468    2880.0       Mn      5.0         n  \n",
       "469    2880.0       Mn      5.0         n  \n",
       "470    2880.0       Mn      5.0         n  \n",
       "471    2880.0       Mn      5.0         n  \n",
       "472    2880.0       Mn      5.0         n  \n",
       "473    2880.0       Mn      5.0         n  \n",
       "\n",
       "[10 rows x 30 columns]"
      ]
     },
     "execution_count": 93,
     "metadata": {},
     "output_type": "execute_result"
    }
   ],
   "source": [
    "g29607 = accre_df.loc[accre_df['State'] == 'CANCELLED by 29607']\n",
    "g29607.head(10)"
   ]
  },
  {
   "cell_type": "markdown",
   "metadata": {},
   "source": [
    "## Seeing who user 29607 is"
   ]
  },
  {
   "cell_type": "code",
   "execution_count": 94,
   "metadata": {},
   "outputs": [
    {
     "name": "stdout",
     "output_type": "stream",
     "text": [
      "  Group Cancel by 29607    Count JobPct\n",
      "0            cmsglidein  3354734    100\n"
     ]
    }
   ],
   "source": [
    "cancel_count=g29607[['User', 'JobIDRaw']].groupby('User').agg('count').sort_values(by ='JobIDRaw', ascending = False).head(30)\n",
    "cancel_count = cancel_count.reset_index()\n",
    "cancel_count.columns = [['Group Cancel by 29607','Count']]\n",
    "cancel_count['JobPct'] = cancel_count['Count'] / len(g29607) * 100\n",
    "print(cancel_count.head(15))"
   ]
  },
  {
   "cell_type": "code",
   "execution_count": null,
   "metadata": {},
   "outputs": [],
   "source": []
  }
 ],
 "metadata": {
  "kernelspec": {
   "display_name": "Python 3",
   "language": "python",
   "name": "python3"
  },
  "language_info": {
   "codemirror_mode": {
    "name": "ipython",
    "version": 3
   },
   "file_extension": ".py",
   "mimetype": "text/x-python",
   "name": "python",
   "nbconvert_exporter": "python",
   "pygments_lexer": "ipython3",
   "version": "3.6.5"
  }
 },
 "nbformat": 4,
 "nbformat_minor": 2
}
